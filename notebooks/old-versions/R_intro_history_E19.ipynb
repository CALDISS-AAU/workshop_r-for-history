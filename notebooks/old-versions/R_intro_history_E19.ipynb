{
 "cells": [
  {
   "cell_type": "markdown",
   "metadata": {
    "slideshow": {
     "slide_type": "slide"
    }
   },
   "source": [
    "# Introduction\n",
    "## What is R and why use it?\n",
    "\n",
    "R is a free software environment with its own programming language. \n",
    "\n",
    "It is especailly suited for statistical analysis and graphical outputs.\n",
    "\n",
    "R's popularity as a data science tool as well as it being open source has made its applications vast.\n",
    "\n",
    "R can work with a large variety of data formats and is (with a few add-ons) compatible with data from other software solutions (Excel, SPSS, SAS, STATA)."
   ]
  },
  {
   "cell_type": "markdown",
   "metadata": {
    "slideshow": {
     "slide_type": "slide"
    }
   },
   "source": [
    "## Why use R for History?\n",
    "\n",
    "<u>Data versatility:</u> It can work with numerical data, text data, dates etc.\n",
    "\n",
    "<u>Complete workflow in one environment:</u> From data loading to cleaning to output (and even reporting, if you want)\n",
    "\n",
    "<u>Lots of help to get:</u> Very large community offering their help via forums, free educational material, blogs and so on."
   ]
  },
  {
   "cell_type": "markdown",
   "metadata": {
    "slideshow": {
     "slide_type": "slide"
    }
   },
   "source": [
    "## Content of the R introduction\n",
    "\n",
    "- The R language\n",
    "- The RStudio environment\n",
    "- Constructing variables and objects\n",
    "- Working with strings\n",
    "- Simple text mining with tables (dataframes)\n",
    "- Using the help command\n",
    "- Reading data from Excel\n",
    "- Working with dates\n",
    "\n",
    "The introduction will combine presenting R and R code in Jupyter Notebook while demonstrating in RStudio. You are encouraged to work and write in RStudio during the workshop.\n",
    "\n",
    "*Please write along as we go through the different examples.*\n",
    "\n",
    "*Download the slides via moodle to go back during the workshop, if necessary: https://forskning.moodle.aau.dk/course/view.php?id=4 (select \"CAS\" user and login)*"
   ]
  },
  {
   "cell_type": "markdown",
   "metadata": {
    "slideshow": {
     "slide_type": "slide"
    }
   },
   "source": [
    "## The RStudio environment\n",
    "\n",
    "During the workshop (and the other R workshops in CALDISS), we will be working with RStudio.\n",
    "\n",
    "RStudio is an IDE for R (Integrated Development Environment) - Makes for a nicer workspace\n",
    "\n",
    "<https://www.rstudio.com/products/rstudio/download/>"
   ]
  },
  {
   "cell_type": "markdown",
   "metadata": {
    "slideshow": {
     "slide_type": "slide"
    }
   },
   "source": [
    "# The R language\n",
    "R has it's own programming language. R works by you writing lines of code in that language (writing commands) and R interpreting that code (running commands).\n",
    "\n",
    "R (and RStudio) has a limited user interface meaning almost all functionality (statistics, plots, simulations etc.) must be executed using code in the R language.\n",
    "\n",
    "A programming language is a lot like any other language (except not being very dialogical): \n",
    "- You can only expect to be understood, if you speak the same language = R will only execute code written correctly\n",
    "- You are contributing to the language by speaking it = Create your own functions in R that R will understand"
   ]
  },
  {
   "cell_type": "markdown",
   "metadata": {
    "slideshow": {
     "slide_type": "slide"
    }
   },
   "source": [
    "## R as a calculator\n",
    "So what does it mean that R interprets our code?\n",
    "It means that you tell R to do something by writing a command and R will do that (if R can understand you).\n",
    "\n",
    "R, for example, understands mathematical expressions:"
   ]
  },
  {
   "cell_type": "code",
   "execution_count": 1,
   "metadata": {
    "slideshow": {
     "slide_type": "fragment"
    }
   },
   "outputs": [
    {
     "data": {
      "text/html": [
       "7"
      ],
      "text/latex": [
       "7"
      ],
      "text/markdown": [
       "7"
      ],
      "text/plain": [
       "[1] 7"
      ]
     },
     "metadata": {},
     "output_type": "display_data"
    }
   ],
   "source": [
    "2 + 5"
   ]
  },
  {
   "cell_type": "code",
   "execution_count": 2,
   "metadata": {
    "slideshow": {
     "slide_type": "fragment"
    }
   },
   "outputs": [
    {
     "data": {
      "text/html": [
       "94.72"
      ],
      "text/latex": [
       "94.72"
      ],
      "text/markdown": [
       "94.72"
      ],
      "text/plain": [
       "[1] 94.72"
      ]
     },
     "metadata": {},
     "output_type": "display_data"
    }
   ],
   "source": [
    "0.37 * 256"
   ]
  },
  {
   "cell_type": "markdown",
   "metadata": {
    "slideshow": {
     "slide_type": "slide"
    }
   },
   "source": [
    "I can \"ask\" R for different results and outputs using functions:"
   ]
  },
  {
   "cell_type": "code",
   "execution_count": 3,
   "metadata": {
    "slideshow": {
     "slide_type": "fragment"
    }
   },
   "outputs": [
    {
     "data": {
      "text/html": [
       "29"
      ],
      "text/latex": [
       "29"
      ],
      "text/markdown": [
       "29"
      ],
      "text/plain": [
       "[1] 29"
      ]
     },
     "metadata": {},
     "output_type": "display_data"
    }
   ],
   "source": [
    "nchar(\"when in Rome, do as Romans do\")"
   ]
  },
  {
   "cell_type": "code",
   "execution_count": 4,
   "metadata": {
    "slideshow": {
     "slide_type": "fragment"
    }
   },
   "outputs": [
    {
     "data": {
      "text/html": [
       "'WHEN IN ROME, DO AS ROMANS DO'"
      ],
      "text/latex": [
       "'WHEN IN ROME, DO AS ROMANS DO'"
      ],
      "text/markdown": [
       "'WHEN IN ROME, DO AS ROMANS DO'"
      ],
      "text/plain": [
       "[1] \"WHEN IN ROME, DO AS ROMANS DO\""
      ]
     },
     "metadata": {},
     "output_type": "display_data"
    }
   ],
   "source": [
    "toupper(\"when in Rome, do as Romans do\")"
   ]
  },
  {
   "cell_type": "markdown",
   "metadata": {
    "slideshow": {
     "slide_type": "slide"
    }
   },
   "source": [
    "When you run a commmand that R doesn't know, R will throw an error:"
   ]
  },
  {
   "cell_type": "code",
   "execution_count": 5,
   "metadata": {
    "slideshow": {
     "slide_type": "fragment"
    }
   },
   "outputs": [
    {
     "ename": "ERROR",
     "evalue": "Error in finish_sentece(\"when in Rome\"): could not find function \"finish_sentece\"\n",
     "output_type": "error",
     "traceback": [
      "Error in finish_sentece(\"when in Rome\"): could not find function \"finish_sentece\"\nTraceback:\n"
     ]
    }
   ],
   "source": [
    "finish_sentece(\"when in Rome\")"
   ]
  },
  {
   "cell_type": "markdown",
   "metadata": {
    "slideshow": {
     "slide_type": "fragment"
    }
   },
   "source": [
    "The commands in R are virtually endless, as you are able to create your own:"
   ]
  },
  {
   "cell_type": "code",
   "execution_count": 6,
   "metadata": {
    "slideshow": {
     "slide_type": "-"
    }
   },
   "outputs": [
    {
     "data": {
      "text/html": [
       "'when in Rome, do as Romans do'"
      ],
      "text/latex": [
       "'when in Rome, do as Romans do'"
      ],
      "text/markdown": [
       "'when in Rome, do as Romans do'"
      ],
      "text/plain": [
       "[1] \"when in Rome, do as Romans do\""
      ]
     },
     "metadata": {},
     "output_type": "display_data"
    }
   ],
   "source": [
    "finish_sentence <- function(text) {\n",
    "    paste0(text, \", do as Romans do\")\n",
    "}\n",
    "\n",
    "finish_sentence(\"when in Rome\")"
   ]
  },
  {
   "cell_type": "markdown",
   "metadata": {
    "slideshow": {
     "slide_type": "slide"
    }
   },
   "source": [
    "# The R Language: Objects and Functions\n",
    "R works by storing values in \"objects\". These objects can then be used in various commands like calculating differences, saving a file, creating a graph and so on. To simplify a bit: An object is some kind of stored value and a function is something that can manipulate a stored value (which then creates a new object). \n",
    "\n",
    "Most of R can be boiled down to these 3 basic steps:\n",
    "\n",
    "1. Assign values to an object\n",
    "2. Make sure R interprets the object correctly (its class)\n",
    "3. Perfom some operation or manipulation on the object using a function"
   ]
  },
  {
   "cell_type": "markdown",
   "metadata": {
    "slideshow": {
     "slide_type": "fragment"
    }
   },
   "source": [
    "Translated to data analysis, the steps would (in general terms) look as follows:\n",
    "\n",
    "1. Load our dataset: `data <- read.csv(\"my_datafile.csv\")`\n",
    "2. Check the that the variables are the correct class: `class(data$age)`\n",
    "3. Perform some kind of analysis: `mean(data$age)`\n",
    "\n",
    "The gap between these steps of course vary greatly."
   ]
  },
  {
   "cell_type": "markdown",
   "metadata": {
    "slideshow": {
     "slide_type": "slide"
    }
   },
   "source": [
    "## Objects\n",
    "A lot of writing in R is about defining objects: A name to use to call up stored data.\n",
    "\n",
    "Objects can be a lot of things: \n",
    "- a word\n",
    "- a text\n",
    "- a number\n",
    "- a series of numbers\n",
    "- a dataset \n",
    "- a corpus of texts\n",
    "- a URL\n",
    "- a formula\n",
    "- a result \n",
    "- a filepath\n",
    "- and so on...\n",
    "\n",
    "When an object is defined, it is available in the current working space (or environment).\n",
    "\n",
    "This makes it possible to store and work with a variety of informaiton simultaneously."
   ]
  },
  {
   "cell_type": "markdown",
   "metadata": {
    "slideshow": {
     "slide_type": "slide"
    }
   },
   "source": [
    "### Defining objects\n",
    "Objects are defined using the `<-` operator:"
   ]
  },
  {
   "cell_type": "code",
   "execution_count": 7,
   "metadata": {
    "slideshow": {
     "slide_type": "fragment"
    }
   },
   "outputs": [
    {
     "data": {
      "text/html": [
       "7"
      ],
      "text/latex": [
       "7"
      ],
      "text/markdown": [
       "7"
      ],
      "text/plain": [
       "[1] 7"
      ]
     },
     "metadata": {},
     "output_type": "display_data"
    }
   ],
   "source": [
    "a <- 2 + 5\n",
    "a"
   ]
  },
  {
   "cell_type": "code",
   "execution_count": 8,
   "metadata": {
    "slideshow": {
     "slide_type": "fragment"
    }
   },
   "outputs": [
    {
     "data": {
      "text/html": [
       "'Rome'"
      ],
      "text/latex": [
       "'Rome'"
      ],
      "text/markdown": [
       "'Rome'"
      ],
      "text/plain": [
       "[1] \"Rome\""
      ]
     },
     "metadata": {},
     "output_type": "display_data"
    }
   ],
   "source": [
    "b <- 'Rome'\n",
    "b"
   ]
  },
  {
   "cell_type": "markdown",
   "metadata": {
    "slideshow": {
     "slide_type": "-"
    }
   },
   "source": [
    "Using `' '` or `\" \"` denotes that the code should be read as text.\n",
    "\n",
    "Objects with text (known in programming as `strings`) can be as long as you like."
   ]
  },
  {
   "cell_type": "code",
   "execution_count": 9,
   "metadata": {
    "slideshow": {
     "slide_type": "fragment"
    }
   },
   "outputs": [],
   "source": [
    "text <- \"The ancient Greeks had several different theories with regard to the origin of the world, but the generally accepted notion was that before this world came into existence, there was in its place a confused mass of shapeless elements called Chaos. \""
   ]
  },
  {
   "cell_type": "markdown",
   "metadata": {
    "slideshow": {
     "slide_type": "slide"
    }
   },
   "source": [
    "## Functions\n",
    "\n",
    "When an object is created, we can use functions on them.\n",
    "\n",
    "Most functions are written in the syntax of `function(object, option = something)`. A lot of functions only need the object as an arguement."
   ]
  },
  {
   "cell_type": "code",
   "execution_count": 10,
   "metadata": {
    "slideshow": {
     "slide_type": "fragment"
    }
   },
   "outputs": [
    {
     "data": {
      "text/html": [
       "'THE ANCIENT GREEKS HAD SEVERAL DIFFERENT THEORIES WITH REGARD TO THE ORIGIN OF THE WORLD, BUT THE GENERALLY ACCEPTED NOTION WAS THAT BEFORE THIS WORLD CAME INTO EXISTENCE, THERE WAS IN ITS PLACE A CONFUSED MASS OF SHAPELESS ELEMENTS CALLED CHAOS. '"
      ],
      "text/latex": [
       "'THE ANCIENT GREEKS HAD SEVERAL DIFFERENT THEORIES WITH REGARD TO THE ORIGIN OF THE WORLD, BUT THE GENERALLY ACCEPTED NOTION WAS THAT BEFORE THIS WORLD CAME INTO EXISTENCE, THERE WAS IN ITS PLACE A CONFUSED MASS OF SHAPELESS ELEMENTS CALLED CHAOS. '"
      ],
      "text/markdown": [
       "'THE ANCIENT GREEKS HAD SEVERAL DIFFERENT THEORIES WITH REGARD TO THE ORIGIN OF THE WORLD, BUT THE GENERALLY ACCEPTED NOTION WAS THAT BEFORE THIS WORLD CAME INTO EXISTENCE, THERE WAS IN ITS PLACE A CONFUSED MASS OF SHAPELESS ELEMENTS CALLED CHAOS. '"
      ],
      "text/plain": [
       "[1] \"THE ANCIENT GREEKS HAD SEVERAL DIFFERENT THEORIES WITH REGARD TO THE ORIGIN OF THE WORLD, BUT THE GENERALLY ACCEPTED NOTION WAS THAT BEFORE THIS WORLD CAME INTO EXISTENCE, THERE WAS IN ITS PLACE A CONFUSED MASS OF SHAPELESS ELEMENTS CALLED CHAOS. \""
      ]
     },
     "metadata": {},
     "output_type": "display_data"
    }
   ],
   "source": [
    "toupper(text) #Convert to uppercase"
   ]
  },
  {
   "cell_type": "code",
   "execution_count": 11,
   "metadata": {
    "slideshow": {
     "slide_type": "fragment"
    }
   },
   "outputs": [
    {
     "data": {
      "text/html": [
       "247"
      ],
      "text/latex": [
       "247"
      ],
      "text/markdown": [
       "247"
      ],
      "text/plain": [
       "[1] 247"
      ]
     },
     "metadata": {},
     "output_type": "display_data"
    }
   ],
   "source": [
    "nchar(text) #Number of characters"
   ]
  },
  {
   "cell_type": "markdown",
   "metadata": {
    "slideshow": {
     "slide_type": "slide"
    }
   },
   "source": [
    "Others take several arguements:"
   ]
  },
  {
   "cell_type": "code",
   "execution_count": 12,
   "metadata": {
    "slideshow": {
     "slide_type": "fragment"
    }
   },
   "outputs": [
    {
     "data": {
      "text/html": [
       "'The ancient Greeks had several different theories with regard to the origin of the cheese, but the generally accepted notion was that before this cheese came into existence, there was in its place a confused mass of shapeless elements called Chaos. '"
      ],
      "text/latex": [
       "'The ancient Greeks had several different theories with regard to the origin of the cheese, but the generally accepted notion was that before this cheese came into existence, there was in its place a confused mass of shapeless elements called Chaos. '"
      ],
      "text/markdown": [
       "'The ancient Greeks had several different theories with regard to the origin of the cheese, but the generally accepted notion was that before this cheese came into existence, there was in its place a confused mass of shapeless elements called Chaos. '"
      ],
      "text/plain": [
       "[1] \"The ancient Greeks had several different theories with regard to the origin of the cheese, but the generally accepted notion was that before this cheese came into existence, there was in its place a confused mass of shapeless elements called Chaos. \""
      ]
     },
     "metadata": {},
     "output_type": "display_data"
    }
   ],
   "source": [
    "gsub(\"world\", \"cheese\", text) #Pattern replacement"
   ]
  },
  {
   "cell_type": "markdown",
   "metadata": {
    "slideshow": {
     "slide_type": "slide"
    }
   },
   "source": [
    "### Naming objects\n",
    "Objects can be named almost anything but a good rule of thumb is to use names that are indicative of what the object contains.\n",
    "\n",
    "#### Restrictions for naming objects\n",
    "- Most special characters not allowed: `/`, `?`, `*`, `+` and so on (most characters mean something to R and will be read as an expression)\n",
    "- Already existing names in R (will overwrite the function/object in the environment)\n",
    "\n",
    "#### Good naming conventions \n",
    "- Using '`_`': `my_object`, `room_number`\n",
    "\n",
    "or:\n",
    "\n",
    "- Capitalize each word except the first: `myObject`, `roomNumber`"
   ]
  },
  {
   "cell_type": "markdown",
   "metadata": {
    "slideshow": {
     "slide_type": "slide"
    }
   },
   "source": [
    "# EXERCISE 1: DEFINING OBJECTS\n",
    "\n",
    "Below are two text snippets from the book \"Myths and Legends of Ancient Greece and Rome\" by E.M. Berens.\n",
    "\n",
    "<u>Snippet 1:</u>\n",
    "\n",
    "\"Themis, who has already been alluded to as the wife of Zeus, was the daughter of Cronus and Rhea, and personified those divine laws of justice and order by means of which the well-being and morality of communities are regulated. She presided over the assemblies of the people and the laws of hospitality.\"\n",
    "\n",
    "<u>Snippet 2:</u>\n",
    "\n",
    "\"Athene was universally worshipped throughout Greece, but was regarded with special veneration by the Athenians, she being the guardian deity of Athens. Her most celebrated temple was the Parthenon, which stood on the Acropolis at Athens, and contained her world-renowned statue by Phidias, which ranks second only to that of Zeus by the same great artist.\"\n",
    "\n",
    "**1.** Assign each snippet to its own object (make up your own object names or use `mytext1` and `mytext2`).\n",
    "\n",
    "**2.** The function `nchar()` returns the number of characters. Determine which text snippet has the most characters."
   ]
  },
  {
   "cell_type": "code",
   "execution_count": 13,
   "metadata": {
    "slideshow": {
     "slide_type": "skip"
    }
   },
   "outputs": [],
   "source": [
    "mytext1 <- \"Themis, who has already been alluded to as the wife of Zeus, was the daughter of Cronus and Rhea, and personified those divine laws of justice and order by means of which the well-being and morality of communities are regulated. She presided over the assemblies of the people and the laws of hospitality.\"\n",
    "mytext2 <- \"Athene was universally worshipped throughout Greece, but was regarded with special veneration by the Athenians, she being the guardian deity of Athens. Her most celebrated temple was the Parthenon, which stood on the Acropolis at Athens, and contained her world-renowned statue by Phidias, which ranks second only to that of Zeus by the same great artist.\""
   ]
  },
  {
   "cell_type": "code",
   "execution_count": 14,
   "metadata": {
    "slideshow": {
     "slide_type": "subslide"
    }
   },
   "outputs": [
    {
     "data": {
      "text/html": [
       "304"
      ],
      "text/latex": [
       "304"
      ],
      "text/markdown": [
       "304"
      ],
      "text/plain": [
       "[1] 304"
      ]
     },
     "metadata": {},
     "output_type": "display_data"
    },
    {
     "data": {
      "text/html": [
       "355"
      ],
      "text/latex": [
       "355"
      ],
      "text/markdown": [
       "355"
      ],
      "text/plain": [
       "[1] 355"
      ]
     },
     "metadata": {},
     "output_type": "display_data"
    },
    {
     "data": {
      "text/html": [
       "-51"
      ],
      "text/latex": [
       "-51"
      ],
      "text/markdown": [
       "-51"
      ],
      "text/plain": [
       "[1] -51"
      ]
     },
     "metadata": {},
     "output_type": "display_data"
    }
   ],
   "source": [
    "nchar(mytext1)\n",
    "nchar(mytext2)\n",
    "\n",
    "nchar(mytext1) - nchar(mytext2)"
   ]
  },
  {
   "cell_type": "markdown",
   "metadata": {
    "slideshow": {
     "slide_type": "slide"
    }
   },
   "source": [
    "# Different types of objects (classes)\n",
    "R distinguishes between different types of objects.\n",
    "\n",
    "An objects is stored as a *class*. The class denotes what type of object it is and affects what operations are possible."
   ]
  },
  {
   "cell_type": "markdown",
   "metadata": {
    "slideshow": {
     "slide_type": "slide"
    }
   },
   "source": [
    "## Numeric and character classes\n",
    "As you work with R, you will encounter a lot of different classes. For now we will be focusing on two of the more common ones:\n",
    "- Numeric classes\n",
    "- Character classes\n",
    "\n",
    "Numbers are automatically stored as a numeric class (or one of the variants: double, integer etc.).\n",
    "\n",
    "When using `''` or `\"\"` around the information to be stored in the object, R will interpret that as text; meaning it will be stored as a character class. \n",
    "\n",
    "*Numbers enclosed in `''` or `\"\"` are therefore stored as a character class, as R interprets it as text!*\n",
    "\n",
    "R has to be told that something is text as R would otherwise interpret it as an object."
   ]
  },
  {
   "cell_type": "code",
   "execution_count": 15,
   "metadata": {
    "slideshow": {
     "slide_type": "fragment"
    }
   },
   "outputs": [
    {
     "ename": "ERROR",
     "evalue": "Error in eval(expr, envir, enclos): objekt 'rome' blev ikke fundet\n",
     "output_type": "error",
     "traceback": [
      "Error in eval(expr, envir, enclos): objekt 'rome' blev ikke fundet\nTraceback:\n"
     ]
    }
   ],
   "source": [
    "mytext3 <- rome"
   ]
  },
  {
   "cell_type": "markdown",
   "metadata": {
    "slideshow": {
     "slide_type": "slide"
    }
   },
   "source": [
    "## Coercing classes\n",
    "The class of an object can be examined with `class(object)`.\n",
    "\n",
    "Objects can be coerced with specific functions:\n",
    "\n",
    "- Coerce to character class:`as.character(object)`\n",
    "- Coerce to numeric class: `as.numeric(object)`\n",
    "\n",
    "R will always try to \"guess\" the class. If R guesses wrong, you can tell R what class it should be (if possible)."
   ]
  },
  {
   "cell_type": "markdown",
   "metadata": {
    "slideshow": {
     "slide_type": "slide"
    }
   },
   "source": [
    "# R scripts: For reproducability! \n",
    "Script files are text files containing code that R can interpret.\n",
    "\n",
    "It is your \"analysis recipe\" showing what you have done as well as allowing you to re-run commands easily.\n",
    "\n",
    "Always make a habit of writing your commands into a script, when you have the command figured out.\n",
    "\n",
    "- `#` can be used for comments (skipped when run)\n",
    "- `Ctrl` + `Enter`: Runs the current line or selection\n",
    "- `Ctrl` + `Alt` + `R`: Runs the whole script"
   ]
  },
  {
   "cell_type": "markdown",
   "metadata": {
    "slideshow": {
     "slide_type": "slide"
    }
   },
   "source": [
    "# EXERCISE 2: CLASSES\n",
    "\n",
    "1. Assign the number of characters of text snippet 1 (`nchar(mytext1)`) to the object `text1_nc`.\n",
    "2. Check the classes of your object `mytext1` and `text1_nc` with `class()`. What are they?\n",
    "3. Try changing the class of `text1_nc` to a character class with `as.character()`. Is it possible?\n",
    "4. Try changing the class of `mytext1` to a numeric class with `as.numeric()`. Is it possible?\n",
    "\n",
    "**Bonus**\n",
    "1. Assign the number of characters of text snippet 2 to another object\n",
    "2. Test if the number of characters of the two texts are the same with the operator `==`:\n",
    "    - `text1_nc == text2_nc`\n",
    "3. Assign the test above to the object `mytest`\n",
    "4. Check the class of `mytest`. What class is it?"
   ]
  },
  {
   "cell_type": "code",
   "execution_count": 16,
   "metadata": {
    "slideshow": {
     "slide_type": "skip"
    }
   },
   "outputs": [],
   "source": [
    "text1_nc <- nchar(mytext1)\n",
    "text2_nc <- nchar(mytext2)\n",
    "\n",
    "mytest <- text1_nc == text2_nc"
   ]
  },
  {
   "cell_type": "code",
   "execution_count": 17,
   "metadata": {
    "slideshow": {
     "slide_type": "subslide"
    }
   },
   "outputs": [
    {
     "data": {
      "text/html": [
       "'304'"
      ],
      "text/latex": [
       "'304'"
      ],
      "text/markdown": [
       "'304'"
      ],
      "text/plain": [
       "[1] \"304\""
      ]
     },
     "metadata": {},
     "output_type": "display_data"
    }
   ],
   "source": [
    "as.character(text1_nc)"
   ]
  },
  {
   "cell_type": "code",
   "execution_count": 18,
   "metadata": {
    "slideshow": {
     "slide_type": "fragment"
    }
   },
   "outputs": [
    {
     "name": "stderr",
     "output_type": "stream",
     "text": [
      "Warning message in eval(expr, envir, enclos):\n",
      "\"NAs introduced by coercion\""
     ]
    },
    {
     "data": {
      "text/html": [
       "&lt;NA&gt;"
      ],
      "text/latex": [
       "<NA>"
      ],
      "text/markdown": [
       "&lt;NA&gt;"
      ],
      "text/plain": [
       "[1] NA"
      ]
     },
     "metadata": {},
     "output_type": "display_data"
    }
   ],
   "source": [
    "as.numeric(mytext1)"
   ]
  },
  {
   "cell_type": "code",
   "execution_count": 19,
   "metadata": {
    "slideshow": {
     "slide_type": "fragment"
    }
   },
   "outputs": [
    {
     "data": {
      "text/html": [
       "'logical'"
      ],
      "text/latex": [
       "'logical'"
      ],
      "text/markdown": [
       "'logical'"
      ],
      "text/plain": [
       "[1] \"logical\""
      ]
     },
     "metadata": {},
     "output_type": "display_data"
    }
   ],
   "source": [
    "class(mytest)"
   ]
  },
  {
   "cell_type": "markdown",
   "metadata": {
    "slideshow": {
     "slide_type": "slide"
    }
   },
   "source": [
    "# The logical class\n",
    "Logicals are *boolean* objects meaning they will either have the value `TRUE` or `FALSE`.\n",
    "\n",
    "When using the following operators (among others), R will interpret it as a logical class:\n",
    "- `>`\n",
    "- `>=`\n",
    "- `<`\n",
    "- `<=`\n",
    "- `==`\n",
    "- `!=`\n",
    "\n",
    "Logicals can be used in functions, loops and if-statements to ensure that a certain condition is met before something is run."
   ]
  },
  {
   "cell_type": "markdown",
   "metadata": {
    "slideshow": {
     "slide_type": "slide"
    }
   },
   "source": [
    "# BREAK\n",
    "\n",
    "![cat_window](https://2.bp.blogspot.com/-C8QgO2Yd3ew/TbMiWtd-VEI/AAAAAAACFu8/AhHEIYkfvnU/s1600/cats_chillin_02.jpg)"
   ]
  },
  {
   "cell_type": "markdown",
   "metadata": {
    "slideshow": {
     "slide_type": "slide"
    }
   },
   "source": [
    "# R Objects: Vectors\n",
    "So far we have looked at R objects containing single values: a number, a word, a text or a boolean.\n",
    "\n",
    "R has different ways of storing a series of elements (values, objects, etc.). One of the more common is the *vector*.\n",
    "\n",
    "A vector is a grouping of elements. They are created using the function `c`:"
   ]
  },
  {
   "cell_type": "code",
   "execution_count": 20,
   "metadata": {
    "slideshow": {
     "slide_type": "fragment"
    }
   },
   "outputs": [
    {
     "data": {
      "text/html": [
       "<ol class=list-inline>\n",
       "\t<li>1</li>\n",
       "\t<li>9</li>\n",
       "\t<li>7</li>\n",
       "\t<li>3</li>\n",
       "</ol>\n"
      ],
      "text/latex": [
       "\\begin{enumerate*}\n",
       "\\item 1\n",
       "\\item 9\n",
       "\\item 7\n",
       "\\item 3\n",
       "\\end{enumerate*}\n"
      ],
      "text/markdown": [
       "1. 1\n",
       "2. 9\n",
       "3. 7\n",
       "4. 3\n",
       "\n",
       "\n"
      ],
      "text/plain": [
       "[1] 1 9 7 3"
      ]
     },
     "metadata": {},
     "output_type": "display_data"
    }
   ],
   "source": [
    "my_vec <- c(1, 9, 7, 3)\n",
    "my_vec"
   ]
  },
  {
   "cell_type": "markdown",
   "metadata": {
    "slideshow": {
     "slide_type": "slide"
    }
   },
   "source": [
    "Elements can be added to the vector with the function `append` or by creating a vector containing the vector:"
   ]
  },
  {
   "cell_type": "code",
   "execution_count": 21,
   "metadata": {
    "slideshow": {
     "slide_type": "fragment"
    }
   },
   "outputs": [
    {
     "data": {
      "text/html": [
       "<ol class=list-inline>\n",
       "\t<li>1</li>\n",
       "\t<li>9</li>\n",
       "\t<li>7</li>\n",
       "\t<li>3</li>\n",
       "\t<li>22</li>\n",
       "</ol>\n"
      ],
      "text/latex": [
       "\\begin{enumerate*}\n",
       "\\item 1\n",
       "\\item 9\n",
       "\\item 7\n",
       "\\item 3\n",
       "\\item 22\n",
       "\\end{enumerate*}\n"
      ],
      "text/markdown": [
       "1. 1\n",
       "2. 9\n",
       "3. 7\n",
       "4. 3\n",
       "5. 22\n",
       "\n",
       "\n"
      ],
      "text/plain": [
       "[1]  1  9  7  3 22"
      ]
     },
     "metadata": {},
     "output_type": "display_data"
    }
   ],
   "source": [
    "my_vec2 <- append(my_vec, 22)\n",
    "my_vec2"
   ]
  },
  {
   "cell_type": "code",
   "execution_count": 22,
   "metadata": {
    "slideshow": {
     "slide_type": "fragment"
    }
   },
   "outputs": [
    {
     "data": {
      "text/html": [
       "<ol class=list-inline>\n",
       "\t<li>1</li>\n",
       "\t<li>9</li>\n",
       "\t<li>7</li>\n",
       "\t<li>3</li>\n",
       "\t<li>22</li>\n",
       "</ol>\n"
      ],
      "text/latex": [
       "\\begin{enumerate*}\n",
       "\\item 1\n",
       "\\item 9\n",
       "\\item 7\n",
       "\\item 3\n",
       "\\item 22\n",
       "\\end{enumerate*}\n"
      ],
      "text/markdown": [
       "1. 1\n",
       "2. 9\n",
       "3. 7\n",
       "4. 3\n",
       "5. 22\n",
       "\n",
       "\n"
      ],
      "text/plain": [
       "[1]  1  9  7  3 22"
      ]
     },
     "metadata": {},
     "output_type": "display_data"
    }
   ],
   "source": [
    "my_vec3 <- c(my_vec, 22)\n",
    "my_vec3"
   ]
  },
  {
   "cell_type": "markdown",
   "metadata": {
    "slideshow": {
     "slide_type": "subslide"
    }
   },
   "source": [
    "Note that a vector is not a class. The class it takes depends on the elements in the vector. This means that all elements in a vector have to be the same class (or will be coerced to the same class)."
   ]
  },
  {
   "cell_type": "code",
   "execution_count": 23,
   "metadata": {
    "slideshow": {
     "slide_type": "fragment"
    }
   },
   "outputs": [
    {
     "data": {
      "text/html": [
       "'numeric'"
      ],
      "text/latex": [
       "'numeric'"
      ],
      "text/markdown": [
       "'numeric'"
      ],
      "text/plain": [
       "[1] \"numeric\""
      ]
     },
     "metadata": {},
     "output_type": "display_data"
    }
   ],
   "source": [
    "class(my_vec)"
   ]
  },
  {
   "cell_type": "markdown",
   "metadata": {
    "slideshow": {
     "slide_type": "slide"
    }
   },
   "source": [
    "## Texts as vectors\n",
    "Texts can be thought of as vectors in a number of ways:\n",
    "1. A collection of texts\n",
    "2. A collection of words in a text\n",
    "3. A collection of sentences in a text\n",
    "\n",
    "Depending on what we are trying to figure out with text, R can be used in a number of ways."
   ]
  },
  {
   "cell_type": "markdown",
   "metadata": {
    "slideshow": {
     "slide_type": "slide"
    }
   },
   "source": [
    "Let's start by thinking of a text as a series of single words:"
   ]
  },
  {
   "cell_type": "code",
   "execution_count": 24,
   "metadata": {
    "slideshow": {
     "slide_type": "fragment"
    }
   },
   "outputs": [
    {
     "data": {
      "text/html": [
       "<ol class=list-inline>\n",
       "\t<li>'The'</li>\n",
       "\t<li>'ancient'</li>\n",
       "\t<li>'Greeks'</li>\n",
       "\t<li>'had'</li>\n",
       "\t<li>'several'</li>\n",
       "\t<li>'different'</li>\n",
       "\t<li>'theories'</li>\n",
       "\t<li>'with'</li>\n",
       "\t<li>'regard'</li>\n",
       "\t<li>'to'</li>\n",
       "\t<li>'the'</li>\n",
       "\t<li>'origin'</li>\n",
       "\t<li>'of'</li>\n",
       "\t<li>'the'</li>\n",
       "\t<li>'world,'</li>\n",
       "\t<li>'but'</li>\n",
       "\t<li>'the'</li>\n",
       "\t<li>'generally'</li>\n",
       "\t<li>'accepted'</li>\n",
       "\t<li>'notion'</li>\n",
       "\t<li>'was'</li>\n",
       "\t<li>'that'</li>\n",
       "\t<li>'before'</li>\n",
       "\t<li>'this'</li>\n",
       "\t<li>'world'</li>\n",
       "\t<li>'came'</li>\n",
       "\t<li>'into'</li>\n",
       "\t<li>'existence,'</li>\n",
       "\t<li>'there'</li>\n",
       "\t<li>'was'</li>\n",
       "\t<li>'in'</li>\n",
       "\t<li>'its'</li>\n",
       "\t<li>'place'</li>\n",
       "\t<li>'a'</li>\n",
       "\t<li>'confused'</li>\n",
       "\t<li>'mass'</li>\n",
       "\t<li>'of'</li>\n",
       "\t<li>'shapeless'</li>\n",
       "\t<li>'elements'</li>\n",
       "\t<li>'called'</li>\n",
       "\t<li>'Chaos.'</li>\n",
       "</ol>\n"
      ],
      "text/latex": [
       "\\begin{enumerate*}\n",
       "\\item 'The'\n",
       "\\item 'ancient'\n",
       "\\item 'Greeks'\n",
       "\\item 'had'\n",
       "\\item 'several'\n",
       "\\item 'different'\n",
       "\\item 'theories'\n",
       "\\item 'with'\n",
       "\\item 'regard'\n",
       "\\item 'to'\n",
       "\\item 'the'\n",
       "\\item 'origin'\n",
       "\\item 'of'\n",
       "\\item 'the'\n",
       "\\item 'world,'\n",
       "\\item 'but'\n",
       "\\item 'the'\n",
       "\\item 'generally'\n",
       "\\item 'accepted'\n",
       "\\item 'notion'\n",
       "\\item 'was'\n",
       "\\item 'that'\n",
       "\\item 'before'\n",
       "\\item 'this'\n",
       "\\item 'world'\n",
       "\\item 'came'\n",
       "\\item 'into'\n",
       "\\item 'existence,'\n",
       "\\item 'there'\n",
       "\\item 'was'\n",
       "\\item 'in'\n",
       "\\item 'its'\n",
       "\\item 'place'\n",
       "\\item 'a'\n",
       "\\item 'confused'\n",
       "\\item 'mass'\n",
       "\\item 'of'\n",
       "\\item 'shapeless'\n",
       "\\item 'elements'\n",
       "\\item 'called'\n",
       "\\item 'Chaos.'\n",
       "\\end{enumerate*}\n"
      ],
      "text/markdown": [
       "1. 'The'\n",
       "2. 'ancient'\n",
       "3. 'Greeks'\n",
       "4. 'had'\n",
       "5. 'several'\n",
       "6. 'different'\n",
       "7. 'theories'\n",
       "8. 'with'\n",
       "9. 'regard'\n",
       "10. 'to'\n",
       "11. 'the'\n",
       "12. 'origin'\n",
       "13. 'of'\n",
       "14. 'the'\n",
       "15. 'world,'\n",
       "16. 'but'\n",
       "17. 'the'\n",
       "18. 'generally'\n",
       "19. 'accepted'\n",
       "20. 'notion'\n",
       "21. 'was'\n",
       "22. 'that'\n",
       "23. 'before'\n",
       "24. 'this'\n",
       "25. 'world'\n",
       "26. 'came'\n",
       "27. 'into'\n",
       "28. 'existence,'\n",
       "29. 'there'\n",
       "30. 'was'\n",
       "31. 'in'\n",
       "32. 'its'\n",
       "33. 'place'\n",
       "34. 'a'\n",
       "35. 'confused'\n",
       "36. 'mass'\n",
       "37. 'of'\n",
       "38. 'shapeless'\n",
       "39. 'elements'\n",
       "40. 'called'\n",
       "41. 'Chaos.'\n",
       "\n",
       "\n"
      ],
      "text/plain": [
       " [1] \"The\"        \"ancient\"    \"Greeks\"     \"had\"        \"several\"   \n",
       " [6] \"different\"  \"theories\"   \"with\"       \"regard\"     \"to\"        \n",
       "[11] \"the\"        \"origin\"     \"of\"         \"the\"        \"world,\"    \n",
       "[16] \"but\"        \"the\"        \"generally\"  \"accepted\"   \"notion\"    \n",
       "[21] \"was\"        \"that\"       \"before\"     \"this\"       \"world\"     \n",
       "[26] \"came\"       \"into\"       \"existence,\" \"there\"      \"was\"       \n",
       "[31] \"in\"         \"its\"        \"place\"      \"a\"          \"confused\"  \n",
       "[36] \"mass\"       \"of\"         \"shapeless\"  \"elements\"   \"called\"    \n",
       "[41] \"Chaos.\"    "
      ]
     },
     "metadata": {},
     "output_type": "display_data"
    }
   ],
   "source": [
    "text_words <- unlist(strsplit(text, split = \"\\\\s\"))  #split at every whitespace - \\\\s is an escape character\n",
    "text_words"
   ]
  },
  {
   "cell_type": "markdown",
   "metadata": {
    "slideshow": {
     "slide_type": "fragment"
    }
   },
   "source": [
    "The text is now a vector, each word with its own index (subset using `[]`):"
   ]
  },
  {
   "cell_type": "code",
   "execution_count": 25,
   "metadata": {
    "slideshow": {
     "slide_type": "fragment"
    }
   },
   "outputs": [
    {
     "data": {
      "text/html": [
       "'several'"
      ],
      "text/latex": [
       "'several'"
      ],
      "text/markdown": [
       "'several'"
      ],
      "text/plain": [
       "[1] \"several\""
      ]
     },
     "metadata": {},
     "output_type": "display_data"
    },
    {
     "data": {
      "text/html": [
       "'that'"
      ],
      "text/latex": [
       "'that'"
      ],
      "text/markdown": [
       "'that'"
      ],
      "text/plain": [
       "[1] \"that\""
      ]
     },
     "metadata": {},
     "output_type": "display_data"
    }
   ],
   "source": [
    "text_words[5]\n",
    "text_words[22]"
   ]
  },
  {
   "cell_type": "markdown",
   "metadata": {
    "slideshow": {
     "slide_type": "fragment"
    }
   },
   "source": [
    "This allows us to perform counts and other summaries (which we wil get back to)."
   ]
  },
  {
   "cell_type": "markdown",
   "metadata": {
    "slideshow": {
     "slide_type": "slide"
    }
   },
   "source": [
    "# R Libraries - Packages \n",
    "\n",
    "R being open source means that a lot of developers are constantly adding new functions to R.\n",
    "These new functions are distributed as *R packages* that can be loaded into the R library.\n",
    "\n",
    "All the commands you have been using so far have been part of the `base` package (ships with R). \n",
    "\n",
    "Packages are installed using (name of package *with* quotes!): \n",
    "\n",
    "`install.packages('packagename')` \n",
    "\n",
    "The functions from the package is loaded into the environment using (name of package *without* quotes!):\n",
    "    \n",
    "`library(packagename)` \n",
    "\n",
    "Information for installed packages can be found using (name of package *with* quotes!):\n",
    "\n",
    "`library(help = 'packagename')` "
   ]
  },
  {
   "cell_type": "markdown",
   "metadata": {
    "slideshow": {
     "slide_type": "subslide"
    }
   },
   "source": [
    "The many additional functionalities of R gained from the addition of other packages is a huge benefit.\n",
    "\n",
    "Some notes of caution should be mentioned:\n",
    "- Packages are added constantly and there is not a centralized and long review proces. Make sure to use package with good documentation and documented uses.\n",
    "- Packages can be developed by anyone which means that they can also stop developing on them.\n",
    "- Packages can use the same name for functions. This can cause confusion and sometimes conflict.\n",
    "- Packages are developed with different workflows in mind, so compatibility between packages can vary."
   ]
  },
  {
   "cell_type": "markdown",
   "metadata": {
    "slideshow": {
     "slide_type": "slide"
    }
   },
   "source": [
    "# Working with strings: The `stringr` package\n",
    "To ensure a common workflow and package use, we will try to stick to packages from the \"Tidyverse\" as much as possible: https://www.tidyverse.org/\n",
    "\n",
    "These packages are all developed with a consistent syntax for the functions and are all well-documented, used and tested.\n",
    "\n",
    "The packages in the tidyverse are best for working with \"tidy data\": A data format where each row in a data set is a unique observation. \n",
    "\n",
    "The package `stringr` is a tidyverse package for working with strings. Install it with `install.packages('stringr')`.\n",
    "\n",
    "When installed, load it with `library(stringr)`. Write it into your script. (Good practice is to either write it at the very beginning or just before you are using the commands from the package)."
   ]
  },
  {
   "cell_type": "code",
   "execution_count": 26,
   "metadata": {
    "slideshow": {
     "slide_type": "skip"
    }
   },
   "outputs": [],
   "source": [
    "library(stringr)"
   ]
  },
  {
   "cell_type": "markdown",
   "metadata": {
    "slideshow": {
     "slide_type": "slide"
    }
   },
   "source": [
    "`stringr` can be used in a variety of different ways."
   ]
  },
  {
   "cell_type": "code",
   "execution_count": 27,
   "metadata": {
    "slideshow": {
     "slide_type": "fragment"
    }
   },
   "outputs": [
    {
     "data": {
      "text/html": [
       "'the ancient greeks had several different theories with regard to the origin of the world, but the generally accepted notion was that before this world came into existence, there was in its place a confused mass of shapeless elements called chaos. '"
      ],
      "text/latex": [
       "'the ancient greeks had several different theories with regard to the origin of the world, but the generally accepted notion was that before this world came into existence, there was in its place a confused mass of shapeless elements called chaos. '"
      ],
      "text/markdown": [
       "'the ancient greeks had several different theories with regard to the origin of the world, but the generally accepted notion was that before this world came into existence, there was in its place a confused mass of shapeless elements called chaos. '"
      ],
      "text/plain": [
       "[1] \"the ancient greeks had several different theories with regard to the origin of the world, but the generally accepted notion was that before this world came into existence, there was in its place a confused mass of shapeless elements called chaos. \""
      ]
     },
     "metadata": {},
     "output_type": "display_data"
    }
   ],
   "source": [
    "# Changing case (here to lowercase)\n",
    "str_to_lower(text)"
   ]
  },
  {
   "cell_type": "code",
   "execution_count": 28,
   "metadata": {
    "slideshow": {
     "slide_type": "fragment"
    }
   },
   "outputs": [
    {
     "data": {
      "text/html": [
       "TRUE"
      ],
      "text/latex": [
       "TRUE"
      ],
      "text/markdown": [
       "TRUE"
      ],
      "text/plain": [
       "[1] TRUE"
      ]
     },
     "metadata": {},
     "output_type": "display_data"
    }
   ],
   "source": [
    "# Looking up words\n",
    "str_detect(text, \"world\")"
   ]
  },
  {
   "cell_type": "code",
   "execution_count": 29,
   "metadata": {
    "slideshow": {
     "slide_type": "fragment"
    }
   },
   "outputs": [
    {
     "data": {
      "text/html": [
       "2"
      ],
      "text/latex": [
       "2"
      ],
      "text/markdown": [
       "2"
      ],
      "text/plain": [
       "[1] 2"
      ]
     },
     "metadata": {},
     "output_type": "display_data"
    }
   ],
   "source": [
    "# Counting matches\n",
    "str_count(text, \"world\")"
   ]
  },
  {
   "cell_type": "markdown",
   "metadata": {
    "slideshow": {
     "slide_type": "slide"
    }
   },
   "source": [
    "The functions of `stringr` also work on a grouping on elements (like a vector). We can see this when we split the text into sentences and then use the same functions"
   ]
  },
  {
   "cell_type": "code",
   "execution_count": 30,
   "metadata": {
    "slideshow": {
     "slide_type": "fragment"
    }
   },
   "outputs": [],
   "source": [
    "# Splitting text into elements; here separating at commas\n",
    "# unlist is used to coerce to a vector; otherwise it is returned as a list\n",
    "text_sent <- str_split(text, pattern = \",\") %>% \n",
    "unlist()"
   ]
  },
  {
   "cell_type": "code",
   "execution_count": 31,
   "metadata": {
    "slideshow": {
     "slide_type": "fragment"
    }
   },
   "outputs": [
    {
     "data": {
      "text/html": [
       "<ol class=list-inline>\n",
       "\t<li>TRUE</li>\n",
       "\t<li>TRUE</li>\n",
       "\t<li>FALSE</li>\n",
       "</ol>\n"
      ],
      "text/latex": [
       "\\begin{enumerate*}\n",
       "\\item TRUE\n",
       "\\item TRUE\n",
       "\\item FALSE\n",
       "\\end{enumerate*}\n"
      ],
      "text/markdown": [
       "1. TRUE\n",
       "2. TRUE\n",
       "3. FALSE\n",
       "\n",
       "\n"
      ],
      "text/plain": [
       "[1]  TRUE  TRUE FALSE"
      ]
     },
     "metadata": {},
     "output_type": "display_data"
    }
   ],
   "source": [
    "# Looking up word in each sentence\n",
    "str_detect(text_sent, \"world\")"
   ]
  },
  {
   "cell_type": "code",
   "execution_count": 32,
   "metadata": {
    "slideshow": {
     "slide_type": "fragment"
    }
   },
   "outputs": [
    {
     "data": {
      "text/html": [
       "<ol class=list-inline>\n",
       "\t<li>1</li>\n",
       "\t<li>1</li>\n",
       "\t<li>0</li>\n",
       "</ol>\n"
      ],
      "text/latex": [
       "\\begin{enumerate*}\n",
       "\\item 1\n",
       "\\item 1\n",
       "\\item 0\n",
       "\\end{enumerate*}\n"
      ],
      "text/markdown": [
       "1. 1\n",
       "2. 1\n",
       "3. 0\n",
       "\n",
       "\n"
      ],
      "text/plain": [
       "[1] 1 1 0"
      ]
     },
     "metadata": {},
     "output_type": "display_data"
    }
   ],
   "source": [
    "# Counting word in each sentence\n",
    "str_count(text_sent, \"world\")"
   ]
  },
  {
   "cell_type": "markdown",
   "metadata": {
    "slideshow": {
     "slide_type": "subslide"
    }
   },
   "source": [
    "### A note on indexing and booleans\n",
    "When inputting boolean valules as an index, R will only return the `TRUE` values.\n",
    "\n",
    "This means that we can use commands like `str_detect` to only return text elements containing specific words."
   ]
  },
  {
   "cell_type": "code",
   "execution_count": 33,
   "metadata": {
    "slideshow": {
     "slide_type": "fragment"
    }
   },
   "outputs": [
    {
     "data": {
      "text/html": [
       "<ol class=list-inline>\n",
       "\t<li>'The ancient Greeks had several different theories with regard to the origin of the world'</li>\n",
       "\t<li>' but the generally accepted notion was that before this world came into existence'</li>\n",
       "</ol>\n"
      ],
      "text/latex": [
       "\\begin{enumerate*}\n",
       "\\item 'The ancient Greeks had several different theories with regard to the origin of the world'\n",
       "\\item ' but the generally accepted notion was that before this world came into existence'\n",
       "\\end{enumerate*}\n"
      ],
      "text/markdown": [
       "1. 'The ancient Greeks had several different theories with regard to the origin of the world'\n",
       "2. ' but the generally accepted notion was that before this world came into existence'\n",
       "\n",
       "\n"
      ],
      "text/plain": [
       "[1] \"The ancient Greeks had several different theories with regard to the origin of the world\"\n",
       "[2] \" but the generally accepted notion was that before this world came into existence\"       "
      ]
     },
     "metadata": {},
     "output_type": "display_data"
    }
   ],
   "source": [
    "text_sent[str_detect(text_sent, \"world\")]"
   ]
  },
  {
   "cell_type": "markdown",
   "metadata": {},
   "source": [
    "`str_subset` has combined this functionality in one function:"
   ]
  },
  {
   "cell_type": "code",
   "execution_count": 34,
   "metadata": {},
   "outputs": [
    {
     "data": {
      "text/html": [
       "<ol class=list-inline>\n",
       "\t<li>'The ancient Greeks had several different theories with regard to the origin of the world'</li>\n",
       "\t<li>' but the generally accepted notion was that before this world came into existence'</li>\n",
       "</ol>\n"
      ],
      "text/latex": [
       "\\begin{enumerate*}\n",
       "\\item 'The ancient Greeks had several different theories with regard to the origin of the world'\n",
       "\\item ' but the generally accepted notion was that before this world came into existence'\n",
       "\\end{enumerate*}\n"
      ],
      "text/markdown": [
       "1. 'The ancient Greeks had several different theories with regard to the origin of the world'\n",
       "2. ' but the generally accepted notion was that before this world came into existence'\n",
       "\n",
       "\n"
      ],
      "text/plain": [
       "[1] \"The ancient Greeks had several different theories with regard to the origin of the world\"\n",
       "[2] \" but the generally accepted notion was that before this world came into existence\"       "
      ]
     },
     "metadata": {},
     "output_type": "display_data"
    }
   ],
   "source": [
    "str_subset(text_sent, \"world\")"
   ]
  },
  {
   "cell_type": "markdown",
   "metadata": {
    "slideshow": {
     "slide_type": "slide"
    }
   },
   "source": [
    "# EXERCISE 3: WORKING WITH VECTORS\n",
    "\n",
    "You should still have the objects `mytext1` and `mytext2`. In the following, you will create a vector containing the sentences of the texts and then looking up certain words.\n",
    "\n",
    "Make sure you have the package `stringr` installed and loaded.\n",
    "\n",
    "1. Convert the two text snippets from earlier to a vector of senteces.\n",
    "\n",
    "    a. Put both texts into a vector using `c()`. Assin to an object.\n",
    "    \n",
    "    b. Split the texts into sentences using `str_split(texts, pattern = \",\")`. Assign to an object.\n",
    "    \n",
    "    c. Unlist the object to convert to a vector using `unlist()`. Assign to the same or a new object.\n",
    "    \n",
    "    \n",
    "2. Use `str_detect()` to see which sentences contains the name \"Zeus\". "
   ]
  },
  {
   "cell_type": "code",
   "execution_count": 35,
   "metadata": {
    "slideshow": {
     "slide_type": "subslide"
    }
   },
   "outputs": [],
   "source": [
    "mytexts <- c(mytext1, mytext2)\n",
    "mysents <- str_split(mytexts, pattern = \",\")\n",
    "mysents <- unlist(mysents)"
   ]
  },
  {
   "cell_type": "code",
   "execution_count": 78,
   "metadata": {
    "slideshow": {
     "slide_type": "-"
    }
   },
   "outputs": [
    {
     "data": {
      "text/html": [
       "<ol class=list-inline>\n",
       "\t<li>FALSE</li>\n",
       "\t<li>TRUE</li>\n",
       "\t<li>FALSE</li>\n",
       "\t<li>FALSE</li>\n",
       "\t<li>FALSE</li>\n",
       "\t<li>FALSE</li>\n",
       "\t<li>FALSE</li>\n",
       "\t<li>FALSE</li>\n",
       "\t<li>FALSE</li>\n",
       "\t<li>TRUE</li>\n",
       "</ol>\n"
      ],
      "text/latex": [
       "\\begin{enumerate*}\n",
       "\\item FALSE\n",
       "\\item TRUE\n",
       "\\item FALSE\n",
       "\\item FALSE\n",
       "\\item FALSE\n",
       "\\item FALSE\n",
       "\\item FALSE\n",
       "\\item FALSE\n",
       "\\item FALSE\n",
       "\\item TRUE\n",
       "\\end{enumerate*}\n"
      ],
      "text/markdown": [
       "1. FALSE\n",
       "2. TRUE\n",
       "3. FALSE\n",
       "4. FALSE\n",
       "5. FALSE\n",
       "6. FALSE\n",
       "7. FALSE\n",
       "8. FALSE\n",
       "9. FALSE\n",
       "10. TRUE\n",
       "\n",
       "\n"
      ],
      "text/plain": [
       " [1] FALSE  TRUE FALSE FALSE FALSE FALSE FALSE FALSE FALSE  TRUE"
      ]
     },
     "metadata": {},
     "output_type": "display_data"
    }
   ],
   "source": [
    "str_detect(mysents, \"Zeus\")"
   ]
  },
  {
   "cell_type": "markdown",
   "metadata": {
    "slideshow": {
     "slide_type": "slide"
    }
   },
   "source": [
    "## Regular expressions\n",
    "Often when working with text, we have more \"fuzzy\" patterns we want to search for. \n",
    "\n",
    "Regular expression is a common language for processing text patterns.\n",
    "\n",
    "`stringr` supports regular expression arguements.\n",
    "\n",
    "Possible uses:\n",
    "- Finding words of a certain length\n",
    "- Finding sentences containing a certain word or pattern\n",
    "- Finding words following a certain pattern\n",
    "- and so on.\n",
    "\n",
    "Regular expression (or \"regex\") can be used in most function in `stringr`. "
   ]
  },
  {
   "cell_type": "markdown",
   "metadata": {
    "slideshow": {
     "slide_type": "slide"
    }
   },
   "source": [
    "The function `str_subset()` creates a subset of elements with the strings containing the pattern."
   ]
  },
  {
   "cell_type": "code",
   "execution_count": 36,
   "metadata": {
    "slideshow": {
     "slide_type": "skip"
    }
   },
   "outputs": [
    {
     "data": {
      "text/html": [
       "<ol class=list-inline>\n",
       "\t<li>'The ancient Greeks had several different theories with regard to the origin of the world'</li>\n",
       "\t<li>' but the generally accepted notion was that before this world came into existence'</li>\n",
       "\t<li>' there was in its place a confused mass of shapeless elements called Chaos. '</li>\n",
       "</ol>\n"
      ],
      "text/latex": [
       "\\begin{enumerate*}\n",
       "\\item 'The ancient Greeks had several different theories with regard to the origin of the world'\n",
       "\\item ' but the generally accepted notion was that before this world came into existence'\n",
       "\\item ' there was in its place a confused mass of shapeless elements called Chaos. '\n",
       "\\end{enumerate*}\n"
      ],
      "text/markdown": [
       "1. 'The ancient Greeks had several different theories with regard to the origin of the world'\n",
       "2. ' but the generally accepted notion was that before this world came into existence'\n",
       "3. ' there was in its place a confused mass of shapeless elements called Chaos. '\n",
       "\n",
       "\n"
      ],
      "text/plain": [
       "[1] \"The ancient Greeks had several different theories with regard to the origin of the world\"\n",
       "[2] \" but the generally accepted notion was that before this world came into existence\"       \n",
       "[3] \" there was in its place a confused mass of shapeless elements called Chaos. \"            "
      ]
     },
     "metadata": {},
     "output_type": "display_data"
    }
   ],
   "source": [
    "text_sent"
   ]
  },
  {
   "cell_type": "code",
   "execution_count": 79,
   "metadata": {
    "slideshow": {
     "slide_type": "fragment"
    }
   },
   "outputs": [
    {
     "data": {
      "text/html": [
       "<ol class=list-inline>\n",
       "\t<li>'The ancient Greeks had several different theories with regard to the origin of the world'</li>\n",
       "\t<li>' but the generally accepted notion was that before this world came into existence'</li>\n",
       "</ol>\n"
      ],
      "text/latex": [
       "\\begin{enumerate*}\n",
       "\\item 'The ancient Greeks had several different theories with regard to the origin of the world'\n",
       "\\item ' but the generally accepted notion was that before this world came into existence'\n",
       "\\end{enumerate*}\n"
      ],
      "text/markdown": [
       "1. 'The ancient Greeks had several different theories with regard to the origin of the world'\n",
       "2. ' but the generally accepted notion was that before this world came into existence'\n",
       "\n",
       "\n"
      ],
      "text/plain": [
       "[1] \"The ancient Greeks had several different theories with regard to the origin of the world\"\n",
       "[2] \" but the generally accepted notion was that before this world came into existence\"       "
      ]
     },
     "metadata": {},
     "output_type": "display_data"
    }
   ],
   "source": [
    "# Return sentences containing either \"origin\" or \"before\"\n",
    "str_subset(text_sent, \"origin|before\")"
   ]
  },
  {
   "cell_type": "code",
   "execution_count": 38,
   "metadata": {
    "slideshow": {
     "slide_type": "fragment"
    }
   },
   "outputs": [
    {
     "data": {
      "text/html": [
       "<ol class=list-inline>\n",
       "\t<li>'The ancient Greeks had several different theories with regard to the origin of the world'</li>\n",
       "\t<li>' there was in its place a confused mass of shapeless elements called Chaos. '</li>\n",
       "</ol>\n"
      ],
      "text/latex": [
       "\\begin{enumerate*}\n",
       "\\item 'The ancient Greeks had several different theories with regard to the origin of the world'\n",
       "\\item ' there was in its place a confused mass of shapeless elements called Chaos. '\n",
       "\\end{enumerate*}\n"
      ],
      "text/markdown": [
       "1. 'The ancient Greeks had several different theories with regard to the origin of the world'\n",
       "2. ' there was in its place a confused mass of shapeless elements called Chaos. '\n",
       "\n",
       "\n"
      ],
      "text/plain": [
       "[1] \"The ancient Greeks had several different theories with regard to the origin of the world\"\n",
       "[2] \" there was in its place a confused mass of shapeless elements called Chaos. \"            "
      ]
     },
     "metadata": {},
     "output_type": "display_data"
    }
   ],
   "source": [
    "# Return sentences containing an uppercase.\n",
    "str_subset(text_sent, \"[A-Z]\")"
   ]
  },
  {
   "cell_type": "markdown",
   "metadata": {
    "slideshow": {
     "slide_type": "slide"
    }
   },
   "source": [
    "# EXERCISE 4: SIMPLE REGEX\n",
    "\n",
    "Use your vector of sentences from the previous exercise.\n",
    "\n",
    "1. Use `str_subset()` to extract sentences containing either \"Zeus\" or \"Athene\"."
   ]
  },
  {
   "cell_type": "code",
   "execution_count": 82,
   "metadata": {
    "slideshow": {
     "slide_type": "subslide"
    }
   },
   "outputs": [
    {
     "data": {
      "text/html": [
       "<ol class=list-inline>\n",
       "\t<li>' who has already been alluded to as the wife of Zeus'</li>\n",
       "\t<li>'Athene was universally worshipped throughout Greece'</li>\n",
       "\t<li>' which ranks second only to that of Zeus by the same great artist.'</li>\n",
       "</ol>\n"
      ],
      "text/latex": [
       "\\begin{enumerate*}\n",
       "\\item ' who has already been alluded to as the wife of Zeus'\n",
       "\\item 'Athene was universally worshipped throughout Greece'\n",
       "\\item ' which ranks second only to that of Zeus by the same great artist.'\n",
       "\\end{enumerate*}\n"
      ],
      "text/markdown": [
       "1. ' who has already been alluded to as the wife of Zeus'\n",
       "2. 'Athene was universally worshipped throughout Greece'\n",
       "3. ' which ranks second only to that of Zeus by the same great artist.'\n",
       "\n",
       "\n"
      ],
      "text/plain": [
       "[1] \" who has already been alluded to as the wife of Zeus\"              \n",
       "[2] \"Athene was universally worshipped throughout Greece\"               \n",
       "[3] \" which ranks second only to that of Zeus by the same great artist.\""
      ]
     },
     "metadata": {},
     "output_type": "display_data"
    }
   ],
   "source": [
    "str_subset(mysents, \"Zeus|Athene\")"
   ]
  },
  {
   "cell_type": "markdown",
   "metadata": {
    "slideshow": {
     "slide_type": "slide"
    }
   },
   "source": [
    "# R Objects: Data Frames\n",
    "A \"data frame\" is the R-equivalent of a spreadsheet (a table of rows and columns). It is one of the most useful storage structures for data analysis in R.\n",
    "\n",
    "Typically rows consist of individual observations and the columns of the different variables (tidy data).\n",
    "\n",
    "Data frames are useful formats regardless of working with text, numbers, dates etc."
   ]
  },
  {
   "cell_type": "markdown",
   "metadata": {
    "slideshow": {
     "slide_type": "slide"
    }
   },
   "source": [
    "# Text as data frames: The `tidytext` package\n",
    "\n",
    "`tidytext` is a package useful for working with texts as dataframes.\n",
    "\n",
    "It provides a lot of simple functions for converting text to tokens (individual text elements).\n",
    "\n",
    "Combined with other functionality in the tidyverse, it is easy to create simple summaries.\n",
    "\n",
    "Install the packages `tidytext` and `gutenbergr` (contains the texts from the Gutenberg project: https://www.gutenberg.org/).\n",
    "\n",
    "(as I'm not sure whether it is included, install `dplyr` as well. Alternatively install `tidyverse`.)"
   ]
  },
  {
   "cell_type": "markdown",
   "metadata": {
    "slideshow": {
     "slide_type": "fragment"
    }
   },
   "source": [
    "Let's inspect a single text from the Gutenberg project: \"Myths and Legends of Ancient Greece and Rome\" by E.M. Berens.\n",
    "\n",
    "The command below downloads the text as a dataframe."
   ]
  },
  {
   "cell_type": "code",
   "execution_count": 42,
   "metadata": {
    "slideshow": {
     "slide_type": "skip"
    }
   },
   "outputs": [
    {
     "name": "stderr",
     "output_type": "stream",
     "text": [
      "\n",
      "Attaching package: 'dplyr'\n",
      "\n",
      "The following objects are masked from 'package:stats':\n",
      "\n",
      "    filter, lag\n",
      "\n",
      "The following objects are masked from 'package:base':\n",
      "\n",
      "    intersect, setdiff, setequal, union\n",
      "\n"
     ]
    }
   ],
   "source": [
    "library(tidytext)\n",
    "library(gutenbergr)\n",
    "library(dplyr)"
   ]
  },
  {
   "cell_type": "code",
   "execution_count": 43,
   "metadata": {
    "slideshow": {
     "slide_type": "fragment"
    }
   },
   "outputs": [
    {
     "name": "stderr",
     "output_type": "stream",
     "text": [
      "Determining mirror for Project Gutenberg from http://www.gutenberg.org/robot/harvest\n",
      "Using mirror http://aleph.gutenberg.org\n"
     ]
    }
   ],
   "source": [
    "# Downloading the text \"Myths and Legends of Ancient Greece and Rome\" by E.M. Berens\n",
    "text_df <- gutenberg_download(22381)"
   ]
  },
  {
   "cell_type": "markdown",
   "metadata": {
    "slideshow": {
     "slide_type": "slide"
    }
   },
   "source": [
    "## Exploring Data Frames\n",
    "To get an idea of what the data contains, we can use `head()`:"
   ]
  },
  {
   "cell_type": "code",
   "execution_count": 44,
   "metadata": {
    "slideshow": {
     "slide_type": "-"
    }
   },
   "outputs": [
    {
     "data": {
      "text/html": [
       "<table>\n",
       "<thead><tr><th scope=col>gutenberg_id</th><th scope=col>text</th></tr></thead>\n",
       "<tbody>\n",
       "\t<tr><td>22381                                   </td><td>_A HAND-BOOK OF MYTHOLOGY._             </td></tr>\n",
       "\t<tr><td>22381                                   </td><td>                                        </td></tr>\n",
       "\t<tr><td>22381                                   </td><td>       *       *       *       *       *</td></tr>\n",
       "\t<tr><td>22381                                   </td><td>                                        </td></tr>\n",
       "\t<tr><td>22381                                   </td><td>THE                                     </td></tr>\n",
       "\t<tr><td>22381                                   </td><td>                                        </td></tr>\n",
       "</tbody>\n",
       "</table>\n"
      ],
      "text/latex": [
       "\\begin{tabular}{r|ll}\n",
       " gutenberg\\_id & text\\\\\n",
       "\\hline\n",
       "\t 22381                                        & \\_A HAND-BOOK OF MYTHOLOGY.\\_             \\\\\n",
       "\t 22381                                    &                                         \\\\\n",
       "\t 22381                                    &        *       *       *       *       *\\\\\n",
       "\t 22381                                    &                                         \\\\\n",
       "\t 22381                                    & THE                                     \\\\\n",
       "\t 22381                                    &                                         \\\\\n",
       "\\end{tabular}\n"
      ],
      "text/markdown": [
       "\n",
       "| gutenberg_id | text |\n",
       "|---|---|\n",
       "| 22381                                    | _A HAND-BOOK OF MYTHOLOGY._              |\n",
       "| 22381                                    |                                          |\n",
       "| 22381                                    |        *       *       *       *       * |\n",
       "| 22381                                    |                                          |\n",
       "| 22381                                    | THE                                      |\n",
       "| 22381                                    |                                          |\n",
       "\n"
      ],
      "text/plain": [
       "  gutenberg_id text                                    \n",
       "1 22381        _A HAND-BOOK OF MYTHOLOGY._             \n",
       "2 22381                                                \n",
       "3 22381               *       *       *       *       *\n",
       "4 22381                                                \n",
       "5 22381        THE                                     \n",
       "6 22381                                                "
      ]
     },
     "metadata": {},
     "output_type": "display_data"
    }
   ],
   "source": [
    "head(text_df) #Shows the 6 first rows of each observation"
   ]
  },
  {
   "cell_type": "markdown",
   "metadata": {
    "slideshow": {
     "slide_type": "fragment"
    }
   },
   "source": [
    "We can check the names of the columns (the variable names) using `colnames`:"
   ]
  },
  {
   "cell_type": "code",
   "execution_count": 45,
   "metadata": {
    "slideshow": {
     "slide_type": "-"
    }
   },
   "outputs": [
    {
     "data": {
      "text/html": [
       "<ol class=list-inline>\n",
       "\t<li>'gutenberg_id'</li>\n",
       "\t<li>'text'</li>\n",
       "</ol>\n"
      ],
      "text/latex": [
       "\\begin{enumerate*}\n",
       "\\item 'gutenberg\\_id'\n",
       "\\item 'text'\n",
       "\\end{enumerate*}\n"
      ],
      "text/markdown": [
       "1. 'gutenberg_id'\n",
       "2. 'text'\n",
       "\n",
       "\n"
      ],
      "text/plain": [
       "[1] \"gutenberg_id\" \"text\"        "
      ]
     },
     "metadata": {},
     "output_type": "display_data"
    }
   ],
   "source": [
    "colnames(text_df)"
   ]
  },
  {
   "cell_type": "markdown",
   "metadata": {
    "slideshow": {
     "slide_type": "slide"
    }
   },
   "source": [
    "# BREAK\n",
    "\n",
    "![dog_plant](https://i.pinimg.com/originals/e0/ea/96/e0ea96a82a68cb3699f6aeaa9f1b8275.jpg)"
   ]
  },
  {
   "cell_type": "markdown",
   "metadata": {
    "slideshow": {
     "slide_type": "slide"
    }
   },
   "source": [
    "## Working with tidy text data\n",
    "The data frame does not make a lot of sense to work with in its current state.\n",
    "\n",
    "We can in a few simple steps create a new data frame containing counts of individual words."
   ]
  },
  {
   "cell_type": "code",
   "execution_count": 46,
   "metadata": {
    "slideshow": {
     "slide_type": "fragment"
    }
   },
   "outputs": [],
   "source": [
    "# Importing stopwords (commonly used words that are mostly void of meaning)\n",
    "data(stop_words) #the \"stop_words\" dataset is a part of the tidytext package"
   ]
  },
  {
   "cell_type": "code",
   "execution_count": 47,
   "metadata": {
    "slideshow": {
     "slide_type": "fragment"
    }
   },
   "outputs": [
    {
     "name": "stderr",
     "output_type": "stream",
     "text": [
      "Joining, by = \"word\"\n"
     ]
    }
   ],
   "source": [
    "# Unnesting tokens - similar to splitting. Splits individual words by default and converts to lower case\n",
    "tokens_df <- text_df %>% # Create object and \"pipe\" (%>%). This tells R to use the newly created object in the next line\n",
    "  unnest_tokens(word, text) %>% #unnest tokens. first arg is the new column, second is the old\n",
    "  anti_join(stop_words) #filters out rows containing stop words"
   ]
  },
  {
   "cell_type": "code",
   "execution_count": 48,
   "metadata": {
    "slideshow": {
     "slide_type": "fragment"
    }
   },
   "outputs": [
    {
     "data": {
      "text/html": [
       "<table>\n",
       "<thead><tr><th scope=col>gutenberg_id</th><th scope=col>word</th></tr></thead>\n",
       "<tbody>\n",
       "\t<tr><td>22381    </td><td>_a       </td></tr>\n",
       "\t<tr><td>22381    </td><td>hand     </td></tr>\n",
       "\t<tr><td>22381    </td><td>book     </td></tr>\n",
       "\t<tr><td>22381    </td><td>mythology</td></tr>\n",
       "\t<tr><td>22381    </td><td>myths    </td></tr>\n",
       "\t<tr><td>22381    </td><td>legends  </td></tr>\n",
       "</tbody>\n",
       "</table>\n"
      ],
      "text/latex": [
       "\\begin{tabular}{r|ll}\n",
       " gutenberg\\_id & word\\\\\n",
       "\\hline\n",
       "\t 22381       & \\_a       \\\\\n",
       "\t 22381     & hand     \\\\\n",
       "\t 22381     & book     \\\\\n",
       "\t 22381     & mythology\\\\\n",
       "\t 22381     & myths    \\\\\n",
       "\t 22381     & legends  \\\\\n",
       "\\end{tabular}\n"
      ],
      "text/markdown": [
       "\n",
       "| gutenberg_id | word |\n",
       "|---|---|\n",
       "| 22381     | _a        |\n",
       "| 22381     | hand      |\n",
       "| 22381     | book      |\n",
       "| 22381     | mythology |\n",
       "| 22381     | myths     |\n",
       "| 22381     | legends   |\n",
       "\n"
      ],
      "text/plain": [
       "  gutenberg_id word     \n",
       "1 22381        _a       \n",
       "2 22381        hand     \n",
       "3 22381        book     \n",
       "4 22381        mythology\n",
       "5 22381        myths    \n",
       "6 22381        legends  "
      ]
     },
     "metadata": {},
     "output_type": "display_data"
    }
   ],
   "source": [
    "# Print first 6 rows of new data - now a data frame with individual words as rows\n",
    "head(tokens_df)"
   ]
  },
  {
   "cell_type": "markdown",
   "metadata": {
    "slideshow": {
     "slide_type": "slide"
    }
   },
   "source": [
    "The `count` command counts up identical values and returns a data frame. This can then tell us the most common words in the text."
   ]
  },
  {
   "cell_type": "code",
   "execution_count": 49,
   "metadata": {
    "slideshow": {
     "slide_type": "-"
    }
   },
   "outputs": [
    {
     "data": {
      "text/html": [
       "<table>\n",
       "<thead><tr><th scope=col>word</th><th scope=col>n</th></tr></thead>\n",
       "<tbody>\n",
       "\t<tr><td>king    </td><td>232     </td></tr>\n",
       "\t<tr><td>zeus    </td><td>216     </td></tr>\n",
       "\t<tr><td>son     </td><td>209     </td></tr>\n",
       "\t<tr><td>gods    </td><td>199     </td></tr>\n",
       "\t<tr><td>god     </td><td>181     </td></tr>\n",
       "\t<tr><td>heracles</td><td>154     </td></tr>\n",
       "</tbody>\n",
       "</table>\n"
      ],
      "text/latex": [
       "\\begin{tabular}{r|ll}\n",
       " word & n\\\\\n",
       "\\hline\n",
       "\t king     & 232     \\\\\n",
       "\t zeus     & 216     \\\\\n",
       "\t son      & 209     \\\\\n",
       "\t gods     & 199     \\\\\n",
       "\t god      & 181     \\\\\n",
       "\t heracles & 154     \\\\\n",
       "\\end{tabular}\n"
      ],
      "text/markdown": [
       "\n",
       "| word | n |\n",
       "|---|---|\n",
       "| king     | 232      |\n",
       "| zeus     | 216      |\n",
       "| son      | 209      |\n",
       "| gods     | 199      |\n",
       "| god      | 181      |\n",
       "| heracles | 154      |\n",
       "\n"
      ],
      "text/plain": [
       "  word     n  \n",
       "1 king     232\n",
       "2 zeus     216\n",
       "3 son      209\n",
       "4 gods     199\n",
       "5 god      181\n",
       "6 heracles 154"
      ]
     },
     "metadata": {},
     "output_type": "display_data"
    }
   ],
   "source": [
    "tokens_count <- count(tokens_df, word, sort = TRUE)\n",
    "head(tokens_count)"
   ]
  },
  {
   "cell_type": "markdown",
   "metadata": {
    "slideshow": {
     "slide_type": "slide"
    }
   },
   "source": [
    "## Subsetting Data Frames\n",
    "Specific columns/variables can be called by their name using `$`:"
   ]
  },
  {
   "cell_type": "code",
   "execution_count": 50,
   "metadata": {
    "slideshow": {
     "slide_type": "-"
    }
   },
   "outputs": [
    {
     "data": {
      "text/html": [
       "<ol class=list-inline>\n",
       "\t<li>'king'</li>\n",
       "\t<li>'zeus'</li>\n",
       "\t<li>'son'</li>\n",
       "\t<li>'gods'</li>\n",
       "\t<li>'god'</li>\n",
       "\t<li>'heracles'</li>\n",
       "</ol>\n"
      ],
      "text/latex": [
       "\\begin{enumerate*}\n",
       "\\item 'king'\n",
       "\\item 'zeus'\n",
       "\\item 'son'\n",
       "\\item 'gods'\n",
       "\\item 'god'\n",
       "\\item 'heracles'\n",
       "\\end{enumerate*}\n"
      ],
      "text/markdown": [
       "1. 'king'\n",
       "2. 'zeus'\n",
       "3. 'son'\n",
       "4. 'gods'\n",
       "5. 'god'\n",
       "6. 'heracles'\n",
       "\n",
       "\n"
      ],
      "text/plain": [
       "[1] \"king\"     \"zeus\"     \"son\"      \"gods\"     \"god\"      \"heracles\""
      ]
     },
     "metadata": {},
     "output_type": "display_data"
    }
   ],
   "source": [
    "head(tokens_count$word) #6 first rows of the variable \"Miles per galon\""
   ]
  },
  {
   "cell_type": "markdown",
   "metadata": {
    "slideshow": {
     "slide_type": "fragment"
    }
   },
   "source": [
    "Data frames can also be subset via index: `[]` - either by index or column names:\n",
    "\n",
    "| Code | Description |\n",
    "|:-----|:------------|\n",
    "|`tokens_count[2, 1]` | Row 2, column 1 |\n",
    "|`tokens_count[2, \"n\"]` | Row 2, column \"n\" (column 2) |\n",
    "|`tokens_count[10, ]` | The entire 10th row |\n",
    "|`tokens_count[, 2]` | The entire 2nd column |"
   ]
  },
  {
   "cell_type": "markdown",
   "metadata": {
    "slideshow": {
     "slide_type": "subslide"
    }
   },
   "source": [
    "## Operations on a data frame\n",
    "Each column in a data frame works like a vector. Functions can therefore be used on data frame columns like they can be used on vectors:"
   ]
  },
  {
   "cell_type": "code",
   "execution_count": 51,
   "metadata": {
    "slideshow": {
     "slide_type": "fragment"
    }
   },
   "outputs": [
    {
     "data": {
      "text/html": [
       "<ol class=list-inline>\n",
       "\t<li>4</li>\n",
       "\t<li>4</li>\n",
       "\t<li>3</li>\n",
       "\t<li>4</li>\n",
       "\t<li>3</li>\n",
       "\t<li>8</li>\n",
       "</ol>\n"
      ],
      "text/latex": [
       "\\begin{enumerate*}\n",
       "\\item 4\n",
       "\\item 4\n",
       "\\item 3\n",
       "\\item 4\n",
       "\\item 3\n",
       "\\item 8\n",
       "\\end{enumerate*}\n"
      ],
      "text/markdown": [
       "1. 4\n",
       "2. 4\n",
       "3. 3\n",
       "4. 4\n",
       "5. 3\n",
       "6. 8\n",
       "\n",
       "\n"
      ],
      "text/plain": [
       "[1] 4 4 3 4 3 8"
      ]
     },
     "metadata": {},
     "output_type": "display_data"
    }
   ],
   "source": [
    "head(nchar(tokens_count$word))"
   ]
  },
  {
   "cell_type": "code",
   "execution_count": 52,
   "metadata": {
    "slideshow": {
     "slide_type": "fragment"
    }
   },
   "outputs": [
    {
     "data": {
      "text/html": [
       "<ol class=list-inline>\n",
       "\t<li>'world'</li>\n",
       "\t<li>'whilst'</li>\n",
       "\t<li>'wife'</li>\n",
       "\t<li>'war'</li>\n",
       "\t<li>'worship'</li>\n",
       "\t<li>'wine'</li>\n",
       "\t<li>'worshipped'</li>\n",
       "\t<li>'water'</li>\n",
       "\t<li>'wild'</li>\n",
       "\t<li>'waters'</li>\n",
       "\t<li>'winged'</li>\n",
       "\t<li>'walls'</li>\n",
       "\t<li>'wonderful'</li>\n",
       "\t<li>'warned'</li>\n",
       "\t<li>'winds'</li>\n",
       "\t<li>'waves'</li>\n",
       "\t<li>'woman'</li>\n",
       "\t<li>'women'</li>\n",
       "\t<li>'wounded'</li>\n",
       "\t<li>'wings'</li>\n",
       "\t<li>'wisdom'</li>\n",
       "\t<li>'words'</li>\n",
       "\t<li>'wound'</li>\n",
       "\t<li>'white'</li>\n",
       "\t<li>'weary'</li>\n",
       "\t<li>'west'</li>\n",
       "\t<li>'warriors'</li>\n",
       "\t<li>'wears'</li>\n",
       "\t<li>'welfare'</li>\n",
       "\t<li>'wooden'</li>\n",
       "\t<li>'wealth'</li>\n",
       "\t<li>'wind'</li>\n",
       "\t<li>'wood'</li>\n",
       "\t<li>'woods'</li>\n",
       "\t<li>'worthy'</li>\n",
       "\t<li>'wandered'</li>\n",
       "\t<li>'warlike'</li>\n",
       "\t<li>'watch'</li>\n",
       "\t<li>'wearing'</li>\n",
       "\t<li>'word'</li>\n",
       "\t<li>'wreath'</li>\n",
       "\t<li>'wooed'</li>\n",
       "\t<li>'wand'</li>\n",
       "\t<li>'watched'</li>\n",
       "\t<li>'wearied'</li>\n",
       "\t<li>'weather'</li>\n",
       "\t<li>'wicked'</li>\n",
       "\t<li>'worn'</li>\n",
       "\t<li>'wrath'</li>\n",
       "\t<li>'wallet'</li>\n",
       "\t<li>'winter'</li>\n",
       "\t<li>'wise'</li>\n",
       "\t<li>'wished'</li>\n",
       "\t<li>'won'</li>\n",
       "\t<li>'worshippers'</li>\n",
       "\t<li>'wrongs'</li>\n",
       "\t<li>'wealthy'</li>\n",
       "\t<li>'welcomed'</li>\n",
       "\t<li>'wore'</li>\n",
       "\t<li>'wrapt'</li>\n",
       "\t<li>'wrestling'</li>\n",
       "\t<li>'warm'</li>\n",
       "\t<li>'watchful'</li>\n",
       "\t<li>'weaving'</li>\n",
       "\t<li>'weighed'</li>\n",
       "\t<li>'wheat'</li>\n",
       "\t<li>'wheel'</li>\n",
       "\t<li>'wishing'</li>\n",
       "\t<li>'withstand'</li>\n",
       "\t<li>'witness'</li>\n",
       "\t<li>'witnessed'</li>\n",
       "\t<li>'wives'</li>\n",
       "\t<li>'workmanship'</li>\n",
       "\t<li>'wretched'</li>\n",
       "\t<li>'wafted'</li>\n",
       "\t<li>'wanderings'</li>\n",
       "\t<li>'warning'</li>\n",
       "\t<li>'warrior'</li>\n",
       "\t<li>'weapon'</li>\n",
       "\t<li>'wearer'</li>\n",
       "\t<li>'wearisome'</li>\n",
       "\t<li>'wedding'</li>\n",
       "\t<li>'weeping'</li>\n",
       "\t<li>'wept'</li>\n",
       "\t<li>'wide'</li>\n",
       "\t<li>'widowed'</li>\n",
       "\t<li>'win'</li>\n",
       "\t<li>'wolves'</li>\n",
       "\t<li>'wondering'</li>\n",
       "\t<li>'wonders'</li>\n",
       "\t<li>'woodland'</li>\n",
       "\t<li>'wrong'</li>\n",
       "\t<li>'waiting'</li>\n",
       "\t<li>'walking'</li>\n",
       "\t<li>'wanderer'</li>\n",
       "\t<li>'wandering'</li>\n",
       "\t<li>'warmly'</li>\n",
       "\t<li>'wash'</li>\n",
       "\t<li>'waste'</li>\n",
       "\t<li>'wasted'</li>\n",
       "\t<li>'watches'</li>\n",
       "\t<li>'watching'</li>\n",
       "\t<li>'wax'</li>\n",
       "\t<li>'weapons'</li>\n",
       "\t<li>'wear'</li>\n",
       "\t<li>'wedded'</li>\n",
       "\t<li>'weird'</li>\n",
       "\t<li>'wickedness'</li>\n",
       "\t<li>'widow'</li>\n",
       "\t<li>'wishes'</li>\n",
       "\t<li>'witchcraft'</li>\n",
       "\t<li>'withdrew'</li>\n",
       "\t<li>'woodpecker'</li>\n",
       "\t<li>'wounding'</li>\n",
       "\t<li>'wreaths'</li>\n",
       "\t<li>'writers'</li>\n",
       "\t<li>'waist'</li>\n",
       "\t<li>'wait'</li>\n",
       "\t<li>'walked'</li>\n",
       "\t<li>'wander'</li>\n",
       "\t<li>'warbled'</li>\n",
       "\t<li>'wares'</li>\n",
       "\t<li>'warfare'</li>\n",
       "\t<li>'warnings'</li>\n",
       "\t<li>'watered'</li>\n",
       "\t<li>'watery'</li>\n",
       "\t<li>'wayfarer'</li>\n",
       "\t<li>'weak'</li>\n",
       "\t<li>'weakness'</li>\n",
       "\t<li>'wended'</li>\n",
       "\t<li>'western'</li>\n",
       "\t<li>'whatsoever'</li>\n",
       "\t<li>'whereon'</li>\n",
       "\t<li>'whips'</li>\n",
       "\t<li>'whirlpool'</li>\n",
       "\t<li>'wicker'</li>\n",
       "\t<li>'widely'</li>\n",
       "\t<li>'wielded'</li>\n",
       "\t<li>'wig'</li>\n",
       "\t<li>'wildest'</li>\n",
       "\t<li>'wildly'</li>\n",
       "\t<li>'willingly'</li>\n",
       "\t<li>'winning'</li>\n",
       "\t<li>'wisely'</li>\n",
       "\t<li>'wisest'</li>\n",
       "\t<li>'withdrawn'</li>\n",
       "\t<li>'wits'</li>\n",
       "\t<li>'woe'</li>\n",
       "\t<li>'wolf'</li>\n",
       "\t<li>'womanhood'</li>\n",
       "\t<li>'wonderfully'</li>\n",
       "\t<li>'wondrous'</li>\n",
       "\t<li>'woody'</li>\n",
       "\t<li>'wool'</li>\n",
       "\t<li>'worker'</li>\n",
       "\t<li>'workings'</li>\n",
       "\t<li>'worshipper'</li>\n",
       "\t<li>'wounds'</li>\n",
       "\t<li>'wove'</li>\n",
       "\t<li>'woven'</li>\n",
       "\t<li>'wrapped'</li>\n",
       "\t<li>'wretch'</li>\n",
       "\t<li>'waft'</li>\n",
       "\t<li>'wagons'</li>\n",
       "\t<li>'waif'</li>\n",
       "\t<li>'waited'</li>\n",
       "\t<li>'wakeful'</li>\n",
       "\t<li>'walk'</li>\n",
       "\t<li>'walks'</li>\n",
       "\t<li>'warding'</li>\n",
       "\t<li>'wards'</li>\n",
       "\t<li>'warms'</li>\n",
       "\t<li>'warn'</li>\n",
       "\t<li>'wars'</li>\n",
       "\t<li>'washed'</li>\n",
       "\t<li>'washing'</li>\n",
       "\t<li>'waterfall'</li>\n",
       "\t<li>'waved'</li>\n",
       "\t<li>'waving'</li>\n",
       "\t<li>'wavy'</li>\n",
       "\t<li>'weakened'</li>\n",
       "\t<li>'weal'</li>\n",
       "\t<li>'weathers'</li>\n",
       "\t<li>'web'</li>\n",
       "\t<li>'weed'</li>\n",
       "\t<li>'weeds'</li>\n",
       "\t<li>'weighs'</li>\n",
       "\t<li>'weight'</li>\n",
       "\t<li>'wert'</li>\n",
       "\t<li>'wheels'</li>\n",
       "\t<li>'whichever'</li>\n",
       "\t<li>'whiling'</li>\n",
       "\t<li>'whipped'</li>\n",
       "\t<li>'whirlwind'</li>\n",
       "\t<li>'whisper'</li>\n",
       "\t<li>'whispered'</li>\n",
       "\t<li>'whizzing'</li>\n",
       "\t<li>'whomsoever'</li>\n",
       "\t<li>'whosoever'</li>\n",
       "\t<li>'widest'</li>\n",
       "\t<li>'wiles'</li>\n",
       "\t<li>'willingness'</li>\n",
       "\t<li>'willow'</li>\n",
       "\t<li>'wily'</li>\n",
       "\t<li>'winding'</li>\n",
       "\t<li>'wines'</li>\n",
       "\t<li>'wing'</li>\n",
       "\t<li>'wiser'</li>\n",
       "\t<li>'wit'</li>\n",
       "\t<li>'withdraw'</li>\n",
       "\t<li>'withdrawal'</li>\n",
       "\t<li>'withdrawing'</li>\n",
       "\t<li>'wither'</li>\n",
       "\t<li>'withheld'</li>\n",
       "\t<li>'withstood'</li>\n",
       "\t<li>'woes'</li>\n",
       "\t<li>'woman\\'s'</li>\n",
       "\t<li>'womanly'</li>\n",
       "\t<li>'wont'</li>\n",
       "\t<li>'workmen'</li>\n",
       "\t<li>'workshop'</li>\n",
       "\t<li>'worms'</li>\n",
       "\t<li>'worry'</li>\n",
       "\t<li>'worse'</li>\n",
       "\t<li>'worth'</li>\n",
       "\t<li>'worthily'</li>\n",
       "\t<li>'worthless'</li>\n",
       "\t<li>'worthlessness'</li>\n",
       "\t<li>'wouldst'</li>\n",
       "\t<li>'wrapping'</li>\n",
       "\t<li>'wreathed'</li>\n",
       "\t<li>'wreck'</li>\n",
       "\t<li>'wrest'</li>\n",
       "\t<li>'wrested'</li>\n",
       "\t<li>'wrestle'</li>\n",
       "\t<li>'wrestler'</li>\n",
       "\t<li>'wriggling'</li>\n",
       "\t<li>'writer'</li>\n",
       "\t<li>'written'</li>\n",
       "\t<li>'wrote'</li>\n",
       "\t<li>'wrought'</li>\n",
       "</ol>\n"
      ],
      "text/latex": [
       "\\begin{enumerate*}\n",
       "\\item 'world'\n",
       "\\item 'whilst'\n",
       "\\item 'wife'\n",
       "\\item 'war'\n",
       "\\item 'worship'\n",
       "\\item 'wine'\n",
       "\\item 'worshipped'\n",
       "\\item 'water'\n",
       "\\item 'wild'\n",
       "\\item 'waters'\n",
       "\\item 'winged'\n",
       "\\item 'walls'\n",
       "\\item 'wonderful'\n",
       "\\item 'warned'\n",
       "\\item 'winds'\n",
       "\\item 'waves'\n",
       "\\item 'woman'\n",
       "\\item 'women'\n",
       "\\item 'wounded'\n",
       "\\item 'wings'\n",
       "\\item 'wisdom'\n",
       "\\item 'words'\n",
       "\\item 'wound'\n",
       "\\item 'white'\n",
       "\\item 'weary'\n",
       "\\item 'west'\n",
       "\\item 'warriors'\n",
       "\\item 'wears'\n",
       "\\item 'welfare'\n",
       "\\item 'wooden'\n",
       "\\item 'wealth'\n",
       "\\item 'wind'\n",
       "\\item 'wood'\n",
       "\\item 'woods'\n",
       "\\item 'worthy'\n",
       "\\item 'wandered'\n",
       "\\item 'warlike'\n",
       "\\item 'watch'\n",
       "\\item 'wearing'\n",
       "\\item 'word'\n",
       "\\item 'wreath'\n",
       "\\item 'wooed'\n",
       "\\item 'wand'\n",
       "\\item 'watched'\n",
       "\\item 'wearied'\n",
       "\\item 'weather'\n",
       "\\item 'wicked'\n",
       "\\item 'worn'\n",
       "\\item 'wrath'\n",
       "\\item 'wallet'\n",
       "\\item 'winter'\n",
       "\\item 'wise'\n",
       "\\item 'wished'\n",
       "\\item 'won'\n",
       "\\item 'worshippers'\n",
       "\\item 'wrongs'\n",
       "\\item 'wealthy'\n",
       "\\item 'welcomed'\n",
       "\\item 'wore'\n",
       "\\item 'wrapt'\n",
       "\\item 'wrestling'\n",
       "\\item 'warm'\n",
       "\\item 'watchful'\n",
       "\\item 'weaving'\n",
       "\\item 'weighed'\n",
       "\\item 'wheat'\n",
       "\\item 'wheel'\n",
       "\\item 'wishing'\n",
       "\\item 'withstand'\n",
       "\\item 'witness'\n",
       "\\item 'witnessed'\n",
       "\\item 'wives'\n",
       "\\item 'workmanship'\n",
       "\\item 'wretched'\n",
       "\\item 'wafted'\n",
       "\\item 'wanderings'\n",
       "\\item 'warning'\n",
       "\\item 'warrior'\n",
       "\\item 'weapon'\n",
       "\\item 'wearer'\n",
       "\\item 'wearisome'\n",
       "\\item 'wedding'\n",
       "\\item 'weeping'\n",
       "\\item 'wept'\n",
       "\\item 'wide'\n",
       "\\item 'widowed'\n",
       "\\item 'win'\n",
       "\\item 'wolves'\n",
       "\\item 'wondering'\n",
       "\\item 'wonders'\n",
       "\\item 'woodland'\n",
       "\\item 'wrong'\n",
       "\\item 'waiting'\n",
       "\\item 'walking'\n",
       "\\item 'wanderer'\n",
       "\\item 'wandering'\n",
       "\\item 'warmly'\n",
       "\\item 'wash'\n",
       "\\item 'waste'\n",
       "\\item 'wasted'\n",
       "\\item 'watches'\n",
       "\\item 'watching'\n",
       "\\item 'wax'\n",
       "\\item 'weapons'\n",
       "\\item 'wear'\n",
       "\\item 'wedded'\n",
       "\\item 'weird'\n",
       "\\item 'wickedness'\n",
       "\\item 'widow'\n",
       "\\item 'wishes'\n",
       "\\item 'witchcraft'\n",
       "\\item 'withdrew'\n",
       "\\item 'woodpecker'\n",
       "\\item 'wounding'\n",
       "\\item 'wreaths'\n",
       "\\item 'writers'\n",
       "\\item 'waist'\n",
       "\\item 'wait'\n",
       "\\item 'walked'\n",
       "\\item 'wander'\n",
       "\\item 'warbled'\n",
       "\\item 'wares'\n",
       "\\item 'warfare'\n",
       "\\item 'warnings'\n",
       "\\item 'watered'\n",
       "\\item 'watery'\n",
       "\\item 'wayfarer'\n",
       "\\item 'weak'\n",
       "\\item 'weakness'\n",
       "\\item 'wended'\n",
       "\\item 'western'\n",
       "\\item 'whatsoever'\n",
       "\\item 'whereon'\n",
       "\\item 'whips'\n",
       "\\item 'whirlpool'\n",
       "\\item 'wicker'\n",
       "\\item 'widely'\n",
       "\\item 'wielded'\n",
       "\\item 'wig'\n",
       "\\item 'wildest'\n",
       "\\item 'wildly'\n",
       "\\item 'willingly'\n",
       "\\item 'winning'\n",
       "\\item 'wisely'\n",
       "\\item 'wisest'\n",
       "\\item 'withdrawn'\n",
       "\\item 'wits'\n",
       "\\item 'woe'\n",
       "\\item 'wolf'\n",
       "\\item 'womanhood'\n",
       "\\item 'wonderfully'\n",
       "\\item 'wondrous'\n",
       "\\item 'woody'\n",
       "\\item 'wool'\n",
       "\\item 'worker'\n",
       "\\item 'workings'\n",
       "\\item 'worshipper'\n",
       "\\item 'wounds'\n",
       "\\item 'wove'\n",
       "\\item 'woven'\n",
       "\\item 'wrapped'\n",
       "\\item 'wretch'\n",
       "\\item 'waft'\n",
       "\\item 'wagons'\n",
       "\\item 'waif'\n",
       "\\item 'waited'\n",
       "\\item 'wakeful'\n",
       "\\item 'walk'\n",
       "\\item 'walks'\n",
       "\\item 'warding'\n",
       "\\item 'wards'\n",
       "\\item 'warms'\n",
       "\\item 'warn'\n",
       "\\item 'wars'\n",
       "\\item 'washed'\n",
       "\\item 'washing'\n",
       "\\item 'waterfall'\n",
       "\\item 'waved'\n",
       "\\item 'waving'\n",
       "\\item 'wavy'\n",
       "\\item 'weakened'\n",
       "\\item 'weal'\n",
       "\\item 'weathers'\n",
       "\\item 'web'\n",
       "\\item 'weed'\n",
       "\\item 'weeds'\n",
       "\\item 'weighs'\n",
       "\\item 'weight'\n",
       "\\item 'wert'\n",
       "\\item 'wheels'\n",
       "\\item 'whichever'\n",
       "\\item 'whiling'\n",
       "\\item 'whipped'\n",
       "\\item 'whirlwind'\n",
       "\\item 'whisper'\n",
       "\\item 'whispered'\n",
       "\\item 'whizzing'\n",
       "\\item 'whomsoever'\n",
       "\\item 'whosoever'\n",
       "\\item 'widest'\n",
       "\\item 'wiles'\n",
       "\\item 'willingness'\n",
       "\\item 'willow'\n",
       "\\item 'wily'\n",
       "\\item 'winding'\n",
       "\\item 'wines'\n",
       "\\item 'wing'\n",
       "\\item 'wiser'\n",
       "\\item 'wit'\n",
       "\\item 'withdraw'\n",
       "\\item 'withdrawal'\n",
       "\\item 'withdrawing'\n",
       "\\item 'wither'\n",
       "\\item 'withheld'\n",
       "\\item 'withstood'\n",
       "\\item 'woes'\n",
       "\\item 'woman\\textbackslash{}'s'\n",
       "\\item 'womanly'\n",
       "\\item 'wont'\n",
       "\\item 'workmen'\n",
       "\\item 'workshop'\n",
       "\\item 'worms'\n",
       "\\item 'worry'\n",
       "\\item 'worse'\n",
       "\\item 'worth'\n",
       "\\item 'worthily'\n",
       "\\item 'worthless'\n",
       "\\item 'worthlessness'\n",
       "\\item 'wouldst'\n",
       "\\item 'wrapping'\n",
       "\\item 'wreathed'\n",
       "\\item 'wreck'\n",
       "\\item 'wrest'\n",
       "\\item 'wrested'\n",
       "\\item 'wrestle'\n",
       "\\item 'wrestler'\n",
       "\\item 'wriggling'\n",
       "\\item 'writer'\n",
       "\\item 'written'\n",
       "\\item 'wrote'\n",
       "\\item 'wrought'\n",
       "\\end{enumerate*}\n"
      ],
      "text/markdown": [
       "1. 'world'\n",
       "2. 'whilst'\n",
       "3. 'wife'\n",
       "4. 'war'\n",
       "5. 'worship'\n",
       "6. 'wine'\n",
       "7. 'worshipped'\n",
       "8. 'water'\n",
       "9. 'wild'\n",
       "10. 'waters'\n",
       "11. 'winged'\n",
       "12. 'walls'\n",
       "13. 'wonderful'\n",
       "14. 'warned'\n",
       "15. 'winds'\n",
       "16. 'waves'\n",
       "17. 'woman'\n",
       "18. 'women'\n",
       "19. 'wounded'\n",
       "20. 'wings'\n",
       "21. 'wisdom'\n",
       "22. 'words'\n",
       "23. 'wound'\n",
       "24. 'white'\n",
       "25. 'weary'\n",
       "26. 'west'\n",
       "27. 'warriors'\n",
       "28. 'wears'\n",
       "29. 'welfare'\n",
       "30. 'wooden'\n",
       "31. 'wealth'\n",
       "32. 'wind'\n",
       "33. 'wood'\n",
       "34. 'woods'\n",
       "35. 'worthy'\n",
       "36. 'wandered'\n",
       "37. 'warlike'\n",
       "38. 'watch'\n",
       "39. 'wearing'\n",
       "40. 'word'\n",
       "41. 'wreath'\n",
       "42. 'wooed'\n",
       "43. 'wand'\n",
       "44. 'watched'\n",
       "45. 'wearied'\n",
       "46. 'weather'\n",
       "47. 'wicked'\n",
       "48. 'worn'\n",
       "49. 'wrath'\n",
       "50. 'wallet'\n",
       "51. 'winter'\n",
       "52. 'wise'\n",
       "53. 'wished'\n",
       "54. 'won'\n",
       "55. 'worshippers'\n",
       "56. 'wrongs'\n",
       "57. 'wealthy'\n",
       "58. 'welcomed'\n",
       "59. 'wore'\n",
       "60. 'wrapt'\n",
       "61. 'wrestling'\n",
       "62. 'warm'\n",
       "63. 'watchful'\n",
       "64. 'weaving'\n",
       "65. 'weighed'\n",
       "66. 'wheat'\n",
       "67. 'wheel'\n",
       "68. 'wishing'\n",
       "69. 'withstand'\n",
       "70. 'witness'\n",
       "71. 'witnessed'\n",
       "72. 'wives'\n",
       "73. 'workmanship'\n",
       "74. 'wretched'\n",
       "75. 'wafted'\n",
       "76. 'wanderings'\n",
       "77. 'warning'\n",
       "78. 'warrior'\n",
       "79. 'weapon'\n",
       "80. 'wearer'\n",
       "81. 'wearisome'\n",
       "82. 'wedding'\n",
       "83. 'weeping'\n",
       "84. 'wept'\n",
       "85. 'wide'\n",
       "86. 'widowed'\n",
       "87. 'win'\n",
       "88. 'wolves'\n",
       "89. 'wondering'\n",
       "90. 'wonders'\n",
       "91. 'woodland'\n",
       "92. 'wrong'\n",
       "93. 'waiting'\n",
       "94. 'walking'\n",
       "95. 'wanderer'\n",
       "96. 'wandering'\n",
       "97. 'warmly'\n",
       "98. 'wash'\n",
       "99. 'waste'\n",
       "100. 'wasted'\n",
       "101. 'watches'\n",
       "102. 'watching'\n",
       "103. 'wax'\n",
       "104. 'weapons'\n",
       "105. 'wear'\n",
       "106. 'wedded'\n",
       "107. 'weird'\n",
       "108. 'wickedness'\n",
       "109. 'widow'\n",
       "110. 'wishes'\n",
       "111. 'witchcraft'\n",
       "112. 'withdrew'\n",
       "113. 'woodpecker'\n",
       "114. 'wounding'\n",
       "115. 'wreaths'\n",
       "116. 'writers'\n",
       "117. 'waist'\n",
       "118. 'wait'\n",
       "119. 'walked'\n",
       "120. 'wander'\n",
       "121. 'warbled'\n",
       "122. 'wares'\n",
       "123. 'warfare'\n",
       "124. 'warnings'\n",
       "125. 'watered'\n",
       "126. 'watery'\n",
       "127. 'wayfarer'\n",
       "128. 'weak'\n",
       "129. 'weakness'\n",
       "130. 'wended'\n",
       "131. 'western'\n",
       "132. 'whatsoever'\n",
       "133. 'whereon'\n",
       "134. 'whips'\n",
       "135. 'whirlpool'\n",
       "136. 'wicker'\n",
       "137. 'widely'\n",
       "138. 'wielded'\n",
       "139. 'wig'\n",
       "140. 'wildest'\n",
       "141. 'wildly'\n",
       "142. 'willingly'\n",
       "143. 'winning'\n",
       "144. 'wisely'\n",
       "145. 'wisest'\n",
       "146. 'withdrawn'\n",
       "147. 'wits'\n",
       "148. 'woe'\n",
       "149. 'wolf'\n",
       "150. 'womanhood'\n",
       "151. 'wonderfully'\n",
       "152. 'wondrous'\n",
       "153. 'woody'\n",
       "154. 'wool'\n",
       "155. 'worker'\n",
       "156. 'workings'\n",
       "157. 'worshipper'\n",
       "158. 'wounds'\n",
       "159. 'wove'\n",
       "160. 'woven'\n",
       "161. 'wrapped'\n",
       "162. 'wretch'\n",
       "163. 'waft'\n",
       "164. 'wagons'\n",
       "165. 'waif'\n",
       "166. 'waited'\n",
       "167. 'wakeful'\n",
       "168. 'walk'\n",
       "169. 'walks'\n",
       "170. 'warding'\n",
       "171. 'wards'\n",
       "172. 'warms'\n",
       "173. 'warn'\n",
       "174. 'wars'\n",
       "175. 'washed'\n",
       "176. 'washing'\n",
       "177. 'waterfall'\n",
       "178. 'waved'\n",
       "179. 'waving'\n",
       "180. 'wavy'\n",
       "181. 'weakened'\n",
       "182. 'weal'\n",
       "183. 'weathers'\n",
       "184. 'web'\n",
       "185. 'weed'\n",
       "186. 'weeds'\n",
       "187. 'weighs'\n",
       "188. 'weight'\n",
       "189. 'wert'\n",
       "190. 'wheels'\n",
       "191. 'whichever'\n",
       "192. 'whiling'\n",
       "193. 'whipped'\n",
       "194. 'whirlwind'\n",
       "195. 'whisper'\n",
       "196. 'whispered'\n",
       "197. 'whizzing'\n",
       "198. 'whomsoever'\n",
       "199. 'whosoever'\n",
       "200. 'widest'\n",
       "201. 'wiles'\n",
       "202. 'willingness'\n",
       "203. 'willow'\n",
       "204. 'wily'\n",
       "205. 'winding'\n",
       "206. 'wines'\n",
       "207. 'wing'\n",
       "208. 'wiser'\n",
       "209. 'wit'\n",
       "210. 'withdraw'\n",
       "211. 'withdrawal'\n",
       "212. 'withdrawing'\n",
       "213. 'wither'\n",
       "214. 'withheld'\n",
       "215. 'withstood'\n",
       "216. 'woes'\n",
       "217. 'woman\\'s'\n",
       "218. 'womanly'\n",
       "219. 'wont'\n",
       "220. 'workmen'\n",
       "221. 'workshop'\n",
       "222. 'worms'\n",
       "223. 'worry'\n",
       "224. 'worse'\n",
       "225. 'worth'\n",
       "226. 'worthily'\n",
       "227. 'worthless'\n",
       "228. 'worthlessness'\n",
       "229. 'wouldst'\n",
       "230. 'wrapping'\n",
       "231. 'wreathed'\n",
       "232. 'wreck'\n",
       "233. 'wrest'\n",
       "234. 'wrested'\n",
       "235. 'wrestle'\n",
       "236. 'wrestler'\n",
       "237. 'wriggling'\n",
       "238. 'writer'\n",
       "239. 'written'\n",
       "240. 'wrote'\n",
       "241. 'wrought'\n",
       "\n",
       "\n"
      ],
      "text/plain": [
       "  [1] \"world\"         \"whilst\"        \"wife\"          \"war\"          \n",
       "  [5] \"worship\"       \"wine\"          \"worshipped\"    \"water\"        \n",
       "  [9] \"wild\"          \"waters\"        \"winged\"        \"walls\"        \n",
       " [13] \"wonderful\"     \"warned\"        \"winds\"         \"waves\"        \n",
       " [17] \"woman\"         \"women\"         \"wounded\"       \"wings\"        \n",
       " [21] \"wisdom\"        \"words\"         \"wound\"         \"white\"        \n",
       " [25] \"weary\"         \"west\"          \"warriors\"      \"wears\"        \n",
       " [29] \"welfare\"       \"wooden\"        \"wealth\"        \"wind\"         \n",
       " [33] \"wood\"          \"woods\"         \"worthy\"        \"wandered\"     \n",
       " [37] \"warlike\"       \"watch\"         \"wearing\"       \"word\"         \n",
       " [41] \"wreath\"        \"wooed\"         \"wand\"          \"watched\"      \n",
       " [45] \"wearied\"       \"weather\"       \"wicked\"        \"worn\"         \n",
       " [49] \"wrath\"         \"wallet\"        \"winter\"        \"wise\"         \n",
       " [53] \"wished\"        \"won\"           \"worshippers\"   \"wrongs\"       \n",
       " [57] \"wealthy\"       \"welcomed\"      \"wore\"          \"wrapt\"        \n",
       " [61] \"wrestling\"     \"warm\"          \"watchful\"      \"weaving\"      \n",
       " [65] \"weighed\"       \"wheat\"         \"wheel\"         \"wishing\"      \n",
       " [69] \"withstand\"     \"witness\"       \"witnessed\"     \"wives\"        \n",
       " [73] \"workmanship\"   \"wretched\"      \"wafted\"        \"wanderings\"   \n",
       " [77] \"warning\"       \"warrior\"       \"weapon\"        \"wearer\"       \n",
       " [81] \"wearisome\"     \"wedding\"       \"weeping\"       \"wept\"         \n",
       " [85] \"wide\"          \"widowed\"       \"win\"           \"wolves\"       \n",
       " [89] \"wondering\"     \"wonders\"       \"woodland\"      \"wrong\"        \n",
       " [93] \"waiting\"       \"walking\"       \"wanderer\"      \"wandering\"    \n",
       " [97] \"warmly\"        \"wash\"          \"waste\"         \"wasted\"       \n",
       "[101] \"watches\"       \"watching\"      \"wax\"           \"weapons\"      \n",
       "[105] \"wear\"          \"wedded\"        \"weird\"         \"wickedness\"   \n",
       "[109] \"widow\"         \"wishes\"        \"witchcraft\"    \"withdrew\"     \n",
       "[113] \"woodpecker\"    \"wounding\"      \"wreaths\"       \"writers\"      \n",
       "[117] \"waist\"         \"wait\"          \"walked\"        \"wander\"       \n",
       "[121] \"warbled\"       \"wares\"         \"warfare\"       \"warnings\"     \n",
       "[125] \"watered\"       \"watery\"        \"wayfarer\"      \"weak\"         \n",
       "[129] \"weakness\"      \"wended\"        \"western\"       \"whatsoever\"   \n",
       "[133] \"whereon\"       \"whips\"         \"whirlpool\"     \"wicker\"       \n",
       "[137] \"widely\"        \"wielded\"       \"wig\"           \"wildest\"      \n",
       "[141] \"wildly\"        \"willingly\"     \"winning\"       \"wisely\"       \n",
       "[145] \"wisest\"        \"withdrawn\"     \"wits\"          \"woe\"          \n",
       "[149] \"wolf\"          \"womanhood\"     \"wonderfully\"   \"wondrous\"     \n",
       "[153] \"woody\"         \"wool\"          \"worker\"        \"workings\"     \n",
       "[157] \"worshipper\"    \"wounds\"        \"wove\"          \"woven\"        \n",
       "[161] \"wrapped\"       \"wretch\"        \"waft\"          \"wagons\"       \n",
       "[165] \"waif\"          \"waited\"        \"wakeful\"       \"walk\"         \n",
       "[169] \"walks\"         \"warding\"       \"wards\"         \"warms\"        \n",
       "[173] \"warn\"          \"wars\"          \"washed\"        \"washing\"      \n",
       "[177] \"waterfall\"     \"waved\"         \"waving\"        \"wavy\"         \n",
       "[181] \"weakened\"      \"weal\"          \"weathers\"      \"web\"          \n",
       "[185] \"weed\"          \"weeds\"         \"weighs\"        \"weight\"       \n",
       "[189] \"wert\"          \"wheels\"        \"whichever\"     \"whiling\"      \n",
       "[193] \"whipped\"       \"whirlwind\"     \"whisper\"       \"whispered\"    \n",
       "[197] \"whizzing\"      \"whomsoever\"    \"whosoever\"     \"widest\"       \n",
       "[201] \"wiles\"         \"willingness\"   \"willow\"        \"wily\"         \n",
       "[205] \"winding\"       \"wines\"         \"wing\"          \"wiser\"        \n",
       "[209] \"wit\"           \"withdraw\"      \"withdrawal\"    \"withdrawing\"  \n",
       "[213] \"wither\"        \"withheld\"      \"withstood\"     \"woes\"         \n",
       "[217] \"woman's\"       \"womanly\"       \"wont\"          \"workmen\"      \n",
       "[221] \"workshop\"      \"worms\"         \"worry\"         \"worse\"        \n",
       "[225] \"worth\"         \"worthily\"      \"worthless\"     \"worthlessness\"\n",
       "[229] \"wouldst\"       \"wrapping\"      \"wreathed\"      \"wreck\"        \n",
       "[233] \"wrest\"         \"wrested\"       \"wrestle\"       \"wrestler\"     \n",
       "[237] \"wriggling\"     \"writer\"        \"written\"       \"wrote\"        \n",
       "[241] \"wrought\"      "
      ]
     },
     "metadata": {},
     "output_type": "display_data"
    }
   ],
   "source": [
    "str_subset(tokens_count$word, \"^w\")"
   ]
  },
  {
   "cell_type": "markdown",
   "metadata": {
    "slideshow": {
     "slide_type": "slide"
    }
   },
   "source": [
    "## Creating variables\n",
    "Variables can be added to a data frame using the operator `$` and calling a name not yet used in the data frame:"
   ]
  },
  {
   "cell_type": "code",
   "execution_count": 53,
   "metadata": {
    "slideshow": {
     "slide_type": "-"
    }
   },
   "outputs": [
    {
     "data": {
      "text/html": [
       "<table>\n",
       "<thead><tr><th scope=col>word</th><th scope=col>n</th><th scope=col>nchar</th></tr></thead>\n",
       "<tbody>\n",
       "\t<tr><td>king    </td><td>232     </td><td>4       </td></tr>\n",
       "\t<tr><td>zeus    </td><td>216     </td><td>4       </td></tr>\n",
       "\t<tr><td>son     </td><td>209     </td><td>3       </td></tr>\n",
       "\t<tr><td>gods    </td><td>199     </td><td>4       </td></tr>\n",
       "\t<tr><td>god     </td><td>181     </td><td>3       </td></tr>\n",
       "\t<tr><td>heracles</td><td>154     </td><td>8       </td></tr>\n",
       "</tbody>\n",
       "</table>\n"
      ],
      "text/latex": [
       "\\begin{tabular}{r|lll}\n",
       " word & n & nchar\\\\\n",
       "\\hline\n",
       "\t king     & 232      & 4       \\\\\n",
       "\t zeus     & 216      & 4       \\\\\n",
       "\t son      & 209      & 3       \\\\\n",
       "\t gods     & 199      & 4       \\\\\n",
       "\t god      & 181      & 3       \\\\\n",
       "\t heracles & 154      & 8       \\\\\n",
       "\\end{tabular}\n"
      ],
      "text/markdown": [
       "\n",
       "| word | n | nchar |\n",
       "|---|---|---|\n",
       "| king     | 232      | 4        |\n",
       "| zeus     | 216      | 4        |\n",
       "| son      | 209      | 3        |\n",
       "| gods     | 199      | 4        |\n",
       "| god      | 181      | 3        |\n",
       "| heracles | 154      | 8        |\n",
       "\n"
      ],
      "text/plain": [
       "  word     n   nchar\n",
       "1 king     232 4    \n",
       "2 zeus     216 4    \n",
       "3 son      209 3    \n",
       "4 gods     199 4    \n",
       "5 god      181 3    \n",
       "6 heracles 154 8    "
      ]
     },
     "metadata": {},
     "output_type": "display_data"
    }
   ],
   "source": [
    "tokens_count$nchar <- nchar(tokens_count$word)\n",
    "head(tokens_count)"
   ]
  },
  {
   "cell_type": "markdown",
   "metadata": {
    "slideshow": {
     "slide_type": "subslide"
    }
   },
   "source": [
    "Alternatively, do it the tidyverse way with mutate:"
   ]
  },
  {
   "cell_type": "code",
   "execution_count": 54,
   "metadata": {
    "slideshow": {
     "slide_type": "-"
    }
   },
   "outputs": [
    {
     "data": {
      "text/html": [
       "<table>\n",
       "<thead><tr><th scope=col>word</th><th scope=col>n</th><th scope=col>nchar</th></tr></thead>\n",
       "<tbody>\n",
       "\t<tr><td>king    </td><td>232     </td><td>4       </td></tr>\n",
       "\t<tr><td>zeus    </td><td>216     </td><td>4       </td></tr>\n",
       "\t<tr><td>son     </td><td>209     </td><td>3       </td></tr>\n",
       "\t<tr><td>gods    </td><td>199     </td><td>4       </td></tr>\n",
       "\t<tr><td>god     </td><td>181     </td><td>3       </td></tr>\n",
       "\t<tr><td>heracles</td><td>154     </td><td>8       </td></tr>\n",
       "</tbody>\n",
       "</table>\n"
      ],
      "text/latex": [
       "\\begin{tabular}{r|lll}\n",
       " word & n & nchar\\\\\n",
       "\\hline\n",
       "\t king     & 232      & 4       \\\\\n",
       "\t zeus     & 216      & 4       \\\\\n",
       "\t son      & 209      & 3       \\\\\n",
       "\t gods     & 199      & 4       \\\\\n",
       "\t god      & 181      & 3       \\\\\n",
       "\t heracles & 154      & 8       \\\\\n",
       "\\end{tabular}\n"
      ],
      "text/markdown": [
       "\n",
       "| word | n | nchar |\n",
       "|---|---|---|\n",
       "| king     | 232      | 4        |\n",
       "| zeus     | 216      | 4        |\n",
       "| son      | 209      | 3        |\n",
       "| gods     | 199      | 4        |\n",
       "| god      | 181      | 3        |\n",
       "| heracles | 154      | 8        |\n",
       "\n"
      ],
      "text/plain": [
       "  word     n   nchar\n",
       "1 king     232 4    \n",
       "2 zeus     216 4    \n",
       "3 son      209 3    \n",
       "4 gods     199 4    \n",
       "5 god      181 3    \n",
       "6 heracles 154 8    "
      ]
     },
     "metadata": {},
     "output_type": "display_data"
    }
   ],
   "source": [
    "tokens_count <- mutate(tokens_count, nchar = nchar(word))\n",
    "head(tokens_count)"
   ]
  },
  {
   "cell_type": "markdown",
   "metadata": {
    "slideshow": {
     "slide_type": "slide"
    }
   },
   "source": [
    "## Subsetting the tidyverse way\n",
    "\n",
    "The command `filter()` can be used to only return rows meeting a certain criteria."
   ]
  },
  {
   "cell_type": "code",
   "execution_count": 55,
   "metadata": {
    "slideshow": {
     "slide_type": "fragment"
    }
   },
   "outputs": [
    {
     "data": {
      "text/html": [
       "<table>\n",
       "<thead><tr><th scope=col>word</th><th scope=col>n</th><th scope=col>nchar</th></tr></thead>\n",
       "<tbody>\n",
       "\t<tr><td>heracles </td><td>154      </td><td>8        </td></tr>\n",
       "\t<tr><td>called   </td><td>152      </td><td>6        </td></tr>\n",
       "\t<tr><td>apollo   </td><td>133      </td><td>6        </td></tr>\n",
       "\t<tr><td>father   </td><td>126      </td><td>6        </td></tr>\n",
       "\t<tr><td>beautiful</td><td>120      </td><td>9        </td></tr>\n",
       "\t<tr><td>daughter </td><td>112      </td><td>8        </td></tr>\n",
       "</tbody>\n",
       "</table>\n"
      ],
      "text/latex": [
       "\\begin{tabular}{r|lll}\n",
       " word & n & nchar\\\\\n",
       "\\hline\n",
       "\t heracles  & 154       & 8        \\\\\n",
       "\t called    & 152       & 6        \\\\\n",
       "\t apollo    & 133       & 6        \\\\\n",
       "\t father    & 126       & 6        \\\\\n",
       "\t beautiful & 120       & 9        \\\\\n",
       "\t daughter  & 112       & 8        \\\\\n",
       "\\end{tabular}\n"
      ],
      "text/markdown": [
       "\n",
       "| word | n | nchar |\n",
       "|---|---|---|\n",
       "| heracles  | 154       | 8         |\n",
       "| called    | 152       | 6         |\n",
       "| apollo    | 133       | 6         |\n",
       "| father    | 126       | 6         |\n",
       "| beautiful | 120       | 9         |\n",
       "| daughter  | 112       | 8         |\n",
       "\n"
      ],
      "text/plain": [
       "  word      n   nchar\n",
       "1 heracles  154 8    \n",
       "2 called    152 6    \n",
       "3 apollo    133 6    \n",
       "4 father    126 6    \n",
       "5 beautiful 120 9    \n",
       "6 daughter  112 8    "
      ]
     },
     "metadata": {},
     "output_type": "display_data"
    }
   ],
   "source": [
    "# Filtering rows with word longer than 4 characters\n",
    "tokens_filter <- tokens_count %>%\n",
    "    filter(nchar > 4)\n",
    "\n",
    "head(tokens_filter)"
   ]
  },
  {
   "cell_type": "markdown",
   "metadata": {
    "slideshow": {
     "slide_type": "slide"
    }
   },
   "source": [
    "Filter keeps all rows where the evaluated statement returns `True`. This means we can use other commands like `str_detect` to filter."
   ]
  },
  {
   "cell_type": "code",
   "execution_count": 56,
   "metadata": {
    "slideshow": {
     "slide_type": "-"
    }
   },
   "outputs": [
    {
     "data": {
      "text/html": [
       "<table>\n",
       "<thead><tr><th scope=col>word</th><th scope=col>n</th><th scope=col>nchar</th></tr></thead>\n",
       "<tbody>\n",
       "\t<tr><td>world  </td><td>96     </td><td>5      </td></tr>\n",
       "\t<tr><td>whilst </td><td>94     </td><td>6      </td></tr>\n",
       "\t<tr><td>wife   </td><td>73     </td><td>4      </td></tr>\n",
       "\t<tr><td>war    </td><td>67     </td><td>3      </td></tr>\n",
       "\t<tr><td>worship</td><td>54     </td><td>7      </td></tr>\n",
       "\t<tr><td>wine   </td><td>43     </td><td>4      </td></tr>\n",
       "</tbody>\n",
       "</table>\n"
      ],
      "text/latex": [
       "\\begin{tabular}{r|lll}\n",
       " word & n & nchar\\\\\n",
       "\\hline\n",
       "\t world   & 96      & 5      \\\\\n",
       "\t whilst  & 94      & 6      \\\\\n",
       "\t wife    & 73      & 4      \\\\\n",
       "\t war     & 67      & 3      \\\\\n",
       "\t worship & 54      & 7      \\\\\n",
       "\t wine    & 43      & 4      \\\\\n",
       "\\end{tabular}\n"
      ],
      "text/markdown": [
       "\n",
       "| word | n | nchar |\n",
       "|---|---|---|\n",
       "| world   | 96      | 5       |\n",
       "| whilst  | 94      | 6       |\n",
       "| wife    | 73      | 4       |\n",
       "| war     | 67      | 3       |\n",
       "| worship | 54      | 7       |\n",
       "| wine    | 43      | 4       |\n",
       "\n"
      ],
      "text/plain": [
       "  word    n  nchar\n",
       "1 world   96 5    \n",
       "2 whilst  94 6    \n",
       "3 wife    73 4    \n",
       "4 war     67 3    \n",
       "5 worship 54 7    \n",
       "6 wine    43 4    "
      ]
     },
     "metadata": {},
     "output_type": "display_data"
    }
   ],
   "source": [
    "# Filtering rows with word starting with a \"w\" - \"^\" is regular expression for \"starts with\"\n",
    "tokens_filter <- tokens_count %>%\n",
    "    filter(str_detect(word, \"^w\"))\n",
    "\n",
    "head(tokens_filter)"
   ]
  },
  {
   "cell_type": "markdown",
   "metadata": {
    "slideshow": {
     "slide_type": "slide"
    }
   },
   "source": [
    "# The R Help Files\n",
    "All R functions and commands are thoroughly documented so you do not have to remember what every function does or even how it should be written.\n",
    "\n",
    "Every function and command in R has its own help file. The help file describes how to use the various functions and commands.\n",
    "\n",
    "The help file for a specific function is accessed using the operator `?` (also works for the built-in datasets):"
   ]
  },
  {
   "cell_type": "code",
   "execution_count": 57,
   "metadata": {
    "slideshow": {
     "slide_type": "-"
    }
   },
   "outputs": [],
   "source": [
    "?sum"
   ]
  },
  {
   "cell_type": "markdown",
   "metadata": {
    "slideshow": {
     "slide_type": "fragment"
    }
   },
   "source": [
    "When in doubt, just look up the help file."
   ]
  },
  {
   "cell_type": "markdown",
   "metadata": {
    "slideshow": {
     "slide_type": "slide"
    }
   },
   "source": [
    "# EXERCISE 5: SIMPLE TEXT MINING\n",
    "You will be repeating a lot of the same steps as you just saw. The goal is to figure out what names are used the most in the text \"Pagan and Christian Rome\" by Rodolfo Lanciani.\n",
    "\n",
    "You can download these slides at: https://forskning.moodle.aau.dk/course/view.php?id=4 (select \"CAS\" and login), if you want to go back and look at the previous slides.\n",
    "\n",
    "1. Load the text \"Pagan and Christian Rome\" from gutenberg into an object using `gutenberg_download(22153)`\n",
    "2. Use `unnest_tokens()` to convert the text to word tokens *without* converting to lower case (consult the help file with `?()` to see what option to change)\n",
    "3. Use `count` to create a data frame with the word tokens counted: `count(df, word, sort = TRUE)`\n",
    "4. Combine `filter()` and `str_detect()` to only keep words starting with uppercase letter (use the pattern \"^[A-Z]\") \n",
    "5. Determine the most mentioned names (if you sorted the data, you can just print the top rows with `head()`\n",
    "\n",
    "**Bonus (for a better result)**\n",
    "1. Try using `filter()` and `nchar()` to only keep words longer than 3 characters."
   ]
  },
  {
   "cell_type": "code",
   "execution_count": 58,
   "metadata": {
    "slideshow": {
     "slide_type": "subslide"
    }
   },
   "outputs": [],
   "source": [
    "paga_text <- gutenberg_download(22153)"
   ]
  },
  {
   "cell_type": "code",
   "execution_count": 59,
   "metadata": {
    "slideshow": {
     "slide_type": "-"
    }
   },
   "outputs": [
    {
     "data": {
      "text/html": [
       "<table>\n",
       "<thead><tr><th scope=col>word</th><th scope=col>n</th></tr></thead>\n",
       "<tbody>\n",
       "\t<tr><td>The </td><td>1149</td></tr>\n",
       "\t<tr><td>S   </td><td> 608</td></tr>\n",
       "\t<tr><td>Rome</td><td> 326</td></tr>\n",
       "\t<tr><td>I   </td><td> 285</td></tr>\n",
       "\t<tr><td>In  </td><td> 188</td></tr>\n",
       "\t<tr><td>It  </td><td> 186</td></tr>\n",
       "</tbody>\n",
       "</table>\n"
      ],
      "text/latex": [
       "\\begin{tabular}{r|ll}\n",
       " word & n\\\\\n",
       "\\hline\n",
       "\t The  & 1149\\\\\n",
       "\t S    &  608\\\\\n",
       "\t Rome &  326\\\\\n",
       "\t I    &  285\\\\\n",
       "\t In   &  188\\\\\n",
       "\t It   &  186\\\\\n",
       "\\end{tabular}\n"
      ],
      "text/markdown": [
       "\n",
       "| word | n |\n",
       "|---|---|\n",
       "| The  | 1149 |\n",
       "| S    |  608 |\n",
       "| Rome |  326 |\n",
       "| I    |  285 |\n",
       "| In   |  188 |\n",
       "| It   |  186 |\n",
       "\n"
      ],
      "text/plain": [
       "  word n   \n",
       "1 The  1149\n",
       "2 S     608\n",
       "3 Rome  326\n",
       "4 I     285\n",
       "5 In    188\n",
       "6 It    186"
      ]
     },
     "metadata": {},
     "output_type": "display_data"
    }
   ],
   "source": [
    "paga_tokens <- paga_text %>%\n",
    "    unnest_tokens(word, text, to_lower = FALSE) %>%\n",
    "    count(word, sort = TRUE) %>%\n",
    "    filter(str_detect(word, \"^[A-Z]\"))\n",
    "\n",
    "head(paga_tokens)"
   ]
  },
  {
   "cell_type": "code",
   "execution_count": 60,
   "metadata": {
    "slideshow": {
     "slide_type": "subslide"
    }
   },
   "outputs": [
    {
     "data": {
      "text/html": [
       "<table>\n",
       "<thead><tr><th scope=col>word</th><th scope=col>n</th></tr></thead>\n",
       "<tbody>\n",
       "\t<tr><td>Rome        </td><td>326         </td></tr>\n",
       "\t<tr><td>Christian   </td><td>135         </td></tr>\n",
       "\t<tr><td>Pope        </td><td>135         </td></tr>\n",
       "\t<tr><td>Illustration</td><td>124         </td></tr>\n",
       "\t<tr><td>Roman       </td><td>113         </td></tr>\n",
       "\t<tr><td>This        </td><td>110         </td></tr>\n",
       "</tbody>\n",
       "</table>\n"
      ],
      "text/latex": [
       "\\begin{tabular}{r|ll}\n",
       " word & n\\\\\n",
       "\\hline\n",
       "\t Rome         & 326         \\\\\n",
       "\t Christian    & 135         \\\\\n",
       "\t Pope         & 135         \\\\\n",
       "\t Illustration & 124         \\\\\n",
       "\t Roman        & 113         \\\\\n",
       "\t This         & 110         \\\\\n",
       "\\end{tabular}\n"
      ],
      "text/markdown": [
       "\n",
       "| word | n |\n",
       "|---|---|\n",
       "| Rome         | 326          |\n",
       "| Christian    | 135          |\n",
       "| Pope         | 135          |\n",
       "| Illustration | 124          |\n",
       "| Roman        | 113          |\n",
       "| This         | 110          |\n",
       "\n"
      ],
      "text/plain": [
       "  word         n  \n",
       "1 Rome         326\n",
       "2 Christian    135\n",
       "3 Pope         135\n",
       "4 Illustration 124\n",
       "5 Roman        113\n",
       "6 This         110"
      ]
     },
     "metadata": {},
     "output_type": "display_data"
    }
   ],
   "source": [
    "paga_tokens <- paga_text %>%\n",
    "    unnest_tokens(word, text, to_lower = FALSE) %>%\n",
    "    count(word, sort = TRUE) %>%\n",
    "    filter(str_detect(word, \"^[A-Z]\")) %>%\n",
    "    filter(nchar(word) > 3)\n",
    "\n",
    "head(paga_tokens)"
   ]
  },
  {
   "cell_type": "markdown",
   "metadata": {
    "slideshow": {
     "slide_type": "slide"
    }
   },
   "source": [
    "# Reading data from Excel: The `readxl` package\n",
    "R can read in data from Excel with the `readxl` package.\n",
    "\n",
    "The command belows reads a Excel file into an R object:"
   ]
  },
  {
   "cell_type": "code",
   "execution_count": 61,
   "metadata": {
    "slideshow": {
     "slide_type": "skip"
    }
   },
   "outputs": [],
   "source": [
    "library(readxl)"
   ]
  },
  {
   "cell_type": "code",
   "execution_count": 62,
   "metadata": {
    "slideshow": {
     "slide_type": "-"
    }
   },
   "outputs": [],
   "source": [
    "runaways <- read_excel(\"runaways_exampledata.xlsx\")"
   ]
  },
  {
   "cell_type": "markdown",
   "metadata": {
    "slideshow": {
     "slide_type": "fragment"
    }
   },
   "source": [
    "The data is now loaded into R as a dataframe:"
   ]
  },
  {
   "cell_type": "code",
   "execution_count": 63,
   "metadata": {
    "slideshow": {
     "slide_type": "-"
    }
   },
   "outputs": [
    {
     "data": {
      "text/html": [
       "<ol class=list-inline>\n",
       "\t<li>253</li>\n",
       "\t<li>5</li>\n",
       "</ol>\n"
      ],
      "text/latex": [
       "\\begin{enumerate*}\n",
       "\\item 253\n",
       "\\item 5\n",
       "\\end{enumerate*}\n"
      ],
      "text/markdown": [
       "1. 253\n",
       "2. 5\n",
       "\n",
       "\n"
      ],
      "text/plain": [
       "[1] 253   5"
      ]
     },
     "metadata": {},
     "output_type": "display_data"
    },
    {
     "data": {
      "text/html": [
       "<table>\n",
       "<thead><tr><th scope=col>name</th><th scope=col>id</th><th scope=col>registered</th><th scope=col>escaped</th><th scope=col>returned</th></tr></thead>\n",
       "<tbody>\n",
       "\t<tr><td>Peter vesmand            </td><td>590                      </td><td>21/03/1712               </td><td>29/10/1716               </td><td>03/11/1716               </td></tr>\n",
       "\t<tr><td>Thomas Petersen          </td><td>591                      </td><td>21/03/1712               </td><td>17/10/1713               </td><td>26/10/1713               </td></tr>\n",
       "\t<tr><td>Niels Jensen Skaaning    </td><td>592                      </td><td>31/03/1712               </td><td>25/08/1716               </td><td>02/09/1716               </td></tr>\n",
       "\t<tr><td>Niels Jensen Skaaning    </td><td>592                      </td><td>31/03/1712               </td><td>21/09/1716               </td><td>13/11/1716               </td></tr>\n",
       "\t<tr><td>[ ] Jens Sönner          </td><td>594                      </td><td>26/04/1712               </td><td>00/00/1716               </td><td>NA                       </td></tr>\n",
       "\t<tr><td>Magnus Bendixsen / Mogens</td><td>599                      </td><td>08/03/1713               </td><td>09/07/1719               </td><td>11/11/1720               </td></tr>\n",
       "</tbody>\n",
       "</table>\n"
      ],
      "text/latex": [
       "\\begin{tabular}{r|lllll}\n",
       " name & id & registered & escaped & returned\\\\\n",
       "\\hline\n",
       "\t Peter vesmand             & 590                       & 21/03/1712                & 29/10/1716                & 03/11/1716               \\\\\n",
       "\t Thomas Petersen           & 591                       & 21/03/1712                & 17/10/1713                & 26/10/1713               \\\\\n",
       "\t Niels Jensen Skaaning     & 592                       & 31/03/1712                & 25/08/1716                & 02/09/1716               \\\\\n",
       "\t Niels Jensen Skaaning     & 592                       & 31/03/1712                & 21/09/1716                & 13/11/1716               \\\\\n",
       "\t {[} {]} Jens Sönner           & 594                           & 26/04/1712                    & 00/00/1716                    & NA                           \\\\\n",
       "\t Magnus Bendixsen / Mogens & 599                       & 08/03/1713                & 09/07/1719                & 11/11/1720               \\\\\n",
       "\\end{tabular}\n"
      ],
      "text/markdown": [
       "\n",
       "| name | id | registered | escaped | returned |\n",
       "|---|---|---|---|---|\n",
       "| Peter vesmand             | 590                       | 21/03/1712                | 29/10/1716                | 03/11/1716                |\n",
       "| Thomas Petersen           | 591                       | 21/03/1712                | 17/10/1713                | 26/10/1713                |\n",
       "| Niels Jensen Skaaning     | 592                       | 31/03/1712                | 25/08/1716                | 02/09/1716                |\n",
       "| Niels Jensen Skaaning     | 592                       | 31/03/1712                | 21/09/1716                | 13/11/1716                |\n",
       "| [ ] Jens Sönner           | 594                       | 26/04/1712                | 00/00/1716                | NA                        |\n",
       "| Magnus Bendixsen / Mogens | 599                       | 08/03/1713                | 09/07/1719                | 11/11/1720                |\n",
       "\n"
      ],
      "text/plain": [
       "  name                      id  registered escaped    returned  \n",
       "1 Peter vesmand             590 21/03/1712 29/10/1716 03/11/1716\n",
       "2 Thomas Petersen           591 21/03/1712 17/10/1713 26/10/1713\n",
       "3 Niels Jensen Skaaning     592 31/03/1712 25/08/1716 02/09/1716\n",
       "4 Niels Jensen Skaaning     592 31/03/1712 21/09/1716 13/11/1716\n",
       "5 [ ] Jens Sönner           594 26/04/1712 00/00/1716 NA        \n",
       "6 Magnus Bendixsen / Mogens 599 08/03/1713 09/07/1719 11/11/1720"
      ]
     },
     "metadata": {},
     "output_type": "display_data"
    }
   ],
   "source": [
    "dim(runaways)\n",
    "head(runaways)"
   ]
  },
  {
   "cell_type": "markdown",
   "metadata": {
    "slideshow": {
     "slide_type": "slide"
    }
   },
   "source": [
    "What are the \"registered\", \"escaped\" and \"returned\" columns showing? What would be interesting to do with them?"
   ]
  },
  {
   "cell_type": "code",
   "execution_count": 64,
   "metadata": {
    "slideshow": {
     "slide_type": "-"
    }
   },
   "outputs": [
    {
     "data": {
      "text/html": [
       "<table>\n",
       "<thead><tr><th scope=col>name</th><th scope=col>id</th><th scope=col>registered</th><th scope=col>escaped</th><th scope=col>returned</th></tr></thead>\n",
       "<tbody>\n",
       "\t<tr><td>Peter vesmand            </td><td>590                      </td><td>21/03/1712               </td><td>29/10/1716               </td><td>03/11/1716               </td></tr>\n",
       "\t<tr><td>Thomas Petersen          </td><td>591                      </td><td>21/03/1712               </td><td>17/10/1713               </td><td>26/10/1713               </td></tr>\n",
       "\t<tr><td>Niels Jensen Skaaning    </td><td>592                      </td><td>31/03/1712               </td><td>25/08/1716               </td><td>02/09/1716               </td></tr>\n",
       "\t<tr><td>Niels Jensen Skaaning    </td><td>592                      </td><td>31/03/1712               </td><td>21/09/1716               </td><td>13/11/1716               </td></tr>\n",
       "\t<tr><td>[ ] Jens Sönner          </td><td>594                      </td><td>26/04/1712               </td><td>00/00/1716               </td><td>NA                       </td></tr>\n",
       "\t<tr><td>Magnus Bendixsen / Mogens</td><td>599                      </td><td>08/03/1713               </td><td>09/07/1719               </td><td>11/11/1720               </td></tr>\n",
       "</tbody>\n",
       "</table>\n"
      ],
      "text/latex": [
       "\\begin{tabular}{r|lllll}\n",
       " name & id & registered & escaped & returned\\\\\n",
       "\\hline\n",
       "\t Peter vesmand             & 590                       & 21/03/1712                & 29/10/1716                & 03/11/1716               \\\\\n",
       "\t Thomas Petersen           & 591                       & 21/03/1712                & 17/10/1713                & 26/10/1713               \\\\\n",
       "\t Niels Jensen Skaaning     & 592                       & 31/03/1712                & 25/08/1716                & 02/09/1716               \\\\\n",
       "\t Niels Jensen Skaaning     & 592                       & 31/03/1712                & 21/09/1716                & 13/11/1716               \\\\\n",
       "\t {[} {]} Jens Sönner           & 594                           & 26/04/1712                    & 00/00/1716                    & NA                           \\\\\n",
       "\t Magnus Bendixsen / Mogens & 599                       & 08/03/1713                & 09/07/1719                & 11/11/1720               \\\\\n",
       "\\end{tabular}\n"
      ],
      "text/markdown": [
       "\n",
       "| name | id | registered | escaped | returned |\n",
       "|---|---|---|---|---|\n",
       "| Peter vesmand             | 590                       | 21/03/1712                | 29/10/1716                | 03/11/1716                |\n",
       "| Thomas Petersen           | 591                       | 21/03/1712                | 17/10/1713                | 26/10/1713                |\n",
       "| Niels Jensen Skaaning     | 592                       | 31/03/1712                | 25/08/1716                | 02/09/1716                |\n",
       "| Niels Jensen Skaaning     | 592                       | 31/03/1712                | 21/09/1716                | 13/11/1716                |\n",
       "| [ ] Jens Sönner           | 594                       | 26/04/1712                | 00/00/1716                | NA                        |\n",
       "| Magnus Bendixsen / Mogens | 599                       | 08/03/1713                | 09/07/1719                | 11/11/1720                |\n",
       "\n"
      ],
      "text/plain": [
       "  name                      id  registered escaped    returned  \n",
       "1 Peter vesmand             590 21/03/1712 29/10/1716 03/11/1716\n",
       "2 Thomas Petersen           591 21/03/1712 17/10/1713 26/10/1713\n",
       "3 Niels Jensen Skaaning     592 31/03/1712 25/08/1716 02/09/1716\n",
       "4 Niels Jensen Skaaning     592 31/03/1712 21/09/1716 13/11/1716\n",
       "5 [ ] Jens Sönner           594 26/04/1712 00/00/1716 NA        \n",
       "6 Magnus Bendixsen / Mogens 599 08/03/1713 09/07/1719 11/11/1720"
      ]
     },
     "metadata": {},
     "output_type": "display_data"
    }
   ],
   "source": [
    "head(runaways)"
   ]
  },
  {
   "cell_type": "code",
   "execution_count": 65,
   "metadata": {
    "slideshow": {
     "slide_type": "fragment"
    }
   },
   "outputs": [
    {
     "data": {
      "text/html": [
       "'character'"
      ],
      "text/latex": [
       "'character'"
      ],
      "text/markdown": [
       "'character'"
      ],
      "text/plain": [
       "[1] \"character\""
      ]
     },
     "metadata": {},
     "output_type": "display_data"
    }
   ],
   "source": [
    "class(runaways$registered)"
   ]
  },
  {
   "cell_type": "code",
   "execution_count": 66,
   "metadata": {
    "slideshow": {
     "slide_type": "-"
    }
   },
   "outputs": [
    {
     "ename": "ERROR",
     "evalue": "Error in runaways$escaped[1] - runaways$registered[1]: non-numeric argument to binary operator\n",
     "output_type": "error",
     "traceback": [
      "Error in runaways$escaped[1] - runaways$registered[1]: non-numeric argument to binary operator\nTraceback:\n"
     ]
    }
   ],
   "source": [
    "# Stored as character - R does not now how to evaluate!\n",
    "runaways$escaped[1] - runaways$registered[1]"
   ]
  },
  {
   "cell_type": "markdown",
   "metadata": {
    "slideshow": {
     "slide_type": "slide"
    }
   },
   "source": [
    "# BREAK?\n",
    "\n",
    "![lion_chill](https://i.pinimg.com/736x/66/70/75/6670750ccf134bb4d0de4eb726a396e2.jpg)"
   ]
  },
  {
   "cell_type": "markdown",
   "metadata": {
    "slideshow": {
     "slide_type": "slide"
    }
   },
   "source": [
    "# Working with dates: The `lubridate` package\n",
    "We have worked with numeric and text classes before but R also has a `date` class. \n",
    "\n",
    "The base R functionality of working with dates can be a bit tricky but `lubridate` makes it very simple!\n",
    "\n",
    "*Install and load the `lubridate` package.*"
   ]
  },
  {
   "cell_type": "code",
   "execution_count": 67,
   "metadata": {
    "slideshow": {
     "slide_type": "skip"
    }
   },
   "outputs": [
    {
     "name": "stderr",
     "output_type": "stream",
     "text": [
      "\n",
      "Attaching package: 'lubridate'\n",
      "\n",
      "The following object is masked from 'package:base':\n",
      "\n",
      "    date\n",
      "\n"
     ]
    }
   ],
   "source": [
    "library(lubridate)"
   ]
  },
  {
   "cell_type": "code",
   "execution_count": 68,
   "metadata": {
    "slideshow": {
     "slide_type": "fragment"
    }
   },
   "outputs": [
    {
     "data": {
      "text/html": [
       "<ol>\n",
       "\t<li>'character'</li>\n",
       "\t<li>'character'</li>\n",
       "\t<li>'character'</li>\n",
       "</ol>\n"
      ],
      "text/latex": [
       "\\begin{enumerate}\n",
       "\\item 'character'\n",
       "\\item 'character'\n",
       "\\item 'character'\n",
       "\\end{enumerate}\n"
      ],
      "text/markdown": [
       "1. 'character'\n",
       "2. 'character'\n",
       "3. 'character'\n",
       "\n",
       "\n"
      ],
      "text/plain": [
       "[[1]]\n",
       "[1] \"character\"\n",
       "\n",
       "[[2]]\n",
       "[1] \"character\"\n",
       "\n",
       "[[3]]\n",
       "[1] \"character\"\n"
      ]
     },
     "metadata": {},
     "output_type": "display_data"
    }
   ],
   "source": [
    "# Some example dates - all stored as character\n",
    "date1 <- \"29 aug 1876\"\n",
    "date2 <- \"1770-11-26\"\n",
    "date3 <- \"12.26.1810\"\n",
    "\n",
    "lapply(c(date1, date2, date3), class)"
   ]
  },
  {
   "cell_type": "markdown",
   "metadata": {
    "slideshow": {
     "slide_type": "slide"
    }
   },
   "source": [
    "Converting to dates with `lubridate` is very simple! You just need to know the order of the information in the date (year, month, date).\n",
    "\n",
    "The main function for converting is `ymd()` (short for year-month-date). This will take a character class object and convert to a date.\n",
    "\n",
    "A function is there for each combination of year-month-date; meaning you just have to shuffle the letters around to fit the format:"
   ]
  },
  {
   "cell_type": "code",
   "execution_count": 69,
   "metadata": {
    "slideshow": {
     "slide_type": "fragment"
    }
   },
   "outputs": [
    {
     "data": {
      "text/html": [
       "<ol>\n",
       "\t<li>'Date'</li>\n",
       "\t<li>'Date'</li>\n",
       "\t<li>'Date'</li>\n",
       "</ol>\n"
      ],
      "text/latex": [
       "\\begin{enumerate}\n",
       "\\item 'Date'\n",
       "\\item 'Date'\n",
       "\\item 'Date'\n",
       "\\end{enumerate}\n"
      ],
      "text/markdown": [
       "1. 'Date'\n",
       "2. 'Date'\n",
       "3. 'Date'\n",
       "\n",
       "\n"
      ],
      "text/plain": [
       "[[1]]\n",
       "[1] \"Date\"\n",
       "\n",
       "[[2]]\n",
       "[1] \"Date\"\n",
       "\n",
       "[[3]]\n",
       "[1] \"Date\"\n"
      ]
     },
     "metadata": {},
     "output_type": "display_data"
    }
   ],
   "source": [
    "date1 <- dmy(date1)\n",
    "date2 <- ymd(date2)\n",
    "date3 <- mdy(date3)\n",
    "\n",
    "lapply(c(date1, date2, date3), class)"
   ]
  },
  {
   "cell_type": "markdown",
   "metadata": {
    "slideshow": {
     "slide_type": "slide"
    }
   },
   "source": [
    "When stored as dates, it is easy to extract components with commands as `year()`, `month()`, `day()`:"
   ]
  },
  {
   "cell_type": "code",
   "execution_count": 70,
   "metadata": {
    "slideshow": {
     "slide_type": "-"
    }
   },
   "outputs": [
    {
     "name": "stdout",
     "output_type": "stream",
     "text": [
      "[1] \"1876-08-29\"\n"
     ]
    },
    {
     "data": {
      "text/html": [
       "1876"
      ],
      "text/latex": [
       "1876"
      ],
      "text/markdown": [
       "1876"
      ],
      "text/plain": [
       "[1] 1876"
      ]
     },
     "metadata": {},
     "output_type": "display_data"
    },
    {
     "data": {
      "text/html": [
       "8"
      ],
      "text/latex": [
       "8"
      ],
      "text/markdown": [
       "8"
      ],
      "text/plain": [
       "[1] 8"
      ]
     },
     "metadata": {},
     "output_type": "display_data"
    },
    {
     "data": {
      "text/html": [
       "29"
      ],
      "text/latex": [
       "29"
      ],
      "text/markdown": [
       "29"
      ],
      "text/plain": [
       "[1] 29"
      ]
     },
     "metadata": {},
     "output_type": "display_data"
    },
    {
     "data": {
      "text/html": [
       "Tue\n",
       "<details>\n",
       "\t<summary style=display:list-item;cursor:pointer>\n",
       "\t\t<strong>Levels</strong>:\n",
       "\t</summary>\n",
       "\t<ol class=list-inline>\n",
       "\t\t<li>'Sun'</li>\n",
       "\t\t<li>'Mon'</li>\n",
       "\t\t<li>'Tue'</li>\n",
       "\t\t<li>'Wed'</li>\n",
       "\t\t<li>'Thu'</li>\n",
       "\t\t<li>'Fri'</li>\n",
       "\t\t<li>'Sat'</li>\n",
       "\t</ol>\n",
       "</details>"
      ],
      "text/latex": [
       "Tue\n",
       "\\emph{Levels}: \\begin{enumerate*}\n",
       "\\item 'Sun'\n",
       "\\item 'Mon'\n",
       "\\item 'Tue'\n",
       "\\item 'Wed'\n",
       "\\item 'Thu'\n",
       "\\item 'Fri'\n",
       "\\item 'Sat'\n",
       "\\end{enumerate*}\n"
      ],
      "text/markdown": [
       "Tue\n",
       "**Levels**: 1. 'Sun'\n",
       "2. 'Mon'\n",
       "3. 'Tue'\n",
       "4. 'Wed'\n",
       "5. 'Thu'\n",
       "6. 'Fri'\n",
       "7. 'Sat'\n",
       "\n",
       "\n"
      ],
      "text/plain": [
       "[1] Tue\n",
       "Levels: Sun < Mon < Tue < Wed < Thu < Fri < Sat"
      ]
     },
     "metadata": {},
     "output_type": "display_data"
    }
   ],
   "source": [
    "print(date1)\n",
    "year(date1)\n",
    "month(date1)\n",
    "day(date1)\n",
    "wday(date1, label = TRUE, locale = \"English\")"
   ]
  },
  {
   "cell_type": "markdown",
   "metadata": {
    "slideshow": {
     "slide_type": "slide"
    }
   },
   "source": [
    "Date objects allow us to calculate time differences:"
   ]
  },
  {
   "cell_type": "code",
   "execution_count": 71,
   "metadata": {
    "slideshow": {
     "slide_type": "-"
    }
   },
   "outputs": [
    {
     "data": {
      "text/plain": [
       "Time difference of 38627 days"
      ]
     },
     "metadata": {},
     "output_type": "display_data"
    }
   ],
   "source": [
    "date1 - date2"
   ]
  },
  {
   "cell_type": "markdown",
   "metadata": {
    "slideshow": {
     "slide_type": "slide"
    }
   },
   "source": [
    "Calculating differences between two dates creates a `difftime` object by default. `difftime` objects are more useful for shorter differences. For longer time differences, it is more useful to work with `interval()`.\n",
    "\n",
    "With intervals, we can ask the number of days, years, months in the interval with `as.period()`.\n",
    "\n",
    "It is also possible to coerce directly to a numeric object with the specified units with `as.numeric()`."
   ]
  },
  {
   "cell_type": "code",
   "execution_count": 72,
   "metadata": {
    "slideshow": {
     "slide_type": "-"
    }
   },
   "outputs": [
    {
     "data": {
      "text/html": [
       "38627d 0H 0M 0S"
      ],
      "text/latex": [
       "38627d 0H 0M 0S"
      ],
      "text/markdown": [
       "38627d 0H 0M 0S"
      ],
      "text/plain": [
       "[1] \"38627d 0H 0M 0S\""
      ]
     },
     "metadata": {},
     "output_type": "display_data"
    },
    {
     "data": {
      "text/html": [
       "1269m 3d 0H 0M 0S"
      ],
      "text/latex": [
       "1269m 3d 0H 0M 0S"
      ],
      "text/markdown": [
       "1269m 3d 0H 0M 0S"
      ],
      "text/plain": [
       "[1] \"1269m 3d 0H 0M 0S\""
      ]
     },
     "metadata": {},
     "output_type": "display_data"
    },
    {
     "data": {
      "text/html": [
       "105y 9m 3d 0H 0M 0S"
      ],
      "text/latex": [
       "105y 9m 3d 0H 0M 0S"
      ],
      "text/markdown": [
       "105y 9m 3d 0H 0M 0S"
      ],
      "text/plain": [
       "[1] \"105y 9m 3d 0H 0M 0S\""
      ]
     },
     "metadata": {},
     "output_type": "display_data"
    },
    {
     "data": {
      "text/html": [
       "105.754962354552"
      ],
      "text/latex": [
       "105.754962354552"
      ],
      "text/markdown": [
       "105.754962354552"
      ],
      "text/plain": [
       "[1] 105.755"
      ]
     },
     "metadata": {},
     "output_type": "display_data"
    }
   ],
   "source": [
    "# Create time difference as interval\n",
    "time_int <- interval(date2, date1)\n",
    "\n",
    "# Display time differences with different units\n",
    "as.period(time_int, unit = \"days\")\n",
    "as.period(time_int, unit = \"months\")\n",
    "as.period(time_int, unit = \"years\")\n",
    "\n",
    "# Numeric coercion\n",
    "as.numeric(time_int, \"years\")"
   ]
  },
  {
   "cell_type": "markdown",
   "metadata": {
    "slideshow": {
     "slide_type": "slide"
    }
   },
   "source": [
    "Because `lubridate` is a part of the tidyverse, the functions supports vectors or vector-like objects as well!"
   ]
  },
  {
   "cell_type": "code",
   "execution_count": 73,
   "metadata": {},
   "outputs": [
    {
     "data": {
      "text/html": [
       "<ol class=list-inline>\n",
       "\t<li><time datetime=\"1876-12-21\">1876-12-21</time></li>\n",
       "\t<li><time datetime=\"1873-11-01\">1873-11-01</time></li>\n",
       "\t<li><time datetime=\"1885-01-30\">1885-01-30</time></li>\n",
       "\t<li><time datetime=\"1842-06-10\">1842-06-10</time></li>\n",
       "</ol>\n"
      ],
      "text/latex": [
       "\\begin{enumerate*}\n",
       "\\item 1876-12-21\n",
       "\\item 1873-11-01\n",
       "\\item 1885-01-30\n",
       "\\item 1842-06-10\n",
       "\\end{enumerate*}\n"
      ],
      "text/markdown": [
       "1. 1876-12-21\n",
       "2. 1873-11-01\n",
       "3. 1885-01-30\n",
       "4. 1842-06-10\n",
       "\n",
       "\n"
      ],
      "text/plain": [
       "[1] \"1876-12-21\" \"1873-11-01\" \"1885-01-30\" \"1842-06-10\""
      ]
     },
     "metadata": {},
     "output_type": "display_data"
    },
    {
     "data": {
      "text/html": [
       "<ol class=list-inline>\n",
       "\t<li>76.9691991786448</li>\n",
       "\t<li>73.8316221765914</li>\n",
       "\t<li>85.07871321013</li>\n",
       "\t<li>42.4366872005476</li>\n",
       "</ol>\n"
      ],
      "text/latex": [
       "\\begin{enumerate*}\n",
       "\\item 76.9691991786448\n",
       "\\item 73.8316221765914\n",
       "\\item 85.07871321013\n",
       "\\item 42.4366872005476\n",
       "\\end{enumerate*}\n"
      ],
      "text/markdown": [
       "1. 76.9691991786448\n",
       "2. 73.8316221765914\n",
       "3. 85.07871321013\n",
       "4. 42.4366872005476\n",
       "\n",
       "\n"
      ],
      "text/plain": [
       "[1] 76.96920 73.83162 85.07871 42.43669"
      ]
     },
     "metadata": {},
     "output_type": "display_data"
    }
   ],
   "source": [
    "dates <- c(\"1876-12-21\", \"1873-11-01\", \"1885-01-30\", \"1842-06-10\")\n",
    "dates <- ymd(dates)\n",
    "dates\n",
    "\n",
    "date_ints <- interval(ymd(\"1800-01-01\"), dates)\n",
    "as.numeric(date_ints, \"years\")"
   ]
  },
  {
   "cell_type": "markdown",
   "metadata": {
    "slideshow": {
     "slide_type": "slide"
    }
   },
   "source": [
    "# EXERCISE 6: WORKING WITH DATES\n",
    "\n",
    "Make sure you have the runaways data loaded.\n",
    "\n",
    "1. Convert the columns containing dates to date formats using the proper variation of `ymd()`\n",
    "2. Create a new column calculating the time difference in *days* between `registered` and `escaped`. Use `interval()` and `as.numeric()`\n",
    "3. Determine the shortest and longest stays (you can use the `arrange()` command)"
   ]
  },
  {
   "cell_type": "markdown",
   "metadata": {
    "slideshow": {
     "slide_type": "slide"
    }
   },
   "source": [
    "# Saving files with `readr`\n",
    "\n",
    "R can already save files in some other formats but the `readr` package is often more intuitive to use.\n",
    "\n",
    "Check your directory with `getwd`. Directory can be changed with `setwd`.\n",
    "\n",
    "We can save an excel .csv-file (comma-separated values) with `readr` using `write_excel_csv`:"
   ]
  },
  {
   "cell_type": "code",
   "execution_count": 77,
   "metadata": {
    "slideshow": {
     "slide_type": "fragment"
    }
   },
   "outputs": [],
   "source": [
    "library(readr)\n",
    "write_excel_csv(runaways, path = \"my_data.csv\", delim = \";\", col_names = TRUE)"
   ]
  },
  {
   "cell_type": "markdown",
   "metadata": {
    "slideshow": {
     "slide_type": "fragment"
    }
   },
   "source": [
    "**Code breakdown:**\n",
    "\n",
    "| Code | Description |\n",
    "|:-----|:------------|\n",
    "|`data` | The object we want to save |\n",
    "|`path = \"my_data.csv\"` | The filename - .csv for comma-separated values |\n",
    "|`delim = \";\"` | Setting the separator between values to be commas |\n",
    "|`col_names = TRUE` | Specifying that data contains column names |"
   ]
  },
  {
   "cell_type": "markdown",
   "metadata": {
    "slideshow": {
     "slide_type": "slide"
    }
   },
   "source": [
    "# Summation of part 1\n",
    "\n",
    "R objects are created using the operator `<-`. R objects can be pretty much anything.\n",
    "\n",
    "Objects are assigned a `class`. The class can be checked with `class(object)`. Classes can be coerced with commands like `as.numeric()` or `as.character()`\n",
    "\n",
    "Vectors are groupings of values. They are created with `c()`. Vectors can be subset using `[]`.\n",
    "\n",
    "Texts can be thought of as vectors in a number of ways (grouping of words, sentences, texts etc.)\n",
    "\n",
    "Data frames are R's version of a spreadsheet (rows and columns). A column/variable can be selected using `$`. A column/variable can (in most cases) be treated like a vector.\n",
    "\n",
    "Data frames can be subset using `[ , ]`. Rows are specified before the comma, and columns after the comma."
   ]
  },
  {
   "cell_type": "markdown",
   "metadata": {},
   "source": [
    "# Summation of part 1 - Continued\n",
    "\n",
    "Other functions can be loaded into R via packages:\n",
    "- `stringr` for manipulating strings\n",
    "- `tidytext` for working with text data frames\n",
    "- `lubridate` for working with dates\n",
    "- `readxl` for reading Excel files\n",
    "- `haven` for storing data in other formats"
   ]
  },
  {
   "cell_type": "markdown",
   "metadata": {
    "slideshow": {
     "slide_type": "slide"
    }
   },
   "source": [
    "# What's next?"
   ]
  }
 ],
 "metadata": {
  "celltoolbar": "Slideshow",
  "kernelspec": {
   "display_name": "R",
   "language": "R",
   "name": "ir"
  },
  "language_info": {
   "codemirror_mode": "r",
   "file_extension": ".r",
   "mimetype": "text/x-r-source",
   "name": "R",
   "pygments_lexer": "r",
   "version": "3.6.2"
  }
 },
 "nbformat": 4,
 "nbformat_minor": 2
}
