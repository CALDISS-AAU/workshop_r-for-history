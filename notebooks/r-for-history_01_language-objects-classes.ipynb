{
 "cells": [
  {
   "cell_type": "markdown",
   "metadata": {
    "slideshow": {
     "slide_type": "slide"
    }
   },
   "source": [
    "# Introduction\n",
    "## What is R and why use it?\n",
    "\n",
    "R is a free software environment with its own programming language. \n",
    "\n",
    "It is especailly suited for statistical analysis and graphical outputs.\n",
    "\n",
    "R's popularity as a data science tool as well as it being open source has made its applications vast.\n",
    "\n",
    "R can work with a large variety of data formats and is (with a few add-ons) compatible with data from other software solutions (Excel, SPSS, SAS, STATA)."
   ]
  },
  {
   "cell_type": "markdown",
   "metadata": {
    "slideshow": {
     "slide_type": "slide"
    }
   },
   "source": [
    "## Why use R for History?\n",
    "\n",
    "<u>Data versatility:</u> It can work with numerical data, text data, dates etc.\n",
    "\n",
    "<u>Complete workflow in one environment:</u> From data loading to cleaning to output (and even reporting, if you want)\n",
    "\n",
    "<u>Lots of help to get:</u> Very large community offering their help via forums, free educational material, blogs and so on."
   ]
  },
  {
   "cell_type": "markdown",
   "metadata": {
    "slideshow": {
     "slide_type": "slide"
    }
   },
   "source": [
    "## Content of the R introduction\n",
    "\n",
    "- The R language\n",
    "- The RStudio environment\n",
    "- Constructing variables and objects\n",
    "- Working with strings\n",
    "- Simple text mining with tables (dataframes)\n",
    "- Using the help command\n",
    "- Reading data from Excel\n",
    "- Working with dates\n",
    "\n",
    "The introduction will combine presenting R and R code in Jupyter Notebook while demonstrating in RStudio. You are encouraged to work and write in RStudio during the workshop.\n",
    "\n",
    "*Please write along as we go through the different examples.*\n",
    "\n",
    "*Download the slides via moodle to go back during the workshop, if necessary: https://forskning.moodle.aau.dk/course/view.php?id=4 (select \"CAS\" user and login)*"
   ]
  },
  {
   "cell_type": "markdown",
   "metadata": {
    "slideshow": {
     "slide_type": "slide"
    }
   },
   "source": [
    "## The RStudio environment\n",
    "\n",
    "During the workshop (and the other R workshops in CALDISS), we will be working with RStudio.\n",
    "\n",
    "RStudio is an IDE for R (Integrated Development Environment) - Makes for a nicer workspace\n",
    "\n",
    "<https://www.rstudio.com/products/rstudio/download/>"
   ]
  },
  {
   "cell_type": "markdown",
   "metadata": {
    "slideshow": {
     "slide_type": "slide"
    }
   },
   "source": [
    "# The R language\n",
    "R has it's own programming language. R works by you writing lines of code in that language (writing commands) and R interpreting that code (running commands).\n",
    "\n",
    "R (and RStudio) has a limited user interface meaning almost all functionality (statistics, plots, simulations etc.) must be executed using code in the R language.\n",
    "\n",
    "A programming language is a lot like any other language (except not being very dialogical): \n",
    "- You can only expect to be understood, if you speak the same language = R will only execute code written correctly\n",
    "- You are contributing to the language by speaking it = Create your own functions in R that R will understand"
   ]
  },
  {
   "cell_type": "markdown",
   "metadata": {
    "slideshow": {
     "slide_type": "slide"
    }
   },
   "source": [
    "## R as a calculator\n",
    "So what does it mean that R interprets our code?\n",
    "It means that you tell R to do something by writing a command and R will do that (if R can understand you).\n",
    "\n",
    "R, for example, understands mathematical expressions:"
   ]
  },
  {
   "cell_type": "code",
   "execution_count": 1,
   "metadata": {
    "slideshow": {
     "slide_type": "fragment"
    }
   },
   "outputs": [
    {
     "data": {
      "text/html": [
       "7"
      ],
      "text/latex": [
       "7"
      ],
      "text/markdown": [
       "7"
      ],
      "text/plain": [
       "[1] 7"
      ]
     },
     "metadata": {},
     "output_type": "display_data"
    }
   ],
   "source": [
    "2 + 5"
   ]
  },
  {
   "cell_type": "code",
   "execution_count": 2,
   "metadata": {
    "slideshow": {
     "slide_type": "fragment"
    }
   },
   "outputs": [
    {
     "data": {
      "text/html": [
       "94.72"
      ],
      "text/latex": [
       "94.72"
      ],
      "text/markdown": [
       "94.72"
      ],
      "text/plain": [
       "[1] 94.72"
      ]
     },
     "metadata": {},
     "output_type": "display_data"
    }
   ],
   "source": [
    "0.37 * 256"
   ]
  },
  {
   "cell_type": "markdown",
   "metadata": {
    "slideshow": {
     "slide_type": "slide"
    }
   },
   "source": [
    "I can \"ask\" R for different results and outputs using functions:"
   ]
  },
  {
   "cell_type": "code",
   "execution_count": 3,
   "metadata": {
    "slideshow": {
     "slide_type": "fragment"
    }
   },
   "outputs": [
    {
     "data": {
      "text/html": [
       "29"
      ],
      "text/latex": [
       "29"
      ],
      "text/markdown": [
       "29"
      ],
      "text/plain": [
       "[1] 29"
      ]
     },
     "metadata": {},
     "output_type": "display_data"
    }
   ],
   "source": [
    "nchar(\"when in Rome, do as Romans do\")"
   ]
  },
  {
   "cell_type": "code",
   "execution_count": 4,
   "metadata": {
    "slideshow": {
     "slide_type": "fragment"
    }
   },
   "outputs": [
    {
     "data": {
      "text/html": [
       "'WHEN IN ROME, DO AS ROMANS DO'"
      ],
      "text/latex": [
       "'WHEN IN ROME, DO AS ROMANS DO'"
      ],
      "text/markdown": [
       "'WHEN IN ROME, DO AS ROMANS DO'"
      ],
      "text/plain": [
       "[1] \"WHEN IN ROME, DO AS ROMANS DO\""
      ]
     },
     "metadata": {},
     "output_type": "display_data"
    }
   ],
   "source": [
    "toupper(\"when in Rome, do as Romans do\")"
   ]
  },
  {
   "cell_type": "markdown",
   "metadata": {
    "slideshow": {
     "slide_type": "slide"
    }
   },
   "source": [
    "When you run a commmand that R doesn't know, R will throw an error:"
   ]
  },
  {
   "cell_type": "code",
   "execution_count": 5,
   "metadata": {
    "slideshow": {
     "slide_type": "fragment"
    }
   },
   "outputs": [
    {
     "ename": "ERROR",
     "evalue": "Error in finish_sentece(\"when in Rome\"): could not find function \"finish_sentece\"\n",
     "output_type": "error",
     "traceback": [
      "Error in finish_sentece(\"when in Rome\"): could not find function \"finish_sentece\"\nTraceback:\n"
     ]
    }
   ],
   "source": [
    "finish_sentece(\"when in Rome\")"
   ]
  },
  {
   "cell_type": "markdown",
   "metadata": {
    "slideshow": {
     "slide_type": "fragment"
    }
   },
   "source": [
    "The commands in R are virtually endless, as you are able to create your own:"
   ]
  },
  {
   "cell_type": "code",
   "execution_count": 6,
   "metadata": {
    "slideshow": {
     "slide_type": "-"
    }
   },
   "outputs": [
    {
     "data": {
      "text/html": [
       "'when in Rome, do as Romans do'"
      ],
      "text/latex": [
       "'when in Rome, do as Romans do'"
      ],
      "text/markdown": [
       "'when in Rome, do as Romans do'"
      ],
      "text/plain": [
       "[1] \"when in Rome, do as Romans do\""
      ]
     },
     "metadata": {},
     "output_type": "display_data"
    }
   ],
   "source": [
    "finish_sentence <- function(text) {\n",
    "    paste0(text, \", do as Romans do\")\n",
    "}\n",
    "\n",
    "finish_sentence(\"when in Rome\")"
   ]
  },
  {
   "cell_type": "markdown",
   "metadata": {
    "slideshow": {
     "slide_type": "slide"
    }
   },
   "source": [
    "# The R Language: Objects and Functions\n",
    "R works by storing values in \"objects\". These objects can then be used in various commands like calculating differences, saving a file, creating a graph and so on. To simplify a bit: An object is some kind of stored value and a function is something that can manipulate a stored value (which then creates a new object). \n",
    "\n",
    "Most of R can be boiled down to these 3 basic steps:\n",
    "\n",
    "1. Assign values to an object\n",
    "2. Make sure R interprets the object correctly (its class)\n",
    "3. Perfom some operation or manipulation on the object using a function"
   ]
  },
  {
   "cell_type": "markdown",
   "metadata": {
    "slideshow": {
     "slide_type": "fragment"
    }
   },
   "source": [
    "Translated to data analysis, the steps would (in general terms) look as follows:\n",
    "\n",
    "1. Load our dataset: `data <- read.csv(\"my_datafile.csv\")`\n",
    "2. Check the that the variables are the correct class: `class(data$age)`\n",
    "3. Perform some kind of analysis: `mean(data$age)`\n",
    "\n",
    "The gap between these steps of course vary greatly."
   ]
  },
  {
   "cell_type": "markdown",
   "metadata": {
    "slideshow": {
     "slide_type": "slide"
    }
   },
   "source": [
    "## Objects\n",
    "A lot of writing in R is about defining objects: A name to use to call up stored data.\n",
    "\n",
    "Objects can be a lot of things: \n",
    "- a word\n",
    "- a text\n",
    "- a number\n",
    "- a series of numbers\n",
    "- a dataset \n",
    "- a corpus of texts\n",
    "- a URL\n",
    "- a formula\n",
    "- a result \n",
    "- a filepath\n",
    "- and so on...\n",
    "\n",
    "When an object is defined, it is available in the current working space (or environment).\n",
    "\n",
    "This makes it possible to store and work with a variety of informaiton simultaneously."
   ]
  },
  {
   "cell_type": "markdown",
   "metadata": {
    "slideshow": {
     "slide_type": "slide"
    }
   },
   "source": [
    "### Defining objects\n",
    "Objects are defined using the `<-` operator:"
   ]
  },
  {
   "cell_type": "code",
   "execution_count": 7,
   "metadata": {
    "slideshow": {
     "slide_type": "fragment"
    }
   },
   "outputs": [
    {
     "data": {
      "text/html": [
       "7"
      ],
      "text/latex": [
       "7"
      ],
      "text/markdown": [
       "7"
      ],
      "text/plain": [
       "[1] 7"
      ]
     },
     "metadata": {},
     "output_type": "display_data"
    }
   ],
   "source": [
    "a <- 2 + 5\n",
    "a"
   ]
  },
  {
   "cell_type": "code",
   "execution_count": 8,
   "metadata": {
    "slideshow": {
     "slide_type": "fragment"
    }
   },
   "outputs": [
    {
     "data": {
      "text/html": [
       "'Rome'"
      ],
      "text/latex": [
       "'Rome'"
      ],
      "text/markdown": [
       "'Rome'"
      ],
      "text/plain": [
       "[1] \"Rome\""
      ]
     },
     "metadata": {},
     "output_type": "display_data"
    }
   ],
   "source": [
    "b <- 'Rome'\n",
    "b"
   ]
  },
  {
   "cell_type": "markdown",
   "metadata": {
    "slideshow": {
     "slide_type": "-"
    }
   },
   "source": [
    "Using `' '` or `\" \"` denotes that the code should be read as text.\n",
    "\n",
    "Objects with text (known in programming as `strings`) can be as long as you like."
   ]
  },
  {
   "cell_type": "code",
   "execution_count": 9,
   "metadata": {
    "slideshow": {
     "slide_type": "fragment"
    }
   },
   "outputs": [],
   "source": [
    "text <- \"The ancient Greeks had several different theories with regard to the origin of the world, but the generally accepted notion was that before this world came into existence, there was in its place a confused mass of shapeless elements called Chaos. \""
   ]
  },
  {
   "cell_type": "markdown",
   "metadata": {
    "slideshow": {
     "slide_type": "slide"
    }
   },
   "source": [
    "## Functions\n",
    "\n",
    "When an object is created, we can use functions on them.\n",
    "\n",
    "Most functions are written in the syntax of `function(object, option = something)`. A lot of functions only need the object as an arguement."
   ]
  },
  {
   "cell_type": "code",
   "execution_count": 10,
   "metadata": {
    "slideshow": {
     "slide_type": "fragment"
    }
   },
   "outputs": [
    {
     "data": {
      "text/html": [
       "'THE ANCIENT GREEKS HAD SEVERAL DIFFERENT THEORIES WITH REGARD TO THE ORIGIN OF THE WORLD, BUT THE GENERALLY ACCEPTED NOTION WAS THAT BEFORE THIS WORLD CAME INTO EXISTENCE, THERE WAS IN ITS PLACE A CONFUSED MASS OF SHAPELESS ELEMENTS CALLED CHAOS. '"
      ],
      "text/latex": [
       "'THE ANCIENT GREEKS HAD SEVERAL DIFFERENT THEORIES WITH REGARD TO THE ORIGIN OF THE WORLD, BUT THE GENERALLY ACCEPTED NOTION WAS THAT BEFORE THIS WORLD CAME INTO EXISTENCE, THERE WAS IN ITS PLACE A CONFUSED MASS OF SHAPELESS ELEMENTS CALLED CHAOS. '"
      ],
      "text/markdown": [
       "'THE ANCIENT GREEKS HAD SEVERAL DIFFERENT THEORIES WITH REGARD TO THE ORIGIN OF THE WORLD, BUT THE GENERALLY ACCEPTED NOTION WAS THAT BEFORE THIS WORLD CAME INTO EXISTENCE, THERE WAS IN ITS PLACE A CONFUSED MASS OF SHAPELESS ELEMENTS CALLED CHAOS. '"
      ],
      "text/plain": [
       "[1] \"THE ANCIENT GREEKS HAD SEVERAL DIFFERENT THEORIES WITH REGARD TO THE ORIGIN OF THE WORLD, BUT THE GENERALLY ACCEPTED NOTION WAS THAT BEFORE THIS WORLD CAME INTO EXISTENCE, THERE WAS IN ITS PLACE A CONFUSED MASS OF SHAPELESS ELEMENTS CALLED CHAOS. \""
      ]
     },
     "metadata": {},
     "output_type": "display_data"
    }
   ],
   "source": [
    "toupper(text) #Convert to uppercase"
   ]
  },
  {
   "cell_type": "code",
   "execution_count": 11,
   "metadata": {
    "slideshow": {
     "slide_type": "fragment"
    }
   },
   "outputs": [
    {
     "data": {
      "text/html": [
       "247"
      ],
      "text/latex": [
       "247"
      ],
      "text/markdown": [
       "247"
      ],
      "text/plain": [
       "[1] 247"
      ]
     },
     "metadata": {},
     "output_type": "display_data"
    }
   ],
   "source": [
    "nchar(text) #Number of characters"
   ]
  },
  {
   "cell_type": "markdown",
   "metadata": {
    "slideshow": {
     "slide_type": "slide"
    }
   },
   "source": [
    "Others take several arguements:"
   ]
  },
  {
   "cell_type": "code",
   "execution_count": 12,
   "metadata": {
    "slideshow": {
     "slide_type": "fragment"
    }
   },
   "outputs": [
    {
     "data": {
      "text/html": [
       "'The ancient Greeks had several different theories with regard to the origin of the cheese, but the generally accepted notion was that before this cheese came into existence, there was in its place a confused mass of shapeless elements called Chaos. '"
      ],
      "text/latex": [
       "'The ancient Greeks had several different theories with regard to the origin of the cheese, but the generally accepted notion was that before this cheese came into existence, there was in its place a confused mass of shapeless elements called Chaos. '"
      ],
      "text/markdown": [
       "'The ancient Greeks had several different theories with regard to the origin of the cheese, but the generally accepted notion was that before this cheese came into existence, there was in its place a confused mass of shapeless elements called Chaos. '"
      ],
      "text/plain": [
       "[1] \"The ancient Greeks had several different theories with regard to the origin of the cheese, but the generally accepted notion was that before this cheese came into existence, there was in its place a confused mass of shapeless elements called Chaos. \""
      ]
     },
     "metadata": {},
     "output_type": "display_data"
    }
   ],
   "source": [
    "gsub(\"world\", \"cheese\", text) #Pattern replacement"
   ]
  },
  {
   "cell_type": "markdown",
   "metadata": {
    "slideshow": {
     "slide_type": "slide"
    }
   },
   "source": [
    "### Naming objects\n",
    "Objects can be named almost anything but a good rule of thumb is to use names that are indicative of what the object contains.\n",
    "\n",
    "#### Restrictions for naming objects\n",
    "- Most special characters not allowed: `/`, `?`, `*`, `+` and so on (most characters mean something to R and will be read as an expression)\n",
    "- Already existing names in R (will overwrite the function/object in the environment)\n",
    "\n",
    "#### Good naming conventions \n",
    "- Using '`_`': `my_object`, `room_number`\n",
    "\n",
    "or:\n",
    "\n",
    "- Capitalize each word except the first: `myObject`, `roomNumber`"
   ]
  },
  {
   "cell_type": "markdown",
   "metadata": {
    "slideshow": {
     "slide_type": "slide"
    }
   },
   "source": [
    "# EXERCISE 1: DEFINING OBJECTS\n",
    "\n",
    "Below are two text snippets from the book \"Myths and Legends of Ancient Greece and Rome\" by E.M. Berens.\n",
    "\n",
    "<u>Snippet 1:</u>\n",
    "\n",
    "\"Themis, who has already been alluded to as the wife of Zeus, was the daughter of Cronus and Rhea, and personified those divine laws of justice and order by means of which the well-being and morality of communities are regulated. She presided over the assemblies of the people and the laws of hospitality.\"\n",
    "\n",
    "<u>Snippet 2:</u>\n",
    "\n",
    "\"Athene was universally worshipped throughout Greece, but was regarded with special veneration by the Athenians, she being the guardian deity of Athens. Her most celebrated temple was the Parthenon, which stood on the Acropolis at Athens, and contained her world-renowned statue by Phidias, which ranks second only to that of Zeus by the same great artist.\"\n",
    "\n",
    "**1.** Assign each snippet to its own object (make up your own object names or use `mytext1` and `mytext2`).\n",
    "\n",
    "**2.** The function `nchar()` returns the number of characters. Determine which text snippet has the most characters."
   ]
  },
  {
   "cell_type": "code",
   "execution_count": 13,
   "metadata": {
    "slideshow": {
     "slide_type": "skip"
    }
   },
   "outputs": [],
   "source": [
    "mytext1 <- \"Themis, who has already been alluded to as the wife of Zeus, was the daughter of Cronus and Rhea, and personified those divine laws of justice and order by means of which the well-being and morality of communities are regulated. She presided over the assemblies of the people and the laws of hospitality.\"\n",
    "mytext2 <- \"Athene was universally worshipped throughout Greece, but was regarded with special veneration by the Athenians, she being the guardian deity of Athens. Her most celebrated temple was the Parthenon, which stood on the Acropolis at Athens, and contained her world-renowned statue by Phidias, which ranks second only to that of Zeus by the same great artist.\""
   ]
  },
  {
   "cell_type": "code",
   "execution_count": 14,
   "metadata": {
    "slideshow": {
     "slide_type": "subslide"
    }
   },
   "outputs": [
    {
     "data": {
      "text/html": [
       "304"
      ],
      "text/latex": [
       "304"
      ],
      "text/markdown": [
       "304"
      ],
      "text/plain": [
       "[1] 304"
      ]
     },
     "metadata": {},
     "output_type": "display_data"
    },
    {
     "data": {
      "text/html": [
       "355"
      ],
      "text/latex": [
       "355"
      ],
      "text/markdown": [
       "355"
      ],
      "text/plain": [
       "[1] 355"
      ]
     },
     "metadata": {},
     "output_type": "display_data"
    },
    {
     "data": {
      "text/html": [
       "-51"
      ],
      "text/latex": [
       "-51"
      ],
      "text/markdown": [
       "-51"
      ],
      "text/plain": [
       "[1] -51"
      ]
     },
     "metadata": {},
     "output_type": "display_data"
    }
   ],
   "source": [
    "nchar(mytext1)\n",
    "nchar(mytext2)\n",
    "\n",
    "nchar(mytext1) - nchar(mytext2)"
   ]
  },
  {
   "cell_type": "markdown",
   "metadata": {
    "slideshow": {
     "slide_type": "slide"
    }
   },
   "source": [
    "# Different types of objects (classes)\n",
    "R distinguishes between different types of objects.\n",
    "\n",
    "An objects is stored as a *class*. The class denotes what type of object it is and affects what operations are possible."
   ]
  },
  {
   "cell_type": "markdown",
   "metadata": {
    "slideshow": {
     "slide_type": "slide"
    }
   },
   "source": [
    "## Numeric and character classes\n",
    "As you work with R, you will encounter a lot of different classes. For now we will be focusing on two of the more common ones:\n",
    "- Numeric classes\n",
    "- Character classes\n",
    "\n",
    "Numbers are automatically stored as a numeric class (or one of the variants: double, integer etc.).\n",
    "\n",
    "When using `''` or `\"\"` around the information to be stored in the object, R will interpret that as text; meaning it will be stored as a character class. \n",
    "\n",
    "*Numbers enclosed in `''` or `\"\"` are therefore stored as a character class, as R interprets it as text!*\n",
    "\n",
    "R has to be told that something is text as R would otherwise interpret it as an object."
   ]
  },
  {
   "cell_type": "code",
   "execution_count": 15,
   "metadata": {
    "slideshow": {
     "slide_type": "fragment"
    }
   },
   "outputs": [
    {
     "ename": "ERROR",
     "evalue": "Error in eval(expr, envir, enclos): objekt 'rome' blev ikke fundet\n",
     "output_type": "error",
     "traceback": [
      "Error in eval(expr, envir, enclos): objekt 'rome' blev ikke fundet\nTraceback:\n"
     ]
    }
   ],
   "source": [
    "mytext3 <- rome"
   ]
  },
  {
   "cell_type": "markdown",
   "metadata": {
    "slideshow": {
     "slide_type": "slide"
    }
   },
   "source": [
    "## Coercing classes\n",
    "The class of an object can be examined with `class(object)`.\n",
    "\n",
    "Objects can be coerced with specific functions:\n",
    "\n",
    "- Coerce to character class:`as.character(object)`\n",
    "- Coerce to numeric class: `as.numeric(object)`\n",
    "\n",
    "R will always try to \"guess\" the class. If R guesses wrong, you can tell R what class it should be (if possible)."
   ]
  },
  {
   "cell_type": "markdown",
   "metadata": {
    "slideshow": {
     "slide_type": "slide"
    }
   },
   "source": [
    "# R scripts: For reproducability! \n",
    "Script files are text files containing code that R can interpret.\n",
    "\n",
    "It is your \"analysis recipe\" showing what you have done as well as allowing you to re-run commands easily.\n",
    "\n",
    "Always make a habit of writing your commands into a script, when you have the command figured out.\n",
    "\n",
    "- `#` can be used for comments (skipped when run)\n",
    "- `Ctrl` + `Enter`: Runs the current line or selection\n",
    "- `Ctrl` + `Alt` + `R`: Runs the whole script"
   ]
  },
  {
   "cell_type": "markdown",
   "metadata": {
    "slideshow": {
     "slide_type": "slide"
    }
   },
   "source": [
    "# EXERCISE 2: CLASSES\n",
    "\n",
    "1. Assign the number of characters of text snippet 1 (`nchar(mytext1)`) to the object `text1_nc`.\n",
    "2. Check the classes of your object `mytext1` and `text1_nc` with `class()`. What are they?\n",
    "3. Try changing the class of `text1_nc` to a character class with `as.character()`. Is it possible?\n",
    "4. Try changing the class of `mytext1` to a numeric class with `as.numeric()`. Is it possible?\n",
    "\n",
    "**Bonus**\n",
    "1. Assign the number of characters of text snippet 2 to another object\n",
    "2. Test if the number of characters of the two texts are the same with the operator `==`:\n",
    "    - `text1_nc == text2_nc`\n",
    "3. Assign the test above to the object `mytest`\n",
    "4. Check the class of `mytest`. What class is it?"
   ]
  },
  {
   "cell_type": "code",
   "execution_count": 16,
   "metadata": {
    "slideshow": {
     "slide_type": "skip"
    }
   },
   "outputs": [],
   "source": [
    "text1_nc <- nchar(mytext1)\n",
    "text2_nc <- nchar(mytext2)\n",
    "\n",
    "mytest <- text1_nc == text2_nc"
   ]
  },
  {
   "cell_type": "code",
   "execution_count": 17,
   "metadata": {
    "slideshow": {
     "slide_type": "subslide"
    }
   },
   "outputs": [
    {
     "data": {
      "text/html": [
       "'304'"
      ],
      "text/latex": [
       "'304'"
      ],
      "text/markdown": [
       "'304'"
      ],
      "text/plain": [
       "[1] \"304\""
      ]
     },
     "metadata": {},
     "output_type": "display_data"
    }
   ],
   "source": [
    "as.character(text1_nc)"
   ]
  },
  {
   "cell_type": "code",
   "execution_count": 18,
   "metadata": {
    "slideshow": {
     "slide_type": "fragment"
    }
   },
   "outputs": [
    {
     "name": "stderr",
     "output_type": "stream",
     "text": [
      "Warning message in eval(expr, envir, enclos):\n",
      "\"NAs introduced by coercion\""
     ]
    },
    {
     "data": {
      "text/html": [
       "&lt;NA&gt;"
      ],
      "text/latex": [
       "<NA>"
      ],
      "text/markdown": [
       "&lt;NA&gt;"
      ],
      "text/plain": [
       "[1] NA"
      ]
     },
     "metadata": {},
     "output_type": "display_data"
    }
   ],
   "source": [
    "as.numeric(mytext1)"
   ]
  },
  {
   "cell_type": "code",
   "execution_count": 19,
   "metadata": {
    "slideshow": {
     "slide_type": "fragment"
    }
   },
   "outputs": [
    {
     "data": {
      "text/html": [
       "'logical'"
      ],
      "text/latex": [
       "'logical'"
      ],
      "text/markdown": [
       "'logical'"
      ],
      "text/plain": [
       "[1] \"logical\""
      ]
     },
     "metadata": {},
     "output_type": "display_data"
    }
   ],
   "source": [
    "class(mytest)"
   ]
  },
  {
   "cell_type": "markdown",
   "metadata": {
    "slideshow": {
     "slide_type": "slide"
    }
   },
   "source": [
    "# The logical class\n",
    "Logicals are *boolean* objects meaning they will either have the value `TRUE` or `FALSE`.\n",
    "\n",
    "When using the following operators (among others), R will interpret it as a logical class:\n",
    "- `>`\n",
    "- `>=`\n",
    "- `<`\n",
    "- `<=`\n",
    "- `==`\n",
    "- `!=`\n",
    "\n",
    "Logicals can be used in functions, loops and if-statements to ensure that a certain condition is met before something is run."
   ]
  },
  {
   "cell_type": "markdown",
   "metadata": {
    "slideshow": {
     "slide_type": "slide"
    }
   },
   "source": [
    "# BREAK\n",
    "\n",
    "![cat_window](https://2.bp.blogspot.com/-C8QgO2Yd3ew/TbMiWtd-VEI/AAAAAAACFu8/AhHEIYkfvnU/s1600/cats_chillin_02.jpg)"
   ]
  },
  {
   "cell_type": "code",
   "execution_count": null,
   "metadata": {},
   "outputs": [],
   "source": []
  }
 ],
 "metadata": {
  "celltoolbar": "Slideshow",
  "kernelspec": {
   "display_name": "R",
   "language": "R",
   "name": "ir"
  },
  "language_info": {
   "codemirror_mode": "r",
   "file_extension": ".r",
   "mimetype": "text/x-r-source",
   "name": "R",
   "pygments_lexer": "r",
   "version": "3.6.3"
  }
 },
 "nbformat": 4,
 "nbformat_minor": 4
}
