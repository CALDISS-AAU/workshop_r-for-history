{
 "cells": [
  {
   "cell_type": "markdown",
   "metadata": {
    "slideshow": {
     "slide_type": "slide"
    }
   },
   "source": [
    "# R for History"
   ]
  },
  {
   "cell_type": "markdown",
   "metadata": {},
   "source": [
    "## Why use R for History?\n",
    "\n",
    "<u>Data versatility:</u> It can work with numerical data, text data, dates etc.\n",
    "\n",
    "<u>Complete workflow in one environment:</u> From data loading to cleaning to output (and even reporting, if you want)\n",
    "\n",
    "<u>Lots of help to get:</u> Very large community offering their help via forums, free educational material, blogs and so on."
   ]
  },
  {
   "cell_type": "markdown",
   "metadata": {
    "slideshow": {
     "slide_type": "slide"
    }
   },
   "source": [
    "## Content of the workshop\n",
    "\n",
    "- R refresher: objects, classes, functions, logical values\n",
    "- Creating strings / character objects\n",
    "- Working with strings with stringR\n",
    "- Finding patterns with regular expressions\n",
    "- Texsts as vectors\n",
    "- Simple text mining with tables (dataframes)\n",
    "\n",
    "The introduction will combine presenting R and R code in Jupyter Notebook while demonstrating in RStudio. You are encouraged to work and write in RStudio during the workshop.\n",
    "\n",
    "*Please write along as we go through the different examples.*"
   ]
  },
  {
   "cell_type": "markdown",
   "metadata": {},
   "source": [
    "# R Refresher"
   ]
  },
  {
   "cell_type": "markdown",
   "metadata": {
    "slideshow": {
     "slide_type": "slide"
    }
   },
   "source": [
    "## Objects\n",
    "A lot of writing in R is about defining objects: A name to use to call up stored data.\n",
    "\n",
    "Objects can be a lot of things: \n",
    "- a word\n",
    "- a text\n",
    "- a number\n",
    "- a series of numbers\n",
    "- a dataset \n",
    "- a corpus of texts\n",
    "- a URL\n",
    "- a formula\n",
    "- a result \n",
    "- a filepath\n",
    "- and so on...\n",
    "\n",
    "When an object is defined, it is available in the current working space (or environment).\n",
    "\n",
    "This makes it possible to store and work with a variety of informaiton simultaneously."
   ]
  },
  {
   "cell_type": "markdown",
   "metadata": {
    "slideshow": {
     "slide_type": "slide"
    }
   },
   "source": [
    "### Defining objects\n",
    "Objects are defined using the `<-` operator:"
   ]
  },
  {
   "cell_type": "code",
   "execution_count": 14,
   "metadata": {
    "slideshow": {
     "slide_type": "fragment"
    }
   },
   "outputs": [
    {
     "name": "stdout",
     "output_type": "stream",
     "text": [
      "[1] 7\n"
     ]
    }
   ],
   "source": [
    "a <- 2 + 5\n",
    "print(a)"
   ]
  },
  {
   "cell_type": "code",
   "execution_count": 15,
   "metadata": {
    "slideshow": {
     "slide_type": "fragment"
    }
   },
   "outputs": [
    {
     "name": "stdout",
     "output_type": "stream",
     "text": [
      "[1] \"Rome\"\n"
     ]
    }
   ],
   "source": [
    "b <- 'Rome'\n",
    "print(b)"
   ]
  },
  {
   "cell_type": "markdown",
   "metadata": {
    "slideshow": {
     "slide_type": "-"
    }
   },
   "source": [
    "Using `' '` or `\" \"` denotes that the code should be read as text.\n",
    "\n",
    "Objects with text (known in programming as \"strings\") can be as long as you like."
   ]
  },
  {
   "cell_type": "code",
   "execution_count": 16,
   "metadata": {
    "slideshow": {
     "slide_type": "fragment"
    }
   },
   "outputs": [],
   "source": [
    "text <- \"When in Rome, do as Romans do\""
   ]
  },
  {
   "cell_type": "markdown",
   "metadata": {
    "slideshow": {
     "slide_type": "slide"
    }
   },
   "source": [
    "## Functions\n",
    "\n",
    "When an object is created, we can use functions on them.\n",
    "\n",
    "Most functions are written in the syntax of `function(object, option = something)`. A lot of functions only need the object as an arguement."
   ]
  },
  {
   "cell_type": "code",
   "execution_count": 17,
   "metadata": {
    "slideshow": {
     "slide_type": "fragment"
    }
   },
   "outputs": [
    {
     "data": {
      "text/html": [
       "'WHEN IN ROME, DO AS ROMANS DO'"
      ],
      "text/latex": [
       "'WHEN IN ROME, DO AS ROMANS DO'"
      ],
      "text/markdown": [
       "'WHEN IN ROME, DO AS ROMANS DO'"
      ],
      "text/plain": [
       "[1] \"WHEN IN ROME, DO AS ROMANS DO\""
      ]
     },
     "metadata": {},
     "output_type": "display_data"
    }
   ],
   "source": [
    "toupper(text) #Convert to uppercase"
   ]
  },
  {
   "cell_type": "code",
   "execution_count": 18,
   "metadata": {
    "slideshow": {
     "slide_type": "fragment"
    }
   },
   "outputs": [
    {
     "data": {
      "text/html": [
       "29"
      ],
      "text/latex": [
       "29"
      ],
      "text/markdown": [
       "29"
      ],
      "text/plain": [
       "[1] 29"
      ]
     },
     "metadata": {},
     "output_type": "display_data"
    }
   ],
   "source": [
    "nchar(text) #Number of characters"
   ]
  },
  {
   "cell_type": "markdown",
   "metadata": {
    "slideshow": {
     "slide_type": "slide"
    }
   },
   "source": [
    "Others take several arguements:"
   ]
  },
  {
   "cell_type": "code",
   "execution_count": 19,
   "metadata": {
    "slideshow": {
     "slide_type": "fragment"
    }
   },
   "outputs": [
    {
     "data": {
      "text/html": [
       "'When in Rome, do as Romans do'"
      ],
      "text/latex": [
       "'When in Rome, do as Romans do'"
      ],
      "text/markdown": [
       "'When in Rome, do as Romans do'"
      ],
      "text/plain": [
       "[1] \"When in Rome, do as Romans do\""
      ]
     },
     "metadata": {},
     "output_type": "display_data"
    }
   ],
   "source": [
    "gsub(\"world\", \"cheese\", text) #Pattern replacement"
   ]
  },
  {
   "cell_type": "markdown",
   "metadata": {
    "slideshow": {
     "slide_type": "slide"
    }
   },
   "source": [
    "When you run a commmand that R doesn't know, R will throw an error:"
   ]
  },
  {
   "cell_type": "code",
   "execution_count": 20,
   "metadata": {
    "slideshow": {
     "slide_type": "fragment"
    }
   },
   "outputs": [
    {
     "ename": "ERROR",
     "evalue": "Error in finish_sentece(\"when in Rome\"): could not find function \"finish_sentece\"\n",
     "output_type": "error",
     "traceback": [
      "Error in finish_sentece(\"when in Rome\"): could not find function \"finish_sentece\"\nTraceback:\n"
     ]
    }
   ],
   "source": [
    "finish_sentece(\"when in Rome\")"
   ]
  },
  {
   "cell_type": "markdown",
   "metadata": {
    "slideshow": {
     "slide_type": "fragment"
    }
   },
   "source": [
    "The commands in R are virtually endless, as you are able to create your own:"
   ]
  },
  {
   "cell_type": "code",
   "execution_count": 21,
   "metadata": {
    "slideshow": {
     "slide_type": "-"
    }
   },
   "outputs": [
    {
     "name": "stdout",
     "output_type": "stream",
     "text": [
      "[1] \"when in Rome, do as Romans do\"\n"
     ]
    }
   ],
   "source": [
    "finish_sentence <- function(text) {\n",
    "    output = paste0(text, \", do as Romans do\")\n",
    "    print(output)\n",
    "}\n",
    "\n",
    "finish_sentence(\"when in Rome\")"
   ]
  },
  {
   "cell_type": "markdown",
   "metadata": {
    "slideshow": {
     "slide_type": "slide"
    }
   },
   "source": [
    "### Naming objects\n",
    "Objects can be named almost anything but a good rule of thumb is to use names that are indicative of what the object contains.\n",
    "\n",
    "#### Restrictions for naming objects\n",
    "- Most special characters not allowed: `/`, `?`, `*`, `+` and so on (most characters mean something to R and will be read as an expression)\n",
    "- Already existing names in R (will overwrite the function/object in the environment)\n",
    "\n",
    "#### Good naming conventions \n",
    "- Using '`_`': `my_object`, `room_number`\n",
    "\n",
    "or:\n",
    "\n",
    "- Capitalize each word except the first: `myObject`, `roomNumber`"
   ]
  },
  {
   "cell_type": "markdown",
   "metadata": {
    "slideshow": {
     "slide_type": "slide"
    }
   },
   "source": [
    "## Different types of objects (classes)\n",
    "R distinguishes between different types of objects.\n",
    "\n",
    "An objects is stored as a *class*. The class denotes what type of object it is and affects what operations are possible."
   ]
  },
  {
   "cell_type": "markdown",
   "metadata": {
    "slideshow": {
     "slide_type": "slide"
    }
   },
   "source": [
    "### Numeric and character classes\n",
    "As you work with R, you will encounter a lot of different classes. For now we will be focusing on two of the more common ones:\n",
    "- Numeric classes\n",
    "- Character classes\n",
    "\n",
    "Numbers are automatically stored as a numeric class (or one of the variants: double, integer etc.).\n",
    "\n",
    "When using `''` or `\"\"` around the information to be stored in the object, R will interpret that as text; meaning it will be stored as a character class. \n",
    "\n",
    "*Numbers enclosed in `''` or `\"\"` are therefore stored as a character class, as R interprets it as text!*\n",
    "\n",
    "R has to be told that something is text as R would otherwise interpret it as an object."
   ]
  },
  {
   "cell_type": "markdown",
   "metadata": {
    "slideshow": {
     "slide_type": "slide"
    }
   },
   "source": [
    "## The logical class\n",
    "Logicals are *boolean* objects meaning they will either have the value `TRUE` or `FALSE`.\n",
    "\n",
    "When using the following operators (among others), R will interpret it as a logical class:\n",
    "- `>`\n",
    "- `>=`\n",
    "- `<`\n",
    "- `<=`\n",
    "- `==`\n",
    "- `!=`\n",
    "\n",
    "Logicals can be used in functions, loops and if-statements to ensure that a certain condition is met before something is run.\n",
    "\n",
    "Certain functions will also return boolean values:"
   ]
  },
  {
   "cell_type": "code",
   "execution_count": 13,
   "metadata": {},
   "outputs": [
    {
     "data": {
      "text/html": [
       "FALSE"
      ],
      "text/latex": [
       "FALSE"
      ],
      "text/markdown": [
       "FALSE"
      ],
      "text/plain": [
       "[1] FALSE"
      ]
     },
     "metadata": {},
     "output_type": "display_data"
    }
   ],
   "source": [
    "startsWith(\"t\", text)"
   ]
  },
  {
   "cell_type": "markdown",
   "metadata": {
    "slideshow": {
     "slide_type": "slide"
    }
   },
   "source": [
    "## EXERCISE: REFRESHER\n",
    "\n",
    "1. Find two text snippets and assign each to its own object (fx text snippets from https://gutenberg.org/files/22381/22381.txt)\n",
    "\n",
    "2. Determine which text snippet is longest using the function `nchar()`\n",
    "\n",
    "3. Use a logical operator to get R to tell you, whether your text snippets have more than 400 characters."
   ]
  }
 ],
 "metadata": {
  "kernelspec": {
   "display_name": "R",
   "language": "R",
   "name": "ir"
  },
  "language_info": {
   "codemirror_mode": "r",
   "file_extension": ".r",
   "mimetype": "text/x-r-source",
   "name": "R",
   "pygments_lexer": "r",
   "version": "3.6.3"
  }
 },
 "nbformat": 4,
 "nbformat_minor": 4
}
