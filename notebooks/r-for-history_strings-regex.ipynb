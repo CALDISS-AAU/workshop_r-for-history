{
 "cells": [
  {
   "cell_type": "markdown",
   "metadata": {
    "slideshow": {
     "slide_type": "slide"
    }
   },
   "source": [
    "# Working with strings: The `stringr` package\n",
    "To ensure a common workflow and package use, we will try to stick to packages from the \"Tidyverse\" as much as possible: https://www.tidyverse.org/\n",
    "\n",
    "These packages are all developed with a consistent syntax for the functions and are all well-documented, used and tested.\n",
    "\n",
    "The packages in the tidyverse are best for working with \"tidy data\": A data format where each row in a data set is a unique observation. \n",
    "\n",
    "The package `stringr` is a tidyverse package for working with strings. Install it with `install.packages('stringr')`.\n",
    "\n",
    "When installed, load it with `library(stringr)`. Write it into your script. (Good practice is to either write it at the very beginning or just before you are using the commands from the package)."
   ]
  },
  {
   "cell_type": "code",
   "execution_count": 24,
   "metadata": {
    "slideshow": {
     "slide_type": "skip"
    }
   },
   "outputs": [],
   "source": [
    "library(stringr)"
   ]
  },
  {
   "cell_type": "markdown",
   "metadata": {
    "slideshow": {
     "slide_type": "slide"
    }
   },
   "source": [
    "`stringr` can be used in a variety of different ways."
   ]
  },
  {
   "cell_type": "code",
   "execution_count": 39,
   "metadata": {},
   "outputs": [],
   "source": [
    "text <- \"The Greeks believed that the mental qualifications of their gods were of a\n",
    "much higher order than those of men, but nevertheless, as we shall see,\n",
    "they were not considered to be exempt from human passions, and we\n",
    "frequently behold them actuated by revenge, deceit, and jealousy. They,\n",
    "however, always punish the evil-doer, and visit with dire calamities any\n",
    "impious mortal who dares to neglect their worship or despise their rites.\n",
    "We often hear of them visiting mankind and partaking of their hospitality,\n",
    "and not unfrequently both gods and goddesses {8} become attached to\n",
    "mortals, with whom they unite themselves, the offspring of these unions\n",
    "being called heroes or demi-gods, who were usually renowned for their great\n",
    "strength and courage. But although there were so many points of resemblance\n",
    "between gods and men, there remained the one great characteristic\n",
    "distinction, viz., that the gods enjoyed immortality. Still, they were not\n",
    "invulnerable, and we often hear of them being wounded, and suffering in\n",
    "consequence such exquisite torture that they have earnestly prayed to be\n",
    "deprived of their privilege of immortality.\""
   ]
  },
  {
   "cell_type": "markdown",
   "metadata": {},
   "source": [
    "Functions from `stringr` primarily follow the same structure: `function(textinput, arguement, ...)`\n",
    "\n",
    "`str_replace_all` is fx used to replace bits of text (like `gsub`)."
   ]
  },
  {
   "cell_type": "code",
   "execution_count": 40,
   "metadata": {},
   "outputs": [],
   "source": [
    "text <- str_replace_all(text, \"\\\\n\", \" \")"
   ]
  },
  {
   "cell_type": "code",
   "execution_count": 41,
   "metadata": {
    "slideshow": {
     "slide_type": "fragment"
    }
   },
   "outputs": [
    {
     "data": {
      "text/html": [
       "'the greeks believed that the mental qualifications of their gods were of a much higher order than those of men, but nevertheless, as we shall see, they were not considered to be exempt from human passions, and we frequently behold them actuated by revenge, deceit, and jealousy. they, however, always punish the evil-doer, and visit with dire calamities any impious mortal who dares to neglect their worship or despise their rites. we often hear of them visiting mankind and partaking of their hospitality, and not unfrequently both gods and goddesses {8} become attached to mortals, with whom they unite themselves, the offspring of these unions being called heroes or demi-gods, who were usually renowned for their great strength and courage. but although there were so many points of resemblance between gods and men, there remained the one great characteristic distinction, viz., that the gods enjoyed immortality. still, they were not invulnerable, and we often hear of them being wounded, and suffering in consequence such exquisite torture that they have earnestly prayed to be deprived of their privilege of immortality.'"
      ],
      "text/latex": [
       "'the greeks believed that the mental qualifications of their gods were of a much higher order than those of men, but nevertheless, as we shall see, they were not considered to be exempt from human passions, and we frequently behold them actuated by revenge, deceit, and jealousy. they, however, always punish the evil-doer, and visit with dire calamities any impious mortal who dares to neglect their worship or despise their rites. we often hear of them visiting mankind and partaking of their hospitality, and not unfrequently both gods and goddesses \\{8\\} become attached to mortals, with whom they unite themselves, the offspring of these unions being called heroes or demi-gods, who were usually renowned for their great strength and courage. but although there were so many points of resemblance between gods and men, there remained the one great characteristic distinction, viz., that the gods enjoyed immortality. still, they were not invulnerable, and we often hear of them being wounded, and suffering in consequence such exquisite torture that they have earnestly prayed to be deprived of their privilege of immortality.'"
      ],
      "text/markdown": [
       "'the greeks believed that the mental qualifications of their gods were of a much higher order than those of men, but nevertheless, as we shall see, they were not considered to be exempt from human passions, and we frequently behold them actuated by revenge, deceit, and jealousy. they, however, always punish the evil-doer, and visit with dire calamities any impious mortal who dares to neglect their worship or despise their rites. we often hear of them visiting mankind and partaking of their hospitality, and not unfrequently both gods and goddesses {8} become attached to mortals, with whom they unite themselves, the offspring of these unions being called heroes or demi-gods, who were usually renowned for their great strength and courage. but although there were so many points of resemblance between gods and men, there remained the one great characteristic distinction, viz., that the gods enjoyed immortality. still, they were not invulnerable, and we often hear of them being wounded, and suffering in consequence such exquisite torture that they have earnestly prayed to be deprived of their privilege of immortality.'"
      ],
      "text/plain": [
       "[1] \"the greeks believed that the mental qualifications of their gods were of a much higher order than those of men, but nevertheless, as we shall see, they were not considered to be exempt from human passions, and we frequently behold them actuated by revenge, deceit, and jealousy. they, however, always punish the evil-doer, and visit with dire calamities any impious mortal who dares to neglect their worship or despise their rites. we often hear of them visiting mankind and partaking of their hospitality, and not unfrequently both gods and goddesses {8} become attached to mortals, with whom they unite themselves, the offspring of these unions being called heroes or demi-gods, who were usually renowned for their great strength and courage. but although there were so many points of resemblance between gods and men, there remained the one great characteristic distinction, viz., that the gods enjoyed immortality. still, they were not invulnerable, and we often hear of them being wounded, and suffering in consequence such exquisite torture that they have earnestly prayed to be deprived of their privilege of immortality.\""
      ]
     },
     "metadata": {},
     "output_type": "display_data"
    }
   ],
   "source": [
    "# Changing case (here to lowercase)\n",
    "str_to_lower(text)"
   ]
  },
  {
   "cell_type": "code",
   "execution_count": 42,
   "metadata": {
    "slideshow": {
     "slide_type": "fragment"
    }
   },
   "outputs": [
    {
     "data": {
      "text/html": [
       "TRUE"
      ],
      "text/latex": [
       "TRUE"
      ],
      "text/markdown": [
       "TRUE"
      ],
      "text/plain": [
       "[1] TRUE"
      ]
     },
     "metadata": {},
     "output_type": "display_data"
    }
   ],
   "source": [
    "# Looking up words\n",
    "str_detect(text, \"god\")"
   ]
  },
  {
   "cell_type": "code",
   "execution_count": 43,
   "metadata": {
    "slideshow": {
     "slide_type": "fragment"
    }
   },
   "outputs": [
    {
     "data": {
      "text/html": [
       "6"
      ],
      "text/latex": [
       "6"
      ],
      "text/markdown": [
       "6"
      ],
      "text/plain": [
       "[1] 6"
      ]
     },
     "metadata": {},
     "output_type": "display_data"
    }
   ],
   "source": [
    "# Counting matches\n",
    "str_count(text, \"god\")"
   ]
  },
  {
   "cell_type": "markdown",
   "metadata": {
    "slideshow": {
     "slide_type": "slide"
    }
   },
   "source": [
    "## Regular expressions\n",
    "Often when working with text, we have more \"fuzzy\" patterns we want to search for. \n",
    "\n",
    "Regular expression is a common language for processing text patterns.\n",
    "\n",
    "`stringr` supports regular expression arguements.\n",
    "\n",
    "Possible uses:\n",
    "- Finding words of a certain length\n",
    "- Finding sentences containing a certain word or pattern\n",
    "- Finding words following a certain pattern\n",
    "- and so on.\n",
    "\n",
    "Regular expression (or \"regex\") can be used in most function in `stringr`. "
   ]
  },
  {
   "cell_type": "markdown",
   "metadata": {
    "slideshow": {
     "slide_type": "slide"
    }
   },
   "source": [
    "The function `str_detect()` is used to check whether a string contains a specific text or pattern."
   ]
  },
  {
   "cell_type": "code",
   "execution_count": 44,
   "metadata": {
    "slideshow": {
     "slide_type": "skip"
    }
   },
   "outputs": [
    {
     "data": {
      "text/html": [
       "TRUE"
      ],
      "text/latex": [
       "TRUE"
      ],
      "text/markdown": [
       "TRUE"
      ],
      "text/plain": [
       "[1] TRUE"
      ]
     },
     "metadata": {},
     "output_type": "display_data"
    }
   ],
   "source": [
    "# Detecting literal\n",
    "\n",
    "str_detect(text, \"god\")"
   ]
  },
  {
   "cell_type": "code",
   "execution_count": 45,
   "metadata": {},
   "outputs": [
    {
     "data": {
      "text/html": [
       "TRUE"
      ],
      "text/latex": [
       "TRUE"
      ],
      "text/markdown": [
       "TRUE"
      ],
      "text/plain": [
       "[1] TRUE"
      ]
     },
     "metadata": {},
     "output_type": "display_data"
    }
   ],
   "source": [
    "# Using modifier to specify that text should be matched literally\n",
    "\n",
    "str_detect(text, fixed(\"god\"))"
   ]
  },
  {
   "cell_type": "markdown",
   "metadata": {},
   "source": [
    "### Operators for matching in regular expression\n",
    "\n",
    "Regular expression uses different operators to match specific patterns in a text. Some general operators include:\n",
    "\n",
    "|Character|Description|\n",
    "|--|--|\n",
    "|.|Match any character|\n",
    "|^|Match beginning of string|\n",
    "|$|Match end of string|\n",
    "|\\||Either or|\n",
    "|?|Match zero or once|\n",
    "|+|Match once or more|\n",
    "|*|Match zero or more|\n",
    "|{x,y}|Match between x and y times|\n",
    "\n",
    "\n",
    "`str_extract_all()` extracts all text snippets matching the pattern. To normalize, we convert all text to lower-case:"
   ]
  },
  {
   "cell_type": "code",
   "execution_count": 50,
   "metadata": {},
   "outputs": [
    {
     "data": {
      "text/html": [
       "<ol>\n",
       "\t<li><ol class=list-inline>\n",
       "\t<li>' of their gods were of '</li>\n",
       "\t<li>'ntly both gods and godd'</li>\n",
       "\t<li>'ng called heroes or demi'</li>\n",
       "\t<li>'e between gods and men,'</li>\n",
       "\t<li>' that the gods enjoyed '</li>\n",
       "</ol>\n",
       "</li>\n",
       "</ol>\n"
      ],
      "text/latex": [
       "\\begin{enumerate}\n",
       "\\item \\begin{enumerate*}\n",
       "\\item ' of their gods were of '\n",
       "\\item 'ntly both gods and godd'\n",
       "\\item 'ng called heroes or demi'\n",
       "\\item 'e between gods and men,'\n",
       "\\item ' that the gods enjoyed '\n",
       "\\end{enumerate*}\n",
       "\n",
       "\\end{enumerate}\n"
      ],
      "text/markdown": [
       "1. 1. ' of their gods were of '\n",
       "2. 'ntly both gods and godd'\n",
       "3. 'ng called heroes or demi'\n",
       "4. 'e between gods and men,'\n",
       "5. ' that the gods enjoyed '\n",
       "\n",
       "\n",
       "\n",
       "\n",
       "\n"
      ],
      "text/plain": [
       "[[1]]\n",
       "[1] \" of their gods were of \"  \"ntly both gods and godd\" \n",
       "[3] \"ng called heroes or demi\" \"e between gods and men,\" \n",
       "[5] \" that the gods enjoyed \" \n"
      ]
     },
     "metadata": {},
     "output_type": "display_data"
    }
   ],
   "source": [
    "text_lower <- str_to_lower(text)\n",
    "\n",
    "# Extract 10 characters on each side of \"god\" or \"hero\"\n",
    "str_extract_all(text_lower, \".{10}(god|hero).{10}\")"
   ]
  },
  {
   "cell_type": "markdown",
   "metadata": {},
   "source": [
    "### Special characters in regular expression\n",
    "\n",
    "Regular expression uses a seris of special characters to match specific character types. These usually are denoted by a single backslash (\"\\\") but R uses double backslash (\"\\\\\"). Some of these special characters include:\n",
    "\n",
    "|Character|Description|\n",
    "|--|--|\n",
    "|\\\\\\w|Any word character|\n",
    "|\\\\\\W|Non-word character (like a space or newline)|\n",
    "|\\\\\\d|Digit|\n",
    "|\\\\\\s|Whitespace|\n",
    "|\\\\\\S|Non-whitespace|\n",
    "|\\\\\\n|Newline|\n",
    "|\\\\\\b|Word boundary|\n",
    "\n",
    "#### Sets and groups\n",
    "\n",
    "Regular expression supports matching sets of characters using `[]`. Fx `[0-9]` matches numbers between 0-9.\n",
    "\n",
    "It is also possible to specify \"groups\". Groups in regular expression can be seen as \"subpatterns\". This allows fx to specify a pattern that has to be matched one or more times as part of a longer pattern. Groups are created using `()`."
   ]
  },
  {
   "cell_type": "code",
   "execution_count": 55,
   "metadata": {},
   "outputs": [
    {
     "data": {
      "text/html": [
       "<ol>\n",
       "\t<li><ol class=list-inline>\n",
       "\t<li>'deceit'</li>\n",
       "\t<li>'doer'</li>\n",
       "\t<li>'dire'</li>\n",
       "\t<li>'dares'</li>\n",
       "\t<li>'despise'</li>\n",
       "\t<li>'demi-gods'</li>\n",
       "\t<li>'deprived'</li>\n",
       "</ol>\n",
       "</li>\n",
       "</ol>\n"
      ],
      "text/latex": [
       "\\begin{enumerate}\n",
       "\\item \\begin{enumerate*}\n",
       "\\item 'deceit'\n",
       "\\item 'doer'\n",
       "\\item 'dire'\n",
       "\\item 'dares'\n",
       "\\item 'despise'\n",
       "\\item 'demi-gods'\n",
       "\\item 'deprived'\n",
       "\\end{enumerate*}\n",
       "\n",
       "\\end{enumerate}\n"
      ],
      "text/markdown": [
       "1. 1. 'deceit'\n",
       "2. 'doer'\n",
       "3. 'dire'\n",
       "4. 'dares'\n",
       "5. 'despise'\n",
       "6. 'demi-gods'\n",
       "7. 'deprived'\n",
       "\n",
       "\n",
       "\n",
       "\n",
       "\n"
      ],
      "text/plain": [
       "[[1]]\n",
       "[1] \"deceit\"    \"doer\"      \"dire\"      \"dares\"     \"despise\"   \"demi-gods\"\n",
       "[7] \"deprived\" \n"
      ]
     },
     "metadata": {},
     "output_type": "display_data"
    }
   ],
   "source": [
    "# Find all words beginning with \"d\" with a max length of 10 characters\n",
    "str_extract_all(text_lower, \"\\\\bd\\\\S{1,9}\\\\b\")"
   ]
  },
  {
   "cell_type": "markdown",
   "metadata": {},
   "source": [
    "Notice the difference between using \"\\\\S\" (non-whitespace) and \"\\\\w\" (word character):"
   ]
  },
  {
   "cell_type": "code",
   "execution_count": 56,
   "metadata": {},
   "outputs": [
    {
     "data": {
      "text/html": [
       "<ol>\n",
       "\t<li><ol class=list-inline>\n",
       "\t<li>'deceit'</li>\n",
       "\t<li>'doer'</li>\n",
       "\t<li>'dire'</li>\n",
       "\t<li>'dares'</li>\n",
       "\t<li>'despise'</li>\n",
       "\t<li>'demi'</li>\n",
       "\t<li>'deprived'</li>\n",
       "</ol>\n",
       "</li>\n",
       "</ol>\n"
      ],
      "text/latex": [
       "\\begin{enumerate}\n",
       "\\item \\begin{enumerate*}\n",
       "\\item 'deceit'\n",
       "\\item 'doer'\n",
       "\\item 'dire'\n",
       "\\item 'dares'\n",
       "\\item 'despise'\n",
       "\\item 'demi'\n",
       "\\item 'deprived'\n",
       "\\end{enumerate*}\n",
       "\n",
       "\\end{enumerate}\n"
      ],
      "text/markdown": [
       "1. 1. 'deceit'\n",
       "2. 'doer'\n",
       "3. 'dire'\n",
       "4. 'dares'\n",
       "5. 'despise'\n",
       "6. 'demi'\n",
       "7. 'deprived'\n",
       "\n",
       "\n",
       "\n",
       "\n",
       "\n"
      ],
      "text/plain": [
       "[[1]]\n",
       "[1] \"deceit\"   \"doer\"     \"dire\"     \"dares\"    \"despise\"  \"demi\"     \"deprived\"\n"
      ]
     },
     "metadata": {},
     "output_type": "display_data"
    }
   ],
   "source": [
    "str_extract_all(text_lower, \"\\\\bd\\\\w{1,9}\\\\b\")"
   ]
  },
  {
   "cell_type": "markdown",
   "metadata": {},
   "source": [
    "### Escape characters\n",
    "\n",
    "Because characters like ?, ., + etc. are used in regular expression, one has to specify differently, if the pattern should match those characters as is.\n",
    "\n",
    "This is refered to as \"escaping\" the character. This is usually achieved with single backslash, but R uses double backslash (\"\\\\\"):"
   ]
  },
  {
   "cell_type": "code",
   "execution_count": 97,
   "metadata": {},
   "outputs": [
    {
     "data": {
      "text/html": [
       "<ol>\n",
       "\t<li><ol class=list-inline>\n",
       "\t<li>'jealousy.'</li>\n",
       "\t<li>'rites.'</li>\n",
       "\t<li>'courage.'</li>\n",
       "\t<li>'viz.'</li>\n",
       "\t<li>'immortality.'</li>\n",
       "\t<li>'immortality.'</li>\n",
       "</ol>\n",
       "</li>\n",
       "</ol>\n"
      ],
      "text/latex": [
       "\\begin{enumerate}\n",
       "\\item \\begin{enumerate*}\n",
       "\\item 'jealousy.'\n",
       "\\item 'rites.'\n",
       "\\item 'courage.'\n",
       "\\item 'viz.'\n",
       "\\item 'immortality.'\n",
       "\\item 'immortality.'\n",
       "\\end{enumerate*}\n",
       "\n",
       "\\end{enumerate}\n"
      ],
      "text/markdown": [
       "1. 1. 'jealousy.'\n",
       "2. 'rites.'\n",
       "3. 'courage.'\n",
       "4. 'viz.'\n",
       "5. 'immortality.'\n",
       "6. 'immortality.'\n",
       "\n",
       "\n",
       "\n",
       "\n",
       "\n"
      ],
      "text/plain": [
       "[[1]]\n",
       "[1] \"jealousy.\"    \"rites.\"       \"courage.\"     \"viz.\"         \"immortality.\"\n",
       "[6] \"immortality.\"\n"
      ]
     },
     "metadata": {},
     "output_type": "display_data"
    }
   ],
   "source": [
    "# Find words followed by a period:\n",
    "\n",
    "str_extract_all(text, \"\\\\b\\\\S+\\\\.\")"
   ]
  },
  {
   "cell_type": "markdown",
   "metadata": {},
   "source": [
    "### Look ahead and look behinid\n",
    "\n",
    "When using regular expression for extracting text pieces, it can be useful to specify what should follow or precede the pattern without capturing it.\n",
    "\n",
    "This can be exceed using operators for look ahead and look behind:\n",
    "\n",
    "|Character|Description|\n",
    "|--|--|\n",
    "|(?=)|Positive look ahead|\n",
    "|(?!)|Negative look ahead|\n",
    "|(?<=)|Positive look behind|\n",
    "|(?!<)|Negative look behind|"
   ]
  },
  {
   "cell_type": "code",
   "execution_count": 96,
   "metadata": {},
   "outputs": [
    {
     "data": {
      "text/html": [
       "<ol>\n",
       "\t<li><ol class=list-inline>\n",
       "\t<li>'jealousy'</li>\n",
       "\t<li>'rites'</li>\n",
       "\t<li>'courage'</li>\n",
       "\t<li>'viz'</li>\n",
       "\t<li>'immortality'</li>\n",
       "\t<li>'immortality'</li>\n",
       "</ol>\n",
       "</li>\n",
       "</ol>\n"
      ],
      "text/latex": [
       "\\begin{enumerate}\n",
       "\\item \\begin{enumerate*}\n",
       "\\item 'jealousy'\n",
       "\\item 'rites'\n",
       "\\item 'courage'\n",
       "\\item 'viz'\n",
       "\\item 'immortality'\n",
       "\\item 'immortality'\n",
       "\\end{enumerate*}\n",
       "\n",
       "\\end{enumerate}\n"
      ],
      "text/markdown": [
       "1. 1. 'jealousy'\n",
       "2. 'rites'\n",
       "3. 'courage'\n",
       "4. 'viz'\n",
       "5. 'immortality'\n",
       "6. 'immortality'\n",
       "\n",
       "\n",
       "\n",
       "\n",
       "\n"
      ],
      "text/plain": [
       "[[1]]\n",
       "[1] \"jealousy\"    \"rites\"       \"courage\"     \"viz\"         \"immortality\"\n",
       "[6] \"immortality\"\n"
      ]
     },
     "metadata": {},
     "output_type": "display_data"
    }
   ],
   "source": [
    "# Find words followed by a period, excluding the period:\n",
    "\n",
    "str_extract_all(text, \"\\\\b\\\\S+(?=\\\\.)\")"
   ]
  },
  {
   "cell_type": "markdown",
   "metadata": {
    "slideshow": {
     "slide_type": "slide"
    }
   },
   "source": [
    "## EXERCISE: REGULAR EXPRESSIONS\n",
    "\n",
    "1. Write a regular expression pattern that matches words beginning with \"d\" with a minimum length of 5 characters.\n",
    "    -  Use `str_extract_all()` to test whether it works\n",
    "\n",
    "\n",
    "2. Use `str_count` together with your regular expression to determine, how many matches there are in your text snippets"
   ]
  }
 ],
 "metadata": {
  "kernelspec": {
   "display_name": "R",
   "language": "R",
   "name": "ir"
  },
  "language_info": {
   "codemirror_mode": "r",
   "file_extension": ".r",
   "mimetype": "text/x-r-source",
   "name": "R",
   "pygments_lexer": "r",
   "version": "3.6.3"
  }
 },
 "nbformat": 4,
 "nbformat_minor": 4
}
