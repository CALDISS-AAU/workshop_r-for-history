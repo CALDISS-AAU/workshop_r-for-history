{
 "cells": [
  {
   "cell_type": "markdown",
   "metadata": {
    "slideshow": {
     "slide_type": "skip"
    }
   },
   "source": [
    "# Refresher?\n",
    "If including refresher: Go through part-1-refresher in the code folder. Then give the exercise below. Otherwise skip to cell on data frames."
   ]
  },
  {
   "cell_type": "markdown",
   "metadata": {
    "slideshow": {
     "slide_type": "slide"
    }
   },
   "source": [
    "# EXERCISE 0: REFRESHER\n",
    "\n",
    "1. Load the package `stringr` into your environment (if not installed, install with `install.packages('stringr')`).\n",
    "2. Assign the paragraph below to an object using `<-` (name the object how you see fit):\n",
    "\n",
    "\"CALLISTO, the daughter of Lycaon, king of Arcadia, was a huntress in the train of Artemis, devoted to the pleasures of the chase, who had made a vow never to marry; but Zeus, under the form of the huntress-goddess, succeeded in obtaining her affections. Hera, being extremely jealous of her, changed her into a bear, and caused Artemis (who failed to recognize her attendant under this form) to hunt her in the chase, and put an end to her existence. After her death she was placed by Zeus among the stars as a constellation, under the name of Arctos, or the bear.\"\n",
    "\n",
    "3. Check the class of the object using `class()`. What class is it?\n",
    "4. Create a vector of sentences from the paragrpah using `str_split`. Split at `.` and `,` (`pattern = \",|\\\\.\"`). You can consult the help file with `?str_split`.\n",
    "    - Note that `str_split` returns a list. Use `unlist()` to coerce it to a vector.\n",
    "5. Check the length of the vector using `length()`. How many sentences?\n",
    "6. Find the sentences containing \"Artemis\" using `str_subset()`."
   ]
  },
  {
   "cell_type": "markdown",
   "metadata": {
    "slideshow": {
     "slide_type": "slide"
    }
   },
   "source": [
    "# R Objects: Data Frames\n",
    "A \"data frame\" is the R-equivalent of a spreadsheet (a table of rows and columns). It is one of the most useful storage structures for data analysis in R.\n",
    "\n",
    "Typically rows consist of individual observations and the columns of the different variables (tidy data).\n",
    "\n",
    "Data frames are useful formats regardless of working with text, numbers, dates etc."
   ]
  },
  {
   "cell_type": "markdown",
   "metadata": {
    "slideshow": {
     "slide_type": "slide"
    }
   },
   "source": [
    "# Text as data frames: The `tidytext` package\n",
    "\n",
    "`tidytext` is a package useful for working with texts as dataframes.\n",
    "\n",
    "It provides a lot of simple functions for converting text to tokens (individual text elements).\n",
    "\n",
    "Combined with other functionality in the tidyverse, it is easy to create simple summaries.\n",
    "\n",
    "Install the packages `tidytext` and `gutenbergr` (contains the texts from the Gutenberg project: https://www.gutenberg.org/).\n",
    "\n",
    "(as I'm not sure whether it is included, install `dplyr` as well. Alternatively install `tidyverse`.)"
   ]
  },
  {
   "cell_type": "markdown",
   "metadata": {
    "slideshow": {
     "slide_type": "fragment"
    }
   },
   "source": [
    "Let's inspect a single text from the Gutenberg project: \"Myths and Legends of Ancient Greece and Rome\" by E.M. Berens.\n",
    "\n",
    "The command below downloads the text as a dataframe."
   ]
  },
  {
   "cell_type": "code",
   "execution_count": 42,
   "metadata": {
    "slideshow": {
     "slide_type": "skip"
    }
   },
   "outputs": [
    {
     "name": "stderr",
     "output_type": "stream",
     "text": [
      "\n",
      "Attaching package: 'dplyr'\n",
      "\n",
      "The following objects are masked from 'package:stats':\n",
      "\n",
      "    filter, lag\n",
      "\n",
      "The following objects are masked from 'package:base':\n",
      "\n",
      "    intersect, setdiff, setequal, union\n",
      "\n"
     ]
    }
   ],
   "source": [
    "library(tidytext)\n",
    "library(gutenbergr)\n",
    "library(dplyr)"
   ]
  },
  {
   "cell_type": "code",
   "execution_count": 43,
   "metadata": {
    "slideshow": {
     "slide_type": "fragment"
    }
   },
   "outputs": [
    {
     "name": "stderr",
     "output_type": "stream",
     "text": [
      "Determining mirror for Project Gutenberg from http://www.gutenberg.org/robot/harvest\n",
      "Using mirror http://aleph.gutenberg.org\n"
     ]
    }
   ],
   "source": [
    "# Downloading the text \"Myths and Legends of Ancient Greece and Rome\" by E.M. Berens\n",
    "text_df <- gutenberg_download(22381)"
   ]
  },
  {
   "cell_type": "markdown",
   "metadata": {
    "slideshow": {
     "slide_type": "slide"
    }
   },
   "source": [
    "## Exploring Data Frames\n",
    "To get an idea of what the data contains, we can use `head()`:"
   ]
  },
  {
   "cell_type": "code",
   "execution_count": 44,
   "metadata": {
    "slideshow": {
     "slide_type": "-"
    }
   },
   "outputs": [
    {
     "data": {
      "text/html": [
       "<table>\n",
       "<thead><tr><th scope=col>gutenberg_id</th><th scope=col>text</th></tr></thead>\n",
       "<tbody>\n",
       "\t<tr><td>22381                                   </td><td>_A HAND-BOOK OF MYTHOLOGY._             </td></tr>\n",
       "\t<tr><td>22381                                   </td><td>                                        </td></tr>\n",
       "\t<tr><td>22381                                   </td><td>       *       *       *       *       *</td></tr>\n",
       "\t<tr><td>22381                                   </td><td>                                        </td></tr>\n",
       "\t<tr><td>22381                                   </td><td>THE                                     </td></tr>\n",
       "\t<tr><td>22381                                   </td><td>                                        </td></tr>\n",
       "</tbody>\n",
       "</table>\n"
      ],
      "text/latex": [
       "\\begin{tabular}{r|ll}\n",
       " gutenberg\\_id & text\\\\\n",
       "\\hline\n",
       "\t 22381                                        & \\_A HAND-BOOK OF MYTHOLOGY.\\_             \\\\\n",
       "\t 22381                                    &                                         \\\\\n",
       "\t 22381                                    &        *       *       *       *       *\\\\\n",
       "\t 22381                                    &                                         \\\\\n",
       "\t 22381                                    & THE                                     \\\\\n",
       "\t 22381                                    &                                         \\\\\n",
       "\\end{tabular}\n"
      ],
      "text/markdown": [
       "\n",
       "| gutenberg_id | text |\n",
       "|---|---|\n",
       "| 22381                                    | _A HAND-BOOK OF MYTHOLOGY._              |\n",
       "| 22381                                    |                                          |\n",
       "| 22381                                    |        *       *       *       *       * |\n",
       "| 22381                                    |                                          |\n",
       "| 22381                                    | THE                                      |\n",
       "| 22381                                    |                                          |\n",
       "\n"
      ],
      "text/plain": [
       "  gutenberg_id text                                    \n",
       "1 22381        _A HAND-BOOK OF MYTHOLOGY._             \n",
       "2 22381                                                \n",
       "3 22381               *       *       *       *       *\n",
       "4 22381                                                \n",
       "5 22381        THE                                     \n",
       "6 22381                                                "
      ]
     },
     "metadata": {},
     "output_type": "display_data"
    }
   ],
   "source": [
    "head(text_df) #Shows the 6 first rows of each observation"
   ]
  },
  {
   "cell_type": "markdown",
   "metadata": {
    "slideshow": {
     "slide_type": "fragment"
    }
   },
   "source": [
    "We can check the names of the columns (the variable names) using `colnames`:"
   ]
  },
  {
   "cell_type": "code",
   "execution_count": 45,
   "metadata": {
    "slideshow": {
     "slide_type": "-"
    }
   },
   "outputs": [
    {
     "data": {
      "text/html": [
       "<ol class=list-inline>\n",
       "\t<li>'gutenberg_id'</li>\n",
       "\t<li>'text'</li>\n",
       "</ol>\n"
      ],
      "text/latex": [
       "\\begin{enumerate*}\n",
       "\\item 'gutenberg\\_id'\n",
       "\\item 'text'\n",
       "\\end{enumerate*}\n"
      ],
      "text/markdown": [
       "1. 'gutenberg_id'\n",
       "2. 'text'\n",
       "\n",
       "\n"
      ],
      "text/plain": [
       "[1] \"gutenberg_id\" \"text\"        "
      ]
     },
     "metadata": {},
     "output_type": "display_data"
    }
   ],
   "source": [
    "colnames(text_df)"
   ]
  },
  {
   "cell_type": "markdown",
   "metadata": {
    "slideshow": {
     "slide_type": "slide"
    }
   },
   "source": [
    "# BREAK\n",
    "\n",
    "![dog_plant](https://i.pinimg.com/originals/e0/ea/96/e0ea96a82a68cb3699f6aeaa9f1b8275.jpg)"
   ]
  },
  {
   "cell_type": "markdown",
   "metadata": {
    "slideshow": {
     "slide_type": "slide"
    }
   },
   "source": [
    "## Working with tidy text data\n",
    "The data frame does not make a lot of sense to work with in its current state.\n",
    "\n",
    "We can in a few simple steps create a new data frame containing counts of individual words."
   ]
  },
  {
   "cell_type": "code",
   "execution_count": 46,
   "metadata": {
    "slideshow": {
     "slide_type": "fragment"
    }
   },
   "outputs": [],
   "source": [
    "# Importing stopwords (commonly used words that are mostly void of meaning)\n",
    "data(stop_words) #the \"stop_words\" dataset is a part of the tidytext package"
   ]
  },
  {
   "cell_type": "code",
   "execution_count": 47,
   "metadata": {
    "slideshow": {
     "slide_type": "fragment"
    }
   },
   "outputs": [
    {
     "name": "stderr",
     "output_type": "stream",
     "text": [
      "Joining, by = \"word\"\n"
     ]
    }
   ],
   "source": [
    "# Unnesting tokens - similar to splitting. Splits individual words by default and converts to lower case\n",
    "tokens_df <- text_df %>% # Create object and \"pipe\" (%>%). This tells R to use the newly created object in the next line\n",
    "  unnest_tokens(word, text) %>% #unnest tokens. first arg is the new column, second is the old\n",
    "  anti_join(stop_words) #filters out rows containing stop words"
   ]
  },
  {
   "cell_type": "code",
   "execution_count": 48,
   "metadata": {
    "slideshow": {
     "slide_type": "fragment"
    }
   },
   "outputs": [
    {
     "data": {
      "text/html": [
       "<table>\n",
       "<thead><tr><th scope=col>gutenberg_id</th><th scope=col>word</th></tr></thead>\n",
       "<tbody>\n",
       "\t<tr><td>22381    </td><td>_a       </td></tr>\n",
       "\t<tr><td>22381    </td><td>hand     </td></tr>\n",
       "\t<tr><td>22381    </td><td>book     </td></tr>\n",
       "\t<tr><td>22381    </td><td>mythology</td></tr>\n",
       "\t<tr><td>22381    </td><td>myths    </td></tr>\n",
       "\t<tr><td>22381    </td><td>legends  </td></tr>\n",
       "</tbody>\n",
       "</table>\n"
      ],
      "text/latex": [
       "\\begin{tabular}{r|ll}\n",
       " gutenberg\\_id & word\\\\\n",
       "\\hline\n",
       "\t 22381       & \\_a       \\\\\n",
       "\t 22381     & hand     \\\\\n",
       "\t 22381     & book     \\\\\n",
       "\t 22381     & mythology\\\\\n",
       "\t 22381     & myths    \\\\\n",
       "\t 22381     & legends  \\\\\n",
       "\\end{tabular}\n"
      ],
      "text/markdown": [
       "\n",
       "| gutenberg_id | word |\n",
       "|---|---|\n",
       "| 22381     | _a        |\n",
       "| 22381     | hand      |\n",
       "| 22381     | book      |\n",
       "| 22381     | mythology |\n",
       "| 22381     | myths     |\n",
       "| 22381     | legends   |\n",
       "\n"
      ],
      "text/plain": [
       "  gutenberg_id word     \n",
       "1 22381        _a       \n",
       "2 22381        hand     \n",
       "3 22381        book     \n",
       "4 22381        mythology\n",
       "5 22381        myths    \n",
       "6 22381        legends  "
      ]
     },
     "metadata": {},
     "output_type": "display_data"
    }
   ],
   "source": [
    "# Print first 6 rows of new data - now a data frame with individual words as rows\n",
    "head(tokens_df)"
   ]
  },
  {
   "cell_type": "markdown",
   "metadata": {
    "slideshow": {
     "slide_type": "slide"
    }
   },
   "source": [
    "The `count` command counts up identical values and returns a data frame. This can then tell us the most common words in the text."
   ]
  },
  {
   "cell_type": "code",
   "execution_count": 49,
   "metadata": {
    "slideshow": {
     "slide_type": "-"
    }
   },
   "outputs": [
    {
     "data": {
      "text/html": [
       "<table>\n",
       "<thead><tr><th scope=col>word</th><th scope=col>n</th></tr></thead>\n",
       "<tbody>\n",
       "\t<tr><td>king    </td><td>232     </td></tr>\n",
       "\t<tr><td>zeus    </td><td>216     </td></tr>\n",
       "\t<tr><td>son     </td><td>209     </td></tr>\n",
       "\t<tr><td>gods    </td><td>199     </td></tr>\n",
       "\t<tr><td>god     </td><td>181     </td></tr>\n",
       "\t<tr><td>heracles</td><td>154     </td></tr>\n",
       "</tbody>\n",
       "</table>\n"
      ],
      "text/latex": [
       "\\begin{tabular}{r|ll}\n",
       " word & n\\\\\n",
       "\\hline\n",
       "\t king     & 232     \\\\\n",
       "\t zeus     & 216     \\\\\n",
       "\t son      & 209     \\\\\n",
       "\t gods     & 199     \\\\\n",
       "\t god      & 181     \\\\\n",
       "\t heracles & 154     \\\\\n",
       "\\end{tabular}\n"
      ],
      "text/markdown": [
       "\n",
       "| word | n |\n",
       "|---|---|\n",
       "| king     | 232      |\n",
       "| zeus     | 216      |\n",
       "| son      | 209      |\n",
       "| gods     | 199      |\n",
       "| god      | 181      |\n",
       "| heracles | 154      |\n",
       "\n"
      ],
      "text/plain": [
       "  word     n  \n",
       "1 king     232\n",
       "2 zeus     216\n",
       "3 son      209\n",
       "4 gods     199\n",
       "5 god      181\n",
       "6 heracles 154"
      ]
     },
     "metadata": {},
     "output_type": "display_data"
    }
   ],
   "source": [
    "tokens_count <- count(tokens_df, word, sort = TRUE)\n",
    "head(tokens_count)"
   ]
  },
  {
   "cell_type": "markdown",
   "metadata": {
    "slideshow": {
     "slide_type": "slide"
    }
   },
   "source": [
    "## Subsetting Data Frames\n",
    "Specific columns/variables can be called by their name using `$`:"
   ]
  },
  {
   "cell_type": "code",
   "execution_count": 50,
   "metadata": {
    "slideshow": {
     "slide_type": "-"
    }
   },
   "outputs": [
    {
     "data": {
      "text/html": [
       "<ol class=list-inline>\n",
       "\t<li>'king'</li>\n",
       "\t<li>'zeus'</li>\n",
       "\t<li>'son'</li>\n",
       "\t<li>'gods'</li>\n",
       "\t<li>'god'</li>\n",
       "\t<li>'heracles'</li>\n",
       "</ol>\n"
      ],
      "text/latex": [
       "\\begin{enumerate*}\n",
       "\\item 'king'\n",
       "\\item 'zeus'\n",
       "\\item 'son'\n",
       "\\item 'gods'\n",
       "\\item 'god'\n",
       "\\item 'heracles'\n",
       "\\end{enumerate*}\n"
      ],
      "text/markdown": [
       "1. 'king'\n",
       "2. 'zeus'\n",
       "3. 'son'\n",
       "4. 'gods'\n",
       "5. 'god'\n",
       "6. 'heracles'\n",
       "\n",
       "\n"
      ],
      "text/plain": [
       "[1] \"king\"     \"zeus\"     \"son\"      \"gods\"     \"god\"      \"heracles\""
      ]
     },
     "metadata": {},
     "output_type": "display_data"
    }
   ],
   "source": [
    "head(tokens_count$word) #6 first rows of the variable \"Miles per galon\""
   ]
  },
  {
   "cell_type": "markdown",
   "metadata": {
    "slideshow": {
     "slide_type": "fragment"
    }
   },
   "source": [
    "Data frames can also be subset via index: `[]` - either by index or column names:\n",
    "\n",
    "| Code | Description |\n",
    "|:-----|:------------|\n",
    "|`tokens_count[2, 1]` | Row 2, column 1 |\n",
    "|`tokens_count[2, \"n\"]` | Row 2, column \"n\" (column 2) |\n",
    "|`tokens_count[10, ]` | The entire 10th row |\n",
    "|`tokens_count[, 2]` | The entire 2nd column |"
   ]
  },
  {
   "cell_type": "markdown",
   "metadata": {
    "slideshow": {
     "slide_type": "subslide"
    }
   },
   "source": [
    "## Operations on a data frame\n",
    "Each column in a data frame works like a vector. Functions can therefore be used on data frame columns like they can be used on vectors:"
   ]
  },
  {
   "cell_type": "code",
   "execution_count": 51,
   "metadata": {
    "slideshow": {
     "slide_type": "fragment"
    }
   },
   "outputs": [
    {
     "data": {
      "text/html": [
       "<ol class=list-inline>\n",
       "\t<li>4</li>\n",
       "\t<li>4</li>\n",
       "\t<li>3</li>\n",
       "\t<li>4</li>\n",
       "\t<li>3</li>\n",
       "\t<li>8</li>\n",
       "</ol>\n"
      ],
      "text/latex": [
       "\\begin{enumerate*}\n",
       "\\item 4\n",
       "\\item 4\n",
       "\\item 3\n",
       "\\item 4\n",
       "\\item 3\n",
       "\\item 8\n",
       "\\end{enumerate*}\n"
      ],
      "text/markdown": [
       "1. 4\n",
       "2. 4\n",
       "3. 3\n",
       "4. 4\n",
       "5. 3\n",
       "6. 8\n",
       "\n",
       "\n"
      ],
      "text/plain": [
       "[1] 4 4 3 4 3 8"
      ]
     },
     "metadata": {},
     "output_type": "display_data"
    }
   ],
   "source": [
    "head(nchar(tokens_count$word))"
   ]
  },
  {
   "cell_type": "code",
   "execution_count": 52,
   "metadata": {
    "slideshow": {
     "slide_type": "fragment"
    }
   },
   "outputs": [
    {
     "data": {
      "text/html": [
       "<ol class=list-inline>\n",
       "\t<li>'world'</li>\n",
       "\t<li>'whilst'</li>\n",
       "\t<li>'wife'</li>\n",
       "\t<li>'war'</li>\n",
       "\t<li>'worship'</li>\n",
       "\t<li>'wine'</li>\n",
       "\t<li>'worshipped'</li>\n",
       "\t<li>'water'</li>\n",
       "\t<li>'wild'</li>\n",
       "\t<li>'waters'</li>\n",
       "\t<li>'winged'</li>\n",
       "\t<li>'walls'</li>\n",
       "\t<li>'wonderful'</li>\n",
       "\t<li>'warned'</li>\n",
       "\t<li>'winds'</li>\n",
       "\t<li>'waves'</li>\n",
       "\t<li>'woman'</li>\n",
       "\t<li>'women'</li>\n",
       "\t<li>'wounded'</li>\n",
       "\t<li>'wings'</li>\n",
       "\t<li>'wisdom'</li>\n",
       "\t<li>'words'</li>\n",
       "\t<li>'wound'</li>\n",
       "\t<li>'white'</li>\n",
       "\t<li>'weary'</li>\n",
       "\t<li>'west'</li>\n",
       "\t<li>'warriors'</li>\n",
       "\t<li>'wears'</li>\n",
       "\t<li>'welfare'</li>\n",
       "\t<li>'wooden'</li>\n",
       "\t<li>'wealth'</li>\n",
       "\t<li>'wind'</li>\n",
       "\t<li>'wood'</li>\n",
       "\t<li>'woods'</li>\n",
       "\t<li>'worthy'</li>\n",
       "\t<li>'wandered'</li>\n",
       "\t<li>'warlike'</li>\n",
       "\t<li>'watch'</li>\n",
       "\t<li>'wearing'</li>\n",
       "\t<li>'word'</li>\n",
       "\t<li>'wreath'</li>\n",
       "\t<li>'wooed'</li>\n",
       "\t<li>'wand'</li>\n",
       "\t<li>'watched'</li>\n",
       "\t<li>'wearied'</li>\n",
       "\t<li>'weather'</li>\n",
       "\t<li>'wicked'</li>\n",
       "\t<li>'worn'</li>\n",
       "\t<li>'wrath'</li>\n",
       "\t<li>'wallet'</li>\n",
       "\t<li>'winter'</li>\n",
       "\t<li>'wise'</li>\n",
       "\t<li>'wished'</li>\n",
       "\t<li>'won'</li>\n",
       "\t<li>'worshippers'</li>\n",
       "\t<li>'wrongs'</li>\n",
       "\t<li>'wealthy'</li>\n",
       "\t<li>'welcomed'</li>\n",
       "\t<li>'wore'</li>\n",
       "\t<li>'wrapt'</li>\n",
       "\t<li>'wrestling'</li>\n",
       "\t<li>'warm'</li>\n",
       "\t<li>'watchful'</li>\n",
       "\t<li>'weaving'</li>\n",
       "\t<li>'weighed'</li>\n",
       "\t<li>'wheat'</li>\n",
       "\t<li>'wheel'</li>\n",
       "\t<li>'wishing'</li>\n",
       "\t<li>'withstand'</li>\n",
       "\t<li>'witness'</li>\n",
       "\t<li>'witnessed'</li>\n",
       "\t<li>'wives'</li>\n",
       "\t<li>'workmanship'</li>\n",
       "\t<li>'wretched'</li>\n",
       "\t<li>'wafted'</li>\n",
       "\t<li>'wanderings'</li>\n",
       "\t<li>'warning'</li>\n",
       "\t<li>'warrior'</li>\n",
       "\t<li>'weapon'</li>\n",
       "\t<li>'wearer'</li>\n",
       "\t<li>'wearisome'</li>\n",
       "\t<li>'wedding'</li>\n",
       "\t<li>'weeping'</li>\n",
       "\t<li>'wept'</li>\n",
       "\t<li>'wide'</li>\n",
       "\t<li>'widowed'</li>\n",
       "\t<li>'win'</li>\n",
       "\t<li>'wolves'</li>\n",
       "\t<li>'wondering'</li>\n",
       "\t<li>'wonders'</li>\n",
       "\t<li>'woodland'</li>\n",
       "\t<li>'wrong'</li>\n",
       "\t<li>'waiting'</li>\n",
       "\t<li>'walking'</li>\n",
       "\t<li>'wanderer'</li>\n",
       "\t<li>'wandering'</li>\n",
       "\t<li>'warmly'</li>\n",
       "\t<li>'wash'</li>\n",
       "\t<li>'waste'</li>\n",
       "\t<li>'wasted'</li>\n",
       "\t<li>'watches'</li>\n",
       "\t<li>'watching'</li>\n",
       "\t<li>'wax'</li>\n",
       "\t<li>'weapons'</li>\n",
       "\t<li>'wear'</li>\n",
       "\t<li>'wedded'</li>\n",
       "\t<li>'weird'</li>\n",
       "\t<li>'wickedness'</li>\n",
       "\t<li>'widow'</li>\n",
       "\t<li>'wishes'</li>\n",
       "\t<li>'witchcraft'</li>\n",
       "\t<li>'withdrew'</li>\n",
       "\t<li>'woodpecker'</li>\n",
       "\t<li>'wounding'</li>\n",
       "\t<li>'wreaths'</li>\n",
       "\t<li>'writers'</li>\n",
       "\t<li>'waist'</li>\n",
       "\t<li>'wait'</li>\n",
       "\t<li>'walked'</li>\n",
       "\t<li>'wander'</li>\n",
       "\t<li>'warbled'</li>\n",
       "\t<li>'wares'</li>\n",
       "\t<li>'warfare'</li>\n",
       "\t<li>'warnings'</li>\n",
       "\t<li>'watered'</li>\n",
       "\t<li>'watery'</li>\n",
       "\t<li>'wayfarer'</li>\n",
       "\t<li>'weak'</li>\n",
       "\t<li>'weakness'</li>\n",
       "\t<li>'wended'</li>\n",
       "\t<li>'western'</li>\n",
       "\t<li>'whatsoever'</li>\n",
       "\t<li>'whereon'</li>\n",
       "\t<li>'whips'</li>\n",
       "\t<li>'whirlpool'</li>\n",
       "\t<li>'wicker'</li>\n",
       "\t<li>'widely'</li>\n",
       "\t<li>'wielded'</li>\n",
       "\t<li>'wig'</li>\n",
       "\t<li>'wildest'</li>\n",
       "\t<li>'wildly'</li>\n",
       "\t<li>'willingly'</li>\n",
       "\t<li>'winning'</li>\n",
       "\t<li>'wisely'</li>\n",
       "\t<li>'wisest'</li>\n",
       "\t<li>'withdrawn'</li>\n",
       "\t<li>'wits'</li>\n",
       "\t<li>'woe'</li>\n",
       "\t<li>'wolf'</li>\n",
       "\t<li>'womanhood'</li>\n",
       "\t<li>'wonderfully'</li>\n",
       "\t<li>'wondrous'</li>\n",
       "\t<li>'woody'</li>\n",
       "\t<li>'wool'</li>\n",
       "\t<li>'worker'</li>\n",
       "\t<li>'workings'</li>\n",
       "\t<li>'worshipper'</li>\n",
       "\t<li>'wounds'</li>\n",
       "\t<li>'wove'</li>\n",
       "\t<li>'woven'</li>\n",
       "\t<li>'wrapped'</li>\n",
       "\t<li>'wretch'</li>\n",
       "\t<li>'waft'</li>\n",
       "\t<li>'wagons'</li>\n",
       "\t<li>'waif'</li>\n",
       "\t<li>'waited'</li>\n",
       "\t<li>'wakeful'</li>\n",
       "\t<li>'walk'</li>\n",
       "\t<li>'walks'</li>\n",
       "\t<li>'warding'</li>\n",
       "\t<li>'wards'</li>\n",
       "\t<li>'warms'</li>\n",
       "\t<li>'warn'</li>\n",
       "\t<li>'wars'</li>\n",
       "\t<li>'washed'</li>\n",
       "\t<li>'washing'</li>\n",
       "\t<li>'waterfall'</li>\n",
       "\t<li>'waved'</li>\n",
       "\t<li>'waving'</li>\n",
       "\t<li>'wavy'</li>\n",
       "\t<li>'weakened'</li>\n",
       "\t<li>'weal'</li>\n",
       "\t<li>'weathers'</li>\n",
       "\t<li>'web'</li>\n",
       "\t<li>'weed'</li>\n",
       "\t<li>'weeds'</li>\n",
       "\t<li>'weighs'</li>\n",
       "\t<li>'weight'</li>\n",
       "\t<li>'wert'</li>\n",
       "\t<li>'wheels'</li>\n",
       "\t<li>'whichever'</li>\n",
       "\t<li>'whiling'</li>\n",
       "\t<li>'whipped'</li>\n",
       "\t<li>'whirlwind'</li>\n",
       "\t<li>'whisper'</li>\n",
       "\t<li>'whispered'</li>\n",
       "\t<li>'whizzing'</li>\n",
       "\t<li>'whomsoever'</li>\n",
       "\t<li>'whosoever'</li>\n",
       "\t<li>'widest'</li>\n",
       "\t<li>'wiles'</li>\n",
       "\t<li>'willingness'</li>\n",
       "\t<li>'willow'</li>\n",
       "\t<li>'wily'</li>\n",
       "\t<li>'winding'</li>\n",
       "\t<li>'wines'</li>\n",
       "\t<li>'wing'</li>\n",
       "\t<li>'wiser'</li>\n",
       "\t<li>'wit'</li>\n",
       "\t<li>'withdraw'</li>\n",
       "\t<li>'withdrawal'</li>\n",
       "\t<li>'withdrawing'</li>\n",
       "\t<li>'wither'</li>\n",
       "\t<li>'withheld'</li>\n",
       "\t<li>'withstood'</li>\n",
       "\t<li>'woes'</li>\n",
       "\t<li>'woman\\'s'</li>\n",
       "\t<li>'womanly'</li>\n",
       "\t<li>'wont'</li>\n",
       "\t<li>'workmen'</li>\n",
       "\t<li>'workshop'</li>\n",
       "\t<li>'worms'</li>\n",
       "\t<li>'worry'</li>\n",
       "\t<li>'worse'</li>\n",
       "\t<li>'worth'</li>\n",
       "\t<li>'worthily'</li>\n",
       "\t<li>'worthless'</li>\n",
       "\t<li>'worthlessness'</li>\n",
       "\t<li>'wouldst'</li>\n",
       "\t<li>'wrapping'</li>\n",
       "\t<li>'wreathed'</li>\n",
       "\t<li>'wreck'</li>\n",
       "\t<li>'wrest'</li>\n",
       "\t<li>'wrested'</li>\n",
       "\t<li>'wrestle'</li>\n",
       "\t<li>'wrestler'</li>\n",
       "\t<li>'wriggling'</li>\n",
       "\t<li>'writer'</li>\n",
       "\t<li>'written'</li>\n",
       "\t<li>'wrote'</li>\n",
       "\t<li>'wrought'</li>\n",
       "</ol>\n"
      ],
      "text/latex": [
       "\\begin{enumerate*}\n",
       "\\item 'world'\n",
       "\\item 'whilst'\n",
       "\\item 'wife'\n",
       "\\item 'war'\n",
       "\\item 'worship'\n",
       "\\item 'wine'\n",
       "\\item 'worshipped'\n",
       "\\item 'water'\n",
       "\\item 'wild'\n",
       "\\item 'waters'\n",
       "\\item 'winged'\n",
       "\\item 'walls'\n",
       "\\item 'wonderful'\n",
       "\\item 'warned'\n",
       "\\item 'winds'\n",
       "\\item 'waves'\n",
       "\\item 'woman'\n",
       "\\item 'women'\n",
       "\\item 'wounded'\n",
       "\\item 'wings'\n",
       "\\item 'wisdom'\n",
       "\\item 'words'\n",
       "\\item 'wound'\n",
       "\\item 'white'\n",
       "\\item 'weary'\n",
       "\\item 'west'\n",
       "\\item 'warriors'\n",
       "\\item 'wears'\n",
       "\\item 'welfare'\n",
       "\\item 'wooden'\n",
       "\\item 'wealth'\n",
       "\\item 'wind'\n",
       "\\item 'wood'\n",
       "\\item 'woods'\n",
       "\\item 'worthy'\n",
       "\\item 'wandered'\n",
       "\\item 'warlike'\n",
       "\\item 'watch'\n",
       "\\item 'wearing'\n",
       "\\item 'word'\n",
       "\\item 'wreath'\n",
       "\\item 'wooed'\n",
       "\\item 'wand'\n",
       "\\item 'watched'\n",
       "\\item 'wearied'\n",
       "\\item 'weather'\n",
       "\\item 'wicked'\n",
       "\\item 'worn'\n",
       "\\item 'wrath'\n",
       "\\item 'wallet'\n",
       "\\item 'winter'\n",
       "\\item 'wise'\n",
       "\\item 'wished'\n",
       "\\item 'won'\n",
       "\\item 'worshippers'\n",
       "\\item 'wrongs'\n",
       "\\item 'wealthy'\n",
       "\\item 'welcomed'\n",
       "\\item 'wore'\n",
       "\\item 'wrapt'\n",
       "\\item 'wrestling'\n",
       "\\item 'warm'\n",
       "\\item 'watchful'\n",
       "\\item 'weaving'\n",
       "\\item 'weighed'\n",
       "\\item 'wheat'\n",
       "\\item 'wheel'\n",
       "\\item 'wishing'\n",
       "\\item 'withstand'\n",
       "\\item 'witness'\n",
       "\\item 'witnessed'\n",
       "\\item 'wives'\n",
       "\\item 'workmanship'\n",
       "\\item 'wretched'\n",
       "\\item 'wafted'\n",
       "\\item 'wanderings'\n",
       "\\item 'warning'\n",
       "\\item 'warrior'\n",
       "\\item 'weapon'\n",
       "\\item 'wearer'\n",
       "\\item 'wearisome'\n",
       "\\item 'wedding'\n",
       "\\item 'weeping'\n",
       "\\item 'wept'\n",
       "\\item 'wide'\n",
       "\\item 'widowed'\n",
       "\\item 'win'\n",
       "\\item 'wolves'\n",
       "\\item 'wondering'\n",
       "\\item 'wonders'\n",
       "\\item 'woodland'\n",
       "\\item 'wrong'\n",
       "\\item 'waiting'\n",
       "\\item 'walking'\n",
       "\\item 'wanderer'\n",
       "\\item 'wandering'\n",
       "\\item 'warmly'\n",
       "\\item 'wash'\n",
       "\\item 'waste'\n",
       "\\item 'wasted'\n",
       "\\item 'watches'\n",
       "\\item 'watching'\n",
       "\\item 'wax'\n",
       "\\item 'weapons'\n",
       "\\item 'wear'\n",
       "\\item 'wedded'\n",
       "\\item 'weird'\n",
       "\\item 'wickedness'\n",
       "\\item 'widow'\n",
       "\\item 'wishes'\n",
       "\\item 'witchcraft'\n",
       "\\item 'withdrew'\n",
       "\\item 'woodpecker'\n",
       "\\item 'wounding'\n",
       "\\item 'wreaths'\n",
       "\\item 'writers'\n",
       "\\item 'waist'\n",
       "\\item 'wait'\n",
       "\\item 'walked'\n",
       "\\item 'wander'\n",
       "\\item 'warbled'\n",
       "\\item 'wares'\n",
       "\\item 'warfare'\n",
       "\\item 'warnings'\n",
       "\\item 'watered'\n",
       "\\item 'watery'\n",
       "\\item 'wayfarer'\n",
       "\\item 'weak'\n",
       "\\item 'weakness'\n",
       "\\item 'wended'\n",
       "\\item 'western'\n",
       "\\item 'whatsoever'\n",
       "\\item 'whereon'\n",
       "\\item 'whips'\n",
       "\\item 'whirlpool'\n",
       "\\item 'wicker'\n",
       "\\item 'widely'\n",
       "\\item 'wielded'\n",
       "\\item 'wig'\n",
       "\\item 'wildest'\n",
       "\\item 'wildly'\n",
       "\\item 'willingly'\n",
       "\\item 'winning'\n",
       "\\item 'wisely'\n",
       "\\item 'wisest'\n",
       "\\item 'withdrawn'\n",
       "\\item 'wits'\n",
       "\\item 'woe'\n",
       "\\item 'wolf'\n",
       "\\item 'womanhood'\n",
       "\\item 'wonderfully'\n",
       "\\item 'wondrous'\n",
       "\\item 'woody'\n",
       "\\item 'wool'\n",
       "\\item 'worker'\n",
       "\\item 'workings'\n",
       "\\item 'worshipper'\n",
       "\\item 'wounds'\n",
       "\\item 'wove'\n",
       "\\item 'woven'\n",
       "\\item 'wrapped'\n",
       "\\item 'wretch'\n",
       "\\item 'waft'\n",
       "\\item 'wagons'\n",
       "\\item 'waif'\n",
       "\\item 'waited'\n",
       "\\item 'wakeful'\n",
       "\\item 'walk'\n",
       "\\item 'walks'\n",
       "\\item 'warding'\n",
       "\\item 'wards'\n",
       "\\item 'warms'\n",
       "\\item 'warn'\n",
       "\\item 'wars'\n",
       "\\item 'washed'\n",
       "\\item 'washing'\n",
       "\\item 'waterfall'\n",
       "\\item 'waved'\n",
       "\\item 'waving'\n",
       "\\item 'wavy'\n",
       "\\item 'weakened'\n",
       "\\item 'weal'\n",
       "\\item 'weathers'\n",
       "\\item 'web'\n",
       "\\item 'weed'\n",
       "\\item 'weeds'\n",
       "\\item 'weighs'\n",
       "\\item 'weight'\n",
       "\\item 'wert'\n",
       "\\item 'wheels'\n",
       "\\item 'whichever'\n",
       "\\item 'whiling'\n",
       "\\item 'whipped'\n",
       "\\item 'whirlwind'\n",
       "\\item 'whisper'\n",
       "\\item 'whispered'\n",
       "\\item 'whizzing'\n",
       "\\item 'whomsoever'\n",
       "\\item 'whosoever'\n",
       "\\item 'widest'\n",
       "\\item 'wiles'\n",
       "\\item 'willingness'\n",
       "\\item 'willow'\n",
       "\\item 'wily'\n",
       "\\item 'winding'\n",
       "\\item 'wines'\n",
       "\\item 'wing'\n",
       "\\item 'wiser'\n",
       "\\item 'wit'\n",
       "\\item 'withdraw'\n",
       "\\item 'withdrawal'\n",
       "\\item 'withdrawing'\n",
       "\\item 'wither'\n",
       "\\item 'withheld'\n",
       "\\item 'withstood'\n",
       "\\item 'woes'\n",
       "\\item 'woman\\textbackslash{}'s'\n",
       "\\item 'womanly'\n",
       "\\item 'wont'\n",
       "\\item 'workmen'\n",
       "\\item 'workshop'\n",
       "\\item 'worms'\n",
       "\\item 'worry'\n",
       "\\item 'worse'\n",
       "\\item 'worth'\n",
       "\\item 'worthily'\n",
       "\\item 'worthless'\n",
       "\\item 'worthlessness'\n",
       "\\item 'wouldst'\n",
       "\\item 'wrapping'\n",
       "\\item 'wreathed'\n",
       "\\item 'wreck'\n",
       "\\item 'wrest'\n",
       "\\item 'wrested'\n",
       "\\item 'wrestle'\n",
       "\\item 'wrestler'\n",
       "\\item 'wriggling'\n",
       "\\item 'writer'\n",
       "\\item 'written'\n",
       "\\item 'wrote'\n",
       "\\item 'wrought'\n",
       "\\end{enumerate*}\n"
      ],
      "text/markdown": [
       "1. 'world'\n",
       "2. 'whilst'\n",
       "3. 'wife'\n",
       "4. 'war'\n",
       "5. 'worship'\n",
       "6. 'wine'\n",
       "7. 'worshipped'\n",
       "8. 'water'\n",
       "9. 'wild'\n",
       "10. 'waters'\n",
       "11. 'winged'\n",
       "12. 'walls'\n",
       "13. 'wonderful'\n",
       "14. 'warned'\n",
       "15. 'winds'\n",
       "16. 'waves'\n",
       "17. 'woman'\n",
       "18. 'women'\n",
       "19. 'wounded'\n",
       "20. 'wings'\n",
       "21. 'wisdom'\n",
       "22. 'words'\n",
       "23. 'wound'\n",
       "24. 'white'\n",
       "25. 'weary'\n",
       "26. 'west'\n",
       "27. 'warriors'\n",
       "28. 'wears'\n",
       "29. 'welfare'\n",
       "30. 'wooden'\n",
       "31. 'wealth'\n",
       "32. 'wind'\n",
       "33. 'wood'\n",
       "34. 'woods'\n",
       "35. 'worthy'\n",
       "36. 'wandered'\n",
       "37. 'warlike'\n",
       "38. 'watch'\n",
       "39. 'wearing'\n",
       "40. 'word'\n",
       "41. 'wreath'\n",
       "42. 'wooed'\n",
       "43. 'wand'\n",
       "44. 'watched'\n",
       "45. 'wearied'\n",
       "46. 'weather'\n",
       "47. 'wicked'\n",
       "48. 'worn'\n",
       "49. 'wrath'\n",
       "50. 'wallet'\n",
       "51. 'winter'\n",
       "52. 'wise'\n",
       "53. 'wished'\n",
       "54. 'won'\n",
       "55. 'worshippers'\n",
       "56. 'wrongs'\n",
       "57. 'wealthy'\n",
       "58. 'welcomed'\n",
       "59. 'wore'\n",
       "60. 'wrapt'\n",
       "61. 'wrestling'\n",
       "62. 'warm'\n",
       "63. 'watchful'\n",
       "64. 'weaving'\n",
       "65. 'weighed'\n",
       "66. 'wheat'\n",
       "67. 'wheel'\n",
       "68. 'wishing'\n",
       "69. 'withstand'\n",
       "70. 'witness'\n",
       "71. 'witnessed'\n",
       "72. 'wives'\n",
       "73. 'workmanship'\n",
       "74. 'wretched'\n",
       "75. 'wafted'\n",
       "76. 'wanderings'\n",
       "77. 'warning'\n",
       "78. 'warrior'\n",
       "79. 'weapon'\n",
       "80. 'wearer'\n",
       "81. 'wearisome'\n",
       "82. 'wedding'\n",
       "83. 'weeping'\n",
       "84. 'wept'\n",
       "85. 'wide'\n",
       "86. 'widowed'\n",
       "87. 'win'\n",
       "88. 'wolves'\n",
       "89. 'wondering'\n",
       "90. 'wonders'\n",
       "91. 'woodland'\n",
       "92. 'wrong'\n",
       "93. 'waiting'\n",
       "94. 'walking'\n",
       "95. 'wanderer'\n",
       "96. 'wandering'\n",
       "97. 'warmly'\n",
       "98. 'wash'\n",
       "99. 'waste'\n",
       "100. 'wasted'\n",
       "101. 'watches'\n",
       "102. 'watching'\n",
       "103. 'wax'\n",
       "104. 'weapons'\n",
       "105. 'wear'\n",
       "106. 'wedded'\n",
       "107. 'weird'\n",
       "108. 'wickedness'\n",
       "109. 'widow'\n",
       "110. 'wishes'\n",
       "111. 'witchcraft'\n",
       "112. 'withdrew'\n",
       "113. 'woodpecker'\n",
       "114. 'wounding'\n",
       "115. 'wreaths'\n",
       "116. 'writers'\n",
       "117. 'waist'\n",
       "118. 'wait'\n",
       "119. 'walked'\n",
       "120. 'wander'\n",
       "121. 'warbled'\n",
       "122. 'wares'\n",
       "123. 'warfare'\n",
       "124. 'warnings'\n",
       "125. 'watered'\n",
       "126. 'watery'\n",
       "127. 'wayfarer'\n",
       "128. 'weak'\n",
       "129. 'weakness'\n",
       "130. 'wended'\n",
       "131. 'western'\n",
       "132. 'whatsoever'\n",
       "133. 'whereon'\n",
       "134. 'whips'\n",
       "135. 'whirlpool'\n",
       "136. 'wicker'\n",
       "137. 'widely'\n",
       "138. 'wielded'\n",
       "139. 'wig'\n",
       "140. 'wildest'\n",
       "141. 'wildly'\n",
       "142. 'willingly'\n",
       "143. 'winning'\n",
       "144. 'wisely'\n",
       "145. 'wisest'\n",
       "146. 'withdrawn'\n",
       "147. 'wits'\n",
       "148. 'woe'\n",
       "149. 'wolf'\n",
       "150. 'womanhood'\n",
       "151. 'wonderfully'\n",
       "152. 'wondrous'\n",
       "153. 'woody'\n",
       "154. 'wool'\n",
       "155. 'worker'\n",
       "156. 'workings'\n",
       "157. 'worshipper'\n",
       "158. 'wounds'\n",
       "159. 'wove'\n",
       "160. 'woven'\n",
       "161. 'wrapped'\n",
       "162. 'wretch'\n",
       "163. 'waft'\n",
       "164. 'wagons'\n",
       "165. 'waif'\n",
       "166. 'waited'\n",
       "167. 'wakeful'\n",
       "168. 'walk'\n",
       "169. 'walks'\n",
       "170. 'warding'\n",
       "171. 'wards'\n",
       "172. 'warms'\n",
       "173. 'warn'\n",
       "174. 'wars'\n",
       "175. 'washed'\n",
       "176. 'washing'\n",
       "177. 'waterfall'\n",
       "178. 'waved'\n",
       "179. 'waving'\n",
       "180. 'wavy'\n",
       "181. 'weakened'\n",
       "182. 'weal'\n",
       "183. 'weathers'\n",
       "184. 'web'\n",
       "185. 'weed'\n",
       "186. 'weeds'\n",
       "187. 'weighs'\n",
       "188. 'weight'\n",
       "189. 'wert'\n",
       "190. 'wheels'\n",
       "191. 'whichever'\n",
       "192. 'whiling'\n",
       "193. 'whipped'\n",
       "194. 'whirlwind'\n",
       "195. 'whisper'\n",
       "196. 'whispered'\n",
       "197. 'whizzing'\n",
       "198. 'whomsoever'\n",
       "199. 'whosoever'\n",
       "200. 'widest'\n",
       "201. 'wiles'\n",
       "202. 'willingness'\n",
       "203. 'willow'\n",
       "204. 'wily'\n",
       "205. 'winding'\n",
       "206. 'wines'\n",
       "207. 'wing'\n",
       "208. 'wiser'\n",
       "209. 'wit'\n",
       "210. 'withdraw'\n",
       "211. 'withdrawal'\n",
       "212. 'withdrawing'\n",
       "213. 'wither'\n",
       "214. 'withheld'\n",
       "215. 'withstood'\n",
       "216. 'woes'\n",
       "217. 'woman\\'s'\n",
       "218. 'womanly'\n",
       "219. 'wont'\n",
       "220. 'workmen'\n",
       "221. 'workshop'\n",
       "222. 'worms'\n",
       "223. 'worry'\n",
       "224. 'worse'\n",
       "225. 'worth'\n",
       "226. 'worthily'\n",
       "227. 'worthless'\n",
       "228. 'worthlessness'\n",
       "229. 'wouldst'\n",
       "230. 'wrapping'\n",
       "231. 'wreathed'\n",
       "232. 'wreck'\n",
       "233. 'wrest'\n",
       "234. 'wrested'\n",
       "235. 'wrestle'\n",
       "236. 'wrestler'\n",
       "237. 'wriggling'\n",
       "238. 'writer'\n",
       "239. 'written'\n",
       "240. 'wrote'\n",
       "241. 'wrought'\n",
       "\n",
       "\n"
      ],
      "text/plain": [
       "  [1] \"world\"         \"whilst\"        \"wife\"          \"war\"          \n",
       "  [5] \"worship\"       \"wine\"          \"worshipped\"    \"water\"        \n",
       "  [9] \"wild\"          \"waters\"        \"winged\"        \"walls\"        \n",
       " [13] \"wonderful\"     \"warned\"        \"winds\"         \"waves\"        \n",
       " [17] \"woman\"         \"women\"         \"wounded\"       \"wings\"        \n",
       " [21] \"wisdom\"        \"words\"         \"wound\"         \"white\"        \n",
       " [25] \"weary\"         \"west\"          \"warriors\"      \"wears\"        \n",
       " [29] \"welfare\"       \"wooden\"        \"wealth\"        \"wind\"         \n",
       " [33] \"wood\"          \"woods\"         \"worthy\"        \"wandered\"     \n",
       " [37] \"warlike\"       \"watch\"         \"wearing\"       \"word\"         \n",
       " [41] \"wreath\"        \"wooed\"         \"wand\"          \"watched\"      \n",
       " [45] \"wearied\"       \"weather\"       \"wicked\"        \"worn\"         \n",
       " [49] \"wrath\"         \"wallet\"        \"winter\"        \"wise\"         \n",
       " [53] \"wished\"        \"won\"           \"worshippers\"   \"wrongs\"       \n",
       " [57] \"wealthy\"       \"welcomed\"      \"wore\"          \"wrapt\"        \n",
       " [61] \"wrestling\"     \"warm\"          \"watchful\"      \"weaving\"      \n",
       " [65] \"weighed\"       \"wheat\"         \"wheel\"         \"wishing\"      \n",
       " [69] \"withstand\"     \"witness\"       \"witnessed\"     \"wives\"        \n",
       " [73] \"workmanship\"   \"wretched\"      \"wafted\"        \"wanderings\"   \n",
       " [77] \"warning\"       \"warrior\"       \"weapon\"        \"wearer\"       \n",
       " [81] \"wearisome\"     \"wedding\"       \"weeping\"       \"wept\"         \n",
       " [85] \"wide\"          \"widowed\"       \"win\"           \"wolves\"       \n",
       " [89] \"wondering\"     \"wonders\"       \"woodland\"      \"wrong\"        \n",
       " [93] \"waiting\"       \"walking\"       \"wanderer\"      \"wandering\"    \n",
       " [97] \"warmly\"        \"wash\"          \"waste\"         \"wasted\"       \n",
       "[101] \"watches\"       \"watching\"      \"wax\"           \"weapons\"      \n",
       "[105] \"wear\"          \"wedded\"        \"weird\"         \"wickedness\"   \n",
       "[109] \"widow\"         \"wishes\"        \"witchcraft\"    \"withdrew\"     \n",
       "[113] \"woodpecker\"    \"wounding\"      \"wreaths\"       \"writers\"      \n",
       "[117] \"waist\"         \"wait\"          \"walked\"        \"wander\"       \n",
       "[121] \"warbled\"       \"wares\"         \"warfare\"       \"warnings\"     \n",
       "[125] \"watered\"       \"watery\"        \"wayfarer\"      \"weak\"         \n",
       "[129] \"weakness\"      \"wended\"        \"western\"       \"whatsoever\"   \n",
       "[133] \"whereon\"       \"whips\"         \"whirlpool\"     \"wicker\"       \n",
       "[137] \"widely\"        \"wielded\"       \"wig\"           \"wildest\"      \n",
       "[141] \"wildly\"        \"willingly\"     \"winning\"       \"wisely\"       \n",
       "[145] \"wisest\"        \"withdrawn\"     \"wits\"          \"woe\"          \n",
       "[149] \"wolf\"          \"womanhood\"     \"wonderfully\"   \"wondrous\"     \n",
       "[153] \"woody\"         \"wool\"          \"worker\"        \"workings\"     \n",
       "[157] \"worshipper\"    \"wounds\"        \"wove\"          \"woven\"        \n",
       "[161] \"wrapped\"       \"wretch\"        \"waft\"          \"wagons\"       \n",
       "[165] \"waif\"          \"waited\"        \"wakeful\"       \"walk\"         \n",
       "[169] \"walks\"         \"warding\"       \"wards\"         \"warms\"        \n",
       "[173] \"warn\"          \"wars\"          \"washed\"        \"washing\"      \n",
       "[177] \"waterfall\"     \"waved\"         \"waving\"        \"wavy\"         \n",
       "[181] \"weakened\"      \"weal\"          \"weathers\"      \"web\"          \n",
       "[185] \"weed\"          \"weeds\"         \"weighs\"        \"weight\"       \n",
       "[189] \"wert\"          \"wheels\"        \"whichever\"     \"whiling\"      \n",
       "[193] \"whipped\"       \"whirlwind\"     \"whisper\"       \"whispered\"    \n",
       "[197] \"whizzing\"      \"whomsoever\"    \"whosoever\"     \"widest\"       \n",
       "[201] \"wiles\"         \"willingness\"   \"willow\"        \"wily\"         \n",
       "[205] \"winding\"       \"wines\"         \"wing\"          \"wiser\"        \n",
       "[209] \"wit\"           \"withdraw\"      \"withdrawal\"    \"withdrawing\"  \n",
       "[213] \"wither\"        \"withheld\"      \"withstood\"     \"woes\"         \n",
       "[217] \"woman's\"       \"womanly\"       \"wont\"          \"workmen\"      \n",
       "[221] \"workshop\"      \"worms\"         \"worry\"         \"worse\"        \n",
       "[225] \"worth\"         \"worthily\"      \"worthless\"     \"worthlessness\"\n",
       "[229] \"wouldst\"       \"wrapping\"      \"wreathed\"      \"wreck\"        \n",
       "[233] \"wrest\"         \"wrested\"       \"wrestle\"       \"wrestler\"     \n",
       "[237] \"wriggling\"     \"writer\"        \"written\"       \"wrote\"        \n",
       "[241] \"wrought\"      "
      ]
     },
     "metadata": {},
     "output_type": "display_data"
    }
   ],
   "source": [
    "str_subset(tokens_count$word, \"^w\")"
   ]
  },
  {
   "cell_type": "markdown",
   "metadata": {
    "slideshow": {
     "slide_type": "slide"
    }
   },
   "source": [
    "## Creating variables\n",
    "Variables can be added to a data frame using the operator `$` and calling a name not yet used in the data frame:"
   ]
  },
  {
   "cell_type": "code",
   "execution_count": 53,
   "metadata": {
    "slideshow": {
     "slide_type": "-"
    }
   },
   "outputs": [
    {
     "data": {
      "text/html": [
       "<table>\n",
       "<thead><tr><th scope=col>word</th><th scope=col>n</th><th scope=col>nchar</th></tr></thead>\n",
       "<tbody>\n",
       "\t<tr><td>king    </td><td>232     </td><td>4       </td></tr>\n",
       "\t<tr><td>zeus    </td><td>216     </td><td>4       </td></tr>\n",
       "\t<tr><td>son     </td><td>209     </td><td>3       </td></tr>\n",
       "\t<tr><td>gods    </td><td>199     </td><td>4       </td></tr>\n",
       "\t<tr><td>god     </td><td>181     </td><td>3       </td></tr>\n",
       "\t<tr><td>heracles</td><td>154     </td><td>8       </td></tr>\n",
       "</tbody>\n",
       "</table>\n"
      ],
      "text/latex": [
       "\\begin{tabular}{r|lll}\n",
       " word & n & nchar\\\\\n",
       "\\hline\n",
       "\t king     & 232      & 4       \\\\\n",
       "\t zeus     & 216      & 4       \\\\\n",
       "\t son      & 209      & 3       \\\\\n",
       "\t gods     & 199      & 4       \\\\\n",
       "\t god      & 181      & 3       \\\\\n",
       "\t heracles & 154      & 8       \\\\\n",
       "\\end{tabular}\n"
      ],
      "text/markdown": [
       "\n",
       "| word | n | nchar |\n",
       "|---|---|---|\n",
       "| king     | 232      | 4        |\n",
       "| zeus     | 216      | 4        |\n",
       "| son      | 209      | 3        |\n",
       "| gods     | 199      | 4        |\n",
       "| god      | 181      | 3        |\n",
       "| heracles | 154      | 8        |\n",
       "\n"
      ],
      "text/plain": [
       "  word     n   nchar\n",
       "1 king     232 4    \n",
       "2 zeus     216 4    \n",
       "3 son      209 3    \n",
       "4 gods     199 4    \n",
       "5 god      181 3    \n",
       "6 heracles 154 8    "
      ]
     },
     "metadata": {},
     "output_type": "display_data"
    }
   ],
   "source": [
    "tokens_count$nchar <- nchar(tokens_count$word)\n",
    "head(tokens_count)"
   ]
  },
  {
   "cell_type": "markdown",
   "metadata": {
    "slideshow": {
     "slide_type": "subslide"
    }
   },
   "source": [
    "Alternatively, do it the tidyverse way with mutate:"
   ]
  },
  {
   "cell_type": "code",
   "execution_count": 54,
   "metadata": {
    "slideshow": {
     "slide_type": "-"
    }
   },
   "outputs": [
    {
     "data": {
      "text/html": [
       "<table>\n",
       "<thead><tr><th scope=col>word</th><th scope=col>n</th><th scope=col>nchar</th></tr></thead>\n",
       "<tbody>\n",
       "\t<tr><td>king    </td><td>232     </td><td>4       </td></tr>\n",
       "\t<tr><td>zeus    </td><td>216     </td><td>4       </td></tr>\n",
       "\t<tr><td>son     </td><td>209     </td><td>3       </td></tr>\n",
       "\t<tr><td>gods    </td><td>199     </td><td>4       </td></tr>\n",
       "\t<tr><td>god     </td><td>181     </td><td>3       </td></tr>\n",
       "\t<tr><td>heracles</td><td>154     </td><td>8       </td></tr>\n",
       "</tbody>\n",
       "</table>\n"
      ],
      "text/latex": [
       "\\begin{tabular}{r|lll}\n",
       " word & n & nchar\\\\\n",
       "\\hline\n",
       "\t king     & 232      & 4       \\\\\n",
       "\t zeus     & 216      & 4       \\\\\n",
       "\t son      & 209      & 3       \\\\\n",
       "\t gods     & 199      & 4       \\\\\n",
       "\t god      & 181      & 3       \\\\\n",
       "\t heracles & 154      & 8       \\\\\n",
       "\\end{tabular}\n"
      ],
      "text/markdown": [
       "\n",
       "| word | n | nchar |\n",
       "|---|---|---|\n",
       "| king     | 232      | 4        |\n",
       "| zeus     | 216      | 4        |\n",
       "| son      | 209      | 3        |\n",
       "| gods     | 199      | 4        |\n",
       "| god      | 181      | 3        |\n",
       "| heracles | 154      | 8        |\n",
       "\n"
      ],
      "text/plain": [
       "  word     n   nchar\n",
       "1 king     232 4    \n",
       "2 zeus     216 4    \n",
       "3 son      209 3    \n",
       "4 gods     199 4    \n",
       "5 god      181 3    \n",
       "6 heracles 154 8    "
      ]
     },
     "metadata": {},
     "output_type": "display_data"
    }
   ],
   "source": [
    "tokens_count <- mutate(tokens_count, nchar = nchar(word))\n",
    "head(tokens_count)"
   ]
  },
  {
   "cell_type": "markdown",
   "metadata": {
    "slideshow": {
     "slide_type": "slide"
    }
   },
   "source": [
    "## Subsetting the tidyverse way\n",
    "\n",
    "The command `filter()` can be used to only return rows meeting a certain criteria."
   ]
  },
  {
   "cell_type": "code",
   "execution_count": 55,
   "metadata": {
    "slideshow": {
     "slide_type": "fragment"
    }
   },
   "outputs": [
    {
     "data": {
      "text/html": [
       "<table>\n",
       "<thead><tr><th scope=col>word</th><th scope=col>n</th><th scope=col>nchar</th></tr></thead>\n",
       "<tbody>\n",
       "\t<tr><td>heracles </td><td>154      </td><td>8        </td></tr>\n",
       "\t<tr><td>called   </td><td>152      </td><td>6        </td></tr>\n",
       "\t<tr><td>apollo   </td><td>133      </td><td>6        </td></tr>\n",
       "\t<tr><td>father   </td><td>126      </td><td>6        </td></tr>\n",
       "\t<tr><td>beautiful</td><td>120      </td><td>9        </td></tr>\n",
       "\t<tr><td>daughter </td><td>112      </td><td>8        </td></tr>\n",
       "</tbody>\n",
       "</table>\n"
      ],
      "text/latex": [
       "\\begin{tabular}{r|lll}\n",
       " word & n & nchar\\\\\n",
       "\\hline\n",
       "\t heracles  & 154       & 8        \\\\\n",
       "\t called    & 152       & 6        \\\\\n",
       "\t apollo    & 133       & 6        \\\\\n",
       "\t father    & 126       & 6        \\\\\n",
       "\t beautiful & 120       & 9        \\\\\n",
       "\t daughter  & 112       & 8        \\\\\n",
       "\\end{tabular}\n"
      ],
      "text/markdown": [
       "\n",
       "| word | n | nchar |\n",
       "|---|---|---|\n",
       "| heracles  | 154       | 8         |\n",
       "| called    | 152       | 6         |\n",
       "| apollo    | 133       | 6         |\n",
       "| father    | 126       | 6         |\n",
       "| beautiful | 120       | 9         |\n",
       "| daughter  | 112       | 8         |\n",
       "\n"
      ],
      "text/plain": [
       "  word      n   nchar\n",
       "1 heracles  154 8    \n",
       "2 called    152 6    \n",
       "3 apollo    133 6    \n",
       "4 father    126 6    \n",
       "5 beautiful 120 9    \n",
       "6 daughter  112 8    "
      ]
     },
     "metadata": {},
     "output_type": "display_data"
    }
   ],
   "source": [
    "# Filtering rows with word longer than 4 characters\n",
    "tokens_filter <- tokens_count %>%\n",
    "    filter(nchar > 4)\n",
    "\n",
    "head(tokens_filter)"
   ]
  },
  {
   "cell_type": "markdown",
   "metadata": {
    "slideshow": {
     "slide_type": "slide"
    }
   },
   "source": [
    "Filter keeps all rows where the evaluated statement returns `True`. This means we can use other commands like `str_detect` to filter."
   ]
  },
  {
   "cell_type": "code",
   "execution_count": 56,
   "metadata": {
    "slideshow": {
     "slide_type": "-"
    }
   },
   "outputs": [
    {
     "data": {
      "text/html": [
       "<table>\n",
       "<thead><tr><th scope=col>word</th><th scope=col>n</th><th scope=col>nchar</th></tr></thead>\n",
       "<tbody>\n",
       "\t<tr><td>world  </td><td>96     </td><td>5      </td></tr>\n",
       "\t<tr><td>whilst </td><td>94     </td><td>6      </td></tr>\n",
       "\t<tr><td>wife   </td><td>73     </td><td>4      </td></tr>\n",
       "\t<tr><td>war    </td><td>67     </td><td>3      </td></tr>\n",
       "\t<tr><td>worship</td><td>54     </td><td>7      </td></tr>\n",
       "\t<tr><td>wine   </td><td>43     </td><td>4      </td></tr>\n",
       "</tbody>\n",
       "</table>\n"
      ],
      "text/latex": [
       "\\begin{tabular}{r|lll}\n",
       " word & n & nchar\\\\\n",
       "\\hline\n",
       "\t world   & 96      & 5      \\\\\n",
       "\t whilst  & 94      & 6      \\\\\n",
       "\t wife    & 73      & 4      \\\\\n",
       "\t war     & 67      & 3      \\\\\n",
       "\t worship & 54      & 7      \\\\\n",
       "\t wine    & 43      & 4      \\\\\n",
       "\\end{tabular}\n"
      ],
      "text/markdown": [
       "\n",
       "| word | n | nchar |\n",
       "|---|---|---|\n",
       "| world   | 96      | 5       |\n",
       "| whilst  | 94      | 6       |\n",
       "| wife    | 73      | 4       |\n",
       "| war     | 67      | 3       |\n",
       "| worship | 54      | 7       |\n",
       "| wine    | 43      | 4       |\n",
       "\n"
      ],
      "text/plain": [
       "  word    n  nchar\n",
       "1 world   96 5    \n",
       "2 whilst  94 6    \n",
       "3 wife    73 4    \n",
       "4 war     67 3    \n",
       "5 worship 54 7    \n",
       "6 wine    43 4    "
      ]
     },
     "metadata": {},
     "output_type": "display_data"
    }
   ],
   "source": [
    "# Filtering rows with word starting with a \"w\" - \"^\" is regular expression for \"starts with\"\n",
    "tokens_filter <- tokens_count %>%\n",
    "    filter(str_detect(word, \"^w\"))\n",
    "\n",
    "head(tokens_filter)"
   ]
  },
  {
   "cell_type": "markdown",
   "metadata": {
    "slideshow": {
     "slide_type": "slide"
    }
   },
   "source": [
    "# The R Help Files\n",
    "All R functions and commands are thoroughly documented so you do not have to remember what every function does or even how it should be written.\n",
    "\n",
    "Every function and command in R has its own help file. The help file describes how to use the various functions and commands.\n",
    "\n",
    "The help file for a specific function is accessed using the operator `?` (also works for the built-in datasets):"
   ]
  },
  {
   "cell_type": "code",
   "execution_count": 57,
   "metadata": {
    "slideshow": {
     "slide_type": "-"
    }
   },
   "outputs": [],
   "source": [
    "?sum"
   ]
  },
  {
   "cell_type": "markdown",
   "metadata": {
    "slideshow": {
     "slide_type": "fragment"
    }
   },
   "source": [
    "When in doubt, just look up the help file."
   ]
  },
  {
   "cell_type": "markdown",
   "metadata": {
    "slideshow": {
     "slide_type": "slide"
    }
   },
   "source": [
    "# EXERCISE 5: SIMPLE TEXT MINING\n",
    "You will be repeating a lot of the same steps as you just saw. The goal is to figure out what names are used the most in the text \"Pagan and Christian Rome\" by Rodolfo Lanciani.\n",
    "\n",
    "You can download these slides at: https://forskning.moodle.aau.dk/course/view.php?id=4 (select \"CAS\" and login), if you want to go back and look at the previous slides.\n",
    "\n",
    "1. Load the text \"Pagan and Christian Rome\" from gutenberg into an object using `gutenberg_download(22153)`\n",
    "2. Use `unnest_tokens()` to convert the text to word tokens *without* converting to lower case (consult the help file with `?()` to see what option to change)\n",
    "3. Use `count` to create a data frame with the word tokens counted: `count(df, word, sort = TRUE)`\n",
    "4. Combine `filter()` and `str_detect()` to only keep words starting with uppercase letter (use the pattern \"^[A-Z]\") \n",
    "5. Determine the most mentioned names (if you sorted the data, you can just print the top rows with `head()`\n",
    "\n",
    "**Bonus (for a better result)**\n",
    "1. Try using `filter()` and `nchar()` to only keep words longer than 3 characters."
   ]
  },
  {
   "cell_type": "code",
   "execution_count": 58,
   "metadata": {
    "slideshow": {
     "slide_type": "subslide"
    }
   },
   "outputs": [],
   "source": [
    "paga_text <- gutenberg_download(22153)"
   ]
  },
  {
   "cell_type": "code",
   "execution_count": 59,
   "metadata": {
    "slideshow": {
     "slide_type": "-"
    }
   },
   "outputs": [
    {
     "data": {
      "text/html": [
       "<table>\n",
       "<thead><tr><th scope=col>word</th><th scope=col>n</th></tr></thead>\n",
       "<tbody>\n",
       "\t<tr><td>The </td><td>1149</td></tr>\n",
       "\t<tr><td>S   </td><td> 608</td></tr>\n",
       "\t<tr><td>Rome</td><td> 326</td></tr>\n",
       "\t<tr><td>I   </td><td> 285</td></tr>\n",
       "\t<tr><td>In  </td><td> 188</td></tr>\n",
       "\t<tr><td>It  </td><td> 186</td></tr>\n",
       "</tbody>\n",
       "</table>\n"
      ],
      "text/latex": [
       "\\begin{tabular}{r|ll}\n",
       " word & n\\\\\n",
       "\\hline\n",
       "\t The  & 1149\\\\\n",
       "\t S    &  608\\\\\n",
       "\t Rome &  326\\\\\n",
       "\t I    &  285\\\\\n",
       "\t In   &  188\\\\\n",
       "\t It   &  186\\\\\n",
       "\\end{tabular}\n"
      ],
      "text/markdown": [
       "\n",
       "| word | n |\n",
       "|---|---|\n",
       "| The  | 1149 |\n",
       "| S    |  608 |\n",
       "| Rome |  326 |\n",
       "| I    |  285 |\n",
       "| In   |  188 |\n",
       "| It   |  186 |\n",
       "\n"
      ],
      "text/plain": [
       "  word n   \n",
       "1 The  1149\n",
       "2 S     608\n",
       "3 Rome  326\n",
       "4 I     285\n",
       "5 In    188\n",
       "6 It    186"
      ]
     },
     "metadata": {},
     "output_type": "display_data"
    }
   ],
   "source": [
    "paga_tokens <- paga_text %>%\n",
    "    unnest_tokens(word, text, to_lower = FALSE) %>%\n",
    "    count(word, sort = TRUE) %>%\n",
    "    filter(str_detect(word, \"^[A-Z]\"))\n",
    "\n",
    "head(paga_tokens)"
   ]
  },
  {
   "cell_type": "code",
   "execution_count": 60,
   "metadata": {
    "slideshow": {
     "slide_type": "subslide"
    }
   },
   "outputs": [
    {
     "data": {
      "text/html": [
       "<table>\n",
       "<thead><tr><th scope=col>word</th><th scope=col>n</th></tr></thead>\n",
       "<tbody>\n",
       "\t<tr><td>Rome        </td><td>326         </td></tr>\n",
       "\t<tr><td>Christian   </td><td>135         </td></tr>\n",
       "\t<tr><td>Pope        </td><td>135         </td></tr>\n",
       "\t<tr><td>Illustration</td><td>124         </td></tr>\n",
       "\t<tr><td>Roman       </td><td>113         </td></tr>\n",
       "\t<tr><td>This        </td><td>110         </td></tr>\n",
       "</tbody>\n",
       "</table>\n"
      ],
      "text/latex": [
       "\\begin{tabular}{r|ll}\n",
       " word & n\\\\\n",
       "\\hline\n",
       "\t Rome         & 326         \\\\\n",
       "\t Christian    & 135         \\\\\n",
       "\t Pope         & 135         \\\\\n",
       "\t Illustration & 124         \\\\\n",
       "\t Roman        & 113         \\\\\n",
       "\t This         & 110         \\\\\n",
       "\\end{tabular}\n"
      ],
      "text/markdown": [
       "\n",
       "| word | n |\n",
       "|---|---|\n",
       "| Rome         | 326          |\n",
       "| Christian    | 135          |\n",
       "| Pope         | 135          |\n",
       "| Illustration | 124          |\n",
       "| Roman        | 113          |\n",
       "| This         | 110          |\n",
       "\n"
      ],
      "text/plain": [
       "  word         n  \n",
       "1 Rome         326\n",
       "2 Christian    135\n",
       "3 Pope         135\n",
       "4 Illustration 124\n",
       "5 Roman        113\n",
       "6 This         110"
      ]
     },
     "metadata": {},
     "output_type": "display_data"
    }
   ],
   "source": [
    "paga_tokens <- paga_text %>%\n",
    "    unnest_tokens(word, text, to_lower = FALSE) %>%\n",
    "    count(word, sort = TRUE) %>%\n",
    "    filter(str_detect(word, \"^[A-Z]\")) %>%\n",
    "    filter(nchar(word) > 3)\n",
    "\n",
    "head(paga_tokens)"
   ]
  },
  {
   "cell_type": "code",
   "execution_count": null,
   "metadata": {},
   "outputs": [],
   "source": []
  }
 ],
 "metadata": {
  "celltoolbar": "Slideshow",
  "kernelspec": {
   "display_name": "R",
   "language": "R",
   "name": "ir"
  },
  "language_info": {
   "codemirror_mode": "r",
   "file_extension": ".r",
   "mimetype": "text/x-r-source",
   "name": "R",
   "pygments_lexer": "r",
   "version": "3.6.2"
  }
 },
 "nbformat": 4,
 "nbformat_minor": 2
}
