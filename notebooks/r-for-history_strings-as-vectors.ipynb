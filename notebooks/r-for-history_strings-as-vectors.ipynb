{
 "cells": [
  {
   "cell_type": "markdown",
   "metadata": {
    "slideshow": {
     "slide_type": "slide"
    }
   },
   "source": [
    "## Texts as vectors\n",
    "\n",
    "\"Vectors\" in R are collections of objects of the same class.\n",
    "\n",
    "Texts can be thought of as vectors in a number of ways:\n",
    "1. A collection of texts\n",
    "2. A collection of words in a text\n",
    "3. A collection of sentences in a text\n",
    "\n",
    "Depending on what we are trying to figure out with text, R can be used in a number of ways."
   ]
  },
  {
   "cell_type": "markdown",
   "metadata": {
    "slideshow": {
     "slide_type": "slide"
    }
   },
   "source": [
    "Let's start by thinking of a text as a series of single words:"
   ]
  },
  {
   "cell_type": "code",
   "execution_count": 26,
   "metadata": {},
   "outputs": [],
   "source": [
    "text <- \"The Greeks believed that the mental qualifications of their gods were of a\n",
    "much higher order than those of men, but nevertheless, as we shall see,\n",
    "they were not considered to be exempt from human passions, and we\n",
    "frequently behold them actuated by revenge, deceit, and jealousy. They,\n",
    "however, always punish the evil-doer, and visit with dire calamities any\n",
    "impious mortal who dares to neglect their worship or despise their rites.\n",
    "We often hear of them visiting mankind and partaking of their hospitality,\n",
    "and not unfrequently both gods and goddesses {8} become attached to\n",
    "mortals, with whom they unite themselves, the offspring of these unions\n",
    "being called heroes or demi-gods, who were usually renowned for their great\n",
    "strength and courage. But although there were so many points of resemblance\n",
    "between gods and men, there remained the one great characteristic\n",
    "distinction, viz., that the gods enjoyed immortality. Still, they were not\n",
    "invulnerable, and we often hear of them being wounded, and suffering in\n",
    "consequence such exquisite torture that they have earnestly prayed to be\n",
    "deprived of their privilege of immortality.\""
   ]
  },
  {
   "cell_type": "code",
   "execution_count": 27,
   "metadata": {
    "slideshow": {
     "slide_type": "fragment"
    }
   },
   "outputs": [],
   "source": [
    "library(stringr)\n",
    "text_words <- str_split(text, pattern = \"\\\\s\")  #split at every whitespace - \\\\s is an escape character"
   ]
  },
  {
   "cell_type": "markdown",
   "metadata": {},
   "source": [
    "Many functions from `stringr` return a list by default. A list is collection of different objects in R - be it strings, numbers, vectors or even lists (list of lists).\n",
    "\n",
    "This is in done in order to support using the function on a vector containing several strings.\n",
    "\n",
    "We can convert the list to a vector simply by using the function `unlist()` or by refering to the first element in the list (which is the vector of words):"
   ]
  },
  {
   "cell_type": "code",
   "execution_count": 29,
   "metadata": {},
   "outputs": [],
   "source": [
    "text_words <- unlist(text_words)\n",
    "#text_words <- text_wods[[1]] # Alternative"
   ]
  },
  {
   "cell_type": "markdown",
   "metadata": {},
   "source": [
    "The text is now subsettable - each word with its own index (subset using `[]`):"
   ]
  },
  {
   "cell_type": "code",
   "execution_count": 30,
   "metadata": {},
   "outputs": [
    {
     "data": {
      "text/html": [
       "'the'"
      ],
      "text/latex": [
       "'the'"
      ],
      "text/markdown": [
       "'the'"
      ],
      "text/plain": [
       "[1] \"the\""
      ]
     },
     "metadata": {},
     "output_type": "display_data"
    },
    {
     "data": {
      "text/html": [
       "'nevertheless,'"
      ],
      "text/latex": [
       "'nevertheless,'"
      ],
      "text/markdown": [
       "'nevertheless,'"
      ],
      "text/plain": [
       "[1] \"nevertheless,\""
      ]
     },
     "metadata": {},
     "output_type": "display_data"
    }
   ],
   "source": [
    "text_words[5]\n",
    "text_words[22]"
   ]
  },
  {
   "cell_type": "markdown",
   "metadata": {
    "slideshow": {
     "slide_type": "fragment"
    }
   },
   "source": [
    "This allows us to perform counts and other summaries (which we wil get back to)."
   ]
  },
  {
   "cell_type": "markdown",
   "metadata": {},
   "source": [
    "## Sentences as vectors\n",
    "\n",
    "The functions in `stringr` work both on single strings and collections of strings (like vectors). That way the functions can easily be applied over a collections of texts - either stored as a vector, a list or a column in a data frame. \n",
    "\n",
    "As an example, we will convert the text above to sentences (split at comma or period):"
   ]
  },
  {
   "cell_type": "code",
   "execution_count": 45,
   "metadata": {},
   "outputs": [
    {
     "data": {
      "text/html": [
       "<ol class=list-inline>\n",
       "\t<li>'the greeks believed that the mental qualifications of their gods were of a much higher order than those of men'</li>\n",
       "\t<li>'but nevertheless'</li>\n",
       "\t<li>'as we shall see'</li>\n",
       "\t<li>'they were not considered to be exempt from human passions'</li>\n",
       "\t<li>'and we frequently behold them actuated by revenge'</li>\n",
       "\t<li>'deceit'</li>\n",
       "\t<li>'and jealousy'</li>\n",
       "\t<li>'they'</li>\n",
       "\t<li>'however'</li>\n",
       "\t<li>'always punish the evil-doer'</li>\n",
       "\t<li>'and visit with dire calamities any impious mortal who dares to neglect their worship or despise their rites'</li>\n",
       "\t<li>'we often hear of them visiting mankind and partaking of their hospitality'</li>\n",
       "\t<li>'and not unfrequently both gods and goddesses {8} become attached to mortals'</li>\n",
       "\t<li>'with whom they unite themselves'</li>\n",
       "\t<li>'the offspring of these unions being called heroes or demi-gods'</li>\n",
       "\t<li>'who were usually renowned for their great strength and courage'</li>\n",
       "\t<li>'but although there were so many points of resemblance between gods and men'</li>\n",
       "\t<li>'there remained the one great characteristic distinction'</li>\n",
       "\t<li>'viz.'</li>\n",
       "\t<li>'that the gods enjoyed immortality'</li>\n",
       "\t<li>'still'</li>\n",
       "\t<li>'they were not invulnerable'</li>\n",
       "\t<li>'and we often hear of them being wounded'</li>\n",
       "\t<li>'and suffering in consequence such exquisite torture that they have earnestly prayed to be deprived of their privilege of immortality.'</li>\n",
       "</ol>\n"
      ],
      "text/latex": [
       "\\begin{enumerate*}\n",
       "\\item 'the greeks believed that the mental qualifications of their gods were of a much higher order than those of men'\n",
       "\\item 'but nevertheless'\n",
       "\\item 'as we shall see'\n",
       "\\item 'they were not considered to be exempt from human passions'\n",
       "\\item 'and we frequently behold them actuated by revenge'\n",
       "\\item 'deceit'\n",
       "\\item 'and jealousy'\n",
       "\\item 'they'\n",
       "\\item 'however'\n",
       "\\item 'always punish the evil-doer'\n",
       "\\item 'and visit with dire calamities any impious mortal who dares to neglect their worship or despise their rites'\n",
       "\\item 'we often hear of them visiting mankind and partaking of their hospitality'\n",
       "\\item 'and not unfrequently both gods and goddesses \\{8\\} become attached to mortals'\n",
       "\\item 'with whom they unite themselves'\n",
       "\\item 'the offspring of these unions being called heroes or demi-gods'\n",
       "\\item 'who were usually renowned for their great strength and courage'\n",
       "\\item 'but although there were so many points of resemblance between gods and men'\n",
       "\\item 'there remained the one great characteristic distinction'\n",
       "\\item 'viz.'\n",
       "\\item 'that the gods enjoyed immortality'\n",
       "\\item 'still'\n",
       "\\item 'they were not invulnerable'\n",
       "\\item 'and we often hear of them being wounded'\n",
       "\\item 'and suffering in consequence such exquisite torture that they have earnestly prayed to be deprived of their privilege of immortality.'\n",
       "\\end{enumerate*}\n"
      ],
      "text/markdown": [
       "1. 'the greeks believed that the mental qualifications of their gods were of a much higher order than those of men'\n",
       "2. 'but nevertheless'\n",
       "3. 'as we shall see'\n",
       "4. 'they were not considered to be exempt from human passions'\n",
       "5. 'and we frequently behold them actuated by revenge'\n",
       "6. 'deceit'\n",
       "7. 'and jealousy'\n",
       "8. 'they'\n",
       "9. 'however'\n",
       "10. 'always punish the evil-doer'\n",
       "11. 'and visit with dire calamities any impious mortal who dares to neglect their worship or despise their rites'\n",
       "12. 'we often hear of them visiting mankind and partaking of their hospitality'\n",
       "13. 'and not unfrequently both gods and goddesses {8} become attached to mortals'\n",
       "14. 'with whom they unite themselves'\n",
       "15. 'the offspring of these unions being called heroes or demi-gods'\n",
       "16. 'who were usually renowned for their great strength and courage'\n",
       "17. 'but although there were so many points of resemblance between gods and men'\n",
       "18. 'there remained the one great characteristic distinction'\n",
       "19. 'viz.'\n",
       "20. 'that the gods enjoyed immortality'\n",
       "21. 'still'\n",
       "22. 'they were not invulnerable'\n",
       "23. 'and we often hear of them being wounded'\n",
       "24. 'and suffering in consequence such exquisite torture that they have earnestly prayed to be deprived of their privilege of immortality.'\n",
       "\n",
       "\n"
      ],
      "text/plain": [
       " [1] \"the greeks believed that the mental qualifications of their gods were of a much higher order than those of men\"                       \n",
       " [2] \"but nevertheless\"                                                                                                                     \n",
       " [3] \"as we shall see\"                                                                                                                      \n",
       " [4] \"they were not considered to be exempt from human passions\"                                                                            \n",
       " [5] \"and we frequently behold them actuated by revenge\"                                                                                    \n",
       " [6] \"deceit\"                                                                                                                               \n",
       " [7] \"and jealousy\"                                                                                                                         \n",
       " [8] \"they\"                                                                                                                                 \n",
       " [9] \"however\"                                                                                                                              \n",
       "[10] \"always punish the evil-doer\"                                                                                                          \n",
       "[11] \"and visit with dire calamities any impious mortal who dares to neglect their worship or despise their rites\"                          \n",
       "[12] \"we often hear of them visiting mankind and partaking of their hospitality\"                                                            \n",
       "[13] \"and not unfrequently both gods and goddesses {8} become attached to mortals\"                                                          \n",
       "[14] \"with whom they unite themselves\"                                                                                                      \n",
       "[15] \"the offspring of these unions being called heroes or demi-gods\"                                                                       \n",
       "[16] \"who were usually renowned for their great strength and courage\"                                                                       \n",
       "[17] \"but although there were so many points of resemblance between gods and men\"                                                           \n",
       "[18] \"there remained the one great characteristic distinction\"                                                                              \n",
       "[19] \"viz.\"                                                                                                                                 \n",
       "[20] \"that the gods enjoyed immortality\"                                                                                                    \n",
       "[21] \"still\"                                                                                                                                \n",
       "[22] \"they were not invulnerable\"                                                                                                           \n",
       "[23] \"and we often hear of them being wounded\"                                                                                              \n",
       "[24] \"and suffering in consequence such exquisite torture that they have earnestly prayed to be deprived of their privilege of immortality.\""
      ]
     },
     "metadata": {},
     "output_type": "display_data"
    }
   ],
   "source": [
    "text <- str_replace_all(text, \"\\\\n\", \" \")\n",
    "text_lower <- str_to_lower(text)\n",
    "text_sent <- str_split(text_lower, pattern = \", |\\\\. \")\n",
    "text_sent <- unlist(text_sent)\n",
    "text_sent"
   ]
  },
  {
   "cell_type": "markdown",
   "metadata": {},
   "source": [
    "Using a function from `stringr` with a list of strings as input will automatically apply the function for each string in the list:"
   ]
  },
  {
   "cell_type": "code",
   "execution_count": 46,
   "metadata": {
    "slideshow": {
     "slide_type": "fragment"
    }
   },
   "outputs": [
    {
     "data": {
      "text/html": [
       "<ol class=list-inline>\n",
       "\t<li>TRUE</li>\n",
       "\t<li>FALSE</li>\n",
       "\t<li>FALSE</li>\n",
       "\t<li>FALSE</li>\n",
       "\t<li>FALSE</li>\n",
       "\t<li>FALSE</li>\n",
       "\t<li>FALSE</li>\n",
       "\t<li>FALSE</li>\n",
       "\t<li>FALSE</li>\n",
       "\t<li>FALSE</li>\n",
       "\t<li>FALSE</li>\n",
       "\t<li>FALSE</li>\n",
       "\t<li>TRUE</li>\n",
       "\t<li>FALSE</li>\n",
       "\t<li>TRUE</li>\n",
       "\t<li>FALSE</li>\n",
       "\t<li>TRUE</li>\n",
       "\t<li>FALSE</li>\n",
       "\t<li>FALSE</li>\n",
       "\t<li>TRUE</li>\n",
       "\t<li>FALSE</li>\n",
       "\t<li>FALSE</li>\n",
       "\t<li>FALSE</li>\n",
       "\t<li>FALSE</li>\n",
       "</ol>\n"
      ],
      "text/latex": [
       "\\begin{enumerate*}\n",
       "\\item TRUE\n",
       "\\item FALSE\n",
       "\\item FALSE\n",
       "\\item FALSE\n",
       "\\item FALSE\n",
       "\\item FALSE\n",
       "\\item FALSE\n",
       "\\item FALSE\n",
       "\\item FALSE\n",
       "\\item FALSE\n",
       "\\item FALSE\n",
       "\\item FALSE\n",
       "\\item TRUE\n",
       "\\item FALSE\n",
       "\\item TRUE\n",
       "\\item FALSE\n",
       "\\item TRUE\n",
       "\\item FALSE\n",
       "\\item FALSE\n",
       "\\item TRUE\n",
       "\\item FALSE\n",
       "\\item FALSE\n",
       "\\item FALSE\n",
       "\\item FALSE\n",
       "\\end{enumerate*}\n"
      ],
      "text/markdown": [
       "1. TRUE\n",
       "2. FALSE\n",
       "3. FALSE\n",
       "4. FALSE\n",
       "5. FALSE\n",
       "6. FALSE\n",
       "7. FALSE\n",
       "8. FALSE\n",
       "9. FALSE\n",
       "10. FALSE\n",
       "11. FALSE\n",
       "12. FALSE\n",
       "13. TRUE\n",
       "14. FALSE\n",
       "15. TRUE\n",
       "16. FALSE\n",
       "17. TRUE\n",
       "18. FALSE\n",
       "19. FALSE\n",
       "20. TRUE\n",
       "21. FALSE\n",
       "22. FALSE\n",
       "23. FALSE\n",
       "24. FALSE\n",
       "\n",
       "\n"
      ],
      "text/plain": [
       " [1]  TRUE FALSE FALSE FALSE FALSE FALSE FALSE FALSE FALSE FALSE FALSE FALSE\n",
       "[13]  TRUE FALSE  TRUE FALSE  TRUE FALSE FALSE  TRUE FALSE FALSE FALSE FALSE"
      ]
     },
     "metadata": {},
     "output_type": "display_data"
    }
   ],
   "source": [
    "# Looking up word in each sentence\n",
    "str_detect(text_sent, \"god\")"
   ]
  },
  {
   "cell_type": "code",
   "execution_count": 47,
   "metadata": {
    "slideshow": {
     "slide_type": "fragment"
    }
   },
   "outputs": [
    {
     "data": {
      "text/html": [
       "<ol class=list-inline>\n",
       "\t<li>1</li>\n",
       "\t<li>0</li>\n",
       "\t<li>0</li>\n",
       "\t<li>0</li>\n",
       "\t<li>0</li>\n",
       "\t<li>0</li>\n",
       "\t<li>0</li>\n",
       "\t<li>0</li>\n",
       "\t<li>0</li>\n",
       "\t<li>0</li>\n",
       "\t<li>0</li>\n",
       "\t<li>0</li>\n",
       "\t<li>2</li>\n",
       "\t<li>0</li>\n",
       "\t<li>1</li>\n",
       "\t<li>0</li>\n",
       "\t<li>1</li>\n",
       "\t<li>0</li>\n",
       "\t<li>0</li>\n",
       "\t<li>1</li>\n",
       "\t<li>0</li>\n",
       "\t<li>0</li>\n",
       "\t<li>0</li>\n",
       "\t<li>0</li>\n",
       "</ol>\n"
      ],
      "text/latex": [
       "\\begin{enumerate*}\n",
       "\\item 1\n",
       "\\item 0\n",
       "\\item 0\n",
       "\\item 0\n",
       "\\item 0\n",
       "\\item 0\n",
       "\\item 0\n",
       "\\item 0\n",
       "\\item 0\n",
       "\\item 0\n",
       "\\item 0\n",
       "\\item 0\n",
       "\\item 2\n",
       "\\item 0\n",
       "\\item 1\n",
       "\\item 0\n",
       "\\item 1\n",
       "\\item 0\n",
       "\\item 0\n",
       "\\item 1\n",
       "\\item 0\n",
       "\\item 0\n",
       "\\item 0\n",
       "\\item 0\n",
       "\\end{enumerate*}\n"
      ],
      "text/markdown": [
       "1. 1\n",
       "2. 0\n",
       "3. 0\n",
       "4. 0\n",
       "5. 0\n",
       "6. 0\n",
       "7. 0\n",
       "8. 0\n",
       "9. 0\n",
       "10. 0\n",
       "11. 0\n",
       "12. 0\n",
       "13. 2\n",
       "14. 0\n",
       "15. 1\n",
       "16. 0\n",
       "17. 1\n",
       "18. 0\n",
       "19. 0\n",
       "20. 1\n",
       "21. 0\n",
       "22. 0\n",
       "23. 0\n",
       "24. 0\n",
       "\n",
       "\n"
      ],
      "text/plain": [
       " [1] 1 0 0 0 0 0 0 0 0 0 0 0 2 0 1 0 1 0 0 1 0 0 0 0"
      ]
     },
     "metadata": {},
     "output_type": "display_data"
    }
   ],
   "source": [
    "# Counting word in each sentence\n",
    "str_count(text_sent, \"god\")"
   ]
  },
  {
   "cell_type": "markdown",
   "metadata": {
    "slideshow": {
     "slide_type": "subslide"
    }
   },
   "source": [
    "## Subsetting text\n",
    "\n",
    "The function `str_subset()` can be used to subset a collection of strings by only returning strings that contain the provided pattern"
   ]
  },
  {
   "cell_type": "code",
   "execution_count": 48,
   "metadata": {},
   "outputs": [
    {
     "data": {
      "text/html": [
       "<ol class=list-inline>\n",
       "\t<li>'the greeks believed that the mental qualifications of their gods were of a much higher order than those of men'</li>\n",
       "\t<li>'and not unfrequently both gods and goddesses {8} become attached to mortals'</li>\n",
       "\t<li>'the offspring of these unions being called heroes or demi-gods'</li>\n",
       "\t<li>'but although there were so many points of resemblance between gods and men'</li>\n",
       "\t<li>'that the gods enjoyed immortality'</li>\n",
       "</ol>\n"
      ],
      "text/latex": [
       "\\begin{enumerate*}\n",
       "\\item 'the greeks believed that the mental qualifications of their gods were of a much higher order than those of men'\n",
       "\\item 'and not unfrequently both gods and goddesses \\{8\\} become attached to mortals'\n",
       "\\item 'the offspring of these unions being called heroes or demi-gods'\n",
       "\\item 'but although there were so many points of resemblance between gods and men'\n",
       "\\item 'that the gods enjoyed immortality'\n",
       "\\end{enumerate*}\n"
      ],
      "text/markdown": [
       "1. 'the greeks believed that the mental qualifications of their gods were of a much higher order than those of men'\n",
       "2. 'and not unfrequently both gods and goddesses {8} become attached to mortals'\n",
       "3. 'the offspring of these unions being called heroes or demi-gods'\n",
       "4. 'but although there were so many points of resemblance between gods and men'\n",
       "5. 'that the gods enjoyed immortality'\n",
       "\n",
       "\n"
      ],
      "text/plain": [
       "[1] \"the greeks believed that the mental qualifications of their gods were of a much higher order than those of men\"\n",
       "[2] \"and not unfrequently both gods and goddesses {8} become attached to mortals\"                                   \n",
       "[3] \"the offspring of these unions being called heroes or demi-gods\"                                                \n",
       "[4] \"but although there were so many points of resemblance between gods and men\"                                    \n",
       "[5] \"that the gods enjoyed immortality\"                                                                             "
      ]
     },
     "metadata": {},
     "output_type": "display_data"
    }
   ],
   "source": [
    "# Return sentences containing \"god\"\n",
    "str_subset(text_sent, \"god\")"
   ]
  },
  {
   "cell_type": "code",
   "execution_count": 49,
   "metadata": {},
   "outputs": [
    {
     "data": {
      "text/html": [
       "<ol class=list-inline>\n",
       "\t<li>'the greeks believed that the mental qualifications of their gods were of a much higher order than those of men'</li>\n",
       "\t<li>'they were not considered to be exempt from human passions'</li>\n",
       "\t<li>'they'</li>\n",
       "\t<li>'the offspring of these unions being called heroes or demi-gods'</li>\n",
       "\t<li>'there remained the one great characteristic distinction'</li>\n",
       "\t<li>'that the gods enjoyed immortality'</li>\n",
       "\t<li>'they were not invulnerable'</li>\n",
       "</ol>\n"
      ],
      "text/latex": [
       "\\begin{enumerate*}\n",
       "\\item 'the greeks believed that the mental qualifications of their gods were of a much higher order than those of men'\n",
       "\\item 'they were not considered to be exempt from human passions'\n",
       "\\item 'they'\n",
       "\\item 'the offspring of these unions being called heroes or demi-gods'\n",
       "\\item 'there remained the one great characteristic distinction'\n",
       "\\item 'that the gods enjoyed immortality'\n",
       "\\item 'they were not invulnerable'\n",
       "\\end{enumerate*}\n"
      ],
      "text/markdown": [
       "1. 'the greeks believed that the mental qualifications of their gods were of a much higher order than those of men'\n",
       "2. 'they were not considered to be exempt from human passions'\n",
       "3. 'they'\n",
       "4. 'the offspring of these unions being called heroes or demi-gods'\n",
       "5. 'there remained the one great characteristic distinction'\n",
       "6. 'that the gods enjoyed immortality'\n",
       "7. 'they were not invulnerable'\n",
       "\n",
       "\n"
      ],
      "text/plain": [
       "[1] \"the greeks believed that the mental qualifications of their gods were of a much higher order than those of men\"\n",
       "[2] \"they were not considered to be exempt from human passions\"                                                     \n",
       "[3] \"they\"                                                                                                          \n",
       "[4] \"the offspring of these unions being called heroes or demi-gods\"                                                \n",
       "[5] \"there remained the one great characteristic distinction\"                                                       \n",
       "[6] \"that the gods enjoyed immortality\"                                                                             \n",
       "[7] \"they were not invulnerable\"                                                                                    "
      ]
     },
     "metadata": {},
     "output_type": "display_data"
    }
   ],
   "source": [
    "# Return sentences that start with a \"t\"\n",
    "str_subset(text_sent, \"^t\")"
   ]
  },
  {
   "cell_type": "markdown",
   "metadata": {
    "slideshow": {
     "slide_type": "slide"
    }
   },
   "source": [
    "## EXERCISE: STRINGS AS VECTORS\n",
    "\n",
    "1. Convert your two text snippets from earlier to a vector of senteces.\n",
    "\n",
    "    a. Put both texts into a vector using `c()`. Assign to an object.\n",
    "    \n",
    "    b. Split the texts into sentences using `str_split(texts, pattern = \", |\\\\. \")`. Assign to an object.\n",
    "    \n",
    "    c. Unlist the object to convert to a vector using `unlist()`. Assign to the same or a new object.\n",
    "    \n",
    "    \n",
    "2. Use `str_subset` along with regular expression to locate sentences containing a word starting with upper-case\n",
    "\n",
    "**Bonus**\n",
    "- Can you write the regular expression in a way that avoids including the words following a period?"
   ]
  }
 ],
 "metadata": {
  "kernelspec": {
   "display_name": "R",
   "language": "R",
   "name": "ir"
  },
  "language_info": {
   "codemirror_mode": "r",
   "file_extension": ".r",
   "mimetype": "text/x-r-source",
   "name": "R",
   "pygments_lexer": "r",
   "version": "3.6.3"
  }
 },
 "nbformat": 4,
 "nbformat_minor": 4
}
