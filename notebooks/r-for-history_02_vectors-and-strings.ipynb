{
 "cells": [
  {
   "cell_type": "markdown",
   "metadata": {
    "slideshow": {
     "slide_type": "slide"
    }
   },
   "source": [
    "# R Objects: Vectors\n",
    "So far we have looked at R objects containing single values: a number, a word, a text or a boolean.\n",
    "\n",
    "R has different ways of storing a series of elements (values, objects, etc.). One of the more common is the *vector*.\n",
    "\n",
    "A vector is a grouping of elements. They are created using the function `c`:"
   ]
  },
  {
   "cell_type": "code",
   "execution_count": 20,
   "metadata": {
    "slideshow": {
     "slide_type": "fragment"
    }
   },
   "outputs": [
    {
     "data": {
      "text/html": [
       "<ol class=list-inline>\n",
       "\t<li>1</li>\n",
       "\t<li>9</li>\n",
       "\t<li>7</li>\n",
       "\t<li>3</li>\n",
       "</ol>\n"
      ],
      "text/latex": [
       "\\begin{enumerate*}\n",
       "\\item 1\n",
       "\\item 9\n",
       "\\item 7\n",
       "\\item 3\n",
       "\\end{enumerate*}\n"
      ],
      "text/markdown": [
       "1. 1\n",
       "2. 9\n",
       "3. 7\n",
       "4. 3\n",
       "\n",
       "\n"
      ],
      "text/plain": [
       "[1] 1 9 7 3"
      ]
     },
     "metadata": {},
     "output_type": "display_data"
    }
   ],
   "source": [
    "my_vec <- c(1, 9, 7, 3)\n",
    "my_vec"
   ]
  },
  {
   "cell_type": "markdown",
   "metadata": {
    "slideshow": {
     "slide_type": "slide"
    }
   },
   "source": [
    "Elements can be added to the vector with the function `append` or by creating a vector containing the vector:"
   ]
  },
  {
   "cell_type": "code",
   "execution_count": 21,
   "metadata": {
    "slideshow": {
     "slide_type": "fragment"
    }
   },
   "outputs": [
    {
     "data": {
      "text/html": [
       "<ol class=list-inline>\n",
       "\t<li>1</li>\n",
       "\t<li>9</li>\n",
       "\t<li>7</li>\n",
       "\t<li>3</li>\n",
       "\t<li>22</li>\n",
       "</ol>\n"
      ],
      "text/latex": [
       "\\begin{enumerate*}\n",
       "\\item 1\n",
       "\\item 9\n",
       "\\item 7\n",
       "\\item 3\n",
       "\\item 22\n",
       "\\end{enumerate*}\n"
      ],
      "text/markdown": [
       "1. 1\n",
       "2. 9\n",
       "3. 7\n",
       "4. 3\n",
       "5. 22\n",
       "\n",
       "\n"
      ],
      "text/plain": [
       "[1]  1  9  7  3 22"
      ]
     },
     "metadata": {},
     "output_type": "display_data"
    }
   ],
   "source": [
    "my_vec2 <- append(my_vec, 22)\n",
    "my_vec2"
   ]
  },
  {
   "cell_type": "code",
   "execution_count": 22,
   "metadata": {
    "slideshow": {
     "slide_type": "fragment"
    }
   },
   "outputs": [
    {
     "data": {
      "text/html": [
       "<ol class=list-inline>\n",
       "\t<li>1</li>\n",
       "\t<li>9</li>\n",
       "\t<li>7</li>\n",
       "\t<li>3</li>\n",
       "\t<li>22</li>\n",
       "</ol>\n"
      ],
      "text/latex": [
       "\\begin{enumerate*}\n",
       "\\item 1\n",
       "\\item 9\n",
       "\\item 7\n",
       "\\item 3\n",
       "\\item 22\n",
       "\\end{enumerate*}\n"
      ],
      "text/markdown": [
       "1. 1\n",
       "2. 9\n",
       "3. 7\n",
       "4. 3\n",
       "5. 22\n",
       "\n",
       "\n"
      ],
      "text/plain": [
       "[1]  1  9  7  3 22"
      ]
     },
     "metadata": {},
     "output_type": "display_data"
    }
   ],
   "source": [
    "my_vec3 <- c(my_vec, 22)\n",
    "my_vec3"
   ]
  },
  {
   "cell_type": "markdown",
   "metadata": {
    "slideshow": {
     "slide_type": "subslide"
    }
   },
   "source": [
    "Note that a vector is not a class. The class it takes depends on the elements in the vector. This means that all elements in a vector have to be the same class (or will be coerced to the same class)."
   ]
  },
  {
   "cell_type": "code",
   "execution_count": 23,
   "metadata": {
    "slideshow": {
     "slide_type": "fragment"
    }
   },
   "outputs": [
    {
     "data": {
      "text/html": [
       "'numeric'"
      ],
      "text/latex": [
       "'numeric'"
      ],
      "text/markdown": [
       "'numeric'"
      ],
      "text/plain": [
       "[1] \"numeric\""
      ]
     },
     "metadata": {},
     "output_type": "display_data"
    }
   ],
   "source": [
    "class(my_vec)"
   ]
  },
  {
   "cell_type": "markdown",
   "metadata": {
    "slideshow": {
     "slide_type": "slide"
    }
   },
   "source": [
    "## Texts as vectors\n",
    "Texts can be thought of as vectors in a number of ways:\n",
    "1. A collection of texts\n",
    "2. A collection of words in a text\n",
    "3. A collection of sentences in a text\n",
    "\n",
    "Depending on what we are trying to figure out with text, R can be used in a number of ways."
   ]
  },
  {
   "cell_type": "markdown",
   "metadata": {
    "slideshow": {
     "slide_type": "slide"
    }
   },
   "source": [
    "Let's start by thinking of a text as a series of single words:"
   ]
  },
  {
   "cell_type": "code",
   "execution_count": 24,
   "metadata": {
    "slideshow": {
     "slide_type": "fragment"
    }
   },
   "outputs": [
    {
     "data": {
      "text/html": [
       "<ol class=list-inline>\n",
       "\t<li>'The'</li>\n",
       "\t<li>'ancient'</li>\n",
       "\t<li>'Greeks'</li>\n",
       "\t<li>'had'</li>\n",
       "\t<li>'several'</li>\n",
       "\t<li>'different'</li>\n",
       "\t<li>'theories'</li>\n",
       "\t<li>'with'</li>\n",
       "\t<li>'regard'</li>\n",
       "\t<li>'to'</li>\n",
       "\t<li>'the'</li>\n",
       "\t<li>'origin'</li>\n",
       "\t<li>'of'</li>\n",
       "\t<li>'the'</li>\n",
       "\t<li>'world,'</li>\n",
       "\t<li>'but'</li>\n",
       "\t<li>'the'</li>\n",
       "\t<li>'generally'</li>\n",
       "\t<li>'accepted'</li>\n",
       "\t<li>'notion'</li>\n",
       "\t<li>'was'</li>\n",
       "\t<li>'that'</li>\n",
       "\t<li>'before'</li>\n",
       "\t<li>'this'</li>\n",
       "\t<li>'world'</li>\n",
       "\t<li>'came'</li>\n",
       "\t<li>'into'</li>\n",
       "\t<li>'existence,'</li>\n",
       "\t<li>'there'</li>\n",
       "\t<li>'was'</li>\n",
       "\t<li>'in'</li>\n",
       "\t<li>'its'</li>\n",
       "\t<li>'place'</li>\n",
       "\t<li>'a'</li>\n",
       "\t<li>'confused'</li>\n",
       "\t<li>'mass'</li>\n",
       "\t<li>'of'</li>\n",
       "\t<li>'shapeless'</li>\n",
       "\t<li>'elements'</li>\n",
       "\t<li>'called'</li>\n",
       "\t<li>'Chaos.'</li>\n",
       "</ol>\n"
      ],
      "text/latex": [
       "\\begin{enumerate*}\n",
       "\\item 'The'\n",
       "\\item 'ancient'\n",
       "\\item 'Greeks'\n",
       "\\item 'had'\n",
       "\\item 'several'\n",
       "\\item 'different'\n",
       "\\item 'theories'\n",
       "\\item 'with'\n",
       "\\item 'regard'\n",
       "\\item 'to'\n",
       "\\item 'the'\n",
       "\\item 'origin'\n",
       "\\item 'of'\n",
       "\\item 'the'\n",
       "\\item 'world,'\n",
       "\\item 'but'\n",
       "\\item 'the'\n",
       "\\item 'generally'\n",
       "\\item 'accepted'\n",
       "\\item 'notion'\n",
       "\\item 'was'\n",
       "\\item 'that'\n",
       "\\item 'before'\n",
       "\\item 'this'\n",
       "\\item 'world'\n",
       "\\item 'came'\n",
       "\\item 'into'\n",
       "\\item 'existence,'\n",
       "\\item 'there'\n",
       "\\item 'was'\n",
       "\\item 'in'\n",
       "\\item 'its'\n",
       "\\item 'place'\n",
       "\\item 'a'\n",
       "\\item 'confused'\n",
       "\\item 'mass'\n",
       "\\item 'of'\n",
       "\\item 'shapeless'\n",
       "\\item 'elements'\n",
       "\\item 'called'\n",
       "\\item 'Chaos.'\n",
       "\\end{enumerate*}\n"
      ],
      "text/markdown": [
       "1. 'The'\n",
       "2. 'ancient'\n",
       "3. 'Greeks'\n",
       "4. 'had'\n",
       "5. 'several'\n",
       "6. 'different'\n",
       "7. 'theories'\n",
       "8. 'with'\n",
       "9. 'regard'\n",
       "10. 'to'\n",
       "11. 'the'\n",
       "12. 'origin'\n",
       "13. 'of'\n",
       "14. 'the'\n",
       "15. 'world,'\n",
       "16. 'but'\n",
       "17. 'the'\n",
       "18. 'generally'\n",
       "19. 'accepted'\n",
       "20. 'notion'\n",
       "21. 'was'\n",
       "22. 'that'\n",
       "23. 'before'\n",
       "24. 'this'\n",
       "25. 'world'\n",
       "26. 'came'\n",
       "27. 'into'\n",
       "28. 'existence,'\n",
       "29. 'there'\n",
       "30. 'was'\n",
       "31. 'in'\n",
       "32. 'its'\n",
       "33. 'place'\n",
       "34. 'a'\n",
       "35. 'confused'\n",
       "36. 'mass'\n",
       "37. 'of'\n",
       "38. 'shapeless'\n",
       "39. 'elements'\n",
       "40. 'called'\n",
       "41. 'Chaos.'\n",
       "\n",
       "\n"
      ],
      "text/plain": [
       " [1] \"The\"        \"ancient\"    \"Greeks\"     \"had\"        \"several\"   \n",
       " [6] \"different\"  \"theories\"   \"with\"       \"regard\"     \"to\"        \n",
       "[11] \"the\"        \"origin\"     \"of\"         \"the\"        \"world,\"    \n",
       "[16] \"but\"        \"the\"        \"generally\"  \"accepted\"   \"notion\"    \n",
       "[21] \"was\"        \"that\"       \"before\"     \"this\"       \"world\"     \n",
       "[26] \"came\"       \"into\"       \"existence,\" \"there\"      \"was\"       \n",
       "[31] \"in\"         \"its\"        \"place\"      \"a\"          \"confused\"  \n",
       "[36] \"mass\"       \"of\"         \"shapeless\"  \"elements\"   \"called\"    \n",
       "[41] \"Chaos.\"    "
      ]
     },
     "metadata": {},
     "output_type": "display_data"
    }
   ],
   "source": [
    "text_words <- unlist(strsplit(text, split = \"\\\\s\"))  #split at every whitespace - \\\\s is an escape character\n",
    "text_words"
   ]
  },
  {
   "cell_type": "markdown",
   "metadata": {
    "slideshow": {
     "slide_type": "fragment"
    }
   },
   "source": [
    "The text is now a vector, each word with its own index (subset using `[]`):"
   ]
  },
  {
   "cell_type": "code",
   "execution_count": 25,
   "metadata": {
    "slideshow": {
     "slide_type": "fragment"
    }
   },
   "outputs": [
    {
     "data": {
      "text/html": [
       "'several'"
      ],
      "text/latex": [
       "'several'"
      ],
      "text/markdown": [
       "'several'"
      ],
      "text/plain": [
       "[1] \"several\""
      ]
     },
     "metadata": {},
     "output_type": "display_data"
    },
    {
     "data": {
      "text/html": [
       "'that'"
      ],
      "text/latex": [
       "'that'"
      ],
      "text/markdown": [
       "'that'"
      ],
      "text/plain": [
       "[1] \"that\""
      ]
     },
     "metadata": {},
     "output_type": "display_data"
    }
   ],
   "source": [
    "text_words[5]\n",
    "text_words[22]"
   ]
  },
  {
   "cell_type": "markdown",
   "metadata": {
    "slideshow": {
     "slide_type": "fragment"
    }
   },
   "source": [
    "This allows us to perform counts and other summaries (which we wil get back to)."
   ]
  },
  {
   "cell_type": "markdown",
   "metadata": {
    "slideshow": {
     "slide_type": "slide"
    }
   },
   "source": [
    "# R Libraries - Packages \n",
    "\n",
    "R being open source means that a lot of developers are constantly adding new functions to R.\n",
    "These new functions are distributed as *R packages* that can be loaded into the R library.\n",
    "\n",
    "All the commands you have been using so far have been part of the `base` package (ships with R). \n",
    "\n",
    "Packages are installed using (name of package *with* quotes!): \n",
    "\n",
    "`install.packages('packagename')` \n",
    "\n",
    "The functions from the package is loaded into the environment using (name of package *without* quotes!):\n",
    "    \n",
    "`library(packagename)` \n",
    "\n",
    "Information for installed packages can be found using (name of package *with* quotes!):\n",
    "\n",
    "`library(help = 'packagename')` "
   ]
  },
  {
   "cell_type": "markdown",
   "metadata": {
    "slideshow": {
     "slide_type": "subslide"
    }
   },
   "source": [
    "The many additional functionalities of R gained from the addition of other packages is a huge benefit.\n",
    "\n",
    "Some notes of caution should be mentioned:\n",
    "- Packages are added constantly and there is not a centralized and long review proces. Make sure to use package with good documentation and documented uses.\n",
    "- Packages can be developed by anyone which means that they can also stop developing on them.\n",
    "- Packages can use the same name for functions. This can cause confusion and sometimes conflict.\n",
    "- Packages are developed with different workflows in mind, so compatibility between packages can vary."
   ]
  },
  {
   "cell_type": "markdown",
   "metadata": {
    "slideshow": {
     "slide_type": "slide"
    }
   },
   "source": [
    "# Working with strings: The `stringr` package\n",
    "To ensure a common workflow and package use, we will try to stick to packages from the \"Tidyverse\" as much as possible: https://www.tidyverse.org/\n",
    "\n",
    "These packages are all developed with a consistent syntax for the functions and are all well-documented, used and tested.\n",
    "\n",
    "The packages in the tidyverse are best for working with \"tidy data\": A data format where each row in a data set is a unique observation. \n",
    "\n",
    "The package `stringr` is a tidyverse package for working with strings. Install it with `install.packages('stringr')`.\n",
    "\n",
    "When installed, load it with `library(stringr)`. Write it into your script. (Good practice is to either write it at the very beginning or just before you are using the commands from the package)."
   ]
  },
  {
   "cell_type": "code",
   "execution_count": 26,
   "metadata": {
    "slideshow": {
     "slide_type": "skip"
    }
   },
   "outputs": [],
   "source": [
    "library(stringr)"
   ]
  },
  {
   "cell_type": "markdown",
   "metadata": {
    "slideshow": {
     "slide_type": "slide"
    }
   },
   "source": [
    "`stringr` can be used in a variety of different ways."
   ]
  },
  {
   "cell_type": "code",
   "execution_count": 27,
   "metadata": {
    "slideshow": {
     "slide_type": "fragment"
    }
   },
   "outputs": [
    {
     "data": {
      "text/html": [
       "'the ancient greeks had several different theories with regard to the origin of the world, but the generally accepted notion was that before this world came into existence, there was in its place a confused mass of shapeless elements called chaos. '"
      ],
      "text/latex": [
       "'the ancient greeks had several different theories with regard to the origin of the world, but the generally accepted notion was that before this world came into existence, there was in its place a confused mass of shapeless elements called chaos. '"
      ],
      "text/markdown": [
       "'the ancient greeks had several different theories with regard to the origin of the world, but the generally accepted notion was that before this world came into existence, there was in its place a confused mass of shapeless elements called chaos. '"
      ],
      "text/plain": [
       "[1] \"the ancient greeks had several different theories with regard to the origin of the world, but the generally accepted notion was that before this world came into existence, there was in its place a confused mass of shapeless elements called chaos. \""
      ]
     },
     "metadata": {},
     "output_type": "display_data"
    }
   ],
   "source": [
    "# Changing case (here to lowercase)\n",
    "str_to_lower(text)"
   ]
  },
  {
   "cell_type": "code",
   "execution_count": 28,
   "metadata": {
    "slideshow": {
     "slide_type": "fragment"
    }
   },
   "outputs": [
    {
     "data": {
      "text/html": [
       "TRUE"
      ],
      "text/latex": [
       "TRUE"
      ],
      "text/markdown": [
       "TRUE"
      ],
      "text/plain": [
       "[1] TRUE"
      ]
     },
     "metadata": {},
     "output_type": "display_data"
    }
   ],
   "source": [
    "# Looking up words\n",
    "str_detect(text, \"world\")"
   ]
  },
  {
   "cell_type": "code",
   "execution_count": 29,
   "metadata": {
    "slideshow": {
     "slide_type": "fragment"
    }
   },
   "outputs": [
    {
     "data": {
      "text/html": [
       "2"
      ],
      "text/latex": [
       "2"
      ],
      "text/markdown": [
       "2"
      ],
      "text/plain": [
       "[1] 2"
      ]
     },
     "metadata": {},
     "output_type": "display_data"
    }
   ],
   "source": [
    "# Counting matches\n",
    "str_count(text, \"world\")"
   ]
  },
  {
   "cell_type": "markdown",
   "metadata": {
    "slideshow": {
     "slide_type": "slide"
    }
   },
   "source": [
    "The functions of `stringr` also work on a grouping on elements (like a vector). We can see this when we split the text into sentences and then use the same functions"
   ]
  },
  {
   "cell_type": "code",
   "execution_count": 30,
   "metadata": {
    "slideshow": {
     "slide_type": "fragment"
    }
   },
   "outputs": [],
   "source": [
    "# Splitting text into elements; here separating at commas\n",
    "# unlist is used to coerce to a vector; otherwise it is returned as a list\n",
    "text_sent <- str_split(text, pattern = \",\") %>% \n",
    "unlist()"
   ]
  },
  {
   "cell_type": "code",
   "execution_count": 31,
   "metadata": {
    "slideshow": {
     "slide_type": "fragment"
    }
   },
   "outputs": [
    {
     "data": {
      "text/html": [
       "<ol class=list-inline>\n",
       "\t<li>TRUE</li>\n",
       "\t<li>TRUE</li>\n",
       "\t<li>FALSE</li>\n",
       "</ol>\n"
      ],
      "text/latex": [
       "\\begin{enumerate*}\n",
       "\\item TRUE\n",
       "\\item TRUE\n",
       "\\item FALSE\n",
       "\\end{enumerate*}\n"
      ],
      "text/markdown": [
       "1. TRUE\n",
       "2. TRUE\n",
       "3. FALSE\n",
       "\n",
       "\n"
      ],
      "text/plain": [
       "[1]  TRUE  TRUE FALSE"
      ]
     },
     "metadata": {},
     "output_type": "display_data"
    }
   ],
   "source": [
    "# Looking up word in each sentence\n",
    "str_detect(text_sent, \"world\")"
   ]
  },
  {
   "cell_type": "code",
   "execution_count": 32,
   "metadata": {
    "slideshow": {
     "slide_type": "fragment"
    }
   },
   "outputs": [
    {
     "data": {
      "text/html": [
       "<ol class=list-inline>\n",
       "\t<li>1</li>\n",
       "\t<li>1</li>\n",
       "\t<li>0</li>\n",
       "</ol>\n"
      ],
      "text/latex": [
       "\\begin{enumerate*}\n",
       "\\item 1\n",
       "\\item 1\n",
       "\\item 0\n",
       "\\end{enumerate*}\n"
      ],
      "text/markdown": [
       "1. 1\n",
       "2. 1\n",
       "3. 0\n",
       "\n",
       "\n"
      ],
      "text/plain": [
       "[1] 1 1 0"
      ]
     },
     "metadata": {},
     "output_type": "display_data"
    }
   ],
   "source": [
    "# Counting word in each sentence\n",
    "str_count(text_sent, \"world\")"
   ]
  },
  {
   "cell_type": "markdown",
   "metadata": {
    "slideshow": {
     "slide_type": "subslide"
    }
   },
   "source": [
    "### A note on indexing and booleans\n",
    "When inputting boolean valules as an index, R will only return the `TRUE` values.\n",
    "\n",
    "This means that we can use commands like `str_detect` to only return text elements containing specific words."
   ]
  },
  {
   "cell_type": "code",
   "execution_count": 33,
   "metadata": {
    "slideshow": {
     "slide_type": "fragment"
    }
   },
   "outputs": [
    {
     "data": {
      "text/html": [
       "<ol class=list-inline>\n",
       "\t<li>'The ancient Greeks had several different theories with regard to the origin of the world'</li>\n",
       "\t<li>' but the generally accepted notion was that before this world came into existence'</li>\n",
       "</ol>\n"
      ],
      "text/latex": [
       "\\begin{enumerate*}\n",
       "\\item 'The ancient Greeks had several different theories with regard to the origin of the world'\n",
       "\\item ' but the generally accepted notion was that before this world came into existence'\n",
       "\\end{enumerate*}\n"
      ],
      "text/markdown": [
       "1. 'The ancient Greeks had several different theories with regard to the origin of the world'\n",
       "2. ' but the generally accepted notion was that before this world came into existence'\n",
       "\n",
       "\n"
      ],
      "text/plain": [
       "[1] \"The ancient Greeks had several different theories with regard to the origin of the world\"\n",
       "[2] \" but the generally accepted notion was that before this world came into existence\"       "
      ]
     },
     "metadata": {},
     "output_type": "display_data"
    }
   ],
   "source": [
    "text_sent[str_detect(text_sent, \"world\")]"
   ]
  },
  {
   "cell_type": "markdown",
   "metadata": {},
   "source": [
    "`str_subset` has combined this functionality in one function:"
   ]
  },
  {
   "cell_type": "code",
   "execution_count": 34,
   "metadata": {},
   "outputs": [
    {
     "data": {
      "text/html": [
       "<ol class=list-inline>\n",
       "\t<li>'The ancient Greeks had several different theories with regard to the origin of the world'</li>\n",
       "\t<li>' but the generally accepted notion was that before this world came into existence'</li>\n",
       "</ol>\n"
      ],
      "text/latex": [
       "\\begin{enumerate*}\n",
       "\\item 'The ancient Greeks had several different theories with regard to the origin of the world'\n",
       "\\item ' but the generally accepted notion was that before this world came into existence'\n",
       "\\end{enumerate*}\n"
      ],
      "text/markdown": [
       "1. 'The ancient Greeks had several different theories with regard to the origin of the world'\n",
       "2. ' but the generally accepted notion was that before this world came into existence'\n",
       "\n",
       "\n"
      ],
      "text/plain": [
       "[1] \"The ancient Greeks had several different theories with regard to the origin of the world\"\n",
       "[2] \" but the generally accepted notion was that before this world came into existence\"       "
      ]
     },
     "metadata": {},
     "output_type": "display_data"
    }
   ],
   "source": [
    "str_subset(text_sent, \"world\")"
   ]
  },
  {
   "cell_type": "markdown",
   "metadata": {
    "slideshow": {
     "slide_type": "slide"
    }
   },
   "source": [
    "# EXERCISE 3: WORKING WITH VECTORS\n",
    "\n",
    "You should still have the objects `mytext1` and `mytext2`. In the following, you will create a vector containing the sentences of the texts and then looking up certain words.\n",
    "\n",
    "Make sure you have the package `stringr` installed and loaded.\n",
    "\n",
    "1. Convert the two text snippets from earlier to a vector of senteces.\n",
    "\n",
    "    a. Put both texts into a vector using `c()`. Assin to an object.\n",
    "    \n",
    "    b. Split the texts into sentences using `str_split(texts, pattern = \",\")`. Assign to an object.\n",
    "    \n",
    "    c. Unlist the object to convert to a vector using `unlist()`. Assign to the same or a new object.\n",
    "    \n",
    "    \n",
    "2. Use `str_detect()` to see which sentences contains the name \"Zeus\". "
   ]
  },
  {
   "cell_type": "code",
   "execution_count": 35,
   "metadata": {
    "slideshow": {
     "slide_type": "subslide"
    }
   },
   "outputs": [],
   "source": [
    "mytexts <- c(mytext1, mytext2)\n",
    "mysents <- str_split(mytexts, pattern = \",\")\n",
    "mysents <- unlist(mysents)"
   ]
  },
  {
   "cell_type": "code",
   "execution_count": 78,
   "metadata": {
    "slideshow": {
     "slide_type": "-"
    }
   },
   "outputs": [
    {
     "data": {
      "text/html": [
       "<ol class=list-inline>\n",
       "\t<li>FALSE</li>\n",
       "\t<li>TRUE</li>\n",
       "\t<li>FALSE</li>\n",
       "\t<li>FALSE</li>\n",
       "\t<li>FALSE</li>\n",
       "\t<li>FALSE</li>\n",
       "\t<li>FALSE</li>\n",
       "\t<li>FALSE</li>\n",
       "\t<li>FALSE</li>\n",
       "\t<li>TRUE</li>\n",
       "</ol>\n"
      ],
      "text/latex": [
       "\\begin{enumerate*}\n",
       "\\item FALSE\n",
       "\\item TRUE\n",
       "\\item FALSE\n",
       "\\item FALSE\n",
       "\\item FALSE\n",
       "\\item FALSE\n",
       "\\item FALSE\n",
       "\\item FALSE\n",
       "\\item FALSE\n",
       "\\item TRUE\n",
       "\\end{enumerate*}\n"
      ],
      "text/markdown": [
       "1. FALSE\n",
       "2. TRUE\n",
       "3. FALSE\n",
       "4. FALSE\n",
       "5. FALSE\n",
       "6. FALSE\n",
       "7. FALSE\n",
       "8. FALSE\n",
       "9. FALSE\n",
       "10. TRUE\n",
       "\n",
       "\n"
      ],
      "text/plain": [
       " [1] FALSE  TRUE FALSE FALSE FALSE FALSE FALSE FALSE FALSE  TRUE"
      ]
     },
     "metadata": {},
     "output_type": "display_data"
    }
   ],
   "source": [
    "str_detect(mysents, \"Zeus\")"
   ]
  },
  {
   "cell_type": "markdown",
   "metadata": {
    "slideshow": {
     "slide_type": "slide"
    }
   },
   "source": [
    "## Regular expressions\n",
    "Often when working with text, we have more \"fuzzy\" patterns we want to search for. \n",
    "\n",
    "Regular expression is a common language for processing text patterns.\n",
    "\n",
    "`stringr` supports regular expression arguements.\n",
    "\n",
    "Possible uses:\n",
    "- Finding words of a certain length\n",
    "- Finding sentences containing a certain word or pattern\n",
    "- Finding words following a certain pattern\n",
    "- and so on.\n",
    "\n",
    "Regular expression (or \"regex\") can be used in most function in `stringr`. "
   ]
  },
  {
   "cell_type": "markdown",
   "metadata": {
    "slideshow": {
     "slide_type": "slide"
    }
   },
   "source": [
    "The function `str_subset()` creates a subset of elements with the strings containing the pattern."
   ]
  },
  {
   "cell_type": "code",
   "execution_count": 36,
   "metadata": {
    "slideshow": {
     "slide_type": "skip"
    }
   },
   "outputs": [
    {
     "data": {
      "text/html": [
       "<ol class=list-inline>\n",
       "\t<li>'The ancient Greeks had several different theories with regard to the origin of the world'</li>\n",
       "\t<li>' but the generally accepted notion was that before this world came into existence'</li>\n",
       "\t<li>' there was in its place a confused mass of shapeless elements called Chaos. '</li>\n",
       "</ol>\n"
      ],
      "text/latex": [
       "\\begin{enumerate*}\n",
       "\\item 'The ancient Greeks had several different theories with regard to the origin of the world'\n",
       "\\item ' but the generally accepted notion was that before this world came into existence'\n",
       "\\item ' there was in its place a confused mass of shapeless elements called Chaos. '\n",
       "\\end{enumerate*}\n"
      ],
      "text/markdown": [
       "1. 'The ancient Greeks had several different theories with regard to the origin of the world'\n",
       "2. ' but the generally accepted notion was that before this world came into existence'\n",
       "3. ' there was in its place a confused mass of shapeless elements called Chaos. '\n",
       "\n",
       "\n"
      ],
      "text/plain": [
       "[1] \"The ancient Greeks had several different theories with regard to the origin of the world\"\n",
       "[2] \" but the generally accepted notion was that before this world came into existence\"       \n",
       "[3] \" there was in its place a confused mass of shapeless elements called Chaos. \"            "
      ]
     },
     "metadata": {},
     "output_type": "display_data"
    }
   ],
   "source": [
    "text_sent"
   ]
  },
  {
   "cell_type": "code",
   "execution_count": 79,
   "metadata": {
    "slideshow": {
     "slide_type": "fragment"
    }
   },
   "outputs": [
    {
     "data": {
      "text/html": [
       "<ol class=list-inline>\n",
       "\t<li>'The ancient Greeks had several different theories with regard to the origin of the world'</li>\n",
       "\t<li>' but the generally accepted notion was that before this world came into existence'</li>\n",
       "</ol>\n"
      ],
      "text/latex": [
       "\\begin{enumerate*}\n",
       "\\item 'The ancient Greeks had several different theories with regard to the origin of the world'\n",
       "\\item ' but the generally accepted notion was that before this world came into existence'\n",
       "\\end{enumerate*}\n"
      ],
      "text/markdown": [
       "1. 'The ancient Greeks had several different theories with regard to the origin of the world'\n",
       "2. ' but the generally accepted notion was that before this world came into existence'\n",
       "\n",
       "\n"
      ],
      "text/plain": [
       "[1] \"The ancient Greeks had several different theories with regard to the origin of the world\"\n",
       "[2] \" but the generally accepted notion was that before this world came into existence\"       "
      ]
     },
     "metadata": {},
     "output_type": "display_data"
    }
   ],
   "source": [
    "# Return sentences containing either \"origin\" or \"before\"\n",
    "str_subset(text_sent, \"origin|before\")"
   ]
  },
  {
   "cell_type": "code",
   "execution_count": 38,
   "metadata": {
    "slideshow": {
     "slide_type": "fragment"
    }
   },
   "outputs": [
    {
     "data": {
      "text/html": [
       "<ol class=list-inline>\n",
       "\t<li>'The ancient Greeks had several different theories with regard to the origin of the world'</li>\n",
       "\t<li>' there was in its place a confused mass of shapeless elements called Chaos. '</li>\n",
       "</ol>\n"
      ],
      "text/latex": [
       "\\begin{enumerate*}\n",
       "\\item 'The ancient Greeks had several different theories with regard to the origin of the world'\n",
       "\\item ' there was in its place a confused mass of shapeless elements called Chaos. '\n",
       "\\end{enumerate*}\n"
      ],
      "text/markdown": [
       "1. 'The ancient Greeks had several different theories with regard to the origin of the world'\n",
       "2. ' there was in its place a confused mass of shapeless elements called Chaos. '\n",
       "\n",
       "\n"
      ],
      "text/plain": [
       "[1] \"The ancient Greeks had several different theories with regard to the origin of the world\"\n",
       "[2] \" there was in its place a confused mass of shapeless elements called Chaos. \"            "
      ]
     },
     "metadata": {},
     "output_type": "display_data"
    }
   ],
   "source": [
    "# Return sentences containing an uppercase.\n",
    "str_subset(text_sent, \"[A-Z]\")"
   ]
  },
  {
   "cell_type": "markdown",
   "metadata": {
    "slideshow": {
     "slide_type": "slide"
    }
   },
   "source": [
    "# EXERCISE 4: SIMPLE REGEX\n",
    "\n",
    "Use your vector of sentences from the previous exercise.\n",
    "\n",
    "1. Use `str_subset()` to extract sentences containing either \"Zeus\" or \"Athene\"."
   ]
  },
  {
   "cell_type": "code",
   "execution_count": 82,
   "metadata": {
    "scrolled": true,
    "slideshow": {
     "slide_type": "subslide"
    }
   },
   "outputs": [
    {
     "data": {
      "text/html": [
       "<ol class=list-inline>\n",
       "\t<li>' who has already been alluded to as the wife of Zeus'</li>\n",
       "\t<li>'Athene was universally worshipped throughout Greece'</li>\n",
       "\t<li>' which ranks second only to that of Zeus by the same great artist.'</li>\n",
       "</ol>\n"
      ],
      "text/latex": [
       "\\begin{enumerate*}\n",
       "\\item ' who has already been alluded to as the wife of Zeus'\n",
       "\\item 'Athene was universally worshipped throughout Greece'\n",
       "\\item ' which ranks second only to that of Zeus by the same great artist.'\n",
       "\\end{enumerate*}\n"
      ],
      "text/markdown": [
       "1. ' who has already been alluded to as the wife of Zeus'\n",
       "2. 'Athene was universally worshipped throughout Greece'\n",
       "3. ' which ranks second only to that of Zeus by the same great artist.'\n",
       "\n",
       "\n"
      ],
      "text/plain": [
       "[1] \" who has already been alluded to as the wife of Zeus\"              \n",
       "[2] \"Athene was universally worshipped throughout Greece\"               \n",
       "[3] \" which ranks second only to that of Zeus by the same great artist.\""
      ]
     },
     "metadata": {},
     "output_type": "display_data"
    }
   ],
   "source": [
    "str_subset(mysents, \"Zeus|Athene\")"
   ]
  },
  {
   "cell_type": "code",
   "execution_count": null,
   "metadata": {},
   "outputs": [],
   "source": []
  }
 ],
 "metadata": {
  "celltoolbar": "Slideshow",
  "kernelspec": {
   "display_name": "R",
   "language": "R",
   "name": "ir"
  },
  "language_info": {
   "codemirror_mode": "r",
   "file_extension": ".r",
   "mimetype": "text/x-r-source",
   "name": "R",
   "pygments_lexer": "r",
   "version": "3.6.2"
  }
 },
 "nbformat": 4,
 "nbformat_minor": 2
}
