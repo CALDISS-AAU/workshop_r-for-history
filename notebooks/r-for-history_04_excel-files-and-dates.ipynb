{
 "cells": [
  {
   "cell_type": "markdown",
   "metadata": {
    "slideshow": {
     "slide_type": "slide"
    }
   },
   "source": [
    "# Reading data from Excel: The `readxl` package\n",
    "R can read in data from Excel with the `readxl` package.\n",
    "\n",
    "The command belows reads a Excel file into an R object:"
   ]
  },
  {
   "cell_type": "code",
   "execution_count": 61,
   "metadata": {
    "slideshow": {
     "slide_type": "skip"
    }
   },
   "outputs": [],
   "source": [
    "library(readxl)"
   ]
  },
  {
   "cell_type": "code",
   "execution_count": 62,
   "metadata": {
    "slideshow": {
     "slide_type": "-"
    }
   },
   "outputs": [],
   "source": [
    "runaways <- read_excel(\"./data/runaways_exampledata.xlsx\")"
   ]
  },
  {
   "cell_type": "markdown",
   "metadata": {
    "slideshow": {
     "slide_type": "fragment"
    }
   },
   "source": [
    "The data is now loaded into R as a dataframe:"
   ]
  },
  {
   "cell_type": "code",
   "execution_count": 63,
   "metadata": {
    "slideshow": {
     "slide_type": "-"
    }
   },
   "outputs": [
    {
     "data": {
      "text/html": [
       "<ol class=list-inline>\n",
       "\t<li>253</li>\n",
       "\t<li>5</li>\n",
       "</ol>\n"
      ],
      "text/latex": [
       "\\begin{enumerate*}\n",
       "\\item 253\n",
       "\\item 5\n",
       "\\end{enumerate*}\n"
      ],
      "text/markdown": [
       "1. 253\n",
       "2. 5\n",
       "\n",
       "\n"
      ],
      "text/plain": [
       "[1] 253   5"
      ]
     },
     "metadata": {},
     "output_type": "display_data"
    },
    {
     "data": {
      "text/html": [
       "<table>\n",
       "<thead><tr><th scope=col>name</th><th scope=col>id</th><th scope=col>registered</th><th scope=col>escaped</th><th scope=col>returned</th></tr></thead>\n",
       "<tbody>\n",
       "\t<tr><td>Peter vesmand            </td><td>590                      </td><td>21/03/1712               </td><td>29/10/1716               </td><td>03/11/1716               </td></tr>\n",
       "\t<tr><td>Thomas Petersen          </td><td>591                      </td><td>21/03/1712               </td><td>17/10/1713               </td><td>26/10/1713               </td></tr>\n",
       "\t<tr><td>Niels Jensen Skaaning    </td><td>592                      </td><td>31/03/1712               </td><td>25/08/1716               </td><td>02/09/1716               </td></tr>\n",
       "\t<tr><td>Niels Jensen Skaaning    </td><td>592                      </td><td>31/03/1712               </td><td>21/09/1716               </td><td>13/11/1716               </td></tr>\n",
       "\t<tr><td>[ ] Jens Sönner          </td><td>594                      </td><td>26/04/1712               </td><td>00/00/1716               </td><td>NA                       </td></tr>\n",
       "\t<tr><td>Magnus Bendixsen / Mogens</td><td>599                      </td><td>08/03/1713               </td><td>09/07/1719               </td><td>11/11/1720               </td></tr>\n",
       "</tbody>\n",
       "</table>\n"
      ],
      "text/latex": [
       "\\begin{tabular}{r|lllll}\n",
       " name & id & registered & escaped & returned\\\\\n",
       "\\hline\n",
       "\t Peter vesmand             & 590                       & 21/03/1712                & 29/10/1716                & 03/11/1716               \\\\\n",
       "\t Thomas Petersen           & 591                       & 21/03/1712                & 17/10/1713                & 26/10/1713               \\\\\n",
       "\t Niels Jensen Skaaning     & 592                       & 31/03/1712                & 25/08/1716                & 02/09/1716               \\\\\n",
       "\t Niels Jensen Skaaning     & 592                       & 31/03/1712                & 21/09/1716                & 13/11/1716               \\\\\n",
       "\t {[} {]} Jens Sönner           & 594                           & 26/04/1712                    & 00/00/1716                    & NA                           \\\\\n",
       "\t Magnus Bendixsen / Mogens & 599                       & 08/03/1713                & 09/07/1719                & 11/11/1720               \\\\\n",
       "\\end{tabular}\n"
      ],
      "text/markdown": [
       "\n",
       "| name | id | registered | escaped | returned |\n",
       "|---|---|---|---|---|\n",
       "| Peter vesmand             | 590                       | 21/03/1712                | 29/10/1716                | 03/11/1716                |\n",
       "| Thomas Petersen           | 591                       | 21/03/1712                | 17/10/1713                | 26/10/1713                |\n",
       "| Niels Jensen Skaaning     | 592                       | 31/03/1712                | 25/08/1716                | 02/09/1716                |\n",
       "| Niels Jensen Skaaning     | 592                       | 31/03/1712                | 21/09/1716                | 13/11/1716                |\n",
       "| [ ] Jens Sönner           | 594                       | 26/04/1712                | 00/00/1716                | NA                        |\n",
       "| Magnus Bendixsen / Mogens | 599                       | 08/03/1713                | 09/07/1719                | 11/11/1720                |\n",
       "\n"
      ],
      "text/plain": [
       "  name                      id  registered escaped    returned  \n",
       "1 Peter vesmand             590 21/03/1712 29/10/1716 03/11/1716\n",
       "2 Thomas Petersen           591 21/03/1712 17/10/1713 26/10/1713\n",
       "3 Niels Jensen Skaaning     592 31/03/1712 25/08/1716 02/09/1716\n",
       "4 Niels Jensen Skaaning     592 31/03/1712 21/09/1716 13/11/1716\n",
       "5 [ ] Jens Sönner           594 26/04/1712 00/00/1716 NA        \n",
       "6 Magnus Bendixsen / Mogens 599 08/03/1713 09/07/1719 11/11/1720"
      ]
     },
     "metadata": {},
     "output_type": "display_data"
    }
   ],
   "source": [
    "dim(runaways)\n",
    "head(runaways)"
   ]
  },
  {
   "cell_type": "markdown",
   "metadata": {
    "slideshow": {
     "slide_type": "slide"
    }
   },
   "source": [
    "What are the \"registered\", \"escaped\" and \"returned\" columns showing? What would be interesting to do with them?"
   ]
  },
  {
   "cell_type": "code",
   "execution_count": 64,
   "metadata": {
    "slideshow": {
     "slide_type": "-"
    }
   },
   "outputs": [
    {
     "data": {
      "text/html": [
       "<table>\n",
       "<thead><tr><th scope=col>name</th><th scope=col>id</th><th scope=col>registered</th><th scope=col>escaped</th><th scope=col>returned</th></tr></thead>\n",
       "<tbody>\n",
       "\t<tr><td>Peter vesmand            </td><td>590                      </td><td>21/03/1712               </td><td>29/10/1716               </td><td>03/11/1716               </td></tr>\n",
       "\t<tr><td>Thomas Petersen          </td><td>591                      </td><td>21/03/1712               </td><td>17/10/1713               </td><td>26/10/1713               </td></tr>\n",
       "\t<tr><td>Niels Jensen Skaaning    </td><td>592                      </td><td>31/03/1712               </td><td>25/08/1716               </td><td>02/09/1716               </td></tr>\n",
       "\t<tr><td>Niels Jensen Skaaning    </td><td>592                      </td><td>31/03/1712               </td><td>21/09/1716               </td><td>13/11/1716               </td></tr>\n",
       "\t<tr><td>[ ] Jens Sönner          </td><td>594                      </td><td>26/04/1712               </td><td>00/00/1716               </td><td>NA                       </td></tr>\n",
       "\t<tr><td>Magnus Bendixsen / Mogens</td><td>599                      </td><td>08/03/1713               </td><td>09/07/1719               </td><td>11/11/1720               </td></tr>\n",
       "</tbody>\n",
       "</table>\n"
      ],
      "text/latex": [
       "\\begin{tabular}{r|lllll}\n",
       " name & id & registered & escaped & returned\\\\\n",
       "\\hline\n",
       "\t Peter vesmand             & 590                       & 21/03/1712                & 29/10/1716                & 03/11/1716               \\\\\n",
       "\t Thomas Petersen           & 591                       & 21/03/1712                & 17/10/1713                & 26/10/1713               \\\\\n",
       "\t Niels Jensen Skaaning     & 592                       & 31/03/1712                & 25/08/1716                & 02/09/1716               \\\\\n",
       "\t Niels Jensen Skaaning     & 592                       & 31/03/1712                & 21/09/1716                & 13/11/1716               \\\\\n",
       "\t {[} {]} Jens Sönner           & 594                           & 26/04/1712                    & 00/00/1716                    & NA                           \\\\\n",
       "\t Magnus Bendixsen / Mogens & 599                       & 08/03/1713                & 09/07/1719                & 11/11/1720               \\\\\n",
       "\\end{tabular}\n"
      ],
      "text/markdown": [
       "\n",
       "| name | id | registered | escaped | returned |\n",
       "|---|---|---|---|---|\n",
       "| Peter vesmand             | 590                       | 21/03/1712                | 29/10/1716                | 03/11/1716                |\n",
       "| Thomas Petersen           | 591                       | 21/03/1712                | 17/10/1713                | 26/10/1713                |\n",
       "| Niels Jensen Skaaning     | 592                       | 31/03/1712                | 25/08/1716                | 02/09/1716                |\n",
       "| Niels Jensen Skaaning     | 592                       | 31/03/1712                | 21/09/1716                | 13/11/1716                |\n",
       "| [ ] Jens Sönner           | 594                       | 26/04/1712                | 00/00/1716                | NA                        |\n",
       "| Magnus Bendixsen / Mogens | 599                       | 08/03/1713                | 09/07/1719                | 11/11/1720                |\n",
       "\n"
      ],
      "text/plain": [
       "  name                      id  registered escaped    returned  \n",
       "1 Peter vesmand             590 21/03/1712 29/10/1716 03/11/1716\n",
       "2 Thomas Petersen           591 21/03/1712 17/10/1713 26/10/1713\n",
       "3 Niels Jensen Skaaning     592 31/03/1712 25/08/1716 02/09/1716\n",
       "4 Niels Jensen Skaaning     592 31/03/1712 21/09/1716 13/11/1716\n",
       "5 [ ] Jens Sönner           594 26/04/1712 00/00/1716 NA        \n",
       "6 Magnus Bendixsen / Mogens 599 08/03/1713 09/07/1719 11/11/1720"
      ]
     },
     "metadata": {},
     "output_type": "display_data"
    }
   ],
   "source": [
    "head(runaways)"
   ]
  },
  {
   "cell_type": "code",
   "execution_count": 65,
   "metadata": {
    "slideshow": {
     "slide_type": "fragment"
    }
   },
   "outputs": [
    {
     "data": {
      "text/html": [
       "'character'"
      ],
      "text/latex": [
       "'character'"
      ],
      "text/markdown": [
       "'character'"
      ],
      "text/plain": [
       "[1] \"character\""
      ]
     },
     "metadata": {},
     "output_type": "display_data"
    }
   ],
   "source": [
    "class(runaways$registered)"
   ]
  },
  {
   "cell_type": "code",
   "execution_count": 66,
   "metadata": {
    "slideshow": {
     "slide_type": "-"
    }
   },
   "outputs": [
    {
     "ename": "ERROR",
     "evalue": "Error in runaways$escaped[1] - runaways$registered[1]: non-numeric argument to binary operator\n",
     "output_type": "error",
     "traceback": [
      "Error in runaways$escaped[1] - runaways$registered[1]: non-numeric argument to binary operator\nTraceback:\n"
     ]
    }
   ],
   "source": [
    "# Stored as character - R does not now how to evaluate!\n",
    "runaways$escaped[1] - runaways$registered[1]"
   ]
  },
  {
   "cell_type": "markdown",
   "metadata": {
    "slideshow": {
     "slide_type": "slide"
    }
   },
   "source": [
    "# BREAK?\n",
    "\n",
    "![lion_chill](https://i.pinimg.com/736x/66/70/75/6670750ccf134bb4d0de4eb726a396e2.jpg)"
   ]
  },
  {
   "cell_type": "markdown",
   "metadata": {
    "slideshow": {
     "slide_type": "slide"
    }
   },
   "source": [
    "# Working with dates: The `lubridate` package\n",
    "We have worked with numeric and text classes before but R also has a `date` class. \n",
    "\n",
    "The base R functionality of working with dates can be a bit tricky but `lubridate` makes it very simple!\n",
    "\n",
    "*Install and load the `lubridate` package.*"
   ]
  },
  {
   "cell_type": "code",
   "execution_count": 67,
   "metadata": {
    "slideshow": {
     "slide_type": "skip"
    }
   },
   "outputs": [
    {
     "name": "stderr",
     "output_type": "stream",
     "text": [
      "\n",
      "Attaching package: 'lubridate'\n",
      "\n",
      "The following object is masked from 'package:base':\n",
      "\n",
      "    date\n",
      "\n"
     ]
    }
   ],
   "source": [
    "library(lubridate)"
   ]
  },
  {
   "cell_type": "code",
   "execution_count": 68,
   "metadata": {
    "slideshow": {
     "slide_type": "fragment"
    }
   },
   "outputs": [
    {
     "data": {
      "text/html": [
       "<ol>\n",
       "\t<li>'character'</li>\n",
       "\t<li>'character'</li>\n",
       "\t<li>'character'</li>\n",
       "</ol>\n"
      ],
      "text/latex": [
       "\\begin{enumerate}\n",
       "\\item 'character'\n",
       "\\item 'character'\n",
       "\\item 'character'\n",
       "\\end{enumerate}\n"
      ],
      "text/markdown": [
       "1. 'character'\n",
       "2. 'character'\n",
       "3. 'character'\n",
       "\n",
       "\n"
      ],
      "text/plain": [
       "[[1]]\n",
       "[1] \"character\"\n",
       "\n",
       "[[2]]\n",
       "[1] \"character\"\n",
       "\n",
       "[[3]]\n",
       "[1] \"character\"\n"
      ]
     },
     "metadata": {},
     "output_type": "display_data"
    }
   ],
   "source": [
    "# Some example dates - all stored as character\n",
    "date1 <- \"29 aug 1876\"\n",
    "date2 <- \"1770-11-26\"\n",
    "date3 <- \"12.26.1810\"\n",
    "\n",
    "lapply(c(date1, date2, date3), class)"
   ]
  },
  {
   "cell_type": "markdown",
   "metadata": {
    "slideshow": {
     "slide_type": "slide"
    }
   },
   "source": [
    "Converting to dates with `lubridate` is very simple! You just need to know the order of the information in the date (year, month, date).\n",
    "\n",
    "The main function for converting is `ymd()` (short for year-month-date). This will take a character class object and convert to a date.\n",
    "\n",
    "A function is there for each combination of year-month-date; meaning you just have to shuffle the letters around to fit the format:"
   ]
  },
  {
   "cell_type": "code",
   "execution_count": 69,
   "metadata": {
    "slideshow": {
     "slide_type": "fragment"
    }
   },
   "outputs": [
    {
     "data": {
      "text/html": [
       "<ol>\n",
       "\t<li>'Date'</li>\n",
       "\t<li>'Date'</li>\n",
       "\t<li>'Date'</li>\n",
       "</ol>\n"
      ],
      "text/latex": [
       "\\begin{enumerate}\n",
       "\\item 'Date'\n",
       "\\item 'Date'\n",
       "\\item 'Date'\n",
       "\\end{enumerate}\n"
      ],
      "text/markdown": [
       "1. 'Date'\n",
       "2. 'Date'\n",
       "3. 'Date'\n",
       "\n",
       "\n"
      ],
      "text/plain": [
       "[[1]]\n",
       "[1] \"Date\"\n",
       "\n",
       "[[2]]\n",
       "[1] \"Date\"\n",
       "\n",
       "[[3]]\n",
       "[1] \"Date\"\n"
      ]
     },
     "metadata": {},
     "output_type": "display_data"
    }
   ],
   "source": [
    "date1 <- dmy(date1)\n",
    "date2 <- ymd(date2)\n",
    "date3 <- mdy(date3)\n",
    "\n",
    "lapply(c(date1, date2, date3), class)"
   ]
  },
  {
   "cell_type": "markdown",
   "metadata": {
    "slideshow": {
     "slide_type": "slide"
    }
   },
   "source": [
    "When stored as dates, it is easy to extract components with commands as `year()`, `month()`, `day()`:"
   ]
  },
  {
   "cell_type": "code",
   "execution_count": 70,
   "metadata": {
    "slideshow": {
     "slide_type": "-"
    }
   },
   "outputs": [
    {
     "name": "stdout",
     "output_type": "stream",
     "text": [
      "[1] \"1876-08-29\"\n"
     ]
    },
    {
     "data": {
      "text/html": [
       "1876"
      ],
      "text/latex": [
       "1876"
      ],
      "text/markdown": [
       "1876"
      ],
      "text/plain": [
       "[1] 1876"
      ]
     },
     "metadata": {},
     "output_type": "display_data"
    },
    {
     "data": {
      "text/html": [
       "8"
      ],
      "text/latex": [
       "8"
      ],
      "text/markdown": [
       "8"
      ],
      "text/plain": [
       "[1] 8"
      ]
     },
     "metadata": {},
     "output_type": "display_data"
    },
    {
     "data": {
      "text/html": [
       "29"
      ],
      "text/latex": [
       "29"
      ],
      "text/markdown": [
       "29"
      ],
      "text/plain": [
       "[1] 29"
      ]
     },
     "metadata": {},
     "output_type": "display_data"
    },
    {
     "data": {
      "text/html": [
       "Tue\n",
       "<details>\n",
       "\t<summary style=display:list-item;cursor:pointer>\n",
       "\t\t<strong>Levels</strong>:\n",
       "\t</summary>\n",
       "\t<ol class=list-inline>\n",
       "\t\t<li>'Sun'</li>\n",
       "\t\t<li>'Mon'</li>\n",
       "\t\t<li>'Tue'</li>\n",
       "\t\t<li>'Wed'</li>\n",
       "\t\t<li>'Thu'</li>\n",
       "\t\t<li>'Fri'</li>\n",
       "\t\t<li>'Sat'</li>\n",
       "\t</ol>\n",
       "</details>"
      ],
      "text/latex": [
       "Tue\n",
       "\\emph{Levels}: \\begin{enumerate*}\n",
       "\\item 'Sun'\n",
       "\\item 'Mon'\n",
       "\\item 'Tue'\n",
       "\\item 'Wed'\n",
       "\\item 'Thu'\n",
       "\\item 'Fri'\n",
       "\\item 'Sat'\n",
       "\\end{enumerate*}\n"
      ],
      "text/markdown": [
       "Tue\n",
       "**Levels**: 1. 'Sun'\n",
       "2. 'Mon'\n",
       "3. 'Tue'\n",
       "4. 'Wed'\n",
       "5. 'Thu'\n",
       "6. 'Fri'\n",
       "7. 'Sat'\n",
       "\n",
       "\n"
      ],
      "text/plain": [
       "[1] Tue\n",
       "Levels: Sun < Mon < Tue < Wed < Thu < Fri < Sat"
      ]
     },
     "metadata": {},
     "output_type": "display_data"
    }
   ],
   "source": [
    "print(date1)\n",
    "year(date1)\n",
    "month(date1)\n",
    "day(date1)\n",
    "wday(date1, label = TRUE, locale = \"English\")"
   ]
  },
  {
   "cell_type": "markdown",
   "metadata": {
    "slideshow": {
     "slide_type": "slide"
    }
   },
   "source": [
    "Date objects allow us to calculate time differences:"
   ]
  },
  {
   "cell_type": "code",
   "execution_count": 71,
   "metadata": {
    "slideshow": {
     "slide_type": "-"
    }
   },
   "outputs": [
    {
     "data": {
      "text/plain": [
       "Time difference of 38627 days"
      ]
     },
     "metadata": {},
     "output_type": "display_data"
    }
   ],
   "source": [
    "date1 - date2"
   ]
  },
  {
   "cell_type": "markdown",
   "metadata": {
    "slideshow": {
     "slide_type": "slide"
    }
   },
   "source": [
    "Calculating differences between two dates creates a `difftime` object by default. `difftime` objects are more useful for shorter differences. For longer time differences, it is more useful to work with `interval()`.\n",
    "\n",
    "With intervals, we can ask the number of days, years, months in the interval with `as.period()`.\n",
    "\n",
    "It is also possible to coerce directly to a numeric object with the specified units with `as.numeric()`."
   ]
  },
  {
   "cell_type": "code",
   "execution_count": 72,
   "metadata": {
    "slideshow": {
     "slide_type": "-"
    }
   },
   "outputs": [
    {
     "data": {
      "text/html": [
       "38627d 0H 0M 0S"
      ],
      "text/latex": [
       "38627d 0H 0M 0S"
      ],
      "text/markdown": [
       "38627d 0H 0M 0S"
      ],
      "text/plain": [
       "[1] \"38627d 0H 0M 0S\""
      ]
     },
     "metadata": {},
     "output_type": "display_data"
    },
    {
     "data": {
      "text/html": [
       "1269m 3d 0H 0M 0S"
      ],
      "text/latex": [
       "1269m 3d 0H 0M 0S"
      ],
      "text/markdown": [
       "1269m 3d 0H 0M 0S"
      ],
      "text/plain": [
       "[1] \"1269m 3d 0H 0M 0S\""
      ]
     },
     "metadata": {},
     "output_type": "display_data"
    },
    {
     "data": {
      "text/html": [
       "105y 9m 3d 0H 0M 0S"
      ],
      "text/latex": [
       "105y 9m 3d 0H 0M 0S"
      ],
      "text/markdown": [
       "105y 9m 3d 0H 0M 0S"
      ],
      "text/plain": [
       "[1] \"105y 9m 3d 0H 0M 0S\""
      ]
     },
     "metadata": {},
     "output_type": "display_data"
    },
    {
     "data": {
      "text/html": [
       "105.754962354552"
      ],
      "text/latex": [
       "105.754962354552"
      ],
      "text/markdown": [
       "105.754962354552"
      ],
      "text/plain": [
       "[1] 105.755"
      ]
     },
     "metadata": {},
     "output_type": "display_data"
    }
   ],
   "source": [
    "# Create time difference as interval\n",
    "time_int <- interval(date2, date1)\n",
    "\n",
    "# Display time differences with different units\n",
    "as.period(time_int, unit = \"days\")\n",
    "as.period(time_int, unit = \"months\")\n",
    "as.period(time_int, unit = \"years\")\n",
    "\n",
    "# Numeric coercion\n",
    "as.numeric(time_int, \"years\")"
   ]
  },
  {
   "cell_type": "markdown",
   "metadata": {
    "slideshow": {
     "slide_type": "slide"
    }
   },
   "source": [
    "Because `lubridate` is a part of the tidyverse, the functions supports vectors or vector-like objects as well!"
   ]
  },
  {
   "cell_type": "code",
   "execution_count": 73,
   "metadata": {},
   "outputs": [
    {
     "data": {
      "text/html": [
       "<ol class=list-inline>\n",
       "\t<li><time datetime=\"1876-12-21\">1876-12-21</time></li>\n",
       "\t<li><time datetime=\"1873-11-01\">1873-11-01</time></li>\n",
       "\t<li><time datetime=\"1885-01-30\">1885-01-30</time></li>\n",
       "\t<li><time datetime=\"1842-06-10\">1842-06-10</time></li>\n",
       "</ol>\n"
      ],
      "text/latex": [
       "\\begin{enumerate*}\n",
       "\\item 1876-12-21\n",
       "\\item 1873-11-01\n",
       "\\item 1885-01-30\n",
       "\\item 1842-06-10\n",
       "\\end{enumerate*}\n"
      ],
      "text/markdown": [
       "1. 1876-12-21\n",
       "2. 1873-11-01\n",
       "3. 1885-01-30\n",
       "4. 1842-06-10\n",
       "\n",
       "\n"
      ],
      "text/plain": [
       "[1] \"1876-12-21\" \"1873-11-01\" \"1885-01-30\" \"1842-06-10\""
      ]
     },
     "metadata": {},
     "output_type": "display_data"
    },
    {
     "data": {
      "text/html": [
       "<ol class=list-inline>\n",
       "\t<li>76.9691991786448</li>\n",
       "\t<li>73.8316221765914</li>\n",
       "\t<li>85.07871321013</li>\n",
       "\t<li>42.4366872005476</li>\n",
       "</ol>\n"
      ],
      "text/latex": [
       "\\begin{enumerate*}\n",
       "\\item 76.9691991786448\n",
       "\\item 73.8316221765914\n",
       "\\item 85.07871321013\n",
       "\\item 42.4366872005476\n",
       "\\end{enumerate*}\n"
      ],
      "text/markdown": [
       "1. 76.9691991786448\n",
       "2. 73.8316221765914\n",
       "3. 85.07871321013\n",
       "4. 42.4366872005476\n",
       "\n",
       "\n"
      ],
      "text/plain": [
       "[1] 76.96920 73.83162 85.07871 42.43669"
      ]
     },
     "metadata": {},
     "output_type": "display_data"
    }
   ],
   "source": [
    "dates <- c(\"1876-12-21\", \"1873-11-01\", \"1885-01-30\", \"1842-06-10\")\n",
    "dates <- ymd(dates)\n",
    "dates\n",
    "\n",
    "date_ints <- interval(ymd(\"1800-01-01\"), dates)\n",
    "as.numeric(date_ints, \"years\")"
   ]
  },
  {
   "cell_type": "markdown",
   "metadata": {
    "slideshow": {
     "slide_type": "slide"
    }
   },
   "source": [
    "# EXERCISE 6: WORKING WITH DATES\n",
    "\n",
    "Make sure you have the runaways data loaded.\n",
    "\n",
    "1. Convert the columns containing dates to date formats using the proper variation of `ymd()`\n",
    "2. Create a new column calculating the time difference in *days* between `registered` and `escaped`. Use `interval()` and `as.numeric()`\n",
    "3. Determine the shortest and longest stays (you can use the `arrange()` command)"
   ]
  },
  {
   "cell_type": "markdown",
   "metadata": {
    "slideshow": {
     "slide_type": "slide"
    }
   },
   "source": [
    "# Saving files with `readr`\n",
    "\n",
    "R can already save files in some other formats but the `readr` package is often more intuitive to use.\n",
    "\n",
    "Check your directory with `getwd`. Directory can be changed with `setwd`.\n",
    "\n",
    "We can save an excel .csv-file (comma-separated values) with `readr` using `write_excel_csv`:"
   ]
  },
  {
   "cell_type": "code",
   "execution_count": 77,
   "metadata": {
    "slideshow": {
     "slide_type": "fragment"
    }
   },
   "outputs": [],
   "source": [
    "library(readr)\n",
    "write_excel_csv(runaways, path = \"my_data.csv\", delim = \";\", col_names = TRUE)"
   ]
  },
  {
   "cell_type": "markdown",
   "metadata": {
    "slideshow": {
     "slide_type": "fragment"
    }
   },
   "source": [
    "**Code breakdown:**\n",
    "\n",
    "| Code | Description |\n",
    "|:-----|:------------|\n",
    "|`data` | The object we want to save |\n",
    "|`path = \"my_data.csv\"` | The filename - .csv for comma-separated values |\n",
    "|`delim = \";\"` | Setting the separator between values to be commas |\n",
    "|`col_names = TRUE` | Specifying that data contains column names |"
   ]
  },
  {
   "cell_type": "code",
   "execution_count": null,
   "metadata": {},
   "outputs": [],
   "source": []
  }
 ],
 "metadata": {
  "kernelspec": {
   "display_name": "R",
   "language": "R",
   "name": "ir"
  },
  "language_info": {
   "codemirror_mode": "r",
   "file_extension": ".r",
   "mimetype": "text/x-r-source",
   "name": "R",
   "pygments_lexer": "r",
   "version": "3.6.2"
  }
 },
 "nbformat": 4,
 "nbformat_minor": 2
}
