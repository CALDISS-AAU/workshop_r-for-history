{
 "cells": [
  {
   "cell_type": "markdown",
   "metadata": {
    "slideshow": {
     "slide_type": "slide"
    }
   },
   "source": [
    "# Reading data from Excel: The `readxl` package\n",
    "R can read in data from Excel with the `readxl` package.\n",
    "\n",
    "The command belows reads a Excel file into an R object:"
   ]
  },
  {
   "cell_type": "code",
   "execution_count": 1,
   "metadata": {
    "slideshow": {
     "slide_type": "skip"
    }
   },
   "outputs": [],
   "source": [
    "library(readxl)"
   ]
  },
  {
   "cell_type": "code",
   "execution_count": 2,
   "metadata": {
    "slideshow": {
     "slide_type": "-"
    }
   },
   "outputs": [],
   "source": [
    "runaways <- read_excel(\"../data/runaways_exampledata.xlsx\")"
   ]
  },
  {
   "cell_type": "markdown",
   "metadata": {
    "slideshow": {
     "slide_type": "fragment"
    }
   },
   "source": [
    "The data is now loaded into R as a dataframe:"
   ]
  },
  {
   "cell_type": "markdown",
   "metadata": {
    "slideshow": {
     "slide_type": "subslide"
    }
   },
   "source": [
    "## Working directories\n",
    "\n",
    "When loading and reading files, R is always looking at a current \"working directory\". The current working directory can be checked using `getwd()`"
   ]
  },
  {
   "cell_type": "code",
   "execution_count": 3,
   "metadata": {
    "slideshow": {
     "slide_type": "-"
    }
   },
   "outputs": [
    {
     "data": {
      "text/html": [
       "'D:/OneDrive/OneDrive - Aalborg Universitet/CALDISS/Aktiviteter/Workshopmateriale/R for historikere/notebooks'"
      ],
      "text/latex": [
       "'D:/OneDrive/OneDrive - Aalborg Universitet/CALDISS/Aktiviteter/Workshopmateriale/R for historikere/notebooks'"
      ],
      "text/markdown": [
       "'D:/OneDrive/OneDrive - Aalborg Universitet/CALDISS/Aktiviteter/Workshopmateriale/R for historikere/notebooks'"
      ],
      "text/plain": [
       "[1] \"D:/OneDrive/OneDrive - Aalborg Universitet/CALDISS/Aktiviteter/Workshopmateriale/R for historikere/notebooks\""
      ]
     },
     "metadata": {},
     "output_type": "display_data"
    }
   ],
   "source": [
    "getwd()"
   ]
  },
  {
   "cell_type": "markdown",
   "metadata": {
    "slideshow": {
     "slide_type": "fragment"
    }
   },
   "source": [
    "This means that when reading a file and only specifying the filename (e.g. \"runaways.xlsx\"), R will assume it is located in the working directory.\n",
    "\n",
    "If the file is located somewhere else, we can either change the working directory or specify the entire path to the file in the command for reading the data."
   ]
  },
  {
   "cell_type": "code",
   "execution_count": 4,
   "metadata": {
    "slideshow": {
     "slide_type": "-"
    }
   },
   "outputs": [],
   "source": [
    "#Loading file by changing working directory - Note forward slashes (/)\n",
    "setwd('D:/OneDrive/OneDrive - Aalborg Universitet/CALDISS/Aktiviteter/Workshopmateriale/R for historikere/data')\n",
    "runaways <- read_excel(\"runaways_exampledata.xlsx\")"
   ]
  },
  {
   "cell_type": "code",
   "execution_count": 5,
   "metadata": {
    "slideshow": {
     "slide_type": "-"
    }
   },
   "outputs": [],
   "source": [
    "#Specifying entire path in command\n",
    "runaways <- read_excel('D:/OneDrive/OneDrive - Aalborg Universitet/CALDISS/Aktiviteter/Workshopmateriale/R for historikere/data/runaways_exampledata.xlsx')"
   ]
  },
  {
   "cell_type": "markdown",
   "metadata": {
    "slideshow": {
     "slide_type": "slide"
    }
   },
   "source": [
    "## Inspecting the runaways data"
   ]
  },
  {
   "cell_type": "code",
   "execution_count": 6,
   "metadata": {
    "slideshow": {
     "slide_type": "-"
    }
   },
   "outputs": [
    {
     "data": {
      "text/html": [
       "<ol class=list-inline>\n",
       "\t<li>253</li>\n",
       "\t<li>5</li>\n",
       "</ol>\n"
      ],
      "text/latex": [
       "\\begin{enumerate*}\n",
       "\\item 253\n",
       "\\item 5\n",
       "\\end{enumerate*}\n"
      ],
      "text/markdown": [
       "1. 253\n",
       "2. 5\n",
       "\n",
       "\n"
      ],
      "text/plain": [
       "[1] 253   5"
      ]
     },
     "metadata": {},
     "output_type": "display_data"
    },
    {
     "data": {
      "text/html": [
       "<table>\n",
       "<caption>A tibble: 6 × 5</caption>\n",
       "<thead>\n",
       "\t<tr><th scope=col>name</th><th scope=col>id</th><th scope=col>registered</th><th scope=col>escaped</th><th scope=col>returned</th></tr>\n",
       "\t<tr><th scope=col>&lt;chr&gt;</th><th scope=col>&lt;dbl&gt;</th><th scope=col>&lt;chr&gt;</th><th scope=col>&lt;chr&gt;</th><th scope=col>&lt;chr&gt;</th></tr>\n",
       "</thead>\n",
       "<tbody>\n",
       "\t<tr><td>Peter vesmand            </td><td>590</td><td>21/03/1712</td><td>29/10/1716</td><td>03/11/1716</td></tr>\n",
       "\t<tr><td>Thomas Petersen          </td><td>591</td><td>21/03/1712</td><td>17/10/1713</td><td>26/10/1713</td></tr>\n",
       "\t<tr><td>Niels Jensen Skaaning    </td><td>592</td><td>31/03/1712</td><td>25/08/1716</td><td>02/09/1716</td></tr>\n",
       "\t<tr><td>Niels Jensen Skaaning    </td><td>592</td><td>31/03/1712</td><td>21/09/1716</td><td>13/11/1716</td></tr>\n",
       "\t<tr><td>[ ] Jens Sönner          </td><td>594</td><td>26/04/1712</td><td>00/00/1716</td><td>NA        </td></tr>\n",
       "\t<tr><td>Magnus Bendixsen / Mogens</td><td>599</td><td>08/03/1713</td><td>09/07/1719</td><td>11/11/1720</td></tr>\n",
       "</tbody>\n",
       "</table>\n"
      ],
      "text/latex": [
       "A tibble: 6 × 5\n",
       "\\begin{tabular}{lllll}\n",
       " name & id & registered & escaped & returned\\\\\n",
       " <chr> & <dbl> & <chr> & <chr> & <chr>\\\\\n",
       "\\hline\n",
       "\t Peter vesmand             & 590 & 21/03/1712 & 29/10/1716 & 03/11/1716\\\\\n",
       "\t Thomas Petersen           & 591 & 21/03/1712 & 17/10/1713 & 26/10/1713\\\\\n",
       "\t Niels Jensen Skaaning     & 592 & 31/03/1712 & 25/08/1716 & 02/09/1716\\\\\n",
       "\t Niels Jensen Skaaning     & 592 & 31/03/1712 & 21/09/1716 & 13/11/1716\\\\\n",
       "\t {[} {]} Jens Sönner           & 594 & 26/04/1712 & 00/00/1716 & NA        \\\\\n",
       "\t Magnus Bendixsen / Mogens & 599 & 08/03/1713 & 09/07/1719 & 11/11/1720\\\\\n",
       "\\end{tabular}\n"
      ],
      "text/markdown": [
       "\n",
       "A tibble: 6 × 5\n",
       "\n",
       "| name &lt;chr&gt; | id &lt;dbl&gt; | registered &lt;chr&gt; | escaped &lt;chr&gt; | returned &lt;chr&gt; |\n",
       "|---|---|---|---|---|\n",
       "| Peter vesmand             | 590 | 21/03/1712 | 29/10/1716 | 03/11/1716 |\n",
       "| Thomas Petersen           | 591 | 21/03/1712 | 17/10/1713 | 26/10/1713 |\n",
       "| Niels Jensen Skaaning     | 592 | 31/03/1712 | 25/08/1716 | 02/09/1716 |\n",
       "| Niels Jensen Skaaning     | 592 | 31/03/1712 | 21/09/1716 | 13/11/1716 |\n",
       "| [ ] Jens Sönner           | 594 | 26/04/1712 | 00/00/1716 | NA         |\n",
       "| Magnus Bendixsen / Mogens | 599 | 08/03/1713 | 09/07/1719 | 11/11/1720 |\n",
       "\n"
      ],
      "text/plain": [
       "  name                      id  registered escaped    returned  \n",
       "1 Peter vesmand             590 21/03/1712 29/10/1716 03/11/1716\n",
       "2 Thomas Petersen           591 21/03/1712 17/10/1713 26/10/1713\n",
       "3 Niels Jensen Skaaning     592 31/03/1712 25/08/1716 02/09/1716\n",
       "4 Niels Jensen Skaaning     592 31/03/1712 21/09/1716 13/11/1716\n",
       "5 [ ] Jens Sönner           594 26/04/1712 00/00/1716 NA        \n",
       "6 Magnus Bendixsen / Mogens 599 08/03/1713 09/07/1719 11/11/1720"
      ]
     },
     "metadata": {},
     "output_type": "display_data"
    }
   ],
   "source": [
    "dim(runaways)\n",
    "head(runaways)"
   ]
  },
  {
   "cell_type": "markdown",
   "metadata": {
    "slideshow": {
     "slide_type": "slide"
    }
   },
   "source": [
    "What are the \"registered\", \"escaped\" and \"returned\" columns showing? What would be interesting to do with them?"
   ]
  },
  {
   "cell_type": "code",
   "execution_count": 7,
   "metadata": {
    "slideshow": {
     "slide_type": "-"
    }
   },
   "outputs": [
    {
     "data": {
      "text/html": [
       "<table>\n",
       "<caption>A tibble: 6 × 5</caption>\n",
       "<thead>\n",
       "\t<tr><th scope=col>name</th><th scope=col>id</th><th scope=col>registered</th><th scope=col>escaped</th><th scope=col>returned</th></tr>\n",
       "\t<tr><th scope=col>&lt;chr&gt;</th><th scope=col>&lt;dbl&gt;</th><th scope=col>&lt;chr&gt;</th><th scope=col>&lt;chr&gt;</th><th scope=col>&lt;chr&gt;</th></tr>\n",
       "</thead>\n",
       "<tbody>\n",
       "\t<tr><td>Peter vesmand            </td><td>590</td><td>21/03/1712</td><td>29/10/1716</td><td>03/11/1716</td></tr>\n",
       "\t<tr><td>Thomas Petersen          </td><td>591</td><td>21/03/1712</td><td>17/10/1713</td><td>26/10/1713</td></tr>\n",
       "\t<tr><td>Niels Jensen Skaaning    </td><td>592</td><td>31/03/1712</td><td>25/08/1716</td><td>02/09/1716</td></tr>\n",
       "\t<tr><td>Niels Jensen Skaaning    </td><td>592</td><td>31/03/1712</td><td>21/09/1716</td><td>13/11/1716</td></tr>\n",
       "\t<tr><td>[ ] Jens Sönner          </td><td>594</td><td>26/04/1712</td><td>00/00/1716</td><td>NA        </td></tr>\n",
       "\t<tr><td>Magnus Bendixsen / Mogens</td><td>599</td><td>08/03/1713</td><td>09/07/1719</td><td>11/11/1720</td></tr>\n",
       "</tbody>\n",
       "</table>\n"
      ],
      "text/latex": [
       "A tibble: 6 × 5\n",
       "\\begin{tabular}{lllll}\n",
       " name & id & registered & escaped & returned\\\\\n",
       " <chr> & <dbl> & <chr> & <chr> & <chr>\\\\\n",
       "\\hline\n",
       "\t Peter vesmand             & 590 & 21/03/1712 & 29/10/1716 & 03/11/1716\\\\\n",
       "\t Thomas Petersen           & 591 & 21/03/1712 & 17/10/1713 & 26/10/1713\\\\\n",
       "\t Niels Jensen Skaaning     & 592 & 31/03/1712 & 25/08/1716 & 02/09/1716\\\\\n",
       "\t Niels Jensen Skaaning     & 592 & 31/03/1712 & 21/09/1716 & 13/11/1716\\\\\n",
       "\t {[} {]} Jens Sönner           & 594 & 26/04/1712 & 00/00/1716 & NA        \\\\\n",
       "\t Magnus Bendixsen / Mogens & 599 & 08/03/1713 & 09/07/1719 & 11/11/1720\\\\\n",
       "\\end{tabular}\n"
      ],
      "text/markdown": [
       "\n",
       "A tibble: 6 × 5\n",
       "\n",
       "| name &lt;chr&gt; | id &lt;dbl&gt; | registered &lt;chr&gt; | escaped &lt;chr&gt; | returned &lt;chr&gt; |\n",
       "|---|---|---|---|---|\n",
       "| Peter vesmand             | 590 | 21/03/1712 | 29/10/1716 | 03/11/1716 |\n",
       "| Thomas Petersen           | 591 | 21/03/1712 | 17/10/1713 | 26/10/1713 |\n",
       "| Niels Jensen Skaaning     | 592 | 31/03/1712 | 25/08/1716 | 02/09/1716 |\n",
       "| Niels Jensen Skaaning     | 592 | 31/03/1712 | 21/09/1716 | 13/11/1716 |\n",
       "| [ ] Jens Sönner           | 594 | 26/04/1712 | 00/00/1716 | NA         |\n",
       "| Magnus Bendixsen / Mogens | 599 | 08/03/1713 | 09/07/1719 | 11/11/1720 |\n",
       "\n"
      ],
      "text/plain": [
       "  name                      id  registered escaped    returned  \n",
       "1 Peter vesmand             590 21/03/1712 29/10/1716 03/11/1716\n",
       "2 Thomas Petersen           591 21/03/1712 17/10/1713 26/10/1713\n",
       "3 Niels Jensen Skaaning     592 31/03/1712 25/08/1716 02/09/1716\n",
       "4 Niels Jensen Skaaning     592 31/03/1712 21/09/1716 13/11/1716\n",
       "5 [ ] Jens Sönner           594 26/04/1712 00/00/1716 NA        \n",
       "6 Magnus Bendixsen / Mogens 599 08/03/1713 09/07/1719 11/11/1720"
      ]
     },
     "metadata": {},
     "output_type": "display_data"
    }
   ],
   "source": [
    "head(runaways)"
   ]
  },
  {
   "cell_type": "code",
   "execution_count": 8,
   "metadata": {
    "slideshow": {
     "slide_type": "fragment"
    }
   },
   "outputs": [
    {
     "data": {
      "text/html": [
       "'character'"
      ],
      "text/latex": [
       "'character'"
      ],
      "text/markdown": [
       "'character'"
      ],
      "text/plain": [
       "[1] \"character\""
      ]
     },
     "metadata": {},
     "output_type": "display_data"
    }
   ],
   "source": [
    "class(runaways$registered)"
   ]
  },
  {
   "cell_type": "code",
   "execution_count": 9,
   "metadata": {
    "slideshow": {
     "slide_type": "-"
    }
   },
   "outputs": [
    {
     "ename": "ERROR",
     "evalue": "Error in runaways$escaped[1] - runaways$registered[1]: non-numeric argument to binary operator\n",
     "output_type": "error",
     "traceback": [
      "Error in runaways$escaped[1] - runaways$registered[1]: non-numeric argument to binary operator\nTraceback:\n"
     ]
    }
   ],
   "source": [
    "# Stored as character - R does not now how to evaluate!\n",
    "runaways$escaped[1] - runaways$registered[1]"
   ]
  },
  {
   "cell_type": "markdown",
   "metadata": {
    "slideshow": {
     "slide_type": "slide"
    }
   },
   "source": [
    "# Working with dates: The `lubridate` package\n",
    "We have worked with numeric and text classes before but R also has a `date` class. \n",
    "\n",
    "The base R functionality of working with dates can be a bit tricky but `lubridate` makes it very simple!\n",
    "\n",
    "*Install and load the `lubridate` package.*"
   ]
  },
  {
   "cell_type": "code",
   "execution_count": 10,
   "metadata": {
    "slideshow": {
     "slide_type": "skip"
    }
   },
   "outputs": [
    {
     "name": "stderr",
     "output_type": "stream",
     "text": [
      "\n",
      "Attaching package: 'lubridate'\n",
      "\n",
      "\n",
      "The following object is masked from 'package:base':\n",
      "\n",
      "    date\n",
      "\n",
      "\n",
      "-- \u001b[1mAttaching packages\u001b[22m --------------------------------------- tidyverse 1.3.0 --\n",
      "\n",
      "\u001b[32mv\u001b[39m \u001b[34mggplot2\u001b[39m 3.2.1     \u001b[32mv\u001b[39m \u001b[34mpurrr  \u001b[39m 0.3.2\n",
      "\u001b[32mv\u001b[39m \u001b[34mtibble \u001b[39m 2.1.3     \u001b[32mv\u001b[39m \u001b[34mdplyr  \u001b[39m 0.8.3\n",
      "\u001b[32mv\u001b[39m \u001b[34mtidyr  \u001b[39m 1.0.0     \u001b[32mv\u001b[39m \u001b[34mstringr\u001b[39m 1.4.0\n",
      "\u001b[32mv\u001b[39m \u001b[34mreadr  \u001b[39m 1.3.1     \u001b[32mv\u001b[39m \u001b[34mforcats\u001b[39m 0.4.0\n",
      "\n",
      "-- \u001b[1mConflicts\u001b[22m ------------------------------------------ tidyverse_conflicts() --\n",
      "\u001b[31mx\u001b[39m \u001b[34mlubridate\u001b[39m::\u001b[32mas.difftime()\u001b[39m masks \u001b[34mbase\u001b[39m::as.difftime()\n",
      "\u001b[31mx\u001b[39m \u001b[34mlubridate\u001b[39m::\u001b[32mdate()\u001b[39m        masks \u001b[34mbase\u001b[39m::date()\n",
      "\u001b[31mx\u001b[39m \u001b[34mdplyr\u001b[39m::\u001b[32mfilter()\u001b[39m          masks \u001b[34mstats\u001b[39m::filter()\n",
      "\u001b[31mx\u001b[39m \u001b[34mlubridate\u001b[39m::\u001b[32mintersect()\u001b[39m   masks \u001b[34mbase\u001b[39m::intersect()\n",
      "\u001b[31mx\u001b[39m \u001b[34mdplyr\u001b[39m::\u001b[32mlag()\u001b[39m             masks \u001b[34mstats\u001b[39m::lag()\n",
      "\u001b[31mx\u001b[39m \u001b[34mlubridate\u001b[39m::\u001b[32msetdiff()\u001b[39m     masks \u001b[34mbase\u001b[39m::setdiff()\n",
      "\u001b[31mx\u001b[39m \u001b[34mlubridate\u001b[39m::\u001b[32munion()\u001b[39m       masks \u001b[34mbase\u001b[39m::union()\n",
      "\n"
     ]
    }
   ],
   "source": [
    "library(lubridate)\n",
    "library(tidyverse)"
   ]
  },
  {
   "cell_type": "code",
   "execution_count": 11,
   "metadata": {
    "slideshow": {
     "slide_type": "fragment"
    }
   },
   "outputs": [
    {
     "data": {
      "text/html": [
       "<ol>\n",
       "\t<li>'character'</li>\n",
       "\t<li>'character'</li>\n",
       "\t<li>'character'</li>\n",
       "</ol>\n"
      ],
      "text/latex": [
       "\\begin{enumerate}\n",
       "\\item 'character'\n",
       "\\item 'character'\n",
       "\\item 'character'\n",
       "\\end{enumerate}\n"
      ],
      "text/markdown": [
       "1. 'character'\n",
       "2. 'character'\n",
       "3. 'character'\n",
       "\n",
       "\n"
      ],
      "text/plain": [
       "[[1]]\n",
       "[1] \"character\"\n",
       "\n",
       "[[2]]\n",
       "[1] \"character\"\n",
       "\n",
       "[[3]]\n",
       "[1] \"character\"\n"
      ]
     },
     "metadata": {},
     "output_type": "display_data"
    }
   ],
   "source": [
    "# Some example dates - all stored as character\n",
    "date1 <- \"29 aug 1876\"\n",
    "date2 <- \"1770-11-26\"\n",
    "date3 <- \"12.26.1810\"\n",
    "\n",
    "lapply(c(date1, date2, date3), class)"
   ]
  },
  {
   "cell_type": "markdown",
   "metadata": {
    "slideshow": {
     "slide_type": "slide"
    }
   },
   "source": [
    "Converting to dates with `lubridate` is very simple! You just need to know the order of the information in the date (year, month, date).\n",
    "\n",
    "The main function for converting is `ymd()` (short for year-month-date). This will take a character class object and convert to a date.\n",
    "\n",
    "A function is there for each combination of year-month-date; meaning you just have to shuffle the letters around to fit the format:"
   ]
  },
  {
   "cell_type": "code",
   "execution_count": 12,
   "metadata": {
    "slideshow": {
     "slide_type": "fragment"
    }
   },
   "outputs": [
    {
     "data": {
      "text/html": [
       "<ol>\n",
       "\t<li>'Date'</li>\n",
       "\t<li>'Date'</li>\n",
       "\t<li>'Date'</li>\n",
       "</ol>\n"
      ],
      "text/latex": [
       "\\begin{enumerate}\n",
       "\\item 'Date'\n",
       "\\item 'Date'\n",
       "\\item 'Date'\n",
       "\\end{enumerate}\n"
      ],
      "text/markdown": [
       "1. 'Date'\n",
       "2. 'Date'\n",
       "3. 'Date'\n",
       "\n",
       "\n"
      ],
      "text/plain": [
       "[[1]]\n",
       "[1] \"Date\"\n",
       "\n",
       "[[2]]\n",
       "[1] \"Date\"\n",
       "\n",
       "[[3]]\n",
       "[1] \"Date\"\n"
      ]
     },
     "metadata": {},
     "output_type": "display_data"
    }
   ],
   "source": [
    "date1 <- dmy(date1)\n",
    "date2 <- ymd(date2)\n",
    "date3 <- mdy(date3)\n",
    "\n",
    "lapply(c(date1, date2, date3), class)"
   ]
  },
  {
   "cell_type": "markdown",
   "metadata": {
    "slideshow": {
     "slide_type": "slide"
    }
   },
   "source": [
    "When stored as dates, it is easy to extract components with commands as `year()`, `month()`, `day()`:"
   ]
  },
  {
   "cell_type": "code",
   "execution_count": 13,
   "metadata": {
    "slideshow": {
     "slide_type": "-"
    }
   },
   "outputs": [
    {
     "name": "stdout",
     "output_type": "stream",
     "text": [
      "[1] \"1876-08-29\"\n"
     ]
    },
    {
     "data": {
      "text/html": [
       "1876"
      ],
      "text/latex": [
       "1876"
      ],
      "text/markdown": [
       "1876"
      ],
      "text/plain": [
       "[1] 1876"
      ]
     },
     "metadata": {},
     "output_type": "display_data"
    },
    {
     "data": {
      "text/html": [
       "8"
      ],
      "text/latex": [
       "8"
      ],
      "text/markdown": [
       "8"
      ],
      "text/plain": [
       "[1] 8"
      ]
     },
     "metadata": {},
     "output_type": "display_data"
    },
    {
     "data": {
      "text/html": [
       "29"
      ],
      "text/latex": [
       "29"
      ],
      "text/markdown": [
       "29"
      ],
      "text/plain": [
       "[1] 29"
      ]
     },
     "metadata": {},
     "output_type": "display_data"
    },
    {
     "data": {
      "text/html": [
       "Tue\n",
       "<details>\n",
       "\t<summary style=display:list-item;cursor:pointer>\n",
       "\t\t<strong>Levels</strong>:\n",
       "\t</summary>\n",
       "\t<ol class=list-inline>\n",
       "\t\t<li>'Sun'</li>\n",
       "\t\t<li>'Mon'</li>\n",
       "\t\t<li>'Tue'</li>\n",
       "\t\t<li>'Wed'</li>\n",
       "\t\t<li>'Thu'</li>\n",
       "\t\t<li>'Fri'</li>\n",
       "\t\t<li>'Sat'</li>\n",
       "\t</ol>\n",
       "</details>"
      ],
      "text/latex": [
       "Tue\n",
       "\\emph{Levels}: \\begin{enumerate*}\n",
       "\\item 'Sun'\n",
       "\\item 'Mon'\n",
       "\\item 'Tue'\n",
       "\\item 'Wed'\n",
       "\\item 'Thu'\n",
       "\\item 'Fri'\n",
       "\\item 'Sat'\n",
       "\\end{enumerate*}\n"
      ],
      "text/markdown": [
       "Tue\n",
       "**Levels**: 1. 'Sun'\n",
       "2. 'Mon'\n",
       "3. 'Tue'\n",
       "4. 'Wed'\n",
       "5. 'Thu'\n",
       "6. 'Fri'\n",
       "7. 'Sat'\n",
       "\n",
       "\n"
      ],
      "text/plain": [
       "[1] Tue\n",
       "Levels: Sun < Mon < Tue < Wed < Thu < Fri < Sat"
      ]
     },
     "metadata": {},
     "output_type": "display_data"
    }
   ],
   "source": [
    "print(date1)\n",
    "year(date1)\n",
    "month(date1)\n",
    "day(date1)\n",
    "wday(date1, label = TRUE, locale = \"English\")"
   ]
  },
  {
   "cell_type": "markdown",
   "metadata": {
    "slideshow": {
     "slide_type": "slide"
    }
   },
   "source": [
    "Date objects allow us to calculate time differences:"
   ]
  },
  {
   "cell_type": "code",
   "execution_count": 14,
   "metadata": {
    "slideshow": {
     "slide_type": "-"
    }
   },
   "outputs": [
    {
     "data": {
      "text/plain": [
       "Time difference of 38627 days"
      ]
     },
     "metadata": {},
     "output_type": "display_data"
    }
   ],
   "source": [
    "date1 - date2"
   ]
  },
  {
   "cell_type": "markdown",
   "metadata": {
    "slideshow": {
     "slide_type": "slide"
    }
   },
   "source": [
    "Calculating differences between two dates creates a `difftime` object by default. `difftime` objects are more useful for shorter differences. For longer time differences, it is more useful to work with `interval()`.\n",
    "\n",
    "With intervals, we can ask the number of days, years, months in the interval with `as.period()`."
   ]
  },
  {
   "cell_type": "code",
   "execution_count": 15,
   "metadata": {
    "slideshow": {
     "slide_type": "-"
    }
   },
   "outputs": [
    {
     "data": {
      "text/html": [
       "38627d 0H 0M 0S"
      ],
      "text/latex": [
       "38627d 0H 0M 0S"
      ],
      "text/markdown": [
       "38627d 0H 0M 0S"
      ],
      "text/plain": [
       "[1] \"38627d 0H 0M 0S\""
      ]
     },
     "metadata": {},
     "output_type": "display_data"
    },
    {
     "data": {
      "text/html": [
       "1269m 3d 0H 0M 0S"
      ],
      "text/latex": [
       "1269m 3d 0H 0M 0S"
      ],
      "text/markdown": [
       "1269m 3d 0H 0M 0S"
      ],
      "text/plain": [
       "[1] \"1269m 3d 0H 0M 0S\""
      ]
     },
     "metadata": {},
     "output_type": "display_data"
    },
    {
     "data": {
      "text/html": [
       "105y 9m 3d 0H 0M 0S"
      ],
      "text/latex": [
       "105y 9m 3d 0H 0M 0S"
      ],
      "text/markdown": [
       "105y 9m 3d 0H 0M 0S"
      ],
      "text/plain": [
       "[1] \"105y 9m 3d 0H 0M 0S\""
      ]
     },
     "metadata": {},
     "output_type": "display_data"
    }
   ],
   "source": [
    "# Create time difference as interval\n",
    "time_int <- interval(date2, date1)\n",
    "\n",
    "# Display time differences with different units\n",
    "as.period(time_int, unit = \"days\")\n",
    "as.period(time_int, unit = \"months\")\n",
    "as.period(time_int, unit = \"years\")"
   ]
  },
  {
   "cell_type": "markdown",
   "metadata": {
    "slideshow": {
     "slide_type": "slide"
    }
   },
   "source": [
    "It is also possible to coerce directly to a numeric object with the specified units with `as.numeric()`."
   ]
  },
  {
   "cell_type": "code",
   "execution_count": 16,
   "metadata": {
    "slideshow": {
     "slide_type": "-"
    }
   },
   "outputs": [
    {
     "data": {
      "text/html": [
       "105.754962354552"
      ],
      "text/latex": [
       "105.754962354552"
      ],
      "text/markdown": [
       "105.754962354552"
      ],
      "text/plain": [
       "[1] 105.755"
      ]
     },
     "metadata": {},
     "output_type": "display_data"
    }
   ],
   "source": [
    "# Create time difference as interval\n",
    "time_int <- interval(date2, date1)\n",
    "\n",
    "# Numeric coercion\n",
    "as.numeric(time_int, \"years\")"
   ]
  },
  {
   "cell_type": "markdown",
   "metadata": {
    "slideshow": {
     "slide_type": "slide"
    }
   },
   "source": [
    "Because `lubridate` is a part of the tidyverse, the functions supports vectors or vector-like objects as well!"
   ]
  },
  {
   "cell_type": "code",
   "execution_count": 17,
   "metadata": {
    "slideshow": {
     "slide_type": "-"
    }
   },
   "outputs": [
    {
     "data": {
      "text/html": [
       "<ol class=list-inline>\n",
       "\t<li><time datetime=\"1876-12-21\">1876-12-21</time></li>\n",
       "\t<li><time datetime=\"1873-11-01\">1873-11-01</time></li>\n",
       "\t<li><time datetime=\"1885-01-30\">1885-01-30</time></li>\n",
       "\t<li><time datetime=\"1842-06-10\">1842-06-10</time></li>\n",
       "</ol>\n"
      ],
      "text/latex": [
       "\\begin{enumerate*}\n",
       "\\item 1876-12-21\n",
       "\\item 1873-11-01\n",
       "\\item 1885-01-30\n",
       "\\item 1842-06-10\n",
       "\\end{enumerate*}\n"
      ],
      "text/markdown": [
       "1. 1876-12-21\n",
       "2. 1873-11-01\n",
       "3. 1885-01-30\n",
       "4. 1842-06-10\n",
       "\n",
       "\n"
      ],
      "text/plain": [
       "[1] \"1876-12-21\" \"1873-11-01\" \"1885-01-30\" \"1842-06-10\""
      ]
     },
     "metadata": {},
     "output_type": "display_data"
    },
    {
     "data": {
      "text/html": [
       "<ol class=list-inline>\n",
       "\t<li>76.9691991786448</li>\n",
       "\t<li>73.8316221765914</li>\n",
       "\t<li>85.07871321013</li>\n",
       "\t<li>42.4366872005476</li>\n",
       "</ol>\n"
      ],
      "text/latex": [
       "\\begin{enumerate*}\n",
       "\\item 76.9691991786448\n",
       "\\item 73.8316221765914\n",
       "\\item 85.07871321013\n",
       "\\item 42.4366872005476\n",
       "\\end{enumerate*}\n"
      ],
      "text/markdown": [
       "1. 76.9691991786448\n",
       "2. 73.8316221765914\n",
       "3. 85.07871321013\n",
       "4. 42.4366872005476\n",
       "\n",
       "\n"
      ],
      "text/plain": [
       "[1] 76.96920 73.83162 85.07871 42.43669"
      ]
     },
     "metadata": {},
     "output_type": "display_data"
    }
   ],
   "source": [
    "dates <- c(\"1876-12-21\", \"1873-11-01\", \"1885-01-30\", \"1842-06-10\")\n",
    "dates <- ymd(dates)\n",
    "dates\n",
    "\n",
    "date_ints <- interval(ymd(\"1800-01-01\"), dates)\n",
    "as.numeric(date_ints, \"years\")"
   ]
  },
  {
   "cell_type": "markdown",
   "metadata": {
    "slideshow": {
     "slide_type": "slide"
    }
   },
   "source": [
    "# EXERCISE 6: WORKING WITH DATES\n",
    "\n",
    "Make sure you have the runaways data loaded.\n",
    "\n",
    "1. Convert the columns containing dates to date formats using the proper variation of `ymd()`\n",
    "2. Create a new column calculating the time difference in *days* between `registered` and `escaped`. Use `interval()` and `as.numeric()`\n",
    "3. Determine the shortest and longest stays (you can use the `arrange()` command)"
   ]
  },
  {
   "cell_type": "code",
   "execution_count": 18,
   "metadata": {},
   "outputs": [
    {
     "data": {
      "text/html": [
       "<table>\n",
       "<caption>A tibble: 6 × 5</caption>\n",
       "<thead>\n",
       "\t<tr><th scope=col>name</th><th scope=col>id</th><th scope=col>registered</th><th scope=col>escaped</th><th scope=col>returned</th></tr>\n",
       "\t<tr><th scope=col>&lt;chr&gt;</th><th scope=col>&lt;dbl&gt;</th><th scope=col>&lt;chr&gt;</th><th scope=col>&lt;chr&gt;</th><th scope=col>&lt;chr&gt;</th></tr>\n",
       "</thead>\n",
       "<tbody>\n",
       "\t<tr><td>Peter vesmand            </td><td>590</td><td>21/03/1712</td><td>29/10/1716</td><td>03/11/1716</td></tr>\n",
       "\t<tr><td>Thomas Petersen          </td><td>591</td><td>21/03/1712</td><td>17/10/1713</td><td>26/10/1713</td></tr>\n",
       "\t<tr><td>Niels Jensen Skaaning    </td><td>592</td><td>31/03/1712</td><td>25/08/1716</td><td>02/09/1716</td></tr>\n",
       "\t<tr><td>Niels Jensen Skaaning    </td><td>592</td><td>31/03/1712</td><td>21/09/1716</td><td>13/11/1716</td></tr>\n",
       "\t<tr><td>[ ] Jens Sönner          </td><td>594</td><td>26/04/1712</td><td>00/00/1716</td><td>NA        </td></tr>\n",
       "\t<tr><td>Magnus Bendixsen / Mogens</td><td>599</td><td>08/03/1713</td><td>09/07/1719</td><td>11/11/1720</td></tr>\n",
       "</tbody>\n",
       "</table>\n"
      ],
      "text/latex": [
       "A tibble: 6 × 5\n",
       "\\begin{tabular}{lllll}\n",
       " name & id & registered & escaped & returned\\\\\n",
       " <chr> & <dbl> & <chr> & <chr> & <chr>\\\\\n",
       "\\hline\n",
       "\t Peter vesmand             & 590 & 21/03/1712 & 29/10/1716 & 03/11/1716\\\\\n",
       "\t Thomas Petersen           & 591 & 21/03/1712 & 17/10/1713 & 26/10/1713\\\\\n",
       "\t Niels Jensen Skaaning     & 592 & 31/03/1712 & 25/08/1716 & 02/09/1716\\\\\n",
       "\t Niels Jensen Skaaning     & 592 & 31/03/1712 & 21/09/1716 & 13/11/1716\\\\\n",
       "\t {[} {]} Jens Sönner           & 594 & 26/04/1712 & 00/00/1716 & NA        \\\\\n",
       "\t Magnus Bendixsen / Mogens & 599 & 08/03/1713 & 09/07/1719 & 11/11/1720\\\\\n",
       "\\end{tabular}\n"
      ],
      "text/markdown": [
       "\n",
       "A tibble: 6 × 5\n",
       "\n",
       "| name &lt;chr&gt; | id &lt;dbl&gt; | registered &lt;chr&gt; | escaped &lt;chr&gt; | returned &lt;chr&gt; |\n",
       "|---|---|---|---|---|\n",
       "| Peter vesmand             | 590 | 21/03/1712 | 29/10/1716 | 03/11/1716 |\n",
       "| Thomas Petersen           | 591 | 21/03/1712 | 17/10/1713 | 26/10/1713 |\n",
       "| Niels Jensen Skaaning     | 592 | 31/03/1712 | 25/08/1716 | 02/09/1716 |\n",
       "| Niels Jensen Skaaning     | 592 | 31/03/1712 | 21/09/1716 | 13/11/1716 |\n",
       "| [ ] Jens Sönner           | 594 | 26/04/1712 | 00/00/1716 | NA         |\n",
       "| Magnus Bendixsen / Mogens | 599 | 08/03/1713 | 09/07/1719 | 11/11/1720 |\n",
       "\n"
      ],
      "text/plain": [
       "  name                      id  registered escaped    returned  \n",
       "1 Peter vesmand             590 21/03/1712 29/10/1716 03/11/1716\n",
       "2 Thomas Petersen           591 21/03/1712 17/10/1713 26/10/1713\n",
       "3 Niels Jensen Skaaning     592 31/03/1712 25/08/1716 02/09/1716\n",
       "4 Niels Jensen Skaaning     592 31/03/1712 21/09/1716 13/11/1716\n",
       "5 [ ] Jens Sönner           594 26/04/1712 00/00/1716 NA        \n",
       "6 Magnus Bendixsen / Mogens 599 08/03/1713 09/07/1719 11/11/1720"
      ]
     },
     "metadata": {},
     "output_type": "display_data"
    }
   ],
   "source": [
    "head(runaways)"
   ]
  },
  {
   "cell_type": "code",
   "execution_count": 19,
   "metadata": {
    "slideshow": {
     "slide_type": "subslide"
    }
   },
   "outputs": [
    {
     "name": "stderr",
     "output_type": "stream",
     "text": [
      "Warning message:\n",
      "\" 7 failed to parse.\"\n"
     ]
    }
   ],
   "source": [
    "runaways <- runaways %>%\n",
    "    mutate(registered = dmy(registered),\n",
    "          escaped = dmy(escaped)) %>%\n",
    "    mutate(time_jailed = interval(registered, escaped)) %>%\n",
    "    mutate(days_jailed = as.numeric(time_jailed, \"days\"))"
   ]
  },
  {
   "cell_type": "code",
   "execution_count": 20,
   "metadata": {
    "slideshow": {
     "slide_type": "-"
    }
   },
   "outputs": [
    {
     "data": {
      "text/html": [
       "<table>\n",
       "<caption>A tibble: 1 × 7</caption>\n",
       "<thead>\n",
       "\t<tr><th scope=col>name</th><th scope=col>id</th><th scope=col>registered</th><th scope=col>escaped</th><th scope=col>returned</th><th scope=col>time_jailed</th><th scope=col>days_jailed</th></tr>\n",
       "\t<tr><th scope=col>&lt;chr&gt;</th><th scope=col>&lt;dbl&gt;</th><th scope=col>&lt;date&gt;</th><th scope=col>&lt;date&gt;</th><th scope=col>&lt;chr&gt;</th><th scope=col>&lt;Interval&gt;</th><th scope=col>&lt;dbl&gt;</th></tr>\n",
       "</thead>\n",
       "<tbody>\n",
       "\t<tr><td>Peder Hendrichsen</td><td>777</td><td>1719-09-21</td><td>1719-10-18</td><td>NA</td><td>1719-09-21 UTC--1719-10-18 UTC</td><td>27</td></tr>\n",
       "</tbody>\n",
       "</table>\n"
      ],
      "text/latex": [
       "A tibble: 1 × 7\n",
       "\\begin{tabular}{lllllll}\n",
       " name & id & registered & escaped & returned & time\\_jailed & days\\_jailed\\\\\n",
       " <chr> & <dbl> & <date> & <date> & <chr> & <Interval> & <dbl>\\\\\n",
       "\\hline\n",
       "\t Peder Hendrichsen & 777 & 1719-09-21 & 1719-10-18 & NA & 1719-09-21 UTC--1719-10-18 UTC & 27\\\\\n",
       "\\end{tabular}\n"
      ],
      "text/markdown": [
       "\n",
       "A tibble: 1 × 7\n",
       "\n",
       "| name &lt;chr&gt; | id &lt;dbl&gt; | registered &lt;date&gt; | escaped &lt;date&gt; | returned &lt;chr&gt; | time_jailed &lt;Interval&gt; | days_jailed &lt;dbl&gt; |\n",
       "|---|---|---|---|---|---|---|\n",
       "| Peder Hendrichsen | 777 | 1719-09-21 | 1719-10-18 | NA | 1719-09-21 UTC--1719-10-18 UTC | 27 |\n",
       "\n"
      ],
      "text/plain": [
       "  name              id  registered escaped    returned\n",
       "1 Peder Hendrichsen 777 1719-09-21 1719-10-18 NA      \n",
       "  time_jailed                    days_jailed\n",
       "1 1719-09-21 UTC--1719-10-18 UTC 27         "
      ]
     },
     "metadata": {},
     "output_type": "display_data"
    }
   ],
   "source": [
    "head(arrange(runaways, days_jailed), 1)"
   ]
  },
  {
   "cell_type": "code",
   "execution_count": 21,
   "metadata": {
    "slideshow": {
     "slide_type": "-"
    }
   },
   "outputs": [
    {
     "data": {
      "text/html": [
       "<table>\n",
       "<caption>A tibble: 1 × 7</caption>\n",
       "<thead>\n",
       "\t<tr><th scope=col>name</th><th scope=col>id</th><th scope=col>registered</th><th scope=col>escaped</th><th scope=col>returned</th><th scope=col>time_jailed</th><th scope=col>days_jailed</th></tr>\n",
       "\t<tr><th scope=col>&lt;chr&gt;</th><th scope=col>&lt;dbl&gt;</th><th scope=col>&lt;date&gt;</th><th scope=col>&lt;date&gt;</th><th scope=col>&lt;chr&gt;</th><th scope=col>&lt;Interval&gt;</th><th scope=col>&lt;dbl&gt;</th></tr>\n",
       "</thead>\n",
       "<tbody>\n",
       "\t<tr><td>Hans David Hartong</td><td>1133</td><td>1729-03-08</td><td>1750-03-28</td><td>NA</td><td>1729-03-08 UTC--1750-03-28 UTC</td><td>7690</td></tr>\n",
       "</tbody>\n",
       "</table>\n"
      ],
      "text/latex": [
       "A tibble: 1 × 7\n",
       "\\begin{tabular}{lllllll}\n",
       " name & id & registered & escaped & returned & time\\_jailed & days\\_jailed\\\\\n",
       " <chr> & <dbl> & <date> & <date> & <chr> & <Interval> & <dbl>\\\\\n",
       "\\hline\n",
       "\t Hans David Hartong & 1133 & 1729-03-08 & 1750-03-28 & NA & 1729-03-08 UTC--1750-03-28 UTC & 7690\\\\\n",
       "\\end{tabular}\n"
      ],
      "text/markdown": [
       "\n",
       "A tibble: 1 × 7\n",
       "\n",
       "| name &lt;chr&gt; | id &lt;dbl&gt; | registered &lt;date&gt; | escaped &lt;date&gt; | returned &lt;chr&gt; | time_jailed &lt;Interval&gt; | days_jailed &lt;dbl&gt; |\n",
       "|---|---|---|---|---|---|---|\n",
       "| Hans David Hartong | 1133 | 1729-03-08 | 1750-03-28 | NA | 1729-03-08 UTC--1750-03-28 UTC | 7690 |\n",
       "\n"
      ],
      "text/plain": [
       "  name               id   registered escaped    returned\n",
       "1 Hans David Hartong 1133 1729-03-08 1750-03-28 NA      \n",
       "  time_jailed                    days_jailed\n",
       "1 1729-03-08 UTC--1750-03-28 UTC 7690       "
      ]
     },
     "metadata": {},
     "output_type": "display_data"
    }
   ],
   "source": [
    "head(arrange(runaways, desc(days_jailed)), 1)"
   ]
  },
  {
   "cell_type": "markdown",
   "metadata": {
    "slideshow": {
     "slide_type": "slide"
    }
   },
   "source": [
    "# Saving files with `readr`\n",
    "\n",
    "R can already save files in some other formats but the `readr` package is often more intuitive to use.\n",
    "\n",
    "Check your directory with `getwd`. Directory can be changed with `setwd`.\n",
    "\n",
    "We can save an excel .csv-file (comma-separated values) with `readr` using `write_excel_csv`:"
   ]
  },
  {
   "cell_type": "code",
   "execution_count": 22,
   "metadata": {
    "slideshow": {
     "slide_type": "fragment"
    }
   },
   "outputs": [],
   "source": [
    "library(readr)\n",
    "write_excel_csv(runaways, path = \"my_data.csv\", delim = \";\", col_names = TRUE)"
   ]
  },
  {
   "cell_type": "markdown",
   "metadata": {
    "slideshow": {
     "slide_type": "fragment"
    }
   },
   "source": [
    "**Code breakdown:**\n",
    "\n",
    "| Code | Description |\n",
    "|:-----|:------------|\n",
    "|`data` | The object we want to save |\n",
    "|`path = \"my_data.csv\"` | The filename - .csv for comma-separated values |\n",
    "|`delim = \";\"` | Setting the separator between values to be commas |\n",
    "|`col_names = TRUE` | Specifying that data contains column names |"
   ]
  }
 ],
 "metadata": {
  "celltoolbar": "Slideshow",
  "kernelspec": {
   "display_name": "R",
   "language": "R",
   "name": "ir"
  },
  "language_info": {
   "codemirror_mode": "r",
   "file_extension": ".r",
   "mimetype": "text/x-r-source",
   "name": "R",
   "pygments_lexer": "r",
   "version": "3.6.2"
  }
 },
 "nbformat": 4,
 "nbformat_minor": 2
}
